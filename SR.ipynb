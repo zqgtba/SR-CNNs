{
 "cells": [
  {
   "attachments": {},
   "cell_type": "markdown",
   "metadata": {},
   "source": [
    "# 0. 最终的目标\n",
    "实现对于图像数据的 3 倍超分辨率，并在相关测试集上比较不同模型的结果，综合考虑性能指标（PSNR值）和复杂度指标（模型参数量 & 浮点运算次数）。"
   ]
  },
  {
   "cell_type": "code",
   "execution_count": null,
   "metadata": {},
   "outputs": [],
   "source": [
    "import glob\n",
    "import os\n",
    "import copy\n",
    "import h5py\n",
    "import math\n",
    "import torch\n",
    "from tqdm import tqdm\n",
    "import PIL.Image as pil_image\n",
    "import numpy as np\n",
    "from torch import nn\n",
    "import torch.optim as optim\n",
    "import torch.backends.cudnn as cudnn\n",
    "from torch.utils.data import Dataset\n",
    "from torch.utils.data.dataloader import DataLoader\n",
    "from thop import profile\n",
    "from thop import clever_format"
   ]
  },
  {
   "attachments": {},
   "cell_type": "markdown",
   "metadata": {},
   "source": [
    "需要用到的辅助函数："
   ]
  },
  {
   "cell_type": "code",
   "execution_count": 2,
   "metadata": {},
   "outputs": [],
   "source": [
    "class AverageMeter(object):\n",
    "    def __init__(self):\n",
    "        self.reset()  # 初始化对象时调用reset()方法\n",
    "\n",
    "    def reset(self):\n",
    "        self.val = 0  # 当前值\n",
    "        self.avg = 0  # 平均值\n",
    "        self.sum = 0  # 总和\n",
    "        self.count = 0  # 计数器\n",
    "\n",
    "    def update(self, val, n=1):\n",
    "        self.val = val  # 更新当前值\n",
    "        self.sum += val * n  # 更新总和\n",
    "        self.count += n  # 更新计数器\n",
    "        self.avg = self.sum / self.count  # 更新平均值\n",
    "\n",
    "\n",
    "def calc_psnr(x, y):\n",
    "    # 计算两张图像的PSNR值\n",
    "    PSNR = 10. * torch.log10(1. / torch.mean((x - y) ** 2))\n",
    "    return PSNR\n",
    "\n",
    "\n",
    "def convert_rgb_to_y(img, dim_order='hwc'):\n",
    "    # 如果图像维度顺序为(height, width, channel)\n",
    "    if dim_order == 'hwc':\n",
    "        # 获取图像的红、绿、蓝通道数据\n",
    "        red_channel = img[..., 0]\n",
    "        green_channel = img[..., 1]\n",
    "        blue_channel = img[..., 2]\n",
    "        # 根据YUV颜色空间的转换公式计算亮度值\n",
    "        y = 16. + (64.738 * red_channel + 129.057 * green_channel + 25.064 * blue_channel) / 256.\n",
    "        return y\n",
    "    # 如果图像维度顺序为(channel, height, width)\n",
    "    else:\n",
    "        # 获取图像的红、绿、蓝通道数据\n",
    "        red_channel = img[0]\n",
    "        green_channel = img[1]\n",
    "        blue_channel = img[2]\n",
    "        # 根据YUV颜色空间的转换公式计算亮度值\n",
    "        y = 16. + (64.738 * red_channel + 129.057 * green_channel + 25.064 * blue_channel) / 256.\n",
    "        return y"
   ]
  },
  {
   "attachments": {},
   "cell_type": "markdown",
   "metadata": {},
   "source": [
    "# 1. 数据集描述\n",
    "训练数据集：采用 91images 数据集，共 91 张自然图像，通过裁剪生成大小为 51 * 51 的 HR_Patch，裁剪步长为 13。对于前置上采样模型，对应的 LR_Patch\n",
    "大小为 17 * 17，即直接由双三次下采样所得；而对于后置上采样模型，LR_Patch 大小仍为 51 * 51，即需要额外一步双三次上采样。处理后的数据保存为 h5 格式。\n",
    "其中前置上采样模型所需的数据位于 `dataset\\pre_sampling` 中；后置上采样模型所需的数据位于 `dataset\\post_sampling` 中。\n",
    "\n",
    "验证数据集：采用 set5 数据集，共 5 张自然图像，处理过程与训练数据集一致，仅是未裁剪为 Patch。  \n",
    "\n",
    "测试数据集：采用 set14 数据集，共 14 张自然图像，处理过程与训练数据集一致，仅是未裁剪为 Patch。"
   ]
  },
  {
   "cell_type": "code",
   "execution_count": 3,
   "metadata": {},
   "outputs": [],
   "source": [
    "class GenDataSet(object):\n",
    "    def __init__(self, type):\n",
    "        self.train_dir = 'data\\91-images'\n",
    "        self.eval_dir = 'data\\Set5'\n",
    "        self.test_dir = 'data\\Set14'\n",
    "        self.type = type\n",
    "        self.scale = 3\n",
    "        self.patch_size = 17 # 生成训练数据时，裁剪的 LR Patch 大小\n",
    "        self.stride = 13 # 裁剪 Patch 时，滑动的步长\n",
    "        # 两种 type，分别为前置上采样与后置上采样\n",
    "        if self.type == 'pre':\n",
    "            self.output_dir = 'dataset\\pre_sampling'\n",
    "        elif self.type == 'post':\n",
    "            self.output_dir = 'dataset\\post_sampling'\n",
    "        \n",
    "    def gen_train(self):\n",
    "        h5_file = h5py.File(os.path.join(self.output_dir, 'train.h5'), 'w')\n",
    "        lr_patches = []\n",
    "        hr_patches = []\n",
    "        for image_path in sorted(glob.glob('{}/*'.format(self.train_dir))):\n",
    "            hr = pil_image.open(image_path).convert('RGB')\n",
    "            hr_width = (hr.width // self.scale) * self.scale\n",
    "            hr_height = (hr.height // self.scale) * self.scale\n",
    "            hr = hr.resize((hr_width, hr_height), resample=pil_image.Resampling.BICUBIC)\n",
    "            lr = hr.resize((hr_width // self.scale, hr_height // self.scale), resample=pil_image.Resampling.BICUBIC)\n",
    "            # 如果为前置上采样的话，需要额外进行一次双三次插值，保证LR图像的大小与HR一致\n",
    "            if self.type == 'pre':\n",
    "                lr = lr.resize((lr.width * self.scale, lr.height * self.scale), resample=pil_image.Resampling.BICUBIC)\n",
    "            hr = np.array(hr).astype(np.float32)\n",
    "            lr = np.array(lr).astype(np.float32)\n",
    "            hr = convert_rgb_to_y(hr)\n",
    "            lr = convert_rgb_to_y(lr)\n",
    "            # 注意前置上采样与后置上采样得到的 patch 总数不一样\n",
    "            if self.type == 'post':\n",
    "                for i in range(0, lr.shape[0] - self.patch_size + 1, self.stride):\n",
    "                    for j in range(0, lr.shape[1] - self.patch_size + 1, self.stride):\n",
    "                        lr_patches.append(lr[i:i + self.patch_size, j:j + self.patch_size])\n",
    "                        hr_patches.append(hr[i * self.scale:i * self.scale + self.patch_size * self.scale, j * self.scale:j * self.scale + self.patch_size * self.scale])\n",
    "            elif self.type == 'pre':\n",
    "                for i in range(0, lr.shape[0] - self.patch_size * self.scale + 1, self.stride):\n",
    "                    for j in range(0, lr.shape[1] - self.patch_size * self.scale + 1, self.stride):\n",
    "                        lr_patches.append(lr[i:i + self.patch_size * self.scale, j:j + self.patch_size * self.scale])\n",
    "                        hr_patches.append(hr[i:i + self.patch_size * self.scale, j:j + self.patch_size * self.scale])\n",
    "        lr_patches = np.array(lr_patches)\n",
    "        hr_patches = np.array(hr_patches)\n",
    "        h5_file.create_dataset('lr', data=lr_patches)\n",
    "        h5_file.create_dataset('hr', data=hr_patches)\n",
    "        h5_file.close()\n",
    "\n",
    "    def gen_eval(self):\n",
    "        h5_file = h5py.File(os.path.join(self.output_dir, 'eval.h5'), 'w')\n",
    "        lr_group = h5_file.create_group('lr')\n",
    "        hr_group = h5_file.create_group('hr')\n",
    "        for i, image_path in enumerate(sorted(glob.glob('{}/*'.format(self.eval_dir)))):\n",
    "            hr = pil_image.open(image_path).convert('RGB')\n",
    "            hr_width = (hr.width // self.scale) * self.scale\n",
    "            hr_height = (hr.height // self.scale) * self.scale\n",
    "            hr = hr.resize((hr_width, hr_height), resample=pil_image.Resampling.BICUBIC)\n",
    "            lr = hr.resize((hr.width // self.scale, hr_height // self.scale), resample=pil_image.Resampling.BICUBIC)\n",
    "            # 如果为前置上采样的话，需要额外进行一次双三次插值，保证LR图像的大小与HR一致\n",
    "            if self.type == 'pre':\n",
    "                lr = lr.resize((lr.width * self.scale, lr.height * self.scale), resample=pil_image.Resampling.BICUBIC)\n",
    "            hr = np.array(hr).astype(np.float32)\n",
    "            lr = np.array(lr).astype(np.float32)\n",
    "            hr = convert_rgb_to_y(hr)\n",
    "            lr = convert_rgb_to_y(lr)\n",
    "            lr_group.create_dataset(str(i), data=lr)\n",
    "            hr_group.create_dataset(str(i), data=hr)\n",
    "        h5_file.close()\n",
    "\n",
    "    def gen_test(self):\n",
    "        h5_file = h5py.File(os.path.join(self.output_dir, 'test.h5'), 'w')\n",
    "        lr_group = h5_file.create_group('lr')\n",
    "        hr_group = h5_file.create_group('hr')\n",
    "        for i, image_path in enumerate(sorted(glob.glob('{}/*'.format(self.test_dir)))):\n",
    "            hr = pil_image.open(image_path).convert('RGB')\n",
    "            hr_width = (hr.width // self.scale) * self.scale\n",
    "            hr_height = (hr.height // self.scale) * self.scale\n",
    "            hr = hr.resize((hr_width, hr_height), resample=pil_image.Resampling.BICUBIC)\n",
    "            lr = hr.resize((hr.width // self.scale, hr_height // self.scale), resample=pil_image.Resampling.BICUBIC)\n",
    "            # 如果为前置上采样的话，需要额外进行一次双三次插值，保证LR图像的大小与HR一致\n",
    "            if self.type == 'pre':\n",
    "                lr = lr.resize((lr.width * self.scale, lr.height * self.scale), resample=pil_image.Resampling.BICUBIC)\n",
    "            hr = np.array(hr).astype(np.float32)\n",
    "            lr = np.array(lr).astype(np.float32)\n",
    "            hr = convert_rgb_to_y(hr)\n",
    "            lr = convert_rgb_to_y(lr)\n",
    "            lr_group.create_dataset(str(i), data=lr)\n",
    "            hr_group.create_dataset(str(i), data=hr)\n",
    "        h5_file.close()\n",
    "\n",
    "    def run(self):\n",
    "        self.gen_train()\n",
    "        self.gen_eval()\n",
    "        self.gen_test()\n",
    "        print(f'{self.type} dataset finished')"
   ]
  },
  {
   "attachments": {},
   "cell_type": "markdown",
   "metadata": {},
   "source": [
    "生成 h5 格式的训练数据集、验证测试集、测试数据集："
   ]
  },
  {
   "cell_type": "code",
   "execution_count": 4,
   "metadata": {},
   "outputs": [
    {
     "name": "stdout",
     "output_type": "stream",
     "text": [
      "pre dataset finished\n",
      "post dataset finished\n"
     ]
    }
   ],
   "source": [
    "if __name__ == '__main__':\n",
    "    gendataset1 = GenDataSet(type='pre')\n",
    "    gendataset1.run()\n",
    "    gendataset2 = GenDataSet(type='post')\n",
    "    gendataset2.run()"
   ]
  },
  {
   "attachments": {},
   "cell_type": "markdown",
   "metadata": {},
   "source": [
    "数据集加载类："
   ]
  },
  {
   "cell_type": "code",
   "execution_count": 5,
   "metadata": {},
   "outputs": [],
   "source": [
    "class TrainDataset(Dataset):\n",
    "    def __init__(self, h5_file):\n",
    "        super(TrainDataset, self).__init__()\n",
    "        self.h5_data = h5_file  # 初始化h5文件路径\n",
    "\n",
    "    def __getitem__(self, idx):\n",
    "        with h5py.File(self.h5_data, 'r') as f:\n",
    "            lr = np.expand_dims(f['lr'][idx] / 255., 0)  # 从h5文件中获取lr数据并进行处理\n",
    "            hr = np.expand_dims(f['hr'][idx] / 255., 0)  # 从h5文件中获取hr数据并进行处理\n",
    "            return lr, hr  # 返回处理后的lr和hr数据\n",
    "\n",
    "    def __len__(self):\n",
    "        with h5py.File(self.h5_data, 'r') as f:\n",
    "            l = len(f['lr'])  # 获取lr数据的长度\n",
    "            return l  # 返回数据长度\n",
    "\n",
    "\n",
    "class EvalDataset(Dataset):\n",
    "    def __init__(self, h5_file):\n",
    "        super(EvalDataset, self).__init__()\n",
    "        self.h5_data = h5_file  # 初始化h5文件路径\n",
    "\n",
    "    def __getitem__(self, idx):\n",
    "        with h5py.File(self.h5_data, 'r') as f:\n",
    "            lr = np.expand_dims(f['lr'][str(idx)][:, :] / 255., 0)  # 从h5文件中获取lr数据并进行处理\n",
    "            hr = np.expand_dims(f['hr'][str(idx)][:, :] / 255., 0)  # 从h5文件中获取hr数据并进行处理\n",
    "            return lr, hr  # 返回处理后的lr和hr数据\n",
    "\n",
    "    def __len__(self):\n",
    "        with h5py.File(self.h5_data, 'r') as f:\n",
    "            l = len(f['lr'])  # 获取lr数据的长度\n",
    "            return l  # 返回数据长度"
   ]
  },
  {
   "attachments": {},
   "cell_type": "markdown",
   "metadata": {},
   "source": [
    "# 2. 模型简述：\n",
    "(1) SRCNN：超分网络的鼻祖，前置上采样的典范。包含 3 层卷积，分别负责图像块提取、非线性映射以及最终的重建过程，卷积间为 ReLU 激活函数。  \n",
    "\n",
    "(2) FSRCNN：对 SRCNN 的改进，后置上采样的典范。包含 5 个阶段。首先就是 4 个卷积层（代码中分为了 conv_net1 和 conv_net2）：分别为特征提取、收缩层（为了降低维度，减少计算）、非线性映射和扩展层。最后则是作为后置上采样的转置卷积层。  \n",
    "\n",
    "(3) ESPCN：提出了另外一种后置上采样的方法：亚像素卷积（卷积 + 周期变换算子）。整体结构为卷积模块 + 亚像素卷积（上采样）模块，与 FSRCNN 类似。  \n",
    "\n",
    "对于以上网络的改进：  \n",
    "\n",
    "(4) Res_SRCNN：在 SRCNN 的基础上进行了 3 点改进：首先，将普通卷积替换为了深度可分离卷积（逐通道卷积 + 逐点卷积）；其次，将 ReLU 激活函数替换为 LReLU；最后，加入了全局的残差连接。  \n",
    "\n",
    "(5) Res_ESPCN：在 ESPCN 的基础上惊醒了 2 点改进：首先，将1层普通卷积替换为了2层深度可分离卷积，且输入、输出通道数相同；其次，加入了局部的残差连接，类似 ResNet 中的 Res_Block，但无BN层。"
   ]
  },
  {
   "cell_type": "code",
   "execution_count": 9,
   "metadata": {},
   "outputs": [],
   "source": [
    "class SRCNN(nn.Module):\n",
    "    def __init__(self, num_channels=1):\n",
    "        super(SRCNN, self).__init__()\n",
    "        # 卷积模块：3层卷积结构\n",
    "        self.conv_net = nn.Sequential(\n",
    "            nn.Conv2d(num_channels, 64, kernel_size=9, padding=4),\n",
    "            nn.ReLU(inplace=True),\n",
    "            nn.Conv2d(64, 32, kernel_size=5, padding=2),\n",
    "            nn.ReLU(inplace=True),\n",
    "            nn.Conv2d(32, num_channels, kernel_size=5, padding=2)\n",
    "        )\n",
    "\n",
    "    def forward(self, x):\n",
    "        x = self.conv_net(x)\n",
    "        return x\n",
    "\n",
    "\n",
    "class Res_SRCNN(nn.Module):\n",
    "    def __init__(self, num_channels=1):\n",
    "        super(Res_SRCNN, self).__init__()\n",
    "        # 卷积模块：3层卷积结构\n",
    "        # 第2层卷积改为了深度可分离卷积，ReLU改为了LReLU，并加入了全局的残差连接\n",
    "        self.conv_net = nn.Sequential(\n",
    "            nn.Conv2d(num_channels, 64, kernel_size=9, padding=4),\n",
    "            nn.LeakyReLU(inplace=True),\n",
    "            nn.Conv2d(64, 64, kernel_size=5, padding=2, groups=64),\n",
    "            nn.Conv2d(64, 32, kernel_size=1, padding=0, groups=1),\n",
    "            nn.LeakyReLU(inplace=True),\n",
    "            nn.Conv2d(32, num_channels, kernel_size=5, padding=2)\n",
    "        )\n",
    "\n",
    "    def forward(self, x):\n",
    "        x = self.conv_net(x) + x\n",
    "        return x\n",
    "\n",
    "\n",
    "class FSRCNN(nn.Module):\n",
    "    def __init__(self, scale_factor=3, num_channels=1, d=56, s=12, m=4):\n",
    "        super(FSRCNN, self).__init__()\n",
    "        # 卷积模块1：1层卷积\n",
    "        self.conv_net1 = nn.Sequential(\n",
    "            nn.Conv2d(num_channels, d, kernel_size=5, padding=2),\n",
    "            nn.PReLU(d)\n",
    "        )\n",
    "        # 卷积模块2：m+2层卷积\n",
    "        self.conv_net2 = [nn.Conv2d(d, s, kernel_size=1), nn.PReLU(s)]\n",
    "        for _ in range(m):\n",
    "            self.conv_net2.extend([nn.Conv2d(s, s, kernel_size=3, padding=1), nn.PReLU(s)])\n",
    "        self.conv_net2.extend([nn.Conv2d(s, d, kernel_size=1), nn.PReLU(d)])\n",
    "        self.conv_net2 = nn.Sequential(*self.conv_net2)\n",
    "        # 上采样模块：1层转置卷积\n",
    "        self.TransConv_net = nn.ConvTranspose2d(d, num_channels, kernel_size=9, stride=scale_factor, padding=4,\n",
    "                                            output_padding=scale_factor-1)\n",
    "        # 参数初始化\n",
    "        self._initialize_weights()\n",
    "\n",
    "    def _initialize_weights(self):\n",
    "        for m in self.conv_net1:\n",
    "            if isinstance(m, nn.Conv2d):\n",
    "                nn.init.normal_(m.weight.data, mean=0.0, std=math.sqrt(2/(m.out_channels*m.weight.data[0][0].numel())))\n",
    "                nn.init.zeros_(m.bias.data)\n",
    "        for m in self.conv_net2:\n",
    "            if isinstance(m, nn.Conv2d):\n",
    "                nn.init.normal_(m.weight.data, mean=0.0, std=math.sqrt(2/(m.out_channels*m.weight.data[0][0].numel())))\n",
    "                nn.init.zeros_(m.bias.data)\n",
    "        nn.init.normal_(self.TransConv_net.weight.data, mean=0.0, std=0.001)\n",
    "        nn.init.zeros_(self.TransConv_net.bias.data)\n",
    "\n",
    "    def forward(self, x):\n",
    "        x = self.conv_net1(x)\n",
    "        x = self.conv_net2(x)\n",
    "        x = self.TransConv_net(x)\n",
    "        return x\n",
    "\n",
    "\n",
    "class ESPCN(nn.Module):\n",
    "    def __init__(self, scale_factor=3, num_channels=1):\n",
    "        super(ESPCN, self).__init__()\n",
    "        # 卷积模块：2层卷积\n",
    "        self.conv_net = nn.Sequential(\n",
    "            nn.Conv2d(num_channels, 64, kernel_size=5, padding=2),\n",
    "            nn.Tanh(),\n",
    "            nn.Conv2d(64, 32, kernel_size=3, padding=1),\n",
    "            nn.Tanh(),\n",
    "        )\n",
    "        # 上采样模块：1层亚像素卷积\n",
    "        self.PS_net = nn.Sequential(\n",
    "            nn.Conv2d(32, num_channels * (scale_factor ** 2), kernel_size=3, padding=1),\n",
    "            nn.PixelShuffle(scale_factor)\n",
    "        )\n",
    "        # 参数初始化\n",
    "        self._initialize_weights()\n",
    "\n",
    "    def _initialize_weights(self):\n",
    "        for m in self.conv_net:\n",
    "            if isinstance(m, nn.Conv2d):\n",
    "                nn.init.normal_(m.weight.data, mean=0.0, std=math.sqrt(2/(m.out_channels*m.weight.data[0][0].numel())))\n",
    "                nn.init.zeros_(m.bias.data)\n",
    "        for m in self.PS_net:\n",
    "            if isinstance(m, nn.Conv2d):\n",
    "                nn.init.normal_(m.weight.data, mean=0.0, std=0.001)\n",
    "                nn.init.zeros_(m.bias.data)\n",
    "\n",
    "    def forward(self, x):\n",
    "        x = self.conv_net(x)\n",
    "        x = self.PS_net(x)\n",
    "        return x\n",
    "    \n",
    "\n",
    "class Res_ESPCN(nn.Module):\n",
    "    def __init__(self, scale_factor=3, num_channels=1):\n",
    "        super(Res_ESPCN, self).__init__()\n",
    "        # 卷积模块1：1层卷积\n",
    "        self.conv_net1 = nn.Sequential(\n",
    "            nn.Conv2d(num_channels, 64, kernel_size=5, padding=2),\n",
    "            nn.Tanh()\n",
    "        )\n",
    "        # 卷积模块2：2层深度可分离卷积（逐通道卷积+逐点卷积）\n",
    "        self.conv_net2 = nn.Sequential(\n",
    "            nn.Conv2d(64, 64, kernel_size=3, padding=1, groups=64),\n",
    "            nn.Conv2d(64, 32, kernel_size=1, padding=0, groups=1),\n",
    "            nn.Conv2d(32, 32, kernel_size=5, padding=2, groups=32),\n",
    "            nn.Conv2d(32, 64, kernel_size=1, padding=0, groups=1),\n",
    "            nn.Tanh()\n",
    "        )\n",
    "        # 卷积模块3：2层深度可分离卷积（逐通道卷积+逐点卷积）\n",
    "        self.conv_net3 = nn.Sequential(\n",
    "            nn.Conv2d(64, 64, kernel_size=3, padding=1, groups=64),\n",
    "            nn.Conv2d(64, 32, kernel_size=1, padding=0, groups=1),\n",
    "            nn.Conv2d(32, 32, kernel_size=5, padding=2, groups=32),\n",
    "            nn.Conv2d(32, 64, kernel_size=1, padding=0, groups=1),\n",
    "            nn.Tanh()\n",
    "        )\n",
    "        # 上采样模块：1层亚像素卷积\n",
    "        self.PS_net = nn.Sequential(\n",
    "            nn.Conv2d(64, num_channels * (scale_factor ** 2), kernel_size=3, padding=1),\n",
    "            nn.PixelShuffle(scale_factor)\n",
    "        )\n",
    "        # 参数初始化\n",
    "        self._initialize_weights()\n",
    "\n",
    "    def _initialize_weights(self):\n",
    "        for m in self.conv_net1:\n",
    "            if isinstance(m, nn.Conv2d):\n",
    "                nn.init.normal_(m.weight.data, mean=0.0, std=math.sqrt(2/(m.out_channels*m.weight.data[0][0].numel())))\n",
    "                nn.init.zeros_(m.bias.data)\n",
    "        for m in self.conv_net2:\n",
    "            if isinstance(m, nn.Conv2d):\n",
    "                nn.init.normal_(m.weight.data, mean=0.0, std=math.sqrt(2/(m.out_channels*m.weight.data[0][0].numel())))\n",
    "                nn.init.zeros_(m.bias.data)\n",
    "        for m in self.conv_net3:\n",
    "            if isinstance(m, nn.Conv2d):\n",
    "                nn.init.normal_(m.weight.data, mean=0.0, std=math.sqrt(2/(m.out_channels*m.weight.data[0][0].numel())))\n",
    "                nn.init.zeros_(m.bias.data)\n",
    "        for m in self.PS_net:\n",
    "            if isinstance(m, nn.Conv2d):\n",
    "                nn.init.normal_(m.weight.data, mean=0.0, std=0.001)\n",
    "                nn.init.zeros_(m.bias.data)\n",
    "\n",
    "    def forward(self, x):\n",
    "        x = self.conv_net1(x)\n",
    "        x = self.conv_net2(x) + x\n",
    "        x = self.conv_net3(x) + x\n",
    "        x = self.PS_net(x)\n",
    "        return x"
   ]
  },
  {
   "attachments": {},
   "cell_type": "markdown",
   "metadata": {},
   "source": [
    "训练类（内部包含验证和测试）：  \n",
    "\n",
    "其中，batch size 统一设为16，epochs 总数统一设为 200，采用 Adam 优化器。  \n",
    "\n",
    "但是，每个模型的学习率以及是否加入学习率衰减的情形不同，具体详见代码。"
   ]
  },
  {
   "cell_type": "code",
   "execution_count": 10,
   "metadata": {},
   "outputs": [],
   "source": [
    "class Trainer(object):\n",
    "    def __init__(self, model_name):\n",
    "        self.model_name = model_name\n",
    "        self.criterion = nn.MSELoss()\n",
    "        self.scale = 3\n",
    "        self.batch_size = 16\n",
    "        self.num_epochs = 200\n",
    "        self.num_workers = 0\n",
    "        self.seed = 123\n",
    "        self.device = torch.device('cuda:0' if torch.cuda.is_available() else 'cpu')\n",
    "\n",
    "        if model_name == 'SRCNN':\n",
    "            self.model = SRCNN().to(self.device)\n",
    "            self.outputs_dir = 'outputs\\SRCNN'\n",
    "            self.data_dir = 'dataset\\pre_sampling'\n",
    "            self.lr = 1e-4\n",
    "            self.optimizer = optim.Adam(self.model.parameters(), lr=self.lr)\n",
    "\n",
    "        elif model_name == 'Res_SRCNN':\n",
    "            self.model = Res_SRCNN().to(self.device)\n",
    "            self.outputs_dir = 'outputs\\Res_SRCNN'\n",
    "            self.data_dir = 'dataset\\pre_sampling'\n",
    "            self.lr = 1e-4\n",
    "            self.optimizer = optim.Adam(self.model.parameters(), lr=self.lr)\n",
    "\n",
    "        elif model_name == 'FSRCNN':\n",
    "            self.model = FSRCNN().to(self.device)\n",
    "            self.outputs_dir = 'outputs\\FSRCNN'\n",
    "            self.data_dir = 'dataset\\post_sampling'\n",
    "            self.lr = 1e-3\n",
    "            self.optimizer = optim.Adam([\n",
    "                {'params': self.model.conv_net1.parameters()},\n",
    "                {'params': self.model.conv_net2.parameters()},\n",
    "                {'params': self.model.TransConv_net.parameters(), 'lr': self.lr * 0.1}\n",
    "            ], lr=self.lr)\n",
    "\n",
    "        elif model_name == 'ESPCN':\n",
    "            self.model = ESPCN().to(self.device)\n",
    "            self.outputs_dir = 'outputs\\ESPCN'\n",
    "            self.data_dir = 'dataset\\post_sampling'\n",
    "            self.lr = 1e-3\n",
    "            self.optimizer = optim.Adam([\n",
    "                {'params': self.model.conv_net.parameters()},\n",
    "                {'params': self.model.PS_net.parameters(), 'lr': self.lr * 0.1}\n",
    "            ], lr=self.lr)\n",
    "\n",
    "        elif model_name == 'Res_ESPCN':\n",
    "            self.model = Res_ESPCN().to(self.device)\n",
    "            self.outputs_dir = 'outputs\\Res_ESPCN'\n",
    "            self.data_dir = 'dataset\\post_sampling'\n",
    "            self.lr = 1e-3\n",
    "            self.optimizer = optim.Adam([\n",
    "                {'params': self.model.conv_net1.parameters()},\n",
    "                {'params': self.model.conv_net2.parameters()},\n",
    "                {'params': self.model.conv_net3.parameters()},\n",
    "                {'params': self.model.PS_net.parameters(), 'lr': self.lr * 0.1}\n",
    "            ], lr=self.lr)\n",
    "\n",
    "        self.train_file = os.path.join(self.data_dir, 'train.h5')\n",
    "        self.eval_file = os.path.join(self.data_dir, 'eval.h5')\n",
    "        self.test_file = os.path.join(self.data_dir, 'test.h5')\n",
    "        print(f'---------- start train {model_name} model ----------')\n",
    "\n",
    "\n",
    "    def run(self):\n",
    "        torch.manual_seed(self.seed)\n",
    "        train_dataset = TrainDataset(self.train_file)\n",
    "        train_dataloader = DataLoader(dataset=train_dataset,\n",
    "                                batch_size=self.batch_size,\n",
    "                                shuffle=True,\n",
    "                                num_workers=self.num_workers,\n",
    "                                pin_memory=True,\n",
    "                                drop_last=True)\n",
    "        eval_dataset = EvalDataset(self.eval_file)\n",
    "        eval_dataloader = DataLoader(dataset=eval_dataset, batch_size=1)\n",
    "        test_dataset = EvalDataset(self.test_file)\n",
    "        test_dataloader = DataLoader(dataset=test_dataset, batch_size=1)\n",
    "\n",
    "        best_weights = copy.deepcopy(self.model.state_dict())\n",
    "        best_epoch = 0\n",
    "        best_psnr = 0.0\n",
    "        train_loss = []\n",
    "        eval_psnr = []\n",
    "        for epoch in range(self.num_epochs):\n",
    "            if self.model_name == 'ESPCN' or self.model_name == 'Res_ESPCN':\n",
    "                for param_group in self.optimizer.param_groups:\n",
    "                    param_group['lr'] = self.lr * (0.1 ** (epoch // int(self.num_epochs * 0.8)))\n",
    "            self.model.train()\n",
    "            epoch_losses = AverageMeter()\n",
    "            with tqdm(total=(len(train_dataset) - len(train_dataset) % self.batch_size)) as t:\n",
    "                t.set_description('epoch: {}/{}'.format(epoch, self.num_epochs - 1))\n",
    "                for data in train_dataloader:\n",
    "                    inputs, labels = data\n",
    "                    inputs = inputs.to(self.device)\n",
    "                    labels = labels.to(self.device)\n",
    "\n",
    "                    preds = self.model(inputs)\n",
    "                    loss = self.criterion(preds, labels)\n",
    "                    epoch_losses.update(loss.item(), len(inputs))\n",
    "                    self.optimizer.zero_grad()\n",
    "                    loss.backward()\n",
    "                    self.optimizer.step()\n",
    "\n",
    "                    t.set_postfix(loss='{:.6f}'.format(epoch_losses.avg))\n",
    "                    t.update(len(inputs))\n",
    "            train_loss.append(epoch_losses.avg)\n",
    "\n",
    "            self.model.eval()\n",
    "            epoch_psnr = AverageMeter()\n",
    "            for data in eval_dataloader:\n",
    "                inputs, labels = data\n",
    "                inputs = inputs.to(self.device)\n",
    "                labels = labels.to(self.device)\n",
    "\n",
    "                with torch.no_grad():\n",
    "                    preds = self.model(inputs).clamp(0.0, 1.0)\n",
    "                    epoch_psnr.update(calc_psnr(preds, labels), len(inputs))\n",
    "\n",
    "            eval_psnr.append(epoch_psnr.avg.cpu())\n",
    "            print('eval psnr: {:.2f}'.format(epoch_psnr.avg))\n",
    "\n",
    "            if epoch_psnr.avg > best_psnr:\n",
    "                best_epoch = epoch\n",
    "                best_psnr = epoch_psnr.avg\n",
    "                best_weights = copy.deepcopy(self.model.state_dict())\n",
    "\n",
    "            if epoch % 10 == 0 or epoch == self.num_epochs-1:\n",
    "                torch.save(self.model.state_dict(), os.path.join(self.outputs_dir, 'epoch_{}.pth'.format(epoch)))\n",
    "                np.save(os.path.join(self.outputs_dir, 'train_loss.npy'), np.array(train_loss))\n",
    "                np.save(os.path.join(self.outputs_dir, 'eval_psnr.npy'), np.array(eval_psnr))\n",
    "\n",
    "        print('best epoch: {}, psnr: {:.2f}'.format(best_epoch, best_psnr))\n",
    "        torch.save(best_weights, os.path.join(self.outputs_dir, 'best.pth'))\n",
    "\n",
    "        checkpoint = torch.load(os.path.join(self.outputs_dir, 'best.pth'))\n",
    "        self.model.load_state_dict(checkpoint)\n",
    "        self.model.eval()\n",
    "        epoch_psnr = AverageMeter()\n",
    "        for data in test_dataloader:\n",
    "            inputs, labels = data\n",
    "            inputs = inputs.to(self.device)\n",
    "            labels = labels.to(self.device)\n",
    "\n",
    "            with torch.no_grad():\n",
    "                preds = self.model(inputs).clamp(0.0, 1.0)\n",
    "                epoch_psnr.update(calc_psnr(preds, labels), len(inputs))\n",
    "                \n",
    "        flops, params = profile(self.model, inputs=(inputs,))\n",
    "        flops, params = clever_format([flops, params], '%.3f')\n",
    "        print('test psnr: {:.2f}'.format(epoch_psnr.avg))\n",
    "        print('net params: {}'.format(params))\n",
    "        print('net flops: {}'.format(flops))"
   ]
  },
  {
   "attachments": {},
   "cell_type": "markdown",
   "metadata": {},
   "source": [
    "# 3. 模型训练过程\n",
    "包含每个 epoch 的训练损失，验证PSNR，以及最终最优 epoch 下的测试PSNR。"
   ]
  },
  {
   "cell_type": "code",
   "execution_count": 51,
   "metadata": {},
   "outputs": [
    {
     "name": "stdout",
     "output_type": "stream",
     "text": [
      "---------- start train SRCNN model ----------\n"
     ]
    },
    {
     "name": "stderr",
     "output_type": "stream",
     "text": [
      "epoch: 0/199: 100%|██████████| 21440/21440 [00:16<00:00, 1281.91it/s, loss=0.003368]\n"
     ]
    },
    {
     "name": "stdout",
     "output_type": "stream",
     "text": [
      "eval psnr: 32.09\n"
     ]
    },
    {
     "name": "stderr",
     "output_type": "stream",
     "text": [
      "epoch: 1/199: 100%|██████████| 21440/21440 [00:16<00:00, 1286.07it/s, loss=0.001346]\n"
     ]
    },
    {
     "name": "stdout",
     "output_type": "stream",
     "text": [
      "eval psnr: 32.36\n"
     ]
    },
    {
     "name": "stderr",
     "output_type": "stream",
     "text": [
      "epoch: 2/199: 100%|██████████| 21440/21440 [00:16<00:00, 1282.45it/s, loss=0.001305]\n"
     ]
    },
    {
     "name": "stdout",
     "output_type": "stream",
     "text": [
      "eval psnr: 32.50\n"
     ]
    },
    {
     "name": "stderr",
     "output_type": "stream",
     "text": [
      "epoch: 3/199: 100%|██████████| 21440/21440 [00:16<00:00, 1288.77it/s, loss=0.001282]\n"
     ]
    },
    {
     "name": "stdout",
     "output_type": "stream",
     "text": [
      "eval psnr: 32.60\n"
     ]
    },
    {
     "name": "stderr",
     "output_type": "stream",
     "text": [
      "epoch: 4/199: 100%|██████████| 21440/21440 [00:16<00:00, 1287.84it/s, loss=0.001262]\n"
     ]
    },
    {
     "name": "stdout",
     "output_type": "stream",
     "text": [
      "eval psnr: 32.57\n"
     ]
    },
    {
     "name": "stderr",
     "output_type": "stream",
     "text": [
      "epoch: 5/199: 100%|██████████| 21440/21440 [00:16<00:00, 1278.78it/s, loss=0.001246]\n"
     ]
    },
    {
     "name": "stdout",
     "output_type": "stream",
     "text": [
      "eval psnr: 32.57\n"
     ]
    },
    {
     "name": "stderr",
     "output_type": "stream",
     "text": [
      "epoch: 6/199: 100%|██████████| 21440/21440 [00:16<00:00, 1284.52it/s, loss=0.001235]\n"
     ]
    },
    {
     "name": "stdout",
     "output_type": "stream",
     "text": [
      "eval psnr: 32.78\n"
     ]
    },
    {
     "name": "stderr",
     "output_type": "stream",
     "text": [
      "epoch: 7/199: 100%|██████████| 21440/21440 [00:16<00:00, 1298.14it/s, loss=0.001225]\n"
     ]
    },
    {
     "name": "stdout",
     "output_type": "stream",
     "text": [
      "eval psnr: 32.68\n"
     ]
    },
    {
     "name": "stderr",
     "output_type": "stream",
     "text": [
      "epoch: 8/199: 100%|██████████| 21440/21440 [00:16<00:00, 1277.71it/s, loss=0.001216]\n"
     ]
    },
    {
     "name": "stdout",
     "output_type": "stream",
     "text": [
      "eval psnr: 32.83\n"
     ]
    },
    {
     "name": "stderr",
     "output_type": "stream",
     "text": [
      "epoch: 9/199: 100%|██████████| 21440/21440 [00:16<00:00, 1280.61it/s, loss=0.001209]\n"
     ]
    },
    {
     "name": "stdout",
     "output_type": "stream",
     "text": [
      "eval psnr: 32.67\n"
     ]
    },
    {
     "name": "stderr",
     "output_type": "stream",
     "text": [
      "epoch: 10/199: 100%|██████████| 21440/21440 [00:16<00:00, 1278.70it/s, loss=0.001203]\n"
     ]
    },
    {
     "name": "stdout",
     "output_type": "stream",
     "text": [
      "eval psnr: 32.85\n"
     ]
    },
    {
     "name": "stderr",
     "output_type": "stream",
     "text": [
      "epoch: 11/199: 100%|██████████| 21440/21440 [00:16<00:00, 1274.37it/s, loss=0.001198]\n"
     ]
    },
    {
     "name": "stdout",
     "output_type": "stream",
     "text": [
      "eval psnr: 32.91\n"
     ]
    },
    {
     "name": "stderr",
     "output_type": "stream",
     "text": [
      "epoch: 12/199: 100%|██████████| 21440/21440 [00:16<00:00, 1269.54it/s, loss=0.001194]\n"
     ]
    },
    {
     "name": "stdout",
     "output_type": "stream",
     "text": [
      "eval psnr: 32.93\n"
     ]
    },
    {
     "name": "stderr",
     "output_type": "stream",
     "text": [
      "epoch: 13/199: 100%|██████████| 21440/21440 [00:17<00:00, 1259.32it/s, loss=0.001188]\n"
     ]
    },
    {
     "name": "stdout",
     "output_type": "stream",
     "text": [
      "eval psnr: 32.93\n"
     ]
    },
    {
     "name": "stderr",
     "output_type": "stream",
     "text": [
      "epoch: 14/199: 100%|██████████| 21440/21440 [00:17<00:00, 1254.31it/s, loss=0.001183]\n"
     ]
    },
    {
     "name": "stdout",
     "output_type": "stream",
     "text": [
      "eval psnr: 32.91\n"
     ]
    },
    {
     "name": "stderr",
     "output_type": "stream",
     "text": [
      "epoch: 15/199: 100%|██████████| 21440/21440 [00:17<00:00, 1260.58it/s, loss=0.001179]\n"
     ]
    },
    {
     "name": "stdout",
     "output_type": "stream",
     "text": [
      "eval psnr: 32.96\n"
     ]
    },
    {
     "name": "stderr",
     "output_type": "stream",
     "text": [
      "epoch: 16/199: 100%|██████████| 21440/21440 [00:16<00:00, 1277.86it/s, loss=0.001176]\n"
     ]
    },
    {
     "name": "stdout",
     "output_type": "stream",
     "text": [
      "eval psnr: 32.96\n"
     ]
    },
    {
     "name": "stderr",
     "output_type": "stream",
     "text": [
      "epoch: 17/199: 100%|██████████| 21440/21440 [00:15<00:00, 1364.91it/s, loss=0.001173]\n"
     ]
    },
    {
     "name": "stdout",
     "output_type": "stream",
     "text": [
      "eval psnr: 32.92\n"
     ]
    },
    {
     "name": "stderr",
     "output_type": "stream",
     "text": [
      "epoch: 18/199: 100%|██████████| 21440/21440 [00:15<00:00, 1381.27it/s, loss=0.001170]\n"
     ]
    },
    {
     "name": "stdout",
     "output_type": "stream",
     "text": [
      "eval psnr: 32.96\n"
     ]
    },
    {
     "name": "stderr",
     "output_type": "stream",
     "text": [
      "epoch: 19/199: 100%|██████████| 21440/21440 [00:15<00:00, 1387.16it/s, loss=0.001166]\n"
     ]
    },
    {
     "name": "stdout",
     "output_type": "stream",
     "text": [
      "eval psnr: 32.96\n"
     ]
    },
    {
     "name": "stderr",
     "output_type": "stream",
     "text": [
      "epoch: 20/199: 100%|██████████| 21440/21440 [00:15<00:00, 1386.80it/s, loss=0.001164]\n"
     ]
    },
    {
     "name": "stdout",
     "output_type": "stream",
     "text": [
      "eval psnr: 33.01\n"
     ]
    },
    {
     "name": "stderr",
     "output_type": "stream",
     "text": [
      "epoch: 21/199: 100%|██████████| 21440/21440 [00:15<00:00, 1384.57it/s, loss=0.001162]\n"
     ]
    },
    {
     "name": "stdout",
     "output_type": "stream",
     "text": [
      "eval psnr: 33.03\n"
     ]
    },
    {
     "name": "stderr",
     "output_type": "stream",
     "text": [
      "epoch: 22/199: 100%|██████████| 21440/21440 [00:15<00:00, 1352.43it/s, loss=0.001160]\n"
     ]
    },
    {
     "name": "stdout",
     "output_type": "stream",
     "text": [
      "eval psnr: 32.97\n"
     ]
    },
    {
     "name": "stderr",
     "output_type": "stream",
     "text": [
      "epoch: 23/199: 100%|██████████| 21440/21440 [00:16<00:00, 1263.26it/s, loss=0.001157]\n"
     ]
    },
    {
     "name": "stdout",
     "output_type": "stream",
     "text": [
      "eval psnr: 32.99\n"
     ]
    },
    {
     "name": "stderr",
     "output_type": "stream",
     "text": [
      "epoch: 24/199: 100%|██████████| 21440/21440 [00:17<00:00, 1254.09it/s, loss=0.001155]\n"
     ]
    },
    {
     "name": "stdout",
     "output_type": "stream",
     "text": [
      "eval psnr: 33.02\n"
     ]
    },
    {
     "name": "stderr",
     "output_type": "stream",
     "text": [
      "epoch: 25/199: 100%|██████████| 21440/21440 [00:16<00:00, 1274.60it/s, loss=0.001153]\n"
     ]
    },
    {
     "name": "stdout",
     "output_type": "stream",
     "text": [
      "eval psnr: 33.00\n"
     ]
    },
    {
     "name": "stderr",
     "output_type": "stream",
     "text": [
      "epoch: 26/199: 100%|██████████| 21440/21440 [00:16<00:00, 1280.69it/s, loss=0.001151]\n"
     ]
    },
    {
     "name": "stdout",
     "output_type": "stream",
     "text": [
      "eval psnr: 33.04\n"
     ]
    },
    {
     "name": "stderr",
     "output_type": "stream",
     "text": [
      "epoch: 27/199: 100%|██████████| 21440/21440 [00:16<00:00, 1280.08it/s, loss=0.001149]\n"
     ]
    },
    {
     "name": "stdout",
     "output_type": "stream",
     "text": [
      "eval psnr: 33.00\n"
     ]
    },
    {
     "name": "stderr",
     "output_type": "stream",
     "text": [
      "epoch: 28/199: 100%|██████████| 21440/21440 [00:16<00:00, 1331.02it/s, loss=0.001147]\n"
     ]
    },
    {
     "name": "stdout",
     "output_type": "stream",
     "text": [
      "eval psnr: 33.04\n"
     ]
    },
    {
     "name": "stderr",
     "output_type": "stream",
     "text": [
      "epoch: 29/199: 100%|██████████| 21440/21440 [00:15<00:00, 1375.24it/s, loss=0.001145]\n"
     ]
    },
    {
     "name": "stdout",
     "output_type": "stream",
     "text": [
      "eval psnr: 33.04\n"
     ]
    },
    {
     "name": "stderr",
     "output_type": "stream",
     "text": [
      "epoch: 30/199: 100%|██████████| 21440/21440 [00:15<00:00, 1359.97it/s, loss=0.001144]\n"
     ]
    },
    {
     "name": "stdout",
     "output_type": "stream",
     "text": [
      "eval psnr: 33.00\n"
     ]
    },
    {
     "name": "stderr",
     "output_type": "stream",
     "text": [
      "epoch: 31/199: 100%|██████████| 21440/21440 [00:17<00:00, 1255.34it/s, loss=0.001142]\n"
     ]
    },
    {
     "name": "stdout",
     "output_type": "stream",
     "text": [
      "eval psnr: 33.08\n"
     ]
    },
    {
     "name": "stderr",
     "output_type": "stream",
     "text": [
      "epoch: 32/199: 100%|██████████| 21440/21440 [00:16<00:00, 1264.52it/s, loss=0.001140]\n"
     ]
    },
    {
     "name": "stdout",
     "output_type": "stream",
     "text": [
      "eval psnr: 33.05\n"
     ]
    },
    {
     "name": "stderr",
     "output_type": "stream",
     "text": [
      "epoch: 33/199: 100%|██████████| 21440/21440 [00:17<00:00, 1258.36it/s, loss=0.001139]\n"
     ]
    },
    {
     "name": "stdout",
     "output_type": "stream",
     "text": [
      "eval psnr: 33.08\n"
     ]
    },
    {
     "name": "stderr",
     "output_type": "stream",
     "text": [
      "epoch: 34/199: 100%|██████████| 21440/21440 [00:16<00:00, 1266.62it/s, loss=0.001138]\n"
     ]
    },
    {
     "name": "stdout",
     "output_type": "stream",
     "text": [
      "eval psnr: 33.10\n"
     ]
    },
    {
     "name": "stderr",
     "output_type": "stream",
     "text": [
      "epoch: 35/199: 100%|██████████| 21440/21440 [00:16<00:00, 1331.59it/s, loss=0.001136]\n"
     ]
    },
    {
     "name": "stdout",
     "output_type": "stream",
     "text": [
      "eval psnr: 33.07\n"
     ]
    },
    {
     "name": "stderr",
     "output_type": "stream",
     "text": [
      "epoch: 36/199: 100%|██████████| 21440/21440 [00:15<00:00, 1359.37it/s, loss=0.001135]\n"
     ]
    },
    {
     "name": "stdout",
     "output_type": "stream",
     "text": [
      "eval psnr: 33.09\n"
     ]
    },
    {
     "name": "stderr",
     "output_type": "stream",
     "text": [
      "epoch: 37/199: 100%|██████████| 21440/21440 [00:15<00:00, 1356.36it/s, loss=0.001134]\n"
     ]
    },
    {
     "name": "stdout",
     "output_type": "stream",
     "text": [
      "eval psnr: 33.13\n"
     ]
    },
    {
     "name": "stderr",
     "output_type": "stream",
     "text": [
      "epoch: 38/199: 100%|██████████| 21440/21440 [00:15<00:00, 1340.17it/s, loss=0.001133]\n"
     ]
    },
    {
     "name": "stdout",
     "output_type": "stream",
     "text": [
      "eval psnr: 33.12\n"
     ]
    },
    {
     "name": "stderr",
     "output_type": "stream",
     "text": [
      "epoch: 39/199: 100%|██████████| 21440/21440 [00:15<00:00, 1345.12it/s, loss=0.001131]\n"
     ]
    },
    {
     "name": "stdout",
     "output_type": "stream",
     "text": [
      "eval psnr: 33.14\n"
     ]
    },
    {
     "name": "stderr",
     "output_type": "stream",
     "text": [
      "epoch: 40/199: 100%|██████████| 21440/21440 [00:15<00:00, 1350.72it/s, loss=0.001130]\n"
     ]
    },
    {
     "name": "stdout",
     "output_type": "stream",
     "text": [
      "eval psnr: 33.12\n"
     ]
    },
    {
     "name": "stderr",
     "output_type": "stream",
     "text": [
      "epoch: 41/199: 100%|██████████| 21440/21440 [00:15<00:00, 1365.26it/s, loss=0.001129]\n"
     ]
    },
    {
     "name": "stdout",
     "output_type": "stream",
     "text": [
      "eval psnr: 33.08\n"
     ]
    },
    {
     "name": "stderr",
     "output_type": "stream",
     "text": [
      "epoch: 42/199: 100%|██████████| 21440/21440 [00:15<00:00, 1375.42it/s, loss=0.001127]\n"
     ]
    },
    {
     "name": "stdout",
     "output_type": "stream",
     "text": [
      "eval psnr: 33.11\n"
     ]
    },
    {
     "name": "stderr",
     "output_type": "stream",
     "text": [
      "epoch: 43/199: 100%|██████████| 21440/21440 [00:15<00:00, 1354.13it/s, loss=0.001127]\n"
     ]
    },
    {
     "name": "stdout",
     "output_type": "stream",
     "text": [
      "eval psnr: 33.08\n"
     ]
    },
    {
     "name": "stderr",
     "output_type": "stream",
     "text": [
      "epoch: 44/199: 100%|██████████| 21440/21440 [00:16<00:00, 1285.99it/s, loss=0.001126]\n"
     ]
    },
    {
     "name": "stdout",
     "output_type": "stream",
     "text": [
      "eval psnr: 33.11\n"
     ]
    },
    {
     "name": "stderr",
     "output_type": "stream",
     "text": [
      "epoch: 45/199: 100%|██████████| 21440/21440 [00:17<00:00, 1257.92it/s, loss=0.001124]\n"
     ]
    },
    {
     "name": "stdout",
     "output_type": "stream",
     "text": [
      "eval psnr: 33.14\n"
     ]
    },
    {
     "name": "stderr",
     "output_type": "stream",
     "text": [
      "epoch: 46/199: 100%|██████████| 21440/21440 [00:16<00:00, 1268.41it/s, loss=0.001124]\n"
     ]
    },
    {
     "name": "stdout",
     "output_type": "stream",
     "text": [
      "eval psnr: 33.16\n"
     ]
    },
    {
     "name": "stderr",
     "output_type": "stream",
     "text": [
      "epoch: 47/199: 100%|██████████| 21440/21440 [00:15<00:00, 1342.43it/s, loss=0.001123]\n"
     ]
    },
    {
     "name": "stdout",
     "output_type": "stream",
     "text": [
      "eval psnr: 33.11\n"
     ]
    },
    {
     "name": "stderr",
     "output_type": "stream",
     "text": [
      "epoch: 48/199: 100%|██████████| 21440/21440 [00:15<00:00, 1363.43it/s, loss=0.001122]\n"
     ]
    },
    {
     "name": "stdout",
     "output_type": "stream",
     "text": [
      "eval psnr: 33.17\n"
     ]
    },
    {
     "name": "stderr",
     "output_type": "stream",
     "text": [
      "epoch: 49/199: 100%|██████████| 21440/21440 [00:15<00:00, 1376.21it/s, loss=0.001121]\n"
     ]
    },
    {
     "name": "stdout",
     "output_type": "stream",
     "text": [
      "eval psnr: 32.91\n"
     ]
    },
    {
     "name": "stderr",
     "output_type": "stream",
     "text": [
      "epoch: 50/199: 100%|██████████| 21440/21440 [00:15<00:00, 1373.21it/s, loss=0.001120]\n"
     ]
    },
    {
     "name": "stdout",
     "output_type": "stream",
     "text": [
      "eval psnr: 33.16\n"
     ]
    },
    {
     "name": "stderr",
     "output_type": "stream",
     "text": [
      "epoch: 51/199: 100%|██████████| 21440/21440 [00:15<00:00, 1376.83it/s, loss=0.001120]\n"
     ]
    },
    {
     "name": "stdout",
     "output_type": "stream",
     "text": [
      "eval psnr: 33.13\n"
     ]
    },
    {
     "name": "stderr",
     "output_type": "stream",
     "text": [
      "epoch: 52/199: 100%|██████████| 21440/21440 [00:15<00:00, 1343.61it/s, loss=0.001119]\n"
     ]
    },
    {
     "name": "stdout",
     "output_type": "stream",
     "text": [
      "eval psnr: 33.12\n"
     ]
    },
    {
     "name": "stderr",
     "output_type": "stream",
     "text": [
      "epoch: 53/199: 100%|██████████| 21440/21440 [00:15<00:00, 1364.74it/s, loss=0.001118]\n"
     ]
    },
    {
     "name": "stdout",
     "output_type": "stream",
     "text": [
      "eval psnr: 33.11\n"
     ]
    },
    {
     "name": "stderr",
     "output_type": "stream",
     "text": [
      "epoch: 54/199: 100%|██████████| 21440/21440 [00:15<00:00, 1369.97it/s, loss=0.001117]\n"
     ]
    },
    {
     "name": "stdout",
     "output_type": "stream",
     "text": [
      "eval psnr: 33.14\n"
     ]
    },
    {
     "name": "stderr",
     "output_type": "stream",
     "text": [
      "epoch: 55/199: 100%|██████████| 21440/21440 [00:15<00:00, 1412.01it/s, loss=0.001117]\n"
     ]
    },
    {
     "name": "stdout",
     "output_type": "stream",
     "text": [
      "eval psnr: 33.15\n"
     ]
    },
    {
     "name": "stderr",
     "output_type": "stream",
     "text": [
      "epoch: 56/199: 100%|██████████| 21440/21440 [00:15<00:00, 1386.27it/s, loss=0.001115]\n"
     ]
    },
    {
     "name": "stdout",
     "output_type": "stream",
     "text": [
      "eval psnr: 33.14\n"
     ]
    },
    {
     "name": "stderr",
     "output_type": "stream",
     "text": [
      "epoch: 57/199: 100%|██████████| 21440/21440 [00:15<00:00, 1363.69it/s, loss=0.001115]\n"
     ]
    },
    {
     "name": "stdout",
     "output_type": "stream",
     "text": [
      "eval psnr: 33.16\n"
     ]
    },
    {
     "name": "stderr",
     "output_type": "stream",
     "text": [
      "epoch: 58/199: 100%|██████████| 21440/21440 [00:15<00:00, 1357.99it/s, loss=0.001114]\n"
     ]
    },
    {
     "name": "stdout",
     "output_type": "stream",
     "text": [
      "eval psnr: 33.12\n"
     ]
    },
    {
     "name": "stderr",
     "output_type": "stream",
     "text": [
      "epoch: 59/199: 100%|██████████| 21440/21440 [00:15<00:00, 1365.95it/s, loss=0.001114]\n"
     ]
    },
    {
     "name": "stdout",
     "output_type": "stream",
     "text": [
      "eval psnr: 33.15\n"
     ]
    },
    {
     "name": "stderr",
     "output_type": "stream",
     "text": [
      "epoch: 60/199: 100%|██████████| 21440/21440 [00:15<00:00, 1370.41it/s, loss=0.001113]\n"
     ]
    },
    {
     "name": "stdout",
     "output_type": "stream",
     "text": [
      "eval psnr: 33.15\n"
     ]
    },
    {
     "name": "stderr",
     "output_type": "stream",
     "text": [
      "epoch: 61/199: 100%|██████████| 21440/21440 [00:15<00:00, 1367.96it/s, loss=0.001112]\n"
     ]
    },
    {
     "name": "stdout",
     "output_type": "stream",
     "text": [
      "eval psnr: 33.17\n"
     ]
    },
    {
     "name": "stderr",
     "output_type": "stream",
     "text": [
      "epoch: 62/199: 100%|██████████| 21440/21440 [00:15<00:00, 1356.96it/s, loss=0.001112]\n"
     ]
    },
    {
     "name": "stdout",
     "output_type": "stream",
     "text": [
      "eval psnr: 33.15\n"
     ]
    },
    {
     "name": "stderr",
     "output_type": "stream",
     "text": [
      "epoch: 63/199: 100%|██████████| 21440/21440 [00:15<00:00, 1376.48it/s, loss=0.001111]\n"
     ]
    },
    {
     "name": "stdout",
     "output_type": "stream",
     "text": [
      "eval psnr: 33.10\n"
     ]
    },
    {
     "name": "stderr",
     "output_type": "stream",
     "text": [
      "epoch: 64/199: 100%|██████████| 21440/21440 [00:15<00:00, 1375.33it/s, loss=0.001110]\n"
     ]
    },
    {
     "name": "stdout",
     "output_type": "stream",
     "text": [
      "eval psnr: 33.15\n"
     ]
    },
    {
     "name": "stderr",
     "output_type": "stream",
     "text": [
      "epoch: 65/199: 100%|██████████| 21440/21440 [00:15<00:00, 1363.61it/s, loss=0.001110]\n"
     ]
    },
    {
     "name": "stdout",
     "output_type": "stream",
     "text": [
      "eval psnr: 33.09\n"
     ]
    },
    {
     "name": "stderr",
     "output_type": "stream",
     "text": [
      "epoch: 66/199: 100%|██████████| 21440/21440 [00:15<00:00, 1361.62it/s, loss=0.001108]\n"
     ]
    },
    {
     "name": "stdout",
     "output_type": "stream",
     "text": [
      "eval psnr: 33.14\n"
     ]
    },
    {
     "name": "stderr",
     "output_type": "stream",
     "text": [
      "epoch: 67/199: 100%|██████████| 21440/21440 [00:15<00:00, 1386.09it/s, loss=0.001109]\n"
     ]
    },
    {
     "name": "stdout",
     "output_type": "stream",
     "text": [
      "eval psnr: 33.15\n"
     ]
    },
    {
     "name": "stderr",
     "output_type": "stream",
     "text": [
      "epoch: 68/199: 100%|██████████| 21440/21440 [00:15<00:00, 1399.20it/s, loss=0.001108]\n"
     ]
    },
    {
     "name": "stdout",
     "output_type": "stream",
     "text": [
      "eval psnr: 33.15\n"
     ]
    },
    {
     "name": "stderr",
     "output_type": "stream",
     "text": [
      "epoch: 69/199: 100%|██████████| 21440/21440 [00:15<00:00, 1365.78it/s, loss=0.001107]\n"
     ]
    },
    {
     "name": "stdout",
     "output_type": "stream",
     "text": [
      "eval psnr: 33.19\n"
     ]
    },
    {
     "name": "stderr",
     "output_type": "stream",
     "text": [
      "epoch: 70/199: 100%|██████████| 21440/21440 [00:15<00:00, 1351.32it/s, loss=0.001107]\n"
     ]
    },
    {
     "name": "stdout",
     "output_type": "stream",
     "text": [
      "eval psnr: 33.21\n"
     ]
    },
    {
     "name": "stderr",
     "output_type": "stream",
     "text": [
      "epoch: 71/199: 100%|██████████| 21440/21440 [00:16<00:00, 1318.90it/s, loss=0.001106]\n"
     ]
    },
    {
     "name": "stdout",
     "output_type": "stream",
     "text": [
      "eval psnr: 33.19\n"
     ]
    },
    {
     "name": "stderr",
     "output_type": "stream",
     "text": [
      "epoch: 72/199: 100%|██████████| 21440/21440 [00:15<00:00, 1369.88it/s, loss=0.001106]\n"
     ]
    },
    {
     "name": "stdout",
     "output_type": "stream",
     "text": [
      "eval psnr: 33.16\n"
     ]
    },
    {
     "name": "stderr",
     "output_type": "stream",
     "text": [
      "epoch: 73/199: 100%|██████████| 21440/21440 [00:15<00:00, 1378.78it/s, loss=0.001105]\n"
     ]
    },
    {
     "name": "stdout",
     "output_type": "stream",
     "text": [
      "eval psnr: 33.14\n"
     ]
    },
    {
     "name": "stderr",
     "output_type": "stream",
     "text": [
      "epoch: 74/199: 100%|██████████| 21440/21440 [00:16<00:00, 1331.51it/s, loss=0.001105]\n"
     ]
    },
    {
     "name": "stdout",
     "output_type": "stream",
     "text": [
      "eval psnr: 33.12\n"
     ]
    },
    {
     "name": "stderr",
     "output_type": "stream",
     "text": [
      "epoch: 75/199: 100%|██████████| 21440/21440 [00:15<00:00, 1347.50it/s, loss=0.001104]\n"
     ]
    },
    {
     "name": "stdout",
     "output_type": "stream",
     "text": [
      "eval psnr: 33.18\n"
     ]
    },
    {
     "name": "stderr",
     "output_type": "stream",
     "text": [
      "epoch: 76/199: 100%|██████████| 21440/21440 [00:15<00:00, 1368.22it/s, loss=0.001103]\n"
     ]
    },
    {
     "name": "stdout",
     "output_type": "stream",
     "text": [
      "eval psnr: 33.11\n"
     ]
    },
    {
     "name": "stderr",
     "output_type": "stream",
     "text": [
      "epoch: 77/199: 100%|██████████| 21440/21440 [00:16<00:00, 1330.85it/s, loss=0.001103]\n"
     ]
    },
    {
     "name": "stdout",
     "output_type": "stream",
     "text": [
      "eval psnr: 33.15\n"
     ]
    },
    {
     "name": "stderr",
     "output_type": "stream",
     "text": [
      "epoch: 78/199: 100%|██████████| 21440/21440 [00:15<00:00, 1349.53it/s, loss=0.001103]\n"
     ]
    },
    {
     "name": "stdout",
     "output_type": "stream",
     "text": [
      "eval psnr: 33.16\n"
     ]
    },
    {
     "name": "stderr",
     "output_type": "stream",
     "text": [
      "epoch: 79/199: 100%|██████████| 21440/21440 [00:15<00:00, 1371.28it/s, loss=0.001102]\n"
     ]
    },
    {
     "name": "stdout",
     "output_type": "stream",
     "text": [
      "eval psnr: 33.19\n"
     ]
    },
    {
     "name": "stderr",
     "output_type": "stream",
     "text": [
      "epoch: 80/199: 100%|██████████| 21440/21440 [00:15<00:00, 1346.99it/s, loss=0.001101]\n"
     ]
    },
    {
     "name": "stdout",
     "output_type": "stream",
     "text": [
      "eval psnr: 33.21\n"
     ]
    },
    {
     "name": "stderr",
     "output_type": "stream",
     "text": [
      "epoch: 81/199: 100%|██████████| 21440/21440 [00:15<00:00, 1343.36it/s, loss=0.001101]\n"
     ]
    },
    {
     "name": "stdout",
     "output_type": "stream",
     "text": [
      "eval psnr: 33.19\n"
     ]
    },
    {
     "name": "stderr",
     "output_type": "stream",
     "text": [
      "epoch: 82/199: 100%|██████████| 21440/21440 [00:16<00:00, 1329.28it/s, loss=0.001101]\n"
     ]
    },
    {
     "name": "stdout",
     "output_type": "stream",
     "text": [
      "eval psnr: 33.17\n"
     ]
    },
    {
     "name": "stderr",
     "output_type": "stream",
     "text": [
      "epoch: 83/199: 100%|██████████| 21440/21440 [00:15<00:00, 1353.96it/s, loss=0.001100]\n"
     ]
    },
    {
     "name": "stdout",
     "output_type": "stream",
     "text": [
      "eval psnr: 33.19\n"
     ]
    },
    {
     "name": "stderr",
     "output_type": "stream",
     "text": [
      "epoch: 84/199: 100%|██████████| 21440/21440 [00:15<00:00, 1372.34it/s, loss=0.001100]\n"
     ]
    },
    {
     "name": "stdout",
     "output_type": "stream",
     "text": [
      "eval psnr: 33.17\n"
     ]
    },
    {
     "name": "stderr",
     "output_type": "stream",
     "text": [
      "epoch: 85/199: 100%|██████████| 21440/21440 [00:15<00:00, 1353.62it/s, loss=0.001100]\n"
     ]
    },
    {
     "name": "stdout",
     "output_type": "stream",
     "text": [
      "eval psnr: 33.18\n"
     ]
    },
    {
     "name": "stderr",
     "output_type": "stream",
     "text": [
      "epoch: 86/199: 100%|██████████| 21440/21440 [00:15<00:00, 1344.20it/s, loss=0.001099]\n"
     ]
    },
    {
     "name": "stdout",
     "output_type": "stream",
     "text": [
      "eval psnr: 33.21\n"
     ]
    },
    {
     "name": "stderr",
     "output_type": "stream",
     "text": [
      "epoch: 87/199: 100%|██████████| 21440/21440 [00:16<00:00, 1272.86it/s, loss=0.001098]\n"
     ]
    },
    {
     "name": "stdout",
     "output_type": "stream",
     "text": [
      "eval psnr: 33.19\n"
     ]
    },
    {
     "name": "stderr",
     "output_type": "stream",
     "text": [
      "epoch: 88/199: 100%|██████████| 21440/21440 [00:15<00:00, 1351.49it/s, loss=0.001098]\n"
     ]
    },
    {
     "name": "stdout",
     "output_type": "stream",
     "text": [
      "eval psnr: 33.12\n"
     ]
    },
    {
     "name": "stderr",
     "output_type": "stream",
     "text": [
      "epoch: 89/199: 100%|██████████| 21440/21440 [00:15<00:00, 1381.89it/s, loss=0.001097]\n"
     ]
    },
    {
     "name": "stdout",
     "output_type": "stream",
     "text": [
      "eval psnr: 33.20\n"
     ]
    },
    {
     "name": "stderr",
     "output_type": "stream",
     "text": [
      "epoch: 90/199: 100%|██████████| 21440/21440 [00:15<00:00, 1388.60it/s, loss=0.001098]\n"
     ]
    },
    {
     "name": "stdout",
     "output_type": "stream",
     "text": [
      "eval psnr: 33.18\n"
     ]
    },
    {
     "name": "stderr",
     "output_type": "stream",
     "text": [
      "epoch: 91/199: 100%|██████████| 21440/21440 [00:15<00:00, 1381.44it/s, loss=0.001096]\n"
     ]
    },
    {
     "name": "stdout",
     "output_type": "stream",
     "text": [
      "eval psnr: 33.20\n"
     ]
    },
    {
     "name": "stderr",
     "output_type": "stream",
     "text": [
      "epoch: 92/199: 100%|██████████| 21440/21440 [00:15<00:00, 1382.33it/s, loss=0.001096]\n"
     ]
    },
    {
     "name": "stdout",
     "output_type": "stream",
     "text": [
      "eval psnr: 33.19\n"
     ]
    },
    {
     "name": "stderr",
     "output_type": "stream",
     "text": [
      "epoch: 93/199: 100%|██████████| 21440/21440 [00:15<00:00, 1388.78it/s, loss=0.001096]\n"
     ]
    },
    {
     "name": "stdout",
     "output_type": "stream",
     "text": [
      "eval psnr: 33.18\n"
     ]
    },
    {
     "name": "stderr",
     "output_type": "stream",
     "text": [
      "epoch: 94/199: 100%|██████████| 21440/21440 [00:15<00:00, 1380.91it/s, loss=0.001096]\n"
     ]
    },
    {
     "name": "stdout",
     "output_type": "stream",
     "text": [
      "eval psnr: 33.20\n"
     ]
    },
    {
     "name": "stderr",
     "output_type": "stream",
     "text": [
      "epoch: 95/199: 100%|██████████| 21440/21440 [00:15<00:00, 1353.45it/s, loss=0.001095]\n"
     ]
    },
    {
     "name": "stdout",
     "output_type": "stream",
     "text": [
      "eval psnr: 33.19\n"
     ]
    },
    {
     "name": "stderr",
     "output_type": "stream",
     "text": [
      "epoch: 96/199: 100%|██████████| 21440/21440 [00:16<00:00, 1306.76it/s, loss=0.001095]\n"
     ]
    },
    {
     "name": "stdout",
     "output_type": "stream",
     "text": [
      "eval psnr: 33.14\n"
     ]
    },
    {
     "name": "stderr",
     "output_type": "stream",
     "text": [
      "epoch: 97/199: 100%|██████████| 21440/21440 [00:17<00:00, 1253.43it/s, loss=0.001094]\n"
     ]
    },
    {
     "name": "stdout",
     "output_type": "stream",
     "text": [
      "eval psnr: 33.17\n"
     ]
    },
    {
     "name": "stderr",
     "output_type": "stream",
     "text": [
      "epoch: 98/199: 100%|██████████| 21440/21440 [00:16<00:00, 1279.16it/s, loss=0.001095]\n"
     ]
    },
    {
     "name": "stdout",
     "output_type": "stream",
     "text": [
      "eval psnr: 33.22\n"
     ]
    },
    {
     "name": "stderr",
     "output_type": "stream",
     "text": [
      "epoch: 99/199: 100%|██████████| 21440/21440 [00:15<00:00, 1352.00it/s, loss=0.001094]\n"
     ]
    },
    {
     "name": "stdout",
     "output_type": "stream",
     "text": [
      "eval psnr: 33.18\n"
     ]
    },
    {
     "name": "stderr",
     "output_type": "stream",
     "text": [
      "epoch: 100/199: 100%|██████████| 21440/21440 [00:15<00:00, 1376.39it/s, loss=0.001093]\n"
     ]
    },
    {
     "name": "stdout",
     "output_type": "stream",
     "text": [
      "eval psnr: 33.18\n"
     ]
    },
    {
     "name": "stderr",
     "output_type": "stream",
     "text": [
      "epoch: 101/199: 100%|██████████| 21440/21440 [00:15<00:00, 1371.72it/s, loss=0.001093]\n"
     ]
    },
    {
     "name": "stdout",
     "output_type": "stream",
     "text": [
      "eval psnr: 33.18\n"
     ]
    },
    {
     "name": "stderr",
     "output_type": "stream",
     "text": [
      "epoch: 102/199: 100%|██████████| 21440/21440 [00:15<00:00, 1370.23it/s, loss=0.001093]\n"
     ]
    },
    {
     "name": "stdout",
     "output_type": "stream",
     "text": [
      "eval psnr: 33.18\n"
     ]
    },
    {
     "name": "stderr",
     "output_type": "stream",
     "text": [
      "epoch: 103/199: 100%|██████████| 21440/21440 [00:15<00:00, 1383.23it/s, loss=0.001093]\n"
     ]
    },
    {
     "name": "stdout",
     "output_type": "stream",
     "text": [
      "eval psnr: 33.20\n"
     ]
    },
    {
     "name": "stderr",
     "output_type": "stream",
     "text": [
      "epoch: 104/199: 100%|██████████| 21440/21440 [00:15<00:00, 1381.44it/s, loss=0.001092]\n"
     ]
    },
    {
     "name": "stdout",
     "output_type": "stream",
     "text": [
      "eval psnr: 33.20\n"
     ]
    },
    {
     "name": "stderr",
     "output_type": "stream",
     "text": [
      "epoch: 105/199: 100%|██████████| 21440/21440 [00:15<00:00, 1363.26it/s, loss=0.001092]\n"
     ]
    },
    {
     "name": "stdout",
     "output_type": "stream",
     "text": [
      "eval psnr: 33.22\n"
     ]
    },
    {
     "name": "stderr",
     "output_type": "stream",
     "text": [
      "epoch: 106/199: 100%|██████████| 21440/21440 [00:15<00:00, 1342.01it/s, loss=0.001091]\n"
     ]
    },
    {
     "name": "stdout",
     "output_type": "stream",
     "text": [
      "eval psnr: 33.22\n"
     ]
    },
    {
     "name": "stderr",
     "output_type": "stream",
     "text": [
      "epoch: 107/199: 100%|██████████| 21440/21440 [00:15<00:00, 1359.03it/s, loss=0.001092]\n"
     ]
    },
    {
     "name": "stdout",
     "output_type": "stream",
     "text": [
      "eval psnr: 33.21\n"
     ]
    },
    {
     "name": "stderr",
     "output_type": "stream",
     "text": [
      "epoch: 108/199: 100%|██████████| 21440/21440 [00:15<00:00, 1383.67it/s, loss=0.001091]\n"
     ]
    },
    {
     "name": "stdout",
     "output_type": "stream",
     "text": [
      "eval psnr: 33.18\n"
     ]
    },
    {
     "name": "stderr",
     "output_type": "stream",
     "text": [
      "epoch: 109/199: 100%|██████████| 21440/21440 [00:15<00:00, 1383.58it/s, loss=0.001091]\n"
     ]
    },
    {
     "name": "stdout",
     "output_type": "stream",
     "text": [
      "eval psnr: 33.18\n"
     ]
    },
    {
     "name": "stderr",
     "output_type": "stream",
     "text": [
      "epoch: 110/199: 100%|██████████| 21440/21440 [00:15<00:00, 1380.55it/s, loss=0.001090]\n"
     ]
    },
    {
     "name": "stdout",
     "output_type": "stream",
     "text": [
      "eval psnr: 33.21\n"
     ]
    },
    {
     "name": "stderr",
     "output_type": "stream",
     "text": [
      "epoch: 111/199: 100%|██████████| 21440/21440 [00:15<00:00, 1383.58it/s, loss=0.001090]\n"
     ]
    },
    {
     "name": "stdout",
     "output_type": "stream",
     "text": [
      "eval psnr: 33.20\n"
     ]
    },
    {
     "name": "stderr",
     "output_type": "stream",
     "text": [
      "epoch: 112/199: 100%|██████████| 21440/21440 [00:15<00:00, 1376.65it/s, loss=0.001089]\n"
     ]
    },
    {
     "name": "stdout",
     "output_type": "stream",
     "text": [
      "eval psnr: 33.15\n"
     ]
    },
    {
     "name": "stderr",
     "output_type": "stream",
     "text": [
      "epoch: 113/199: 100%|██████████| 21440/21440 [00:16<00:00, 1294.92it/s, loss=0.001089]\n"
     ]
    },
    {
     "name": "stdout",
     "output_type": "stream",
     "text": [
      "eval psnr: 33.17\n"
     ]
    },
    {
     "name": "stderr",
     "output_type": "stream",
     "text": [
      "epoch: 114/199: 100%|██████████| 21440/21440 [00:17<00:00, 1244.05it/s, loss=0.001089]\n"
     ]
    },
    {
     "name": "stdout",
     "output_type": "stream",
     "text": [
      "eval psnr: 33.18\n"
     ]
    },
    {
     "name": "stderr",
     "output_type": "stream",
     "text": [
      "epoch: 115/199: 100%|██████████| 21440/21440 [00:17<00:00, 1249.49it/s, loss=0.001088]\n"
     ]
    },
    {
     "name": "stdout",
     "output_type": "stream",
     "text": [
      "eval psnr: 33.15\n"
     ]
    },
    {
     "name": "stderr",
     "output_type": "stream",
     "text": [
      "epoch: 116/199: 100%|██████████| 21440/21440 [00:16<00:00, 1275.51it/s, loss=0.001088]\n"
     ]
    },
    {
     "name": "stdout",
     "output_type": "stream",
     "text": [
      "eval psnr: 33.22\n"
     ]
    },
    {
     "name": "stderr",
     "output_type": "stream",
     "text": [
      "epoch: 117/199: 100%|██████████| 21440/21440 [00:17<00:00, 1253.80it/s, loss=0.001088]\n"
     ]
    },
    {
     "name": "stdout",
     "output_type": "stream",
     "text": [
      "eval psnr: 33.18\n"
     ]
    },
    {
     "name": "stderr",
     "output_type": "stream",
     "text": [
      "epoch: 118/199: 100%|██████████| 21440/21440 [00:17<00:00, 1258.14it/s, loss=0.001088]\n"
     ]
    },
    {
     "name": "stdout",
     "output_type": "stream",
     "text": [
      "eval psnr: 33.19\n"
     ]
    },
    {
     "name": "stderr",
     "output_type": "stream",
     "text": [
      "epoch: 119/199: 100%|██████████| 21440/21440 [00:16<00:00, 1330.02it/s, loss=0.001087]\n"
     ]
    },
    {
     "name": "stdout",
     "output_type": "stream",
     "text": [
      "eval psnr: 33.21\n"
     ]
    },
    {
     "name": "stderr",
     "output_type": "stream",
     "text": [
      "epoch: 120/199: 100%|██████████| 21440/21440 [00:16<00:00, 1332.50it/s, loss=0.001087]\n"
     ]
    },
    {
     "name": "stdout",
     "output_type": "stream",
     "text": [
      "eval psnr: 33.17\n"
     ]
    },
    {
     "name": "stderr",
     "output_type": "stream",
     "text": [
      "epoch: 121/199: 100%|██████████| 21440/21440 [00:16<00:00, 1316.39it/s, loss=0.001087]\n"
     ]
    },
    {
     "name": "stdout",
     "output_type": "stream",
     "text": [
      "eval psnr: 33.17\n"
     ]
    },
    {
     "name": "stderr",
     "output_type": "stream",
     "text": [
      "epoch: 122/199: 100%|██████████| 21440/21440 [00:15<00:00, 1341.93it/s, loss=0.001086]\n"
     ]
    },
    {
     "name": "stdout",
     "output_type": "stream",
     "text": [
      "eval psnr: 33.22\n"
     ]
    },
    {
     "name": "stderr",
     "output_type": "stream",
     "text": [
      "epoch: 123/199: 100%|██████████| 21440/21440 [00:16<00:00, 1334.83it/s, loss=0.001086]\n"
     ]
    },
    {
     "name": "stdout",
     "output_type": "stream",
     "text": [
      "eval psnr: 33.17\n"
     ]
    },
    {
     "name": "stderr",
     "output_type": "stream",
     "text": [
      "epoch: 124/199: 100%|██████████| 21440/21440 [00:16<00:00, 1325.17it/s, loss=0.001086]\n"
     ]
    },
    {
     "name": "stdout",
     "output_type": "stream",
     "text": [
      "eval psnr: 33.21\n"
     ]
    },
    {
     "name": "stderr",
     "output_type": "stream",
     "text": [
      "epoch: 125/199: 100%|██████████| 21440/21440 [00:16<00:00, 1332.34it/s, loss=0.001086]\n"
     ]
    },
    {
     "name": "stdout",
     "output_type": "stream",
     "text": [
      "eval psnr: 33.20\n"
     ]
    },
    {
     "name": "stderr",
     "output_type": "stream",
     "text": [
      "epoch: 126/199: 100%|██████████| 21440/21440 [00:15<00:00, 1349.36it/s, loss=0.001085]\n"
     ]
    },
    {
     "name": "stdout",
     "output_type": "stream",
     "text": [
      "eval psnr: 33.20\n"
     ]
    },
    {
     "name": "stderr",
     "output_type": "stream",
     "text": [
      "epoch: 127/199: 100%|██████████| 21440/21440 [00:16<00:00, 1334.83it/s, loss=0.001086]\n"
     ]
    },
    {
     "name": "stdout",
     "output_type": "stream",
     "text": [
      "eval psnr: 33.25\n"
     ]
    },
    {
     "name": "stderr",
     "output_type": "stream",
     "text": [
      "epoch: 128/199: 100%|██████████| 21440/21440 [00:16<00:00, 1328.79it/s, loss=0.001085]\n"
     ]
    },
    {
     "name": "stdout",
     "output_type": "stream",
     "text": [
      "eval psnr: 33.20\n"
     ]
    },
    {
     "name": "stderr",
     "output_type": "stream",
     "text": [
      "epoch: 129/199: 100%|██████████| 21440/21440 [00:15<00:00, 1359.20it/s, loss=0.001085]\n"
     ]
    },
    {
     "name": "stdout",
     "output_type": "stream",
     "text": [
      "eval psnr: 33.20\n"
     ]
    },
    {
     "name": "stderr",
     "output_type": "stream",
     "text": [
      "epoch: 130/199: 100%|██████████| 21440/21440 [00:16<00:00, 1329.61it/s, loss=0.001085]\n"
     ]
    },
    {
     "name": "stdout",
     "output_type": "stream",
     "text": [
      "eval psnr: 33.23\n"
     ]
    },
    {
     "name": "stderr",
     "output_type": "stream",
     "text": [
      "epoch: 131/199: 100%|██████████| 21440/21440 [00:16<00:00, 1304.14it/s, loss=0.001083]\n"
     ]
    },
    {
     "name": "stdout",
     "output_type": "stream",
     "text": [
      "eval psnr: 33.18\n"
     ]
    },
    {
     "name": "stderr",
     "output_type": "stream",
     "text": [
      "epoch: 132/199: 100%|██████████| 21440/21440 [00:17<00:00, 1249.34it/s, loss=0.001084]\n"
     ]
    },
    {
     "name": "stdout",
     "output_type": "stream",
     "text": [
      "eval psnr: 33.23\n"
     ]
    },
    {
     "name": "stderr",
     "output_type": "stream",
     "text": [
      "epoch: 133/199: 100%|██████████| 21440/21440 [00:16<00:00, 1264.15it/s, loss=0.001084]\n"
     ]
    },
    {
     "name": "stdout",
     "output_type": "stream",
     "text": [
      "eval psnr: 33.24\n"
     ]
    },
    {
     "name": "stderr",
     "output_type": "stream",
     "text": [
      "epoch: 134/199: 100%|██████████| 21440/21440 [00:16<00:00, 1331.93it/s, loss=0.001083]\n"
     ]
    },
    {
     "name": "stdout",
     "output_type": "stream",
     "text": [
      "eval psnr: 33.24\n"
     ]
    },
    {
     "name": "stderr",
     "output_type": "stream",
     "text": [
      "epoch: 135/199: 100%|██████████| 21440/21440 [00:15<00:00, 1378.42it/s, loss=0.001083]\n"
     ]
    },
    {
     "name": "stdout",
     "output_type": "stream",
     "text": [
      "eval psnr: 33.21\n"
     ]
    },
    {
     "name": "stderr",
     "output_type": "stream",
     "text": [
      "epoch: 136/199: 100%|██████████| 21440/21440 [00:15<00:00, 1384.57it/s, loss=0.001083]\n"
     ]
    },
    {
     "name": "stdout",
     "output_type": "stream",
     "text": [
      "eval psnr: 33.20\n"
     ]
    },
    {
     "name": "stderr",
     "output_type": "stream",
     "text": [
      "epoch: 137/199: 100%|██████████| 21440/21440 [00:15<00:00, 1382.42it/s, loss=0.001082]\n"
     ]
    },
    {
     "name": "stdout",
     "output_type": "stream",
     "text": [
      "eval psnr: 33.20\n"
     ]
    },
    {
     "name": "stderr",
     "output_type": "stream",
     "text": [
      "epoch: 138/199: 100%|██████████| 21440/21440 [00:15<00:00, 1382.96it/s, loss=0.001083]\n"
     ]
    },
    {
     "name": "stdout",
     "output_type": "stream",
     "text": [
      "eval psnr: 33.21\n"
     ]
    },
    {
     "name": "stderr",
     "output_type": "stream",
     "text": [
      "epoch: 139/199: 100%|██████████| 21440/21440 [00:15<00:00, 1361.87it/s, loss=0.001082]\n"
     ]
    },
    {
     "name": "stdout",
     "output_type": "stream",
     "text": [
      "eval psnr: 33.21\n"
     ]
    },
    {
     "name": "stderr",
     "output_type": "stream",
     "text": [
      "epoch: 140/199: 100%|██████████| 21440/21440 [00:15<00:00, 1357.91it/s, loss=0.001081]\n"
     ]
    },
    {
     "name": "stdout",
     "output_type": "stream",
     "text": [
      "eval psnr: 33.18\n"
     ]
    },
    {
     "name": "stderr",
     "output_type": "stream",
     "text": [
      "epoch: 141/199: 100%|██████████| 21440/21440 [00:16<00:00, 1300.02it/s, loss=0.001082]\n"
     ]
    },
    {
     "name": "stdout",
     "output_type": "stream",
     "text": [
      "eval psnr: 33.20\n"
     ]
    },
    {
     "name": "stderr",
     "output_type": "stream",
     "text": [
      "epoch: 142/199: 100%|██████████| 21440/21440 [00:16<00:00, 1323.54it/s, loss=0.001081]\n"
     ]
    },
    {
     "name": "stdout",
     "output_type": "stream",
     "text": [
      "eval psnr: 33.14\n"
     ]
    },
    {
     "name": "stderr",
     "output_type": "stream",
     "text": [
      "epoch: 143/199: 100%|██████████| 21440/21440 [00:16<00:00, 1304.77it/s, loss=0.001081]\n"
     ]
    },
    {
     "name": "stdout",
     "output_type": "stream",
     "text": [
      "eval psnr: 33.24\n"
     ]
    },
    {
     "name": "stderr",
     "output_type": "stream",
     "text": [
      "epoch: 144/199: 100%|██████████| 21440/21440 [00:16<00:00, 1328.21it/s, loss=0.001081]\n"
     ]
    },
    {
     "name": "stdout",
     "output_type": "stream",
     "text": [
      "eval psnr: 33.24\n"
     ]
    },
    {
     "name": "stderr",
     "output_type": "stream",
     "text": [
      "epoch: 145/199: 100%|██████████| 21440/21440 [00:16<00:00, 1313.48it/s, loss=0.001081]\n"
     ]
    },
    {
     "name": "stdout",
     "output_type": "stream",
     "text": [
      "eval psnr: 33.22\n"
     ]
    },
    {
     "name": "stderr",
     "output_type": "stream",
     "text": [
      "epoch: 146/199: 100%|██████████| 21440/21440 [00:15<00:00, 1348.60it/s, loss=0.001080]\n"
     ]
    },
    {
     "name": "stdout",
     "output_type": "stream",
     "text": [
      "eval psnr: 33.24\n"
     ]
    },
    {
     "name": "stderr",
     "output_type": "stream",
     "text": [
      "epoch: 147/199: 100%|██████████| 21440/21440 [00:15<00:00, 1345.47it/s, loss=0.001080]\n"
     ]
    },
    {
     "name": "stdout",
     "output_type": "stream",
     "text": [
      "eval psnr: 33.19\n"
     ]
    },
    {
     "name": "stderr",
     "output_type": "stream",
     "text": [
      "epoch: 148/199: 100%|██████████| 21440/21440 [00:16<00:00, 1313.16it/s, loss=0.001080]\n"
     ]
    },
    {
     "name": "stdout",
     "output_type": "stream",
     "text": [
      "eval psnr: 32.98\n"
     ]
    },
    {
     "name": "stderr",
     "output_type": "stream",
     "text": [
      "epoch: 149/199: 100%|██████████| 21440/21440 [00:15<00:00, 1348.68it/s, loss=0.001080]\n"
     ]
    },
    {
     "name": "stdout",
     "output_type": "stream",
     "text": [
      "eval psnr: 33.21\n"
     ]
    },
    {
     "name": "stderr",
     "output_type": "stream",
     "text": [
      "epoch: 150/199: 100%|██████████| 21440/21440 [00:15<00:00, 1343.44it/s, loss=0.001079]\n"
     ]
    },
    {
     "name": "stdout",
     "output_type": "stream",
     "text": [
      "eval psnr: 33.22\n"
     ]
    },
    {
     "name": "stderr",
     "output_type": "stream",
     "text": [
      "epoch: 151/199: 100%|██████████| 21440/21440 [00:15<00:00, 1355.42it/s, loss=0.001079]\n"
     ]
    },
    {
     "name": "stdout",
     "output_type": "stream",
     "text": [
      "eval psnr: 33.26\n"
     ]
    },
    {
     "name": "stderr",
     "output_type": "stream",
     "text": [
      "epoch: 152/199: 100%|██████████| 21440/21440 [00:15<00:00, 1366.04it/s, loss=0.001079]\n"
     ]
    },
    {
     "name": "stdout",
     "output_type": "stream",
     "text": [
      "eval psnr: 33.24\n"
     ]
    },
    {
     "name": "stderr",
     "output_type": "stream",
     "text": [
      "epoch: 153/199: 100%|██████████| 21440/21440 [00:16<00:00, 1297.82it/s, loss=0.001079]\n"
     ]
    },
    {
     "name": "stdout",
     "output_type": "stream",
     "text": [
      "eval psnr: 33.19\n"
     ]
    },
    {
     "name": "stderr",
     "output_type": "stream",
     "text": [
      "epoch: 154/199: 100%|██████████| 21440/21440 [00:17<00:00, 1243.84it/s, loss=0.001078]\n"
     ]
    },
    {
     "name": "stdout",
     "output_type": "stream",
     "text": [
      "eval psnr: 33.23\n"
     ]
    },
    {
     "name": "stderr",
     "output_type": "stream",
     "text": [
      "epoch: 155/199: 100%|██████████| 21440/21440 [00:16<00:00, 1302.71it/s, loss=0.001078]\n"
     ]
    },
    {
     "name": "stdout",
     "output_type": "stream",
     "text": [
      "eval psnr: 33.17\n"
     ]
    },
    {
     "name": "stderr",
     "output_type": "stream",
     "text": [
      "epoch: 156/199: 100%|██████████| 21440/21440 [00:16<00:00, 1327.88it/s, loss=0.001078]\n"
     ]
    },
    {
     "name": "stdout",
     "output_type": "stream",
     "text": [
      "eval psnr: 33.22\n"
     ]
    },
    {
     "name": "stderr",
     "output_type": "stream",
     "text": [
      "epoch: 157/199: 100%|██████████| 21440/21440 [00:16<00:00, 1331.26it/s, loss=0.001078]\n"
     ]
    },
    {
     "name": "stdout",
     "output_type": "stream",
     "text": [
      "eval psnr: 33.23\n"
     ]
    },
    {
     "name": "stderr",
     "output_type": "stream",
     "text": [
      "epoch: 158/199: 100%|██████████| 21440/21440 [00:16<00:00, 1339.25it/s, loss=0.001078]\n"
     ]
    },
    {
     "name": "stdout",
     "output_type": "stream",
     "text": [
      "eval psnr: 33.24\n"
     ]
    },
    {
     "name": "stderr",
     "output_type": "stream",
     "text": [
      "epoch: 159/199: 100%|██████████| 21440/21440 [00:16<00:00, 1338.74it/s, loss=0.001077]\n"
     ]
    },
    {
     "name": "stdout",
     "output_type": "stream",
     "text": [
      "eval psnr: 33.21\n"
     ]
    },
    {
     "name": "stderr",
     "output_type": "stream",
     "text": [
      "epoch: 160/199: 100%|██████████| 21440/21440 [00:17<00:00, 1251.31it/s, loss=0.001077]\n"
     ]
    },
    {
     "name": "stdout",
     "output_type": "stream",
     "text": [
      "eval psnr: 33.17\n"
     ]
    },
    {
     "name": "stderr",
     "output_type": "stream",
     "text": [
      "epoch: 161/199: 100%|██████████| 21440/21440 [00:17<00:00, 1241.82it/s, loss=0.001077]\n"
     ]
    },
    {
     "name": "stdout",
     "output_type": "stream",
     "text": [
      "eval psnr: 33.20\n"
     ]
    },
    {
     "name": "stderr",
     "output_type": "stream",
     "text": [
      "epoch: 162/199: 100%|██████████| 21440/21440 [00:17<00:00, 1248.76it/s, loss=0.001077]\n"
     ]
    },
    {
     "name": "stdout",
     "output_type": "stream",
     "text": [
      "eval psnr: 33.21\n"
     ]
    },
    {
     "name": "stderr",
     "output_type": "stream",
     "text": [
      "epoch: 163/199: 100%|██████████| 21440/21440 [00:17<00:00, 1250.07it/s, loss=0.001077]\n"
     ]
    },
    {
     "name": "stdout",
     "output_type": "stream",
     "text": [
      "eval psnr: 33.23\n"
     ]
    },
    {
     "name": "stderr",
     "output_type": "stream",
     "text": [
      "epoch: 164/199: 100%|██████████| 21440/21440 [00:16<00:00, 1270.44it/s, loss=0.001076]\n"
     ]
    },
    {
     "name": "stdout",
     "output_type": "stream",
     "text": [
      "eval psnr: 33.21\n"
     ]
    },
    {
     "name": "stderr",
     "output_type": "stream",
     "text": [
      "epoch: 165/199: 100%|██████████| 21440/21440 [00:16<00:00, 1285.22it/s, loss=0.001076]\n"
     ]
    },
    {
     "name": "stdout",
     "output_type": "stream",
     "text": [
      "eval psnr: 33.21\n"
     ]
    },
    {
     "name": "stderr",
     "output_type": "stream",
     "text": [
      "epoch: 166/199: 100%|██████████| 21440/21440 [00:16<00:00, 1284.60it/s, loss=0.001076]\n"
     ]
    },
    {
     "name": "stdout",
     "output_type": "stream",
     "text": [
      "eval psnr: 33.12\n"
     ]
    },
    {
     "name": "stderr",
     "output_type": "stream",
     "text": [
      "epoch: 167/199: 100%|██████████| 21440/21440 [00:16<00:00, 1287.38it/s, loss=0.001076]\n"
     ]
    },
    {
     "name": "stdout",
     "output_type": "stream",
     "text": [
      "eval psnr: 33.19\n"
     ]
    },
    {
     "name": "stderr",
     "output_type": "stream",
     "text": [
      "epoch: 168/199: 100%|██████████| 21440/21440 [00:16<00:00, 1266.62it/s, loss=0.001076]\n"
     ]
    },
    {
     "name": "stdout",
     "output_type": "stream",
     "text": [
      "eval psnr: 33.21\n"
     ]
    },
    {
     "name": "stderr",
     "output_type": "stream",
     "text": [
      "epoch: 169/199: 100%|██████████| 21440/21440 [00:16<00:00, 1291.88it/s, loss=0.001075]\n"
     ]
    },
    {
     "name": "stdout",
     "output_type": "stream",
     "text": [
      "eval psnr: 33.17\n"
     ]
    },
    {
     "name": "stderr",
     "output_type": "stream",
     "text": [
      "epoch: 170/199: 100%|██████████| 21440/21440 [00:15<00:00, 1359.28it/s, loss=0.001075]\n"
     ]
    },
    {
     "name": "stdout",
     "output_type": "stream",
     "text": [
      "eval psnr: 33.21\n"
     ]
    },
    {
     "name": "stderr",
     "output_type": "stream",
     "text": [
      "epoch: 171/199: 100%|██████████| 21440/21440 [00:15<00:00, 1373.04it/s, loss=0.001075]\n"
     ]
    },
    {
     "name": "stdout",
     "output_type": "stream",
     "text": [
      "eval psnr: 33.19\n"
     ]
    },
    {
     "name": "stderr",
     "output_type": "stream",
     "text": [
      "epoch: 172/199: 100%|██████████| 21440/21440 [00:15<00:00, 1377.98it/s, loss=0.001075]\n"
     ]
    },
    {
     "name": "stdout",
     "output_type": "stream",
     "text": [
      "eval psnr: 33.12\n"
     ]
    },
    {
     "name": "stderr",
     "output_type": "stream",
     "text": [
      "epoch: 173/199: 100%|██████████| 21440/21440 [00:15<00:00, 1348.94it/s, loss=0.001074]\n"
     ]
    },
    {
     "name": "stdout",
     "output_type": "stream",
     "text": [
      "eval psnr: 33.21\n"
     ]
    },
    {
     "name": "stderr",
     "output_type": "stream",
     "text": [
      "epoch: 174/199: 100%|██████████| 21440/21440 [00:16<00:00, 1336.57it/s, loss=0.001075]\n"
     ]
    },
    {
     "name": "stdout",
     "output_type": "stream",
     "text": [
      "eval psnr: 33.18\n"
     ]
    },
    {
     "name": "stderr",
     "output_type": "stream",
     "text": [
      "epoch: 175/199: 100%|██████████| 21440/21440 [00:16<00:00, 1332.84it/s, loss=0.001074]\n"
     ]
    },
    {
     "name": "stdout",
     "output_type": "stream",
     "text": [
      "eval psnr: 33.23\n"
     ]
    },
    {
     "name": "stderr",
     "output_type": "stream",
     "text": [
      "epoch: 176/199: 100%|██████████| 21440/21440 [00:15<00:00, 1364.39it/s, loss=0.001074]\n"
     ]
    },
    {
     "name": "stdout",
     "output_type": "stream",
     "text": [
      "eval psnr: 33.25\n"
     ]
    },
    {
     "name": "stderr",
     "output_type": "stream",
     "text": [
      "epoch: 177/199: 100%|██████████| 21440/21440 [00:15<00:00, 1365.17it/s, loss=0.001074]\n"
     ]
    },
    {
     "name": "stdout",
     "output_type": "stream",
     "text": [
      "eval psnr: 33.20\n"
     ]
    },
    {
     "name": "stderr",
     "output_type": "stream",
     "text": [
      "epoch: 178/199: 100%|██████████| 21440/21440 [00:15<00:00, 1375.06it/s, loss=0.001073]\n"
     ]
    },
    {
     "name": "stdout",
     "output_type": "stream",
     "text": [
      "eval psnr: 33.20\n"
     ]
    },
    {
     "name": "stderr",
     "output_type": "stream",
     "text": [
      "epoch: 179/199: 100%|██████████| 21440/21440 [00:15<00:00, 1348.94it/s, loss=0.001073]\n"
     ]
    },
    {
     "name": "stdout",
     "output_type": "stream",
     "text": [
      "eval psnr: 33.23\n"
     ]
    },
    {
     "name": "stderr",
     "output_type": "stream",
     "text": [
      "epoch: 180/199: 100%|██████████| 21440/21440 [00:16<00:00, 1328.05it/s, loss=0.001073]\n"
     ]
    },
    {
     "name": "stdout",
     "output_type": "stream",
     "text": [
      "eval psnr: 33.22\n"
     ]
    },
    {
     "name": "stderr",
     "output_type": "stream",
     "text": [
      "epoch: 181/199: 100%|██████████| 21440/21440 [00:15<00:00, 1342.01it/s, loss=0.001074]\n"
     ]
    },
    {
     "name": "stdout",
     "output_type": "stream",
     "text": [
      "eval psnr: 33.17\n"
     ]
    },
    {
     "name": "stderr",
     "output_type": "stream",
     "text": [
      "epoch: 182/199: 100%|██████████| 21440/21440 [00:15<00:00, 1347.33it/s, loss=0.001072]\n"
     ]
    },
    {
     "name": "stdout",
     "output_type": "stream",
     "text": [
      "eval psnr: 33.15\n"
     ]
    },
    {
     "name": "stderr",
     "output_type": "stream",
     "text": [
      "epoch: 183/199: 100%|██████████| 21440/21440 [00:15<00:00, 1342.60it/s, loss=0.001073]\n"
     ]
    },
    {
     "name": "stdout",
     "output_type": "stream",
     "text": [
      "eval psnr: 33.24\n"
     ]
    },
    {
     "name": "stderr",
     "output_type": "stream",
     "text": [
      "epoch: 184/199: 100%|██████████| 21440/21440 [00:16<00:00, 1337.49it/s, loss=0.001073]\n"
     ]
    },
    {
     "name": "stdout",
     "output_type": "stream",
     "text": [
      "eval psnr: 33.20\n"
     ]
    },
    {
     "name": "stderr",
     "output_type": "stream",
     "text": [
      "epoch: 185/199: 100%|██████████| 21440/21440 [00:15<00:00, 1381.98it/s, loss=0.001072]\n"
     ]
    },
    {
     "name": "stdout",
     "output_type": "stream",
     "text": [
      "eval psnr: 33.19\n"
     ]
    },
    {
     "name": "stderr",
     "output_type": "stream",
     "text": [
      "epoch: 186/199: 100%|██████████| 21440/21440 [00:15<00:00, 1382.96it/s, loss=0.001072]\n"
     ]
    },
    {
     "name": "stdout",
     "output_type": "stream",
     "text": [
      "eval psnr: 33.22\n"
     ]
    },
    {
     "name": "stderr",
     "output_type": "stream",
     "text": [
      "epoch: 187/199: 100%|██████████| 21440/21440 [00:15<00:00, 1380.82it/s, loss=0.001072]\n"
     ]
    },
    {
     "name": "stdout",
     "output_type": "stream",
     "text": [
      "eval psnr: 33.13\n"
     ]
    },
    {
     "name": "stderr",
     "output_type": "stream",
     "text": [
      "epoch: 188/199: 100%|██████████| 21440/21440 [00:15<00:00, 1378.96it/s, loss=0.001072]\n"
     ]
    },
    {
     "name": "stdout",
     "output_type": "stream",
     "text": [
      "eval psnr: 33.22\n"
     ]
    },
    {
     "name": "stderr",
     "output_type": "stream",
     "text": [
      "epoch: 189/199: 100%|██████████| 21440/21440 [00:15<00:00, 1364.91it/s, loss=0.001072]\n"
     ]
    },
    {
     "name": "stdout",
     "output_type": "stream",
     "text": [
      "eval psnr: 33.22\n"
     ]
    },
    {
     "name": "stderr",
     "output_type": "stream",
     "text": [
      "epoch: 190/199: 100%|██████████| 21440/21440 [00:15<00:00, 1367.78it/s, loss=0.001071]\n"
     ]
    },
    {
     "name": "stdout",
     "output_type": "stream",
     "text": [
      "eval psnr: 33.20\n"
     ]
    },
    {
     "name": "stderr",
     "output_type": "stream",
     "text": [
      "epoch: 191/199: 100%|██████████| 21440/21440 [00:15<00:00, 1353.02it/s, loss=0.001071]\n"
     ]
    },
    {
     "name": "stdout",
     "output_type": "stream",
     "text": [
      "eval psnr: 33.22\n"
     ]
    },
    {
     "name": "stderr",
     "output_type": "stream",
     "text": [
      "epoch: 192/199: 100%|██████████| 21440/21440 [00:15<00:00, 1379.22it/s, loss=0.001071]\n"
     ]
    },
    {
     "name": "stdout",
     "output_type": "stream",
     "text": [
      "eval psnr: 33.21\n"
     ]
    },
    {
     "name": "stderr",
     "output_type": "stream",
     "text": [
      "epoch: 193/199: 100%|██████████| 21440/21440 [00:15<00:00, 1384.30it/s, loss=0.001071]\n"
     ]
    },
    {
     "name": "stdout",
     "output_type": "stream",
     "text": [
      "eval psnr: 33.21\n"
     ]
    },
    {
     "name": "stderr",
     "output_type": "stream",
     "text": [
      "epoch: 194/199: 100%|██████████| 21440/21440 [00:15<00:00, 1381.98it/s, loss=0.001071]\n"
     ]
    },
    {
     "name": "stdout",
     "output_type": "stream",
     "text": [
      "eval psnr: 33.23\n"
     ]
    },
    {
     "name": "stderr",
     "output_type": "stream",
     "text": [
      "epoch: 195/199: 100%|██████████| 21440/21440 [00:15<00:00, 1383.31it/s, loss=0.001071]\n"
     ]
    },
    {
     "name": "stdout",
     "output_type": "stream",
     "text": [
      "eval psnr: 33.20\n"
     ]
    },
    {
     "name": "stderr",
     "output_type": "stream",
     "text": [
      "epoch: 196/199: 100%|██████████| 21440/21440 [00:15<00:00, 1383.40it/s, loss=0.001070]\n"
     ]
    },
    {
     "name": "stdout",
     "output_type": "stream",
     "text": [
      "eval psnr: 33.22\n"
     ]
    },
    {
     "name": "stderr",
     "output_type": "stream",
     "text": [
      "epoch: 197/199: 100%|██████████| 21440/21440 [00:15<00:00, 1346.40it/s, loss=0.001070]\n"
     ]
    },
    {
     "name": "stdout",
     "output_type": "stream",
     "text": [
      "eval psnr: 33.17\n"
     ]
    },
    {
     "name": "stderr",
     "output_type": "stream",
     "text": [
      "epoch: 198/199: 100%|██████████| 21440/21440 [00:15<00:00, 1356.88it/s, loss=0.001070]\n"
     ]
    },
    {
     "name": "stdout",
     "output_type": "stream",
     "text": [
      "eval psnr: 33.21\n"
     ]
    },
    {
     "name": "stderr",
     "output_type": "stream",
     "text": [
      "epoch: 199/199: 100%|██████████| 21440/21440 [00:15<00:00, 1356.02it/s, loss=0.001069]\n"
     ]
    },
    {
     "name": "stdout",
     "output_type": "stream",
     "text": [
      "eval psnr: 33.25\n",
      "best epoch: 151, psnr: 33.26\n",
      "[INFO] Register count_convNd() for <class 'torch.nn.modules.conv.Conv2d'>.\n",
      "[INFO] Register zero_ops() for <class 'torch.nn.modules.activation.ReLU'>.\n",
      "[INFO] Register zero_ops() for <class 'torch.nn.modules.container.Sequential'>.\n",
      "test psnr: 29.55\n",
      "net params: 57.281K\n",
      "net flops: 13.047G\n"
     ]
    }
   ],
   "source": [
    "if __name__ == \"__main__\":\n",
    "    trainer_1 = Trainer(model_name='SRCNN')\n",
    "    trainer_1.run()"
   ]
  },
  {
   "cell_type": "code",
   "execution_count": 93,
   "metadata": {},
   "outputs": [
    {
     "name": "stdout",
     "output_type": "stream",
     "text": [
      "---------- start train FSRCNN model ----------\n"
     ]
    },
    {
     "name": "stderr",
     "output_type": "stream",
     "text": [
      "epoch: 0/199: 100%|██████████| 2688/2688 [00:03<00:00, 821.02it/s, loss=0.030563]\n"
     ]
    },
    {
     "name": "stdout",
     "output_type": "stream",
     "text": [
      "eval psnr: 23.29\n"
     ]
    },
    {
     "name": "stderr",
     "output_type": "stream",
     "text": [
      "epoch: 1/199: 100%|██████████| 2688/2688 [00:03<00:00, 835.84it/s, loss=0.005466]\n"
     ]
    },
    {
     "name": "stdout",
     "output_type": "stream",
     "text": [
      "eval psnr: 26.52\n"
     ]
    },
    {
     "name": "stderr",
     "output_type": "stream",
     "text": [
      "epoch: 2/199: 100%|██████████| 2688/2688 [00:03<00:00, 828.11it/s, loss=0.003998]\n"
     ]
    },
    {
     "name": "stdout",
     "output_type": "stream",
     "text": [
      "eval psnr: 27.54\n"
     ]
    },
    {
     "name": "stderr",
     "output_type": "stream",
     "text": [
      "epoch: 3/199: 100%|██████████| 2688/2688 [00:03<00:00, 806.23it/s, loss=0.003390]\n"
     ]
    },
    {
     "name": "stdout",
     "output_type": "stream",
     "text": [
      "eval psnr: 28.52\n"
     ]
    },
    {
     "name": "stderr",
     "output_type": "stream",
     "text": [
      "epoch: 4/199: 100%|██████████| 2688/2688 [00:03<00:00, 799.03it/s, loss=0.002826]\n"
     ]
    },
    {
     "name": "stdout",
     "output_type": "stream",
     "text": [
      "eval psnr: 29.20\n"
     ]
    },
    {
     "name": "stderr",
     "output_type": "stream",
     "text": [
      "epoch: 5/199: 100%|██████████| 2688/2688 [00:03<00:00, 825.31it/s, loss=0.002611]\n"
     ]
    },
    {
     "name": "stdout",
     "output_type": "stream",
     "text": [
      "eval psnr: 29.53\n"
     ]
    },
    {
     "name": "stderr",
     "output_type": "stream",
     "text": [
      "epoch: 6/199: 100%|██████████| 2688/2688 [00:03<00:00, 815.29it/s, loss=0.002316]\n"
     ]
    },
    {
     "name": "stdout",
     "output_type": "stream",
     "text": [
      "eval psnr: 29.53\n"
     ]
    },
    {
     "name": "stderr",
     "output_type": "stream",
     "text": [
      "epoch: 7/199: 100%|██████████| 2688/2688 [00:03<00:00, 845.05it/s, loss=0.002172]\n"
     ]
    },
    {
     "name": "stdout",
     "output_type": "stream",
     "text": [
      "eval psnr: 30.24\n"
     ]
    },
    {
     "name": "stderr",
     "output_type": "stream",
     "text": [
      "epoch: 8/199: 100%|██████████| 2688/2688 [00:03<00:00, 828.11it/s, loss=0.002124]\n"
     ]
    },
    {
     "name": "stdout",
     "output_type": "stream",
     "text": [
      "eval psnr: 30.60\n"
     ]
    },
    {
     "name": "stderr",
     "output_type": "stream",
     "text": [
      "epoch: 9/199: 100%|██████████| 2688/2688 [00:03<00:00, 834.28it/s, loss=0.001918]\n"
     ]
    },
    {
     "name": "stdout",
     "output_type": "stream",
     "text": [
      "eval psnr: 30.06\n"
     ]
    },
    {
     "name": "stderr",
     "output_type": "stream",
     "text": [
      "epoch: 10/199: 100%|██████████| 2688/2688 [00:03<00:00, 844.25it/s, loss=0.001829]\n"
     ]
    },
    {
     "name": "stdout",
     "output_type": "stream",
     "text": [
      "eval psnr: 31.07\n"
     ]
    },
    {
     "name": "stderr",
     "output_type": "stream",
     "text": [
      "epoch: 11/199: 100%|██████████| 2688/2688 [00:03<00:00, 844.51it/s, loss=0.001850]\n"
     ]
    },
    {
     "name": "stdout",
     "output_type": "stream",
     "text": [
      "eval psnr: 31.20\n"
     ]
    },
    {
     "name": "stderr",
     "output_type": "stream",
     "text": [
      "epoch: 12/199: 100%|██████████| 2688/2688 [00:03<00:00, 834.28it/s, loss=0.001693]\n"
     ]
    },
    {
     "name": "stdout",
     "output_type": "stream",
     "text": [
      "eval psnr: 31.33\n"
     ]
    },
    {
     "name": "stderr",
     "output_type": "stream",
     "text": [
      "epoch: 13/199: 100%|██████████| 2688/2688 [00:03<00:00, 844.25it/s, loss=0.001706]\n"
     ]
    },
    {
     "name": "stdout",
     "output_type": "stream",
     "text": [
      "eval psnr: 30.82\n"
     ]
    },
    {
     "name": "stderr",
     "output_type": "stream",
     "text": [
      "epoch: 14/199: 100%|██████████| 2688/2688 [00:03<00:00, 841.34it/s, loss=0.001623]\n"
     ]
    },
    {
     "name": "stdout",
     "output_type": "stream",
     "text": [
      "eval psnr: 31.50\n"
     ]
    },
    {
     "name": "stderr",
     "output_type": "stream",
     "text": [
      "epoch: 15/199: 100%|██████████| 2688/2688 [00:03<00:00, 841.87it/s, loss=0.001631]\n"
     ]
    },
    {
     "name": "stdout",
     "output_type": "stream",
     "text": [
      "eval psnr: 31.62\n"
     ]
    },
    {
     "name": "stderr",
     "output_type": "stream",
     "text": [
      "epoch: 16/199: 100%|██████████| 2688/2688 [00:03<00:00, 830.41it/s, loss=0.001650]\n"
     ]
    },
    {
     "name": "stdout",
     "output_type": "stream",
     "text": [
      "eval psnr: 31.62\n"
     ]
    },
    {
     "name": "stderr",
     "output_type": "stream",
     "text": [
      "epoch: 17/199: 100%|██████████| 2688/2688 [00:03<00:00, 861.31it/s, loss=0.001547]\n"
     ]
    },
    {
     "name": "stdout",
     "output_type": "stream",
     "text": [
      "eval psnr: 31.75\n"
     ]
    },
    {
     "name": "stderr",
     "output_type": "stream",
     "text": [
      "epoch: 18/199: 100%|██████████| 2688/2688 [00:03<00:00, 838.97it/s, loss=0.001587]\n"
     ]
    },
    {
     "name": "stdout",
     "output_type": "stream",
     "text": [
      "eval psnr: 31.75\n"
     ]
    },
    {
     "name": "stderr",
     "output_type": "stream",
     "text": [
      "epoch: 19/199: 100%|██████████| 2688/2688 [00:03<00:00, 841.60it/s, loss=0.001526]\n"
     ]
    },
    {
     "name": "stdout",
     "output_type": "stream",
     "text": [
      "eval psnr: 30.70\n"
     ]
    },
    {
     "name": "stderr",
     "output_type": "stream",
     "text": [
      "epoch: 20/199: 100%|██████████| 2688/2688 [00:03<00:00, 842.66it/s, loss=0.001571]\n"
     ]
    },
    {
     "name": "stdout",
     "output_type": "stream",
     "text": [
      "eval psnr: 31.87\n"
     ]
    },
    {
     "name": "stderr",
     "output_type": "stream",
     "text": [
      "epoch: 21/199: 100%|██████████| 2688/2688 [00:03<00:00, 844.51it/s, loss=0.001496]\n"
     ]
    },
    {
     "name": "stdout",
     "output_type": "stream",
     "text": [
      "eval psnr: 31.20\n"
     ]
    },
    {
     "name": "stderr",
     "output_type": "stream",
     "text": [
      "epoch: 22/199: 100%|██████████| 2688/2688 [00:03<00:00, 845.05it/s, loss=0.001561]\n"
     ]
    },
    {
     "name": "stdout",
     "output_type": "stream",
     "text": [
      "eval psnr: 31.76\n"
     ]
    },
    {
     "name": "stderr",
     "output_type": "stream",
     "text": [
      "epoch: 23/199: 100%|██████████| 2688/2688 [00:03<00:00, 839.76it/s, loss=0.001475]\n"
     ]
    },
    {
     "name": "stdout",
     "output_type": "stream",
     "text": [
      "eval psnr: 31.93\n"
     ]
    },
    {
     "name": "stderr",
     "output_type": "stream",
     "text": [
      "epoch: 24/199: 100%|██████████| 2688/2688 [00:03<00:00, 832.99it/s, loss=0.001487]\n"
     ]
    },
    {
     "name": "stdout",
     "output_type": "stream",
     "text": [
      "eval psnr: 31.64\n"
     ]
    },
    {
     "name": "stderr",
     "output_type": "stream",
     "text": [
      "epoch: 25/199: 100%|██████████| 2688/2688 [00:03<00:00, 844.25it/s, loss=0.001536]\n"
     ]
    },
    {
     "name": "stdout",
     "output_type": "stream",
     "text": [
      "eval psnr: 32.00\n"
     ]
    },
    {
     "name": "stderr",
     "output_type": "stream",
     "text": [
      "epoch: 26/199: 100%|██████████| 2688/2688 [00:03<00:00, 845.31it/s, loss=0.001449]\n"
     ]
    },
    {
     "name": "stdout",
     "output_type": "stream",
     "text": [
      "eval psnr: 31.89\n"
     ]
    },
    {
     "name": "stderr",
     "output_type": "stream",
     "text": [
      "epoch: 27/199: 100%|██████████| 2688/2688 [00:03<00:00, 845.31it/s, loss=0.001509]\n"
     ]
    },
    {
     "name": "stdout",
     "output_type": "stream",
     "text": [
      "eval psnr: 32.01\n"
     ]
    },
    {
     "name": "stderr",
     "output_type": "stream",
     "text": [
      "epoch: 28/199: 100%|██████████| 2688/2688 [00:03<00:00, 837.40it/s, loss=0.001434]\n"
     ]
    },
    {
     "name": "stdout",
     "output_type": "stream",
     "text": [
      "eval psnr: 31.96\n"
     ]
    },
    {
     "name": "stderr",
     "output_type": "stream",
     "text": [
      "epoch: 29/199: 100%|██████████| 2688/2688 [00:03<00:00, 835.32it/s, loss=0.001447]\n"
     ]
    },
    {
     "name": "stdout",
     "output_type": "stream",
     "text": [
      "eval psnr: 31.99\n"
     ]
    },
    {
     "name": "stderr",
     "output_type": "stream",
     "text": [
      "epoch: 30/199: 100%|██████████| 2688/2688 [00:03<00:00, 830.93it/s, loss=0.001487]\n"
     ]
    },
    {
     "name": "stdout",
     "output_type": "stream",
     "text": [
      "eval psnr: 32.02\n"
     ]
    },
    {
     "name": "stderr",
     "output_type": "stream",
     "text": [
      "epoch: 31/199: 100%|██████████| 2688/2688 [00:03<00:00, 833.25it/s, loss=0.001429]\n"
     ]
    },
    {
     "name": "stdout",
     "output_type": "stream",
     "text": [
      "eval psnr: 32.04\n"
     ]
    },
    {
     "name": "stderr",
     "output_type": "stream",
     "text": [
      "epoch: 32/199: 100%|██████████| 2688/2688 [00:03<00:00, 843.98it/s, loss=0.001509]\n"
     ]
    },
    {
     "name": "stdout",
     "output_type": "stream",
     "text": [
      "eval psnr: 32.03\n"
     ]
    },
    {
     "name": "stderr",
     "output_type": "stream",
     "text": [
      "epoch: 33/199: 100%|██████████| 2688/2688 [00:03<00:00, 829.90it/s, loss=0.001422]\n"
     ]
    },
    {
     "name": "stdout",
     "output_type": "stream",
     "text": [
      "eval psnr: 32.03\n"
     ]
    },
    {
     "name": "stderr",
     "output_type": "stream",
     "text": [
      "epoch: 34/199: 100%|██████████| 2688/2688 [00:03<00:00, 829.39it/s, loss=0.001429]\n"
     ]
    },
    {
     "name": "stdout",
     "output_type": "stream",
     "text": [
      "eval psnr: 30.03\n"
     ]
    },
    {
     "name": "stderr",
     "output_type": "stream",
     "text": [
      "epoch: 35/199: 100%|██████████| 2688/2688 [00:03<00:00, 839.76it/s, loss=0.001437]\n"
     ]
    },
    {
     "name": "stdout",
     "output_type": "stream",
     "text": [
      "eval psnr: 31.96\n"
     ]
    },
    {
     "name": "stderr",
     "output_type": "stream",
     "text": [
      "epoch: 36/199: 100%|██████████| 2688/2688 [00:03<00:00, 840.55it/s, loss=0.001464]\n"
     ]
    },
    {
     "name": "stdout",
     "output_type": "stream",
     "text": [
      "eval psnr: 31.96\n"
     ]
    },
    {
     "name": "stderr",
     "output_type": "stream",
     "text": [
      "epoch: 37/199: 100%|██████████| 2688/2688 [00:03<00:00, 830.41it/s, loss=0.001417]\n"
     ]
    },
    {
     "name": "stdout",
     "output_type": "stream",
     "text": [
      "eval psnr: 32.08\n"
     ]
    },
    {
     "name": "stderr",
     "output_type": "stream",
     "text": [
      "epoch: 38/199: 100%|██████████| 2688/2688 [00:03<00:00, 834.02it/s, loss=0.001438]\n"
     ]
    },
    {
     "name": "stdout",
     "output_type": "stream",
     "text": [
      "eval psnr: 28.88\n"
     ]
    },
    {
     "name": "stderr",
     "output_type": "stream",
     "text": [
      "epoch: 39/199: 100%|██████████| 2688/2688 [00:03<00:00, 838.45it/s, loss=0.001666]\n"
     ]
    },
    {
     "name": "stdout",
     "output_type": "stream",
     "text": [
      "eval psnr: 32.05\n"
     ]
    },
    {
     "name": "stderr",
     "output_type": "stream",
     "text": [
      "epoch: 40/199: 100%|██████████| 2688/2688 [00:03<00:00, 834.28it/s, loss=0.001410]\n"
     ]
    },
    {
     "name": "stdout",
     "output_type": "stream",
     "text": [
      "eval psnr: 32.06\n"
     ]
    },
    {
     "name": "stderr",
     "output_type": "stream",
     "text": [
      "epoch: 41/199: 100%|██████████| 2688/2688 [00:03<00:00, 830.16it/s, loss=0.001406]\n"
     ]
    },
    {
     "name": "stdout",
     "output_type": "stream",
     "text": [
      "eval psnr: 32.10\n"
     ]
    },
    {
     "name": "stderr",
     "output_type": "stream",
     "text": [
      "epoch: 42/199: 100%|██████████| 2688/2688 [00:03<00:00, 841.60it/s, loss=0.001399]\n"
     ]
    },
    {
     "name": "stdout",
     "output_type": "stream",
     "text": [
      "eval psnr: 32.08\n"
     ]
    },
    {
     "name": "stderr",
     "output_type": "stream",
     "text": [
      "epoch: 43/199: 100%|██████████| 2688/2688 [00:03<00:00, 835.32it/s, loss=0.001403]\n"
     ]
    },
    {
     "name": "stdout",
     "output_type": "stream",
     "text": [
      "eval psnr: 32.07\n"
     ]
    },
    {
     "name": "stderr",
     "output_type": "stream",
     "text": [
      "epoch: 44/199: 100%|██████████| 2688/2688 [00:03<00:00, 840.81it/s, loss=0.001407]\n"
     ]
    },
    {
     "name": "stdout",
     "output_type": "stream",
     "text": [
      "eval psnr: 32.12\n"
     ]
    },
    {
     "name": "stderr",
     "output_type": "stream",
     "text": [
      "epoch: 45/199: 100%|██████████| 2688/2688 [00:03<00:00, 849.59it/s, loss=0.001429]\n"
     ]
    },
    {
     "name": "stdout",
     "output_type": "stream",
     "text": [
      "eval psnr: 32.07\n"
     ]
    },
    {
     "name": "stderr",
     "output_type": "stream",
     "text": [
      "epoch: 46/199: 100%|██████████| 2688/2688 [00:03<00:00, 834.02it/s, loss=0.001399]\n"
     ]
    },
    {
     "name": "stdout",
     "output_type": "stream",
     "text": [
      "eval psnr: 32.10\n"
     ]
    },
    {
     "name": "stderr",
     "output_type": "stream",
     "text": [
      "epoch: 47/199: 100%|██████████| 2688/2688 [00:03<00:00, 838.45it/s, loss=0.001466]\n"
     ]
    },
    {
     "name": "stdout",
     "output_type": "stream",
     "text": [
      "eval psnr: 31.93\n"
     ]
    },
    {
     "name": "stderr",
     "output_type": "stream",
     "text": [
      "epoch: 48/199: 100%|██████████| 2688/2688 [00:03<00:00, 842.13it/s, loss=0.001407]\n"
     ]
    },
    {
     "name": "stdout",
     "output_type": "stream",
     "text": [
      "eval psnr: 32.08\n"
     ]
    },
    {
     "name": "stderr",
     "output_type": "stream",
     "text": [
      "epoch: 49/199: 100%|██████████| 2688/2688 [00:03<00:00, 826.83it/s, loss=0.001395]\n"
     ]
    },
    {
     "name": "stdout",
     "output_type": "stream",
     "text": [
      "eval psnr: 32.13\n"
     ]
    },
    {
     "name": "stderr",
     "output_type": "stream",
     "text": [
      "epoch: 50/199: 100%|██████████| 2688/2688 [00:03<00:00, 788.02it/s, loss=0.001407]\n"
     ]
    },
    {
     "name": "stdout",
     "output_type": "stream",
     "text": [
      "eval psnr: 32.12\n"
     ]
    },
    {
     "name": "stderr",
     "output_type": "stream",
     "text": [
      "epoch: 51/199: 100%|██████████| 2688/2688 [00:03<00:00, 797.14it/s, loss=0.001388]\n"
     ]
    },
    {
     "name": "stdout",
     "output_type": "stream",
     "text": [
      "eval psnr: 32.11\n"
     ]
    },
    {
     "name": "stderr",
     "output_type": "stream",
     "text": [
      "epoch: 52/199: 100%|██████████| 2688/2688 [00:03<00:00, 783.65it/s, loss=0.001438]\n"
     ]
    },
    {
     "name": "stdout",
     "output_type": "stream",
     "text": [
      "eval psnr: 32.14\n"
     ]
    },
    {
     "name": "stderr",
     "output_type": "stream",
     "text": [
      "epoch: 53/199: 100%|██████████| 2688/2688 [00:03<00:00, 814.79it/s, loss=0.001381]\n"
     ]
    },
    {
     "name": "stdout",
     "output_type": "stream",
     "text": [
      "eval psnr: 32.19\n"
     ]
    },
    {
     "name": "stderr",
     "output_type": "stream",
     "text": [
      "epoch: 54/199: 100%|██████████| 2688/2688 [00:03<00:00, 822.28it/s, loss=0.001399]\n"
     ]
    },
    {
     "name": "stdout",
     "output_type": "stream",
     "text": [
      "eval psnr: 31.71\n"
     ]
    },
    {
     "name": "stderr",
     "output_type": "stream",
     "text": [
      "epoch: 55/199: 100%|██████████| 2688/2688 [00:03<00:00, 835.06it/s, loss=0.001405]\n"
     ]
    },
    {
     "name": "stdout",
     "output_type": "stream",
     "text": [
      "eval psnr: 30.75\n"
     ]
    },
    {
     "name": "stderr",
     "output_type": "stream",
     "text": [
      "epoch: 56/199: 100%|██████████| 2688/2688 [00:03<00:00, 839.50it/s, loss=0.001382]\n"
     ]
    },
    {
     "name": "stdout",
     "output_type": "stream",
     "text": [
      "eval psnr: 32.24\n"
     ]
    },
    {
     "name": "stderr",
     "output_type": "stream",
     "text": [
      "epoch: 57/199: 100%|██████████| 2688/2688 [00:03<00:00, 838.71it/s, loss=0.001401]\n"
     ]
    },
    {
     "name": "stdout",
     "output_type": "stream",
     "text": [
      "eval psnr: 32.10\n"
     ]
    },
    {
     "name": "stderr",
     "output_type": "stream",
     "text": [
      "epoch: 58/199: 100%|██████████| 2688/2688 [00:03<00:00, 831.18it/s, loss=0.001402]\n"
     ]
    },
    {
     "name": "stdout",
     "output_type": "stream",
     "text": [
      "eval psnr: 32.29\n"
     ]
    },
    {
     "name": "stderr",
     "output_type": "stream",
     "text": [
      "epoch: 59/199: 100%|██████████| 2688/2688 [00:03<00:00, 829.90it/s, loss=0.001625]\n"
     ]
    },
    {
     "name": "stdout",
     "output_type": "stream",
     "text": [
      "eval psnr: 30.79\n"
     ]
    },
    {
     "name": "stderr",
     "output_type": "stream",
     "text": [
      "epoch: 60/199: 100%|██████████| 2688/2688 [00:03<00:00, 831.96it/s, loss=0.001385]\n"
     ]
    },
    {
     "name": "stdout",
     "output_type": "stream",
     "text": [
      "eval psnr: 32.29\n"
     ]
    },
    {
     "name": "stderr",
     "output_type": "stream",
     "text": [
      "epoch: 61/199: 100%|██████████| 2688/2688 [00:03<00:00, 824.55it/s, loss=0.001363]\n"
     ]
    },
    {
     "name": "stdout",
     "output_type": "stream",
     "text": [
      "eval psnr: 32.31\n"
     ]
    },
    {
     "name": "stderr",
     "output_type": "stream",
     "text": [
      "epoch: 62/199: 100%|██████████| 2688/2688 [00:03<00:00, 835.58it/s, loss=0.001360]\n"
     ]
    },
    {
     "name": "stdout",
     "output_type": "stream",
     "text": [
      "eval psnr: 32.33\n"
     ]
    },
    {
     "name": "stderr",
     "output_type": "stream",
     "text": [
      "epoch: 63/199: 100%|██████████| 2688/2688 [00:03<00:00, 841.08it/s, loss=0.001356]\n"
     ]
    },
    {
     "name": "stdout",
     "output_type": "stream",
     "text": [
      "eval psnr: 32.33\n"
     ]
    },
    {
     "name": "stderr",
     "output_type": "stream",
     "text": [
      "epoch: 64/199: 100%|██████████| 2688/2688 [00:03<00:00, 830.93it/s, loss=0.001357]\n"
     ]
    },
    {
     "name": "stdout",
     "output_type": "stream",
     "text": [
      "eval psnr: 32.33\n"
     ]
    },
    {
     "name": "stderr",
     "output_type": "stream",
     "text": [
      "epoch: 65/199: 100%|██████████| 2688/2688 [00:03<00:00, 821.52it/s, loss=0.001350]\n"
     ]
    },
    {
     "name": "stdout",
     "output_type": "stream",
     "text": [
      "eval psnr: 32.35\n"
     ]
    },
    {
     "name": "stderr",
     "output_type": "stream",
     "text": [
      "epoch: 66/199: 100%|██████████| 2688/2688 [00:03<00:00, 840.55it/s, loss=0.001368]\n"
     ]
    },
    {
     "name": "stdout",
     "output_type": "stream",
     "text": [
      "eval psnr: 32.38\n"
     ]
    },
    {
     "name": "stderr",
     "output_type": "stream",
     "text": [
      "epoch: 67/199: 100%|██████████| 2688/2688 [00:03<00:00, 827.34it/s, loss=0.001348]\n"
     ]
    },
    {
     "name": "stdout",
     "output_type": "stream",
     "text": [
      "eval psnr: 32.39\n"
     ]
    },
    {
     "name": "stderr",
     "output_type": "stream",
     "text": [
      "epoch: 68/199: 100%|██████████| 2688/2688 [00:03<00:00, 842.13it/s, loss=0.001452]\n"
     ]
    },
    {
     "name": "stdout",
     "output_type": "stream",
     "text": [
      "eval psnr: 32.42\n"
     ]
    },
    {
     "name": "stderr",
     "output_type": "stream",
     "text": [
      "epoch: 69/199: 100%|██████████| 2688/2688 [00:03<00:00, 865.75it/s, loss=0.001344]\n"
     ]
    },
    {
     "name": "stdout",
     "output_type": "stream",
     "text": [
      "eval psnr: 32.44\n"
     ]
    },
    {
     "name": "stderr",
     "output_type": "stream",
     "text": [
      "epoch: 70/199: 100%|██████████| 2688/2688 [00:03<00:00, 858.83it/s, loss=0.001339]\n"
     ]
    },
    {
     "name": "stdout",
     "output_type": "stream",
     "text": [
      "eval psnr: 32.43\n"
     ]
    },
    {
     "name": "stderr",
     "output_type": "stream",
     "text": [
      "epoch: 71/199: 100%|██████████| 2688/2688 [00:03<00:00, 849.05it/s, loss=0.001333]\n"
     ]
    },
    {
     "name": "stdout",
     "output_type": "stream",
     "text": [
      "eval psnr: 32.47\n"
     ]
    },
    {
     "name": "stderr",
     "output_type": "stream",
     "text": [
      "epoch: 72/199: 100%|██████████| 2688/2688 [00:03<00:00, 840.02it/s, loss=0.001337]\n"
     ]
    },
    {
     "name": "stdout",
     "output_type": "stream",
     "text": [
      "eval psnr: 32.47\n"
     ]
    },
    {
     "name": "stderr",
     "output_type": "stream",
     "text": [
      "epoch: 73/199: 100%|██████████| 2688/2688 [00:03<00:00, 830.16it/s, loss=0.001347]\n"
     ]
    },
    {
     "name": "stdout",
     "output_type": "stream",
     "text": [
      "eval psnr: 32.49\n"
     ]
    },
    {
     "name": "stderr",
     "output_type": "stream",
     "text": [
      "epoch: 74/199: 100%|██████████| 2688/2688 [00:03<00:00, 822.02it/s, loss=0.001325]\n"
     ]
    },
    {
     "name": "stdout",
     "output_type": "stream",
     "text": [
      "eval psnr: 32.50\n"
     ]
    },
    {
     "name": "stderr",
     "output_type": "stream",
     "text": [
      "epoch: 75/199: 100%|██████████| 2688/2688 [00:03<00:00, 837.14it/s, loss=0.001328]\n"
     ]
    },
    {
     "name": "stdout",
     "output_type": "stream",
     "text": [
      "eval psnr: 32.00\n"
     ]
    },
    {
     "name": "stderr",
     "output_type": "stream",
     "text": [
      "epoch: 76/199: 100%|██████████| 2688/2688 [00:03<00:00, 830.41it/s, loss=0.001344]\n"
     ]
    },
    {
     "name": "stdout",
     "output_type": "stream",
     "text": [
      "eval psnr: 32.38\n"
     ]
    },
    {
     "name": "stderr",
     "output_type": "stream",
     "text": [
      "epoch: 77/199: 100%|██████████| 2688/2688 [00:03<00:00, 821.27it/s, loss=0.001338]\n"
     ]
    },
    {
     "name": "stdout",
     "output_type": "stream",
     "text": [
      "eval psnr: 31.18\n"
     ]
    },
    {
     "name": "stderr",
     "output_type": "stream",
     "text": [
      "epoch: 78/199: 100%|██████████| 2688/2688 [00:03<00:00, 824.55it/s, loss=0.001316]\n"
     ]
    },
    {
     "name": "stdout",
     "output_type": "stream",
     "text": [
      "eval psnr: 32.52\n"
     ]
    },
    {
     "name": "stderr",
     "output_type": "stream",
     "text": [
      "epoch: 79/199: 100%|██████████| 2688/2688 [00:03<00:00, 837.14it/s, loss=0.001407]\n"
     ]
    },
    {
     "name": "stdout",
     "output_type": "stream",
     "text": [
      "eval psnr: 32.59\n"
     ]
    },
    {
     "name": "stderr",
     "output_type": "stream",
     "text": [
      "epoch: 80/199: 100%|██████████| 2688/2688 [00:03<00:00, 829.42it/s, loss=0.001305]\n"
     ]
    },
    {
     "name": "stdout",
     "output_type": "stream",
     "text": [
      "eval psnr: 32.59\n"
     ]
    },
    {
     "name": "stderr",
     "output_type": "stream",
     "text": [
      "epoch: 81/199: 100%|██████████| 2688/2688 [00:03<00:00, 806.72it/s, loss=0.001298]\n"
     ]
    },
    {
     "name": "stdout",
     "output_type": "stream",
     "text": [
      "eval psnr: 32.64\n"
     ]
    },
    {
     "name": "stderr",
     "output_type": "stream",
     "text": [
      "epoch: 82/199: 100%|██████████| 2688/2688 [00:03<00:00, 824.04it/s, loss=0.001299]\n"
     ]
    },
    {
     "name": "stdout",
     "output_type": "stream",
     "text": [
      "eval psnr: 32.64\n"
     ]
    },
    {
     "name": "stderr",
     "output_type": "stream",
     "text": [
      "epoch: 83/199: 100%|██████████| 2688/2688 [00:03<00:00, 817.02it/s, loss=0.001297]\n"
     ]
    },
    {
     "name": "stdout",
     "output_type": "stream",
     "text": [
      "eval psnr: 32.46\n"
     ]
    },
    {
     "name": "stderr",
     "output_type": "stream",
     "text": [
      "epoch: 84/199: 100%|██████████| 2688/2688 [00:03<00:00, 820.77it/s, loss=0.001306]\n"
     ]
    },
    {
     "name": "stdout",
     "output_type": "stream",
     "text": [
      "eval psnr: 32.47\n"
     ]
    },
    {
     "name": "stderr",
     "output_type": "stream",
     "text": [
      "epoch: 85/199: 100%|██████████| 2688/2688 [00:03<00:00, 832.73it/s, loss=0.001306]\n"
     ]
    },
    {
     "name": "stdout",
     "output_type": "stream",
     "text": [
      "eval psnr: 28.63\n"
     ]
    },
    {
     "name": "stderr",
     "output_type": "stream",
     "text": [
      "epoch: 86/199: 100%|██████████| 2688/2688 [00:03<00:00, 824.04it/s, loss=0.001343]\n"
     ]
    },
    {
     "name": "stdout",
     "output_type": "stream",
     "text": [
      "eval psnr: 32.67\n"
     ]
    },
    {
     "name": "stderr",
     "output_type": "stream",
     "text": [
      "epoch: 87/199: 100%|██████████| 2688/2688 [00:03<00:00, 832.99it/s, loss=0.001291]\n"
     ]
    },
    {
     "name": "stdout",
     "output_type": "stream",
     "text": [
      "eval psnr: 32.43\n"
     ]
    },
    {
     "name": "stderr",
     "output_type": "stream",
     "text": [
      "epoch: 88/199: 100%|██████████| 2688/2688 [00:03<00:00, 837.14it/s, loss=0.001285]\n"
     ]
    },
    {
     "name": "stdout",
     "output_type": "stream",
     "text": [
      "eval psnr: 32.66\n"
     ]
    },
    {
     "name": "stderr",
     "output_type": "stream",
     "text": [
      "epoch: 89/199: 100%|██████████| 2688/2688 [00:03<00:00, 825.82it/s, loss=0.001295]\n"
     ]
    },
    {
     "name": "stdout",
     "output_type": "stream",
     "text": [
      "eval psnr: 32.50\n"
     ]
    },
    {
     "name": "stderr",
     "output_type": "stream",
     "text": [
      "epoch: 90/199: 100%|██████████| 2688/2688 [00:03<00:00, 818.77it/s, loss=0.001284]\n"
     ]
    },
    {
     "name": "stdout",
     "output_type": "stream",
     "text": [
      "eval psnr: 32.69\n"
     ]
    },
    {
     "name": "stderr",
     "output_type": "stream",
     "text": [
      "epoch: 91/199: 100%|██████████| 2688/2688 [00:03<00:00, 827.09it/s, loss=0.001307]\n"
     ]
    },
    {
     "name": "stdout",
     "output_type": "stream",
     "text": [
      "eval psnr: 32.71\n"
     ]
    },
    {
     "name": "stderr",
     "output_type": "stream",
     "text": [
      "epoch: 92/199: 100%|██████████| 2688/2688 [00:03<00:00, 830.41it/s, loss=0.001277]\n"
     ]
    },
    {
     "name": "stdout",
     "output_type": "stream",
     "text": [
      "eval psnr: 32.69\n"
     ]
    },
    {
     "name": "stderr",
     "output_type": "stream",
     "text": [
      "epoch: 93/199: 100%|██████████| 2688/2688 [00:03<00:00, 825.06it/s, loss=0.001284]\n"
     ]
    },
    {
     "name": "stdout",
     "output_type": "stream",
     "text": [
      "eval psnr: 32.71\n"
     ]
    },
    {
     "name": "stderr",
     "output_type": "stream",
     "text": [
      "epoch: 94/199: 100%|██████████| 2688/2688 [00:03<00:00, 829.90it/s, loss=0.001351]\n"
     ]
    },
    {
     "name": "stdout",
     "output_type": "stream",
     "text": [
      "eval psnr: 30.40\n"
     ]
    },
    {
     "name": "stderr",
     "output_type": "stream",
     "text": [
      "epoch: 95/199: 100%|██████████| 2688/2688 [00:03<00:00, 827.85it/s, loss=0.001279]\n"
     ]
    },
    {
     "name": "stdout",
     "output_type": "stream",
     "text": [
      "eval psnr: 32.70\n"
     ]
    },
    {
     "name": "stderr",
     "output_type": "stream",
     "text": [
      "epoch: 96/199: 100%|██████████| 2688/2688 [00:03<00:00, 820.27it/s, loss=0.001268]\n"
     ]
    },
    {
     "name": "stdout",
     "output_type": "stream",
     "text": [
      "eval psnr: 32.73\n"
     ]
    },
    {
     "name": "stderr",
     "output_type": "stream",
     "text": [
      "epoch: 97/199: 100%|██████████| 2688/2688 [00:03<00:00, 832.73it/s, loss=0.001271]\n"
     ]
    },
    {
     "name": "stdout",
     "output_type": "stream",
     "text": [
      "eval psnr: 32.69\n"
     ]
    },
    {
     "name": "stderr",
     "output_type": "stream",
     "text": [
      "epoch: 98/199: 100%|██████████| 2688/2688 [00:03<00:00, 828.36it/s, loss=0.001275]\n"
     ]
    },
    {
     "name": "stdout",
     "output_type": "stream",
     "text": [
      "eval psnr: 32.73\n"
     ]
    },
    {
     "name": "stderr",
     "output_type": "stream",
     "text": [
      "epoch: 99/199: 100%|██████████| 2688/2688 [00:03<00:00, 819.27it/s, loss=0.001273]\n"
     ]
    },
    {
     "name": "stdout",
     "output_type": "stream",
     "text": [
      "eval psnr: 32.44\n"
     ]
    },
    {
     "name": "stderr",
     "output_type": "stream",
     "text": [
      "epoch: 100/199: 100%|██████████| 2688/2688 [00:03<00:00, 825.06it/s, loss=0.001276]\n"
     ]
    },
    {
     "name": "stdout",
     "output_type": "stream",
     "text": [
      "eval psnr: 32.70\n"
     ]
    },
    {
     "name": "stderr",
     "output_type": "stream",
     "text": [
      "epoch: 101/199: 100%|██████████| 2688/2688 [00:03<00:00, 828.36it/s, loss=0.001285]\n"
     ]
    },
    {
     "name": "stdout",
     "output_type": "stream",
     "text": [
      "eval psnr: 32.75\n"
     ]
    },
    {
     "name": "stderr",
     "output_type": "stream",
     "text": [
      "epoch: 102/199: 100%|██████████| 2688/2688 [00:03<00:00, 821.52it/s, loss=0.001319]\n"
     ]
    },
    {
     "name": "stdout",
     "output_type": "stream",
     "text": [
      "eval psnr: 32.49\n"
     ]
    },
    {
     "name": "stderr",
     "output_type": "stream",
     "text": [
      "epoch: 103/199: 100%|██████████| 2688/2688 [00:03<00:00, 829.90it/s, loss=0.001276]\n"
     ]
    },
    {
     "name": "stdout",
     "output_type": "stream",
     "text": [
      "eval psnr: 32.76\n"
     ]
    },
    {
     "name": "stderr",
     "output_type": "stream",
     "text": [
      "epoch: 104/199: 100%|██████████| 2688/2688 [00:03<00:00, 832.73it/s, loss=0.001260]\n"
     ]
    },
    {
     "name": "stdout",
     "output_type": "stream",
     "text": [
      "eval psnr: 32.77\n"
     ]
    },
    {
     "name": "stderr",
     "output_type": "stream",
     "text": [
      "epoch: 105/199: 100%|██████████| 2688/2688 [00:03<00:00, 821.77it/s, loss=0.001262]\n"
     ]
    },
    {
     "name": "stdout",
     "output_type": "stream",
     "text": [
      "eval psnr: 32.74\n"
     ]
    },
    {
     "name": "stderr",
     "output_type": "stream",
     "text": [
      "epoch: 106/199: 100%|██████████| 2688/2688 [00:03<00:00, 828.88it/s, loss=0.001258]\n"
     ]
    },
    {
     "name": "stdout",
     "output_type": "stream",
     "text": [
      "eval psnr: 32.75\n"
     ]
    },
    {
     "name": "stderr",
     "output_type": "stream",
     "text": [
      "epoch: 107/199: 100%|██████████| 2688/2688 [00:03<00:00, 832.99it/s, loss=0.001264]\n"
     ]
    },
    {
     "name": "stdout",
     "output_type": "stream",
     "text": [
      "eval psnr: 32.73\n"
     ]
    },
    {
     "name": "stderr",
     "output_type": "stream",
     "text": [
      "epoch: 108/199: 100%|██████████| 2688/2688 [00:03<00:00, 820.52it/s, loss=0.001315]\n"
     ]
    },
    {
     "name": "stdout",
     "output_type": "stream",
     "text": [
      "eval psnr: 32.79\n"
     ]
    },
    {
     "name": "stderr",
     "output_type": "stream",
     "text": [
      "epoch: 109/199: 100%|██████████| 2688/2688 [00:03<00:00, 822.03it/s, loss=0.001257]\n"
     ]
    },
    {
     "name": "stdout",
     "output_type": "stream",
     "text": [
      "eval psnr: 32.77\n"
     ]
    },
    {
     "name": "stderr",
     "output_type": "stream",
     "text": [
      "epoch: 110/199: 100%|██████████| 2688/2688 [00:03<00:00, 820.52it/s, loss=0.001256]\n"
     ]
    },
    {
     "name": "stdout",
     "output_type": "stream",
     "text": [
      "eval psnr: 32.77\n"
     ]
    },
    {
     "name": "stderr",
     "output_type": "stream",
     "text": [
      "epoch: 111/199: 100%|██████████| 2688/2688 [00:03<00:00, 826.58it/s, loss=0.001263]\n"
     ]
    },
    {
     "name": "stdout",
     "output_type": "stream",
     "text": [
      "eval psnr: 32.77\n"
     ]
    },
    {
     "name": "stderr",
     "output_type": "stream",
     "text": [
      "epoch: 112/199: 100%|██████████| 2688/2688 [00:03<00:00, 818.27it/s, loss=0.001260]\n"
     ]
    },
    {
     "name": "stdout",
     "output_type": "stream",
     "text": [
      "eval psnr: 32.80\n"
     ]
    },
    {
     "name": "stderr",
     "output_type": "stream",
     "text": [
      "epoch: 113/199: 100%|██████████| 2688/2688 [00:03<00:00, 819.77it/s, loss=0.001262]\n"
     ]
    },
    {
     "name": "stdout",
     "output_type": "stream",
     "text": [
      "eval psnr: 32.80\n"
     ]
    },
    {
     "name": "stderr",
     "output_type": "stream",
     "text": [
      "epoch: 114/199: 100%|██████████| 2688/2688 [00:03<00:00, 817.27it/s, loss=0.001254]\n"
     ]
    },
    {
     "name": "stdout",
     "output_type": "stream",
     "text": [
      "eval psnr: 32.80\n"
     ]
    },
    {
     "name": "stderr",
     "output_type": "stream",
     "text": [
      "epoch: 115/199: 100%|██████████| 2688/2688 [00:03<00:00, 827.85it/s, loss=0.001250]\n"
     ]
    },
    {
     "name": "stdout",
     "output_type": "stream",
     "text": [
      "eval psnr: 32.78\n"
     ]
    },
    {
     "name": "stderr",
     "output_type": "stream",
     "text": [
      "epoch: 116/199: 100%|██████████| 2688/2688 [00:03<00:00, 832.73it/s, loss=0.001295]\n"
     ]
    },
    {
     "name": "stdout",
     "output_type": "stream",
     "text": [
      "eval psnr: 32.83\n"
     ]
    },
    {
     "name": "stderr",
     "output_type": "stream",
     "text": [
      "epoch: 117/199: 100%|██████████| 2688/2688 [00:03<00:00, 812.08it/s, loss=0.001244]\n"
     ]
    },
    {
     "name": "stdout",
     "output_type": "stream",
     "text": [
      "eval psnr: 32.83\n"
     ]
    },
    {
     "name": "stderr",
     "output_type": "stream",
     "text": [
      "epoch: 118/199: 100%|██████████| 2688/2688 [00:03<00:00, 826.83it/s, loss=0.001249]\n"
     ]
    },
    {
     "name": "stdout",
     "output_type": "stream",
     "text": [
      "eval psnr: 32.82\n"
     ]
    },
    {
     "name": "stderr",
     "output_type": "stream",
     "text": [
      "epoch: 119/199: 100%|██████████| 2688/2688 [00:03<00:00, 833.51it/s, loss=0.001252]\n"
     ]
    },
    {
     "name": "stdout",
     "output_type": "stream",
     "text": [
      "eval psnr: 32.83\n"
     ]
    },
    {
     "name": "stderr",
     "output_type": "stream",
     "text": [
      "epoch: 120/199: 100%|██████████| 2688/2688 [00:03<00:00, 826.83it/s, loss=0.001258]\n"
     ]
    },
    {
     "name": "stdout",
     "output_type": "stream",
     "text": [
      "eval psnr: 32.82\n"
     ]
    },
    {
     "name": "stderr",
     "output_type": "stream",
     "text": [
      "epoch: 121/199: 100%|██████████| 2688/2688 [00:03<00:00, 821.77it/s, loss=0.001266]\n"
     ]
    },
    {
     "name": "stdout",
     "output_type": "stream",
     "text": [
      "eval psnr: 32.69\n"
     ]
    },
    {
     "name": "stderr",
     "output_type": "stream",
     "text": [
      "epoch: 122/199: 100%|██████████| 2688/2688 [00:03<00:00, 829.13it/s, loss=0.001269]\n"
     ]
    },
    {
     "name": "stdout",
     "output_type": "stream",
     "text": [
      "eval psnr: 31.47\n"
     ]
    },
    {
     "name": "stderr",
     "output_type": "stream",
     "text": [
      "epoch: 123/199: 100%|██████████| 2688/2688 [00:03<00:00, 825.82it/s, loss=0.001245]\n"
     ]
    },
    {
     "name": "stdout",
     "output_type": "stream",
     "text": [
      "eval psnr: 32.85\n"
     ]
    },
    {
     "name": "stderr",
     "output_type": "stream",
     "text": [
      "epoch: 124/199: 100%|██████████| 2688/2688 [00:03<00:00, 826.58it/s, loss=0.001242]\n"
     ]
    },
    {
     "name": "stdout",
     "output_type": "stream",
     "text": [
      "eval psnr: 32.82\n"
     ]
    },
    {
     "name": "stderr",
     "output_type": "stream",
     "text": [
      "epoch: 125/199: 100%|██████████| 2688/2688 [00:03<00:00, 834.02it/s, loss=0.001241]\n"
     ]
    },
    {
     "name": "stdout",
     "output_type": "stream",
     "text": [
      "eval psnr: 32.86\n"
     ]
    },
    {
     "name": "stderr",
     "output_type": "stream",
     "text": [
      "epoch: 126/199: 100%|██████████| 2688/2688 [00:03<00:00, 828.36it/s, loss=0.001250]\n"
     ]
    },
    {
     "name": "stdout",
     "output_type": "stream",
     "text": [
      "eval psnr: 32.47\n"
     ]
    },
    {
     "name": "stderr",
     "output_type": "stream",
     "text": [
      "epoch: 127/199: 100%|██████████| 2688/2688 [00:03<00:00, 821.27it/s, loss=0.001241]\n"
     ]
    },
    {
     "name": "stdout",
     "output_type": "stream",
     "text": [
      "eval psnr: 32.68\n"
     ]
    },
    {
     "name": "stderr",
     "output_type": "stream",
     "text": [
      "epoch: 128/199: 100%|██████████| 2688/2688 [00:03<00:00, 835.58it/s, loss=0.001278]\n"
     ]
    },
    {
     "name": "stdout",
     "output_type": "stream",
     "text": [
      "eval psnr: 30.37\n"
     ]
    },
    {
     "name": "stderr",
     "output_type": "stream",
     "text": [
      "epoch: 129/199: 100%|██████████| 2688/2688 [00:03<00:00, 824.80it/s, loss=0.001247]\n"
     ]
    },
    {
     "name": "stdout",
     "output_type": "stream",
     "text": [
      "eval psnr: 32.85\n"
     ]
    },
    {
     "name": "stderr",
     "output_type": "stream",
     "text": [
      "epoch: 130/199: 100%|██████████| 2688/2688 [00:03<00:00, 831.70it/s, loss=0.001237]\n"
     ]
    },
    {
     "name": "stdout",
     "output_type": "stream",
     "text": [
      "eval psnr: 32.86\n"
     ]
    },
    {
     "name": "stderr",
     "output_type": "stream",
     "text": [
      "epoch: 131/199: 100%|██████████| 2688/2688 [00:03<00:00, 830.16it/s, loss=0.001233]\n"
     ]
    },
    {
     "name": "stdout",
     "output_type": "stream",
     "text": [
      "eval psnr: 32.81\n"
     ]
    },
    {
     "name": "stderr",
     "output_type": "stream",
     "text": [
      "epoch: 132/199: 100%|██████████| 2688/2688 [00:03<00:00, 823.29it/s, loss=0.001238]\n"
     ]
    },
    {
     "name": "stdout",
     "output_type": "stream",
     "text": [
      "eval psnr: 32.85\n"
     ]
    },
    {
     "name": "stderr",
     "output_type": "stream",
     "text": [
      "epoch: 133/199: 100%|██████████| 2688/2688 [00:03<00:00, 827.09it/s, loss=0.001291]\n"
     ]
    },
    {
     "name": "stdout",
     "output_type": "stream",
     "text": [
      "eval psnr: 32.81\n"
     ]
    },
    {
     "name": "stderr",
     "output_type": "stream",
     "text": [
      "epoch: 134/199: 100%|██████████| 2688/2688 [00:03<00:00, 822.03it/s, loss=0.001234]\n"
     ]
    },
    {
     "name": "stdout",
     "output_type": "stream",
     "text": [
      "eval psnr: 32.85\n"
     ]
    },
    {
     "name": "stderr",
     "output_type": "stream",
     "text": [
      "epoch: 135/199: 100%|██████████| 2688/2688 [00:03<00:00, 831.18it/s, loss=0.001228]\n"
     ]
    },
    {
     "name": "stdout",
     "output_type": "stream",
     "text": [
      "eval psnr: 32.83\n"
     ]
    },
    {
     "name": "stderr",
     "output_type": "stream",
     "text": [
      "epoch: 136/199: 100%|██████████| 2688/2688 [00:03<00:00, 820.02it/s, loss=0.001226]\n"
     ]
    },
    {
     "name": "stdout",
     "output_type": "stream",
     "text": [
      "eval psnr: 32.76\n"
     ]
    },
    {
     "name": "stderr",
     "output_type": "stream",
     "text": [
      "epoch: 137/199: 100%|██████████| 2688/2688 [00:03<00:00, 834.54it/s, loss=0.001233]\n"
     ]
    },
    {
     "name": "stdout",
     "output_type": "stream",
     "text": [
      "eval psnr: 32.87\n"
     ]
    },
    {
     "name": "stderr",
     "output_type": "stream",
     "text": [
      "epoch: 138/199: 100%|██████████| 2688/2688 [00:03<00:00, 821.02it/s, loss=0.001273]\n"
     ]
    },
    {
     "name": "stdout",
     "output_type": "stream",
     "text": [
      "eval psnr: 31.09\n"
     ]
    },
    {
     "name": "stderr",
     "output_type": "stream",
     "text": [
      "epoch: 139/199: 100%|██████████| 2688/2688 [00:03<00:00, 818.77it/s, loss=0.001237]\n"
     ]
    },
    {
     "name": "stdout",
     "output_type": "stream",
     "text": [
      "eval psnr: 32.90\n"
     ]
    },
    {
     "name": "stderr",
     "output_type": "stream",
     "text": [
      "epoch: 140/199: 100%|██████████| 2688/2688 [00:03<00:00, 834.28it/s, loss=0.001228]\n"
     ]
    },
    {
     "name": "stdout",
     "output_type": "stream",
     "text": [
      "eval psnr: 32.88\n"
     ]
    },
    {
     "name": "stderr",
     "output_type": "stream",
     "text": [
      "epoch: 141/199: 100%|██████████| 2688/2688 [00:03<00:00, 813.07it/s, loss=0.001225]\n"
     ]
    },
    {
     "name": "stdout",
     "output_type": "stream",
     "text": [
      "eval psnr: 32.83\n"
     ]
    },
    {
     "name": "stderr",
     "output_type": "stream",
     "text": [
      "epoch: 142/199: 100%|██████████| 2688/2688 [00:03<00:00, 823.79it/s, loss=0.001231]\n"
     ]
    },
    {
     "name": "stdout",
     "output_type": "stream",
     "text": [
      "eval psnr: 32.87\n"
     ]
    },
    {
     "name": "stderr",
     "output_type": "stream",
     "text": [
      "epoch: 143/199: 100%|██████████| 2688/2688 [00:03<00:00, 825.31it/s, loss=0.001236]\n"
     ]
    },
    {
     "name": "stdout",
     "output_type": "stream",
     "text": [
      "eval psnr: 32.91\n"
     ]
    },
    {
     "name": "stderr",
     "output_type": "stream",
     "text": [
      "epoch: 144/199: 100%|██████████| 2688/2688 [00:03<00:00, 821.27it/s, loss=0.001225]\n"
     ]
    },
    {
     "name": "stdout",
     "output_type": "stream",
     "text": [
      "eval psnr: 32.90\n"
     ]
    },
    {
     "name": "stderr",
     "output_type": "stream",
     "text": [
      "epoch: 145/199: 100%|██████████| 2688/2688 [00:03<00:00, 830.93it/s, loss=0.001227]\n"
     ]
    },
    {
     "name": "stdout",
     "output_type": "stream",
     "text": [
      "eval psnr: 32.59\n"
     ]
    },
    {
     "name": "stderr",
     "output_type": "stream",
     "text": [
      "epoch: 146/199: 100%|██████████| 2688/2688 [00:03<00:00, 824.55it/s, loss=0.001254]\n"
     ]
    },
    {
     "name": "stdout",
     "output_type": "stream",
     "text": [
      "eval psnr: 32.89\n"
     ]
    },
    {
     "name": "stderr",
     "output_type": "stream",
     "text": [
      "epoch: 147/199: 100%|██████████| 2688/2688 [00:03<00:00, 832.47it/s, loss=0.001225]\n"
     ]
    },
    {
     "name": "stdout",
     "output_type": "stream",
     "text": [
      "eval psnr: 32.85\n"
     ]
    },
    {
     "name": "stderr",
     "output_type": "stream",
     "text": [
      "epoch: 148/199: 100%|██████████| 2688/2688 [00:03<00:00, 824.04it/s, loss=0.001263]\n"
     ]
    },
    {
     "name": "stdout",
     "output_type": "stream",
     "text": [
      "eval psnr: 32.93\n"
     ]
    },
    {
     "name": "stderr",
     "output_type": "stream",
     "text": [
      "epoch: 149/199: 100%|██████████| 2688/2688 [00:03<00:00, 820.77it/s, loss=0.001218]\n"
     ]
    },
    {
     "name": "stdout",
     "output_type": "stream",
     "text": [
      "eval psnr: 32.86\n"
     ]
    },
    {
     "name": "stderr",
     "output_type": "stream",
     "text": [
      "epoch: 150/199: 100%|██████████| 2688/2688 [00:03<00:00, 829.39it/s, loss=0.001219]\n"
     ]
    },
    {
     "name": "stdout",
     "output_type": "stream",
     "text": [
      "eval psnr: 32.90\n"
     ]
    },
    {
     "name": "stderr",
     "output_type": "stream",
     "text": [
      "epoch: 151/199: 100%|██████████| 2688/2688 [00:03<00:00, 819.77it/s, loss=0.001219]\n"
     ]
    },
    {
     "name": "stdout",
     "output_type": "stream",
     "text": [
      "eval psnr: 32.89\n"
     ]
    },
    {
     "name": "stderr",
     "output_type": "stream",
     "text": [
      "epoch: 152/199: 100%|██████████| 2688/2688 [00:03<00:00, 830.16it/s, loss=0.001229]\n"
     ]
    },
    {
     "name": "stdout",
     "output_type": "stream",
     "text": [
      "eval psnr: 32.93\n"
     ]
    },
    {
     "name": "stderr",
     "output_type": "stream",
     "text": [
      "epoch: 153/199: 100%|██████████| 2688/2688 [00:03<00:00, 824.04it/s, loss=0.001227]\n"
     ]
    },
    {
     "name": "stdout",
     "output_type": "stream",
     "text": [
      "eval psnr: 32.70\n"
     ]
    },
    {
     "name": "stderr",
     "output_type": "stream",
     "text": [
      "epoch: 154/199: 100%|██████████| 2688/2688 [00:03<00:00, 827.60it/s, loss=0.001218]\n"
     ]
    },
    {
     "name": "stdout",
     "output_type": "stream",
     "text": [
      "eval psnr: 32.87\n"
     ]
    },
    {
     "name": "stderr",
     "output_type": "stream",
     "text": [
      "epoch: 155/199: 100%|██████████| 2688/2688 [00:03<00:00, 826.83it/s, loss=0.001230]\n"
     ]
    },
    {
     "name": "stdout",
     "output_type": "stream",
     "text": [
      "eval psnr: 32.49\n"
     ]
    },
    {
     "name": "stderr",
     "output_type": "stream",
     "text": [
      "epoch: 156/199: 100%|██████████| 2688/2688 [00:03<00:00, 822.28it/s, loss=0.001248]\n"
     ]
    },
    {
     "name": "stdout",
     "output_type": "stream",
     "text": [
      "eval psnr: 32.90\n"
     ]
    },
    {
     "name": "stderr",
     "output_type": "stream",
     "text": [
      "epoch: 157/199: 100%|██████████| 2688/2688 [00:03<00:00, 829.90it/s, loss=0.001213]\n"
     ]
    },
    {
     "name": "stdout",
     "output_type": "stream",
     "text": [
      "eval psnr: 32.94\n"
     ]
    },
    {
     "name": "stderr",
     "output_type": "stream",
     "text": [
      "epoch: 158/199: 100%|██████████| 2688/2688 [00:03<00:00, 821.52it/s, loss=0.001221]\n"
     ]
    },
    {
     "name": "stdout",
     "output_type": "stream",
     "text": [
      "eval psnr: 32.92\n"
     ]
    },
    {
     "name": "stderr",
     "output_type": "stream",
     "text": [
      "epoch: 159/199: 100%|██████████| 2688/2688 [00:03<00:00, 831.61it/s, loss=0.001217]\n"
     ]
    },
    {
     "name": "stdout",
     "output_type": "stream",
     "text": [
      "eval psnr: 32.94\n"
     ]
    },
    {
     "name": "stderr",
     "output_type": "stream",
     "text": [
      "epoch: 160/199: 100%|██████████| 2688/2688 [00:03<00:00, 821.02it/s, loss=0.001264]\n"
     ]
    },
    {
     "name": "stdout",
     "output_type": "stream",
     "text": [
      "eval psnr: 32.91\n"
     ]
    },
    {
     "name": "stderr",
     "output_type": "stream",
     "text": [
      "epoch: 161/199: 100%|██████████| 2688/2688 [00:03<00:00, 819.77it/s, loss=0.001216]\n"
     ]
    },
    {
     "name": "stdout",
     "output_type": "stream",
     "text": [
      "eval psnr: 32.95\n"
     ]
    },
    {
     "name": "stderr",
     "output_type": "stream",
     "text": [
      "epoch: 162/199: 100%|██████████| 2688/2688 [00:03<00:00, 830.41it/s, loss=0.001210]\n"
     ]
    },
    {
     "name": "stdout",
     "output_type": "stream",
     "text": [
      "eval psnr: 32.93\n"
     ]
    },
    {
     "name": "stderr",
     "output_type": "stream",
     "text": [
      "epoch: 163/199: 100%|██████████| 2688/2688 [00:03<00:00, 817.52it/s, loss=0.001211]\n"
     ]
    },
    {
     "name": "stdout",
     "output_type": "stream",
     "text": [
      "eval psnr: 32.89\n"
     ]
    },
    {
     "name": "stderr",
     "output_type": "stream",
     "text": [
      "epoch: 164/199: 100%|██████████| 2688/2688 [00:03<00:00, 825.56it/s, loss=0.001215]\n"
     ]
    },
    {
     "name": "stdout",
     "output_type": "stream",
     "text": [
      "eval psnr: 32.89\n"
     ]
    },
    {
     "name": "stderr",
     "output_type": "stream",
     "text": [
      "epoch: 165/199: 100%|██████████| 2688/2688 [00:03<00:00, 827.60it/s, loss=0.001228]\n"
     ]
    },
    {
     "name": "stdout",
     "output_type": "stream",
     "text": [
      "eval psnr: 32.72\n"
     ]
    },
    {
     "name": "stderr",
     "output_type": "stream",
     "text": [
      "epoch: 166/199: 100%|██████████| 2688/2688 [00:03<00:00, 830.16it/s, loss=0.001233]\n"
     ]
    },
    {
     "name": "stdout",
     "output_type": "stream",
     "text": [
      "eval psnr: 32.81\n"
     ]
    },
    {
     "name": "stderr",
     "output_type": "stream",
     "text": [
      "epoch: 167/199: 100%|██████████| 2688/2688 [00:03<00:00, 821.52it/s, loss=0.001212]\n"
     ]
    },
    {
     "name": "stdout",
     "output_type": "stream",
     "text": [
      "eval psnr: 32.94\n"
     ]
    },
    {
     "name": "stderr",
     "output_type": "stream",
     "text": [
      "epoch: 168/199: 100%|██████████| 2688/2688 [00:03<00:00, 814.79it/s, loss=0.001222]\n"
     ]
    },
    {
     "name": "stdout",
     "output_type": "stream",
     "text": [
      "eval psnr: 32.96\n"
     ]
    },
    {
     "name": "stderr",
     "output_type": "stream",
     "text": [
      "epoch: 169/199: 100%|██████████| 2688/2688 [00:03<00:00, 829.90it/s, loss=0.001209]\n"
     ]
    },
    {
     "name": "stdout",
     "output_type": "stream",
     "text": [
      "eval psnr: 32.95\n"
     ]
    },
    {
     "name": "stderr",
     "output_type": "stream",
     "text": [
      "epoch: 170/199: 100%|██████████| 2688/2688 [00:03<00:00, 825.06it/s, loss=0.001208]\n"
     ]
    },
    {
     "name": "stdout",
     "output_type": "stream",
     "text": [
      "eval psnr: 32.80\n"
     ]
    },
    {
     "name": "stderr",
     "output_type": "stream",
     "text": [
      "epoch: 171/199: 100%|██████████| 2688/2688 [00:03<00:00, 828.11it/s, loss=0.001210]\n"
     ]
    },
    {
     "name": "stdout",
     "output_type": "stream",
     "text": [
      "eval psnr: 32.91\n"
     ]
    },
    {
     "name": "stderr",
     "output_type": "stream",
     "text": [
      "epoch: 172/199: 100%|██████████| 2688/2688 [00:03<00:00, 821.77it/s, loss=0.001208]\n"
     ]
    },
    {
     "name": "stdout",
     "output_type": "stream",
     "text": [
      "eval psnr: 32.93\n"
     ]
    },
    {
     "name": "stderr",
     "output_type": "stream",
     "text": [
      "epoch: 173/199: 100%|██████████| 2688/2688 [00:03<00:00, 820.27it/s, loss=0.001308]\n"
     ]
    },
    {
     "name": "stdout",
     "output_type": "stream",
     "text": [
      "eval psnr: 32.63\n"
     ]
    },
    {
     "name": "stderr",
     "output_type": "stream",
     "text": [
      "epoch: 174/199: 100%|██████████| 2688/2688 [00:03<00:00, 836.62it/s, loss=0.001209]\n"
     ]
    },
    {
     "name": "stdout",
     "output_type": "stream",
     "text": [
      "eval psnr: 32.97\n"
     ]
    },
    {
     "name": "stderr",
     "output_type": "stream",
     "text": [
      "epoch: 175/199: 100%|██████████| 2688/2688 [00:03<00:00, 822.78it/s, loss=0.001202]\n"
     ]
    },
    {
     "name": "stdout",
     "output_type": "stream",
     "text": [
      "eval psnr: 32.95\n"
     ]
    },
    {
     "name": "stderr",
     "output_type": "stream",
     "text": [
      "epoch: 176/199: 100%|██████████| 2688/2688 [00:03<00:00, 821.52it/s, loss=0.001201]\n"
     ]
    },
    {
     "name": "stdout",
     "output_type": "stream",
     "text": [
      "eval psnr: 32.96\n"
     ]
    },
    {
     "name": "stderr",
     "output_type": "stream",
     "text": [
      "epoch: 177/199: 100%|██████████| 2688/2688 [00:03<00:00, 822.03it/s, loss=0.001203]\n"
     ]
    },
    {
     "name": "stdout",
     "output_type": "stream",
     "text": [
      "eval psnr: 32.94\n"
     ]
    },
    {
     "name": "stderr",
     "output_type": "stream",
     "text": [
      "epoch: 178/199: 100%|██████████| 2688/2688 [00:03<00:00, 825.06it/s, loss=0.001210]\n"
     ]
    },
    {
     "name": "stdout",
     "output_type": "stream",
     "text": [
      "eval psnr: 32.93\n"
     ]
    },
    {
     "name": "stderr",
     "output_type": "stream",
     "text": [
      "epoch: 179/199: 100%|██████████| 2688/2688 [00:03<00:00, 819.77it/s, loss=0.001201]\n"
     ]
    },
    {
     "name": "stdout",
     "output_type": "stream",
     "text": [
      "eval psnr: 32.92\n"
     ]
    },
    {
     "name": "stderr",
     "output_type": "stream",
     "text": [
      "epoch: 180/199: 100%|██████████| 2688/2688 [00:03<00:00, 819.02it/s, loss=0.001202]\n"
     ]
    },
    {
     "name": "stdout",
     "output_type": "stream",
     "text": [
      "eval psnr: 32.98\n"
     ]
    },
    {
     "name": "stderr",
     "output_type": "stream",
     "text": [
      "epoch: 181/199: 100%|██████████| 2688/2688 [00:03<00:00, 822.53it/s, loss=0.001206]\n"
     ]
    },
    {
     "name": "stdout",
     "output_type": "stream",
     "text": [
      "eval psnr: 32.97\n"
     ]
    },
    {
     "name": "stderr",
     "output_type": "stream",
     "text": [
      "epoch: 182/199: 100%|██████████| 2688/2688 [00:03<00:00, 817.52it/s, loss=0.001206]\n"
     ]
    },
    {
     "name": "stdout",
     "output_type": "stream",
     "text": [
      "eval psnr: 32.90\n"
     ]
    },
    {
     "name": "stderr",
     "output_type": "stream",
     "text": [
      "epoch: 183/199: 100%|██████████| 2688/2688 [00:03<00:00, 835.06it/s, loss=0.001210]\n"
     ]
    },
    {
     "name": "stdout",
     "output_type": "stream",
     "text": [
      "eval psnr: 32.95\n"
     ]
    },
    {
     "name": "stderr",
     "output_type": "stream",
     "text": [
      "epoch: 184/199: 100%|██████████| 2688/2688 [00:03<00:00, 825.82it/s, loss=0.001207]\n"
     ]
    },
    {
     "name": "stdout",
     "output_type": "stream",
     "text": [
      "eval psnr: 32.96\n"
     ]
    },
    {
     "name": "stderr",
     "output_type": "stream",
     "text": [
      "epoch: 185/199: 100%|██████████| 2688/2688 [00:03<00:00, 821.27it/s, loss=0.001206]\n"
     ]
    },
    {
     "name": "stdout",
     "output_type": "stream",
     "text": [
      "eval psnr: 32.89\n"
     ]
    },
    {
     "name": "stderr",
     "output_type": "stream",
     "text": [
      "epoch: 186/199: 100%|██████████| 2688/2688 [00:03<00:00, 828.36it/s, loss=0.001396]\n"
     ]
    },
    {
     "name": "stdout",
     "output_type": "stream",
     "text": [
      "eval psnr: 32.95\n"
     ]
    },
    {
     "name": "stderr",
     "output_type": "stream",
     "text": [
      "epoch: 187/199: 100%|██████████| 2688/2688 [00:03<00:00, 821.77it/s, loss=0.001201]\n"
     ]
    },
    {
     "name": "stdout",
     "output_type": "stream",
     "text": [
      "eval psnr: 32.96\n"
     ]
    },
    {
     "name": "stderr",
     "output_type": "stream",
     "text": [
      "epoch: 188/199: 100%|██████████| 2688/2688 [00:03<00:00, 826.07it/s, loss=0.001198]\n"
     ]
    },
    {
     "name": "stdout",
     "output_type": "stream",
     "text": [
      "eval psnr: 33.01\n"
     ]
    },
    {
     "name": "stderr",
     "output_type": "stream",
     "text": [
      "epoch: 189/199: 100%|██████████| 2688/2688 [00:03<00:00, 821.27it/s, loss=0.001190]\n"
     ]
    },
    {
     "name": "stdout",
     "output_type": "stream",
     "text": [
      "eval psnr: 33.00\n"
     ]
    },
    {
     "name": "stderr",
     "output_type": "stream",
     "text": [
      "epoch: 190/199: 100%|██████████| 2688/2688 [00:03<00:00, 825.31it/s, loss=0.001197]\n"
     ]
    },
    {
     "name": "stdout",
     "output_type": "stream",
     "text": [
      "eval psnr: 33.00\n"
     ]
    },
    {
     "name": "stderr",
     "output_type": "stream",
     "text": [
      "epoch: 191/199: 100%|██████████| 2688/2688 [00:03<00:00, 824.80it/s, loss=0.001195]\n"
     ]
    },
    {
     "name": "stdout",
     "output_type": "stream",
     "text": [
      "eval psnr: 33.00\n"
     ]
    },
    {
     "name": "stderr",
     "output_type": "stream",
     "text": [
      "epoch: 192/199: 100%|██████████| 2688/2688 [00:03<00:00, 822.03it/s, loss=0.001197]\n"
     ]
    },
    {
     "name": "stdout",
     "output_type": "stream",
     "text": [
      "eval psnr: 32.97\n"
     ]
    },
    {
     "name": "stderr",
     "output_type": "stream",
     "text": [
      "epoch: 193/199: 100%|██████████| 2688/2688 [00:03<00:00, 831.44it/s, loss=0.001194]\n"
     ]
    },
    {
     "name": "stdout",
     "output_type": "stream",
     "text": [
      "eval psnr: 32.99\n"
     ]
    },
    {
     "name": "stderr",
     "output_type": "stream",
     "text": [
      "epoch: 194/199: 100%|██████████| 2688/2688 [00:03<00:00, 816.03it/s, loss=0.001199]\n"
     ]
    },
    {
     "name": "stdout",
     "output_type": "stream",
     "text": [
      "eval psnr: 32.99\n"
     ]
    },
    {
     "name": "stderr",
     "output_type": "stream",
     "text": [
      "epoch: 195/199: 100%|██████████| 2688/2688 [00:03<00:00, 823.79it/s, loss=0.001207]\n"
     ]
    },
    {
     "name": "stdout",
     "output_type": "stream",
     "text": [
      "eval psnr: 32.96\n"
     ]
    },
    {
     "name": "stderr",
     "output_type": "stream",
     "text": [
      "epoch: 196/199: 100%|██████████| 2688/2688 [00:03<00:00, 823.79it/s, loss=0.001199]\n"
     ]
    },
    {
     "name": "stdout",
     "output_type": "stream",
     "text": [
      "eval psnr: 33.01\n"
     ]
    },
    {
     "name": "stderr",
     "output_type": "stream",
     "text": [
      "epoch: 197/199: 100%|██████████| 2688/2688 [00:03<00:00, 816.78it/s, loss=0.001198]\n"
     ]
    },
    {
     "name": "stdout",
     "output_type": "stream",
     "text": [
      "eval psnr: 32.99\n"
     ]
    },
    {
     "name": "stderr",
     "output_type": "stream",
     "text": [
      "epoch: 198/199: 100%|██████████| 2688/2688 [00:03<00:00, 826.33it/s, loss=0.001202]\n"
     ]
    },
    {
     "name": "stdout",
     "output_type": "stream",
     "text": [
      "eval psnr: 32.84\n"
     ]
    },
    {
     "name": "stderr",
     "output_type": "stream",
     "text": [
      "epoch: 199/199: 100%|██████████| 2688/2688 [00:03<00:00, 815.29it/s, loss=0.001199]\n"
     ]
    },
    {
     "name": "stdout",
     "output_type": "stream",
     "text": [
      "eval psnr: 32.90\n",
      "best epoch: 188, psnr: 33.01\n",
      "[INFO] Register count_convNd() for <class 'torch.nn.modules.conv.Conv2d'>.\n",
      "\u001b[91m[WARN] Cannot find rule for <class 'torch.nn.modules.activation.PReLU'>. Treat it as zero Macs and zero Params.\u001b[00m\n",
      "\u001b[91m[WARN] Cannot find rule for <class 'torch.nn.modules.container.Sequential'>. Treat it as zero Macs and zero Params.\u001b[00m\n",
      "[INFO] Register count_convNd() for <class 'torch.nn.modules.conv.ConvTranspose2d'>.\n",
      "\u001b[91m[WARN] Cannot find rule for <class '__main__.FSRCNN'>. Treat it as zero Macs and zero Params.\u001b[00m\n",
      "test psnr: 29.43\n",
      "net params: 12.637K\n",
      "net flops: 1.240G\n"
     ]
    }
   ],
   "source": [
    "if __name__ == \"__main__\":    \n",
    "    trainer_2 = Trainer(model_name='FSRCNN')\n",
    "    trainer_2.run()"
   ]
  },
  {
   "cell_type": "code",
   "execution_count": 83,
   "metadata": {},
   "outputs": [
    {
     "name": "stdout",
     "output_type": "stream",
     "text": [
      "---------- start train ESPCN model ----------\n"
     ]
    },
    {
     "name": "stderr",
     "output_type": "stream",
     "text": [
      "epoch: 0/199: 100%|██████████| 2688/2688 [00:02<00:00, 1030.53it/s, loss=0.017462]\n"
     ]
    },
    {
     "name": "stdout",
     "output_type": "stream",
     "text": [
      "eval psnr: 26.87\n"
     ]
    },
    {
     "name": "stderr",
     "output_type": "stream",
     "text": [
      "epoch: 1/199: 100%|██████████| 2688/2688 [00:02<00:00, 1032.51it/s, loss=0.003369]\n"
     ]
    },
    {
     "name": "stdout",
     "output_type": "stream",
     "text": [
      "eval psnr: 28.31\n"
     ]
    },
    {
     "name": "stderr",
     "output_type": "stream",
     "text": [
      "epoch: 2/199: 100%|██████████| 2688/2688 [00:02<00:00, 1024.63it/s, loss=0.002737]\n"
     ]
    },
    {
     "name": "stdout",
     "output_type": "stream",
     "text": [
      "eval psnr: 29.23\n"
     ]
    },
    {
     "name": "stderr",
     "output_type": "stream",
     "text": [
      "epoch: 3/199: 100%|██████████| 2688/2688 [00:02<00:00, 1011.89it/s, loss=0.002313]\n"
     ]
    },
    {
     "name": "stdout",
     "output_type": "stream",
     "text": [
      "eval psnr: 29.40\n"
     ]
    },
    {
     "name": "stderr",
     "output_type": "stream",
     "text": [
      "epoch: 4/199: 100%|██████████| 2688/2688 [00:02<00:00, 1005.45it/s, loss=0.002094]\n"
     ]
    },
    {
     "name": "stdout",
     "output_type": "stream",
     "text": [
      "eval psnr: 30.04\n"
     ]
    },
    {
     "name": "stderr",
     "output_type": "stream",
     "text": [
      "epoch: 5/199: 100%|██████████| 2688/2688 [00:02<00:00, 1038.50it/s, loss=0.001907]\n"
     ]
    },
    {
     "name": "stdout",
     "output_type": "stream",
     "text": [
      "eval psnr: 30.41\n"
     ]
    },
    {
     "name": "stderr",
     "output_type": "stream",
     "text": [
      "epoch: 6/199: 100%|██████████| 2688/2688 [00:02<00:00, 1026.20it/s, loss=0.001800]\n"
     ]
    },
    {
     "name": "stdout",
     "output_type": "stream",
     "text": [
      "eval psnr: 30.03\n"
     ]
    },
    {
     "name": "stderr",
     "output_type": "stream",
     "text": [
      "epoch: 7/199: 100%|██████████| 2688/2688 [00:02<00:00, 1058.97it/s, loss=0.001695]\n"
     ]
    },
    {
     "name": "stdout",
     "output_type": "stream",
     "text": [
      "eval psnr: 28.74\n"
     ]
    },
    {
     "name": "stderr",
     "output_type": "stream",
     "text": [
      "epoch: 8/199: 100%|██████████| 2688/2688 [00:02<00:00, 1059.81it/s, loss=0.001648]\n"
     ]
    },
    {
     "name": "stdout",
     "output_type": "stream",
     "text": [
      "eval psnr: 31.46\n"
     ]
    },
    {
     "name": "stderr",
     "output_type": "stream",
     "text": [
      "epoch: 9/199: 100%|██████████| 2688/2688 [00:02<00:00, 1030.53it/s, loss=0.001579]\n"
     ]
    },
    {
     "name": "stdout",
     "output_type": "stream",
     "text": [
      "eval psnr: 31.37\n"
     ]
    },
    {
     "name": "stderr",
     "output_type": "stream",
     "text": [
      "epoch: 10/199: 100%|██████████| 2688/2688 [00:02<00:00, 1072.51it/s, loss=0.001558]\n"
     ]
    },
    {
     "name": "stdout",
     "output_type": "stream",
     "text": [
      "eval psnr: 31.70\n"
     ]
    },
    {
     "name": "stderr",
     "output_type": "stream",
     "text": [
      "epoch: 11/199: 100%|██████████| 2688/2688 [00:02<00:00, 1034.10it/s, loss=0.001519]\n"
     ]
    },
    {
     "name": "stdout",
     "output_type": "stream",
     "text": [
      "eval psnr: 31.55\n"
     ]
    },
    {
     "name": "stderr",
     "output_type": "stream",
     "text": [
      "epoch: 12/199: 100%|██████████| 2688/2688 [00:02<00:00, 1068.24it/s, loss=0.001517]\n"
     ]
    },
    {
     "name": "stdout",
     "output_type": "stream",
     "text": [
      "eval psnr: 31.42\n"
     ]
    },
    {
     "name": "stderr",
     "output_type": "stream",
     "text": [
      "epoch: 13/199: 100%|██████████| 2688/2688 [00:02<00:00, 1057.31it/s, loss=0.001506]\n"
     ]
    },
    {
     "name": "stdout",
     "output_type": "stream",
     "text": [
      "eval psnr: 31.79\n"
     ]
    },
    {
     "name": "stderr",
     "output_type": "stream",
     "text": [
      "epoch: 14/199: 100%|██████████| 2688/2688 [00:02<00:00, 1057.31it/s, loss=0.001498]\n"
     ]
    },
    {
     "name": "stdout",
     "output_type": "stream",
     "text": [
      "eval psnr: 31.25\n"
     ]
    },
    {
     "name": "stderr",
     "output_type": "stream",
     "text": [
      "epoch: 15/199: 100%|██████████| 2688/2688 [00:02<00:00, 1075.08it/s, loss=0.001513]\n"
     ]
    },
    {
     "name": "stdout",
     "output_type": "stream",
     "text": [
      "eval psnr: 31.37\n"
     ]
    },
    {
     "name": "stderr",
     "output_type": "stream",
     "text": [
      "epoch: 16/199: 100%|██████████| 2688/2688 [00:02<00:00, 1030.92it/s, loss=0.001483]\n"
     ]
    },
    {
     "name": "stdout",
     "output_type": "stream",
     "text": [
      "eval psnr: 31.82\n"
     ]
    },
    {
     "name": "stderr",
     "output_type": "stream",
     "text": [
      "epoch: 17/199: 100%|██████████| 2688/2688 [00:02<00:00, 1061.48it/s, loss=0.001479]\n"
     ]
    },
    {
     "name": "stdout",
     "output_type": "stream",
     "text": [
      "eval psnr: 31.87\n"
     ]
    },
    {
     "name": "stderr",
     "output_type": "stream",
     "text": [
      "epoch: 18/199: 100%|██████████| 2688/2688 [00:02<00:00, 1068.67it/s, loss=0.001510]\n"
     ]
    },
    {
     "name": "stdout",
     "output_type": "stream",
     "text": [
      "eval psnr: 31.02\n"
     ]
    },
    {
     "name": "stderr",
     "output_type": "stream",
     "text": [
      "epoch: 19/199: 100%|██████████| 2688/2688 [00:02<00:00, 1040.51it/s, loss=0.001478]\n"
     ]
    },
    {
     "name": "stdout",
     "output_type": "stream",
     "text": [
      "eval psnr: 31.86\n"
     ]
    },
    {
     "name": "stderr",
     "output_type": "stream",
     "text": [
      "epoch: 20/199: 100%|██████████| 2688/2688 [00:02<00:00, 1065.27it/s, loss=0.001461]\n"
     ]
    },
    {
     "name": "stdout",
     "output_type": "stream",
     "text": [
      "eval psnr: 31.50\n"
     ]
    },
    {
     "name": "stderr",
     "output_type": "stream",
     "text": [
      "epoch: 21/199: 100%|██████████| 2688/2688 [00:02<00:00, 1056.06it/s, loss=0.001473]\n"
     ]
    },
    {
     "name": "stdout",
     "output_type": "stream",
     "text": [
      "eval psnr: 31.89\n"
     ]
    },
    {
     "name": "stderr",
     "output_type": "stream",
     "text": [
      "epoch: 22/199: 100%|██████████| 2688/2688 [00:02<00:00, 1065.27it/s, loss=0.001490]\n"
     ]
    },
    {
     "name": "stdout",
     "output_type": "stream",
     "text": [
      "eval psnr: 31.82\n"
     ]
    },
    {
     "name": "stderr",
     "output_type": "stream",
     "text": [
      "epoch: 23/199: 100%|██████████| 2688/2688 [00:02<00:00, 1054.40it/s, loss=0.001448]\n"
     ]
    },
    {
     "name": "stdout",
     "output_type": "stream",
     "text": [
      "eval psnr: 31.84\n"
     ]
    },
    {
     "name": "stderr",
     "output_type": "stream",
     "text": [
      "epoch: 24/199: 100%|██████████| 2688/2688 [00:02<00:00, 1064.43it/s, loss=0.001486]\n"
     ]
    },
    {
     "name": "stdout",
     "output_type": "stream",
     "text": [
      "eval psnr: 31.88\n"
     ]
    },
    {
     "name": "stderr",
     "output_type": "stream",
     "text": [
      "epoch: 25/199: 100%|██████████| 2688/2688 [00:02<00:00, 1059.81it/s, loss=0.001457]\n"
     ]
    },
    {
     "name": "stdout",
     "output_type": "stream",
     "text": [
      "eval psnr: 31.91\n"
     ]
    },
    {
     "name": "stderr",
     "output_type": "stream",
     "text": [
      "epoch: 26/199: 100%|██████████| 2688/2688 [00:02<00:00, 1059.39it/s, loss=0.001448]\n"
     ]
    },
    {
     "name": "stdout",
     "output_type": "stream",
     "text": [
      "eval psnr: 31.91\n"
     ]
    },
    {
     "name": "stderr",
     "output_type": "stream",
     "text": [
      "epoch: 27/199: 100%|██████████| 2688/2688 [00:02<00:00, 1072.94it/s, loss=0.001445]\n"
     ]
    },
    {
     "name": "stdout",
     "output_type": "stream",
     "text": [
      "eval psnr: 31.87\n"
     ]
    },
    {
     "name": "stderr",
     "output_type": "stream",
     "text": [
      "epoch: 28/199: 100%|██████████| 2688/2688 [00:02<00:00, 1063.59it/s, loss=0.001444]\n"
     ]
    },
    {
     "name": "stdout",
     "output_type": "stream",
     "text": [
      "eval psnr: 31.80\n"
     ]
    },
    {
     "name": "stderr",
     "output_type": "stream",
     "text": [
      "epoch: 29/199: 100%|██████████| 2688/2688 [00:02<00:00, 1059.81it/s, loss=0.001468]\n"
     ]
    },
    {
     "name": "stdout",
     "output_type": "stream",
     "text": [
      "eval psnr: 31.93\n"
     ]
    },
    {
     "name": "stderr",
     "output_type": "stream",
     "text": [
      "epoch: 30/199: 100%|██████████| 2688/2688 [00:02<00:00, 1072.93it/s, loss=0.001477]\n"
     ]
    },
    {
     "name": "stdout",
     "output_type": "stream",
     "text": [
      "eval psnr: 31.94\n"
     ]
    },
    {
     "name": "stderr",
     "output_type": "stream",
     "text": [
      "epoch: 31/199: 100%|██████████| 2688/2688 [00:02<00:00, 1066.12it/s, loss=0.001439]\n"
     ]
    },
    {
     "name": "stdout",
     "output_type": "stream",
     "text": [
      "eval psnr: 31.47\n"
     ]
    },
    {
     "name": "stderr",
     "output_type": "stream",
     "text": [
      "epoch: 32/199: 100%|██████████| 2688/2688 [00:02<00:00, 1062.32it/s, loss=0.001447]\n"
     ]
    },
    {
     "name": "stdout",
     "output_type": "stream",
     "text": [
      "eval psnr: 31.57\n"
     ]
    },
    {
     "name": "stderr",
     "output_type": "stream",
     "text": [
      "epoch: 33/199: 100%|██████████| 2688/2688 [00:02<00:00, 1044.15it/s, loss=0.001444]\n"
     ]
    },
    {
     "name": "stdout",
     "output_type": "stream",
     "text": [
      "eval psnr: 31.42\n"
     ]
    },
    {
     "name": "stderr",
     "output_type": "stream",
     "text": [
      "epoch: 34/199: 100%|██████████| 2688/2688 [00:02<00:00, 1061.90it/s, loss=0.001476]\n"
     ]
    },
    {
     "name": "stdout",
     "output_type": "stream",
     "text": [
      "eval psnr: 31.86\n"
     ]
    },
    {
     "name": "stderr",
     "output_type": "stream",
     "text": [
      "epoch: 35/199: 100%|██████████| 2688/2688 [00:02<00:00, 1048.23it/s, loss=0.001456]\n"
     ]
    },
    {
     "name": "stdout",
     "output_type": "stream",
     "text": [
      "eval psnr: 31.90\n"
     ]
    },
    {
     "name": "stderr",
     "output_type": "stream",
     "text": [
      "epoch: 36/199: 100%|██████████| 2688/2688 [00:02<00:00, 1061.90it/s, loss=0.001427]\n"
     ]
    },
    {
     "name": "stdout",
     "output_type": "stream",
     "text": [
      "eval psnr: 31.84\n"
     ]
    },
    {
     "name": "stderr",
     "output_type": "stream",
     "text": [
      "epoch: 37/199: 100%|██████████| 2688/2688 [00:02<00:00, 1053.57it/s, loss=0.001431]\n"
     ]
    },
    {
     "name": "stdout",
     "output_type": "stream",
     "text": [
      "eval psnr: 31.89\n"
     ]
    },
    {
     "name": "stderr",
     "output_type": "stream",
     "text": [
      "epoch: 38/199: 100%|██████████| 2688/2688 [00:02<00:00, 1027.77it/s, loss=0.001445]\n"
     ]
    },
    {
     "name": "stdout",
     "output_type": "stream",
     "text": [
      "eval psnr: 31.72\n"
     ]
    },
    {
     "name": "stderr",
     "output_type": "stream",
     "text": [
      "epoch: 39/199: 100%|██████████| 2688/2688 [00:02<00:00, 1057.72it/s, loss=0.001434]\n"
     ]
    },
    {
     "name": "stdout",
     "output_type": "stream",
     "text": [
      "eval psnr: 31.86\n"
     ]
    },
    {
     "name": "stderr",
     "output_type": "stream",
     "text": [
      "epoch: 40/199: 100%|██████████| 2688/2688 [00:02<00:00, 1061.07it/s, loss=0.001447]\n"
     ]
    },
    {
     "name": "stdout",
     "output_type": "stream",
     "text": [
      "eval psnr: 31.95\n"
     ]
    },
    {
     "name": "stderr",
     "output_type": "stream",
     "text": [
      "epoch: 41/199: 100%|██████████| 2688/2688 [00:02<00:00, 1056.06it/s, loss=0.001429]\n"
     ]
    },
    {
     "name": "stdout",
     "output_type": "stream",
     "text": [
      "eval psnr: 31.90\n"
     ]
    },
    {
     "name": "stderr",
     "output_type": "stream",
     "text": [
      "epoch: 42/199: 100%|██████████| 2688/2688 [00:02<00:00, 1074.20it/s, loss=0.001425]\n"
     ]
    },
    {
     "name": "stdout",
     "output_type": "stream",
     "text": [
      "eval psnr: 31.69\n"
     ]
    },
    {
     "name": "stderr",
     "output_type": "stream",
     "text": [
      "epoch: 43/199: 100%|██████████| 2688/2688 [00:02<00:00, 1070.80it/s, loss=0.001450]\n"
     ]
    },
    {
     "name": "stdout",
     "output_type": "stream",
     "text": [
      "eval psnr: 31.60\n"
     ]
    },
    {
     "name": "stderr",
     "output_type": "stream",
     "text": [
      "epoch: 44/199: 100%|██████████| 2688/2688 [00:02<00:00, 1065.70it/s, loss=0.001425]\n"
     ]
    },
    {
     "name": "stdout",
     "output_type": "stream",
     "text": [
      "eval psnr: 31.93\n"
     ]
    },
    {
     "name": "stderr",
     "output_type": "stream",
     "text": [
      "epoch: 45/199: 100%|██████████| 2688/2688 [00:02<00:00, 1058.56it/s, loss=0.001433]\n"
     ]
    },
    {
     "name": "stdout",
     "output_type": "stream",
     "text": [
      "eval psnr: 31.92\n"
     ]
    },
    {
     "name": "stderr",
     "output_type": "stream",
     "text": [
      "epoch: 46/199: 100%|██████████| 2688/2688 [00:02<00:00, 1061.07it/s, loss=0.001419]\n"
     ]
    },
    {
     "name": "stdout",
     "output_type": "stream",
     "text": [
      "eval psnr: 31.38\n"
     ]
    },
    {
     "name": "stderr",
     "output_type": "stream",
     "text": [
      "epoch: 47/199: 100%|██████████| 2688/2688 [00:02<00:00, 1077.24it/s, loss=0.001430]\n"
     ]
    },
    {
     "name": "stdout",
     "output_type": "stream",
     "text": [
      "eval psnr: 32.01\n"
     ]
    },
    {
     "name": "stderr",
     "output_type": "stream",
     "text": [
      "epoch: 48/199: 100%|██████████| 2688/2688 [00:02<00:00, 1058.56it/s, loss=0.001437]\n"
     ]
    },
    {
     "name": "stdout",
     "output_type": "stream",
     "text": [
      "eval psnr: 32.05\n"
     ]
    },
    {
     "name": "stderr",
     "output_type": "stream",
     "text": [
      "epoch: 49/199: 100%|██████████| 2688/2688 [00:02<00:00, 1056.89it/s, loss=0.001415]\n"
     ]
    },
    {
     "name": "stdout",
     "output_type": "stream",
     "text": [
      "eval psnr: 31.89\n"
     ]
    },
    {
     "name": "stderr",
     "output_type": "stream",
     "text": [
      "epoch: 50/199: 100%|██████████| 2688/2688 [00:02<00:00, 1071.65it/s, loss=0.001406]\n"
     ]
    },
    {
     "name": "stdout",
     "output_type": "stream",
     "text": [
      "eval psnr: 32.04\n"
     ]
    },
    {
     "name": "stderr",
     "output_type": "stream",
     "text": [
      "epoch: 51/199: 100%|██████████| 2688/2688 [00:02<00:00, 1060.23it/s, loss=0.001409]\n"
     ]
    },
    {
     "name": "stdout",
     "output_type": "stream",
     "text": [
      "eval psnr: 32.01\n"
     ]
    },
    {
     "name": "stderr",
     "output_type": "stream",
     "text": [
      "epoch: 52/199: 100%|██████████| 2688/2688 [00:02<00:00, 1057.31it/s, loss=0.003806]\n"
     ]
    },
    {
     "name": "stdout",
     "output_type": "stream",
     "text": [
      "eval psnr: 18.41\n"
     ]
    },
    {
     "name": "stderr",
     "output_type": "stream",
     "text": [
      "epoch: 53/199: 100%|██████████| 2688/2688 [00:02<00:00, 1060.65it/s, loss=0.002942]\n"
     ]
    },
    {
     "name": "stdout",
     "output_type": "stream",
     "text": [
      "eval psnr: 30.83\n"
     ]
    },
    {
     "name": "stderr",
     "output_type": "stream",
     "text": [
      "epoch: 54/199: 100%|██████████| 2688/2688 [00:02<00:00, 1056.06it/s, loss=0.001452]\n"
     ]
    },
    {
     "name": "stdout",
     "output_type": "stream",
     "text": [
      "eval psnr: 31.32\n"
     ]
    },
    {
     "name": "stderr",
     "output_type": "stream",
     "text": [
      "epoch: 55/199: 100%|██████████| 2688/2688 [00:02<00:00, 1074.22it/s, loss=0.001425]\n"
     ]
    },
    {
     "name": "stdout",
     "output_type": "stream",
     "text": [
      "eval psnr: 31.70\n"
     ]
    },
    {
     "name": "stderr",
     "output_type": "stream",
     "text": [
      "epoch: 56/199: 100%|██████████| 2688/2688 [00:02<00:00, 1054.40it/s, loss=0.001411]\n"
     ]
    },
    {
     "name": "stdout",
     "output_type": "stream",
     "text": [
      "eval psnr: 31.66\n"
     ]
    },
    {
     "name": "stderr",
     "output_type": "stream",
     "text": [
      "epoch: 57/199: 100%|██████████| 2688/2688 [00:02<00:00, 1054.81it/s, loss=0.001403]\n"
     ]
    },
    {
     "name": "stdout",
     "output_type": "stream",
     "text": [
      "eval psnr: 31.54\n"
     ]
    },
    {
     "name": "stderr",
     "output_type": "stream",
     "text": [
      "epoch: 58/199: 100%|██████████| 2688/2688 [00:02<00:00, 1062.32it/s, loss=0.001400]\n"
     ]
    },
    {
     "name": "stdout",
     "output_type": "stream",
     "text": [
      "eval psnr: 31.95\n"
     ]
    },
    {
     "name": "stderr",
     "output_type": "stream",
     "text": [
      "epoch: 59/199: 100%|██████████| 2688/2688 [00:02<00:00, 1073.79it/s, loss=0.001397]\n"
     ]
    },
    {
     "name": "stdout",
     "output_type": "stream",
     "text": [
      "eval psnr: 31.83\n"
     ]
    },
    {
     "name": "stderr",
     "output_type": "stream",
     "text": [
      "epoch: 60/199: 100%|██████████| 2688/2688 [00:02<00:00, 1058.34it/s, loss=0.001396]\n"
     ]
    },
    {
     "name": "stdout",
     "output_type": "stream",
     "text": [
      "eval psnr: 31.45\n"
     ]
    },
    {
     "name": "stderr",
     "output_type": "stream",
     "text": [
      "epoch: 61/199: 100%|██████████| 2688/2688 [00:02<00:00, 1061.07it/s, loss=0.001394]\n"
     ]
    },
    {
     "name": "stdout",
     "output_type": "stream",
     "text": [
      "eval psnr: 32.06\n"
     ]
    },
    {
     "name": "stderr",
     "output_type": "stream",
     "text": [
      "epoch: 62/199: 100%|██████████| 2688/2688 [00:02<00:00, 1056.89it/s, loss=0.001387]\n"
     ]
    },
    {
     "name": "stdout",
     "output_type": "stream",
     "text": [
      "eval psnr: 32.10\n"
     ]
    },
    {
     "name": "stderr",
     "output_type": "stream",
     "text": [
      "epoch: 63/199: 100%|██████████| 2688/2688 [00:02<00:00, 1066.54it/s, loss=0.001390]\n"
     ]
    },
    {
     "name": "stdout",
     "output_type": "stream",
     "text": [
      "eval psnr: 32.03\n"
     ]
    },
    {
     "name": "stderr",
     "output_type": "stream",
     "text": [
      "epoch: 64/199: 100%|██████████| 2688/2688 [00:02<00:00, 1058.56it/s, loss=0.001391]\n"
     ]
    },
    {
     "name": "stdout",
     "output_type": "stream",
     "text": [
      "eval psnr: 32.09\n"
     ]
    },
    {
     "name": "stderr",
     "output_type": "stream",
     "text": [
      "epoch: 65/199: 100%|██████████| 2688/2688 [00:02<00:00, 1054.40it/s, loss=0.001384]\n"
     ]
    },
    {
     "name": "stdout",
     "output_type": "stream",
     "text": [
      "eval psnr: 32.16\n"
     ]
    },
    {
     "name": "stderr",
     "output_type": "stream",
     "text": [
      "epoch: 66/199: 100%|██████████| 2688/2688 [00:02<00:00, 1061.48it/s, loss=0.001389]\n"
     ]
    },
    {
     "name": "stdout",
     "output_type": "stream",
     "text": [
      "eval psnr: 32.08\n"
     ]
    },
    {
     "name": "stderr",
     "output_type": "stream",
     "text": [
      "epoch: 67/199: 100%|██████████| 2688/2688 [00:02<00:00, 1072.51it/s, loss=0.001386]\n"
     ]
    },
    {
     "name": "stdout",
     "output_type": "stream",
     "text": [
      "eval psnr: 32.06\n"
     ]
    },
    {
     "name": "stderr",
     "output_type": "stream",
     "text": [
      "epoch: 68/199: 100%|██████████| 2688/2688 [00:02<00:00, 1054.81it/s, loss=0.001381]\n"
     ]
    },
    {
     "name": "stdout",
     "output_type": "stream",
     "text": [
      "eval psnr: 32.18\n"
     ]
    },
    {
     "name": "stderr",
     "output_type": "stream",
     "text": [
      "epoch: 69/199: 100%|██████████| 2688/2688 [00:02<00:00, 1049.46it/s, loss=0.001391]\n"
     ]
    },
    {
     "name": "stdout",
     "output_type": "stream",
     "text": [
      "eval psnr: 32.16\n"
     ]
    },
    {
     "name": "stderr",
     "output_type": "stream",
     "text": [
      "epoch: 70/199: 100%|██████████| 2688/2688 [00:02<00:00, 1062.32it/s, loss=0.001382]\n"
     ]
    },
    {
     "name": "stdout",
     "output_type": "stream",
     "text": [
      "eval psnr: 31.99\n"
     ]
    },
    {
     "name": "stderr",
     "output_type": "stream",
     "text": [
      "epoch: 71/199: 100%|██████████| 2688/2688 [00:02<00:00, 1054.81it/s, loss=0.001378]\n"
     ]
    },
    {
     "name": "stdout",
     "output_type": "stream",
     "text": [
      "eval psnr: 32.19\n"
     ]
    },
    {
     "name": "stderr",
     "output_type": "stream",
     "text": [
      "epoch: 72/199: 100%|██████████| 2688/2688 [00:02<00:00, 1053.16it/s, loss=0.001383]\n"
     ]
    },
    {
     "name": "stdout",
     "output_type": "stream",
     "text": [
      "eval psnr: 32.15\n"
     ]
    },
    {
     "name": "stderr",
     "output_type": "stream",
     "text": [
      "epoch: 73/199: 100%|██████████| 2688/2688 [00:02<00:00, 1060.65it/s, loss=0.001373]\n"
     ]
    },
    {
     "name": "stdout",
     "output_type": "stream",
     "text": [
      "eval psnr: 32.12\n"
     ]
    },
    {
     "name": "stderr",
     "output_type": "stream",
     "text": [
      "epoch: 74/199: 100%|██████████| 2688/2688 [00:02<00:00, 1053.16it/s, loss=0.001379]\n"
     ]
    },
    {
     "name": "stdout",
     "output_type": "stream",
     "text": [
      "eval psnr: 32.11\n"
     ]
    },
    {
     "name": "stderr",
     "output_type": "stream",
     "text": [
      "epoch: 75/199: 100%|██████████| 2688/2688 [00:02<00:00, 1072.08it/s, loss=0.001387]\n"
     ]
    },
    {
     "name": "stdout",
     "output_type": "stream",
     "text": [
      "eval psnr: 31.95\n"
     ]
    },
    {
     "name": "stderr",
     "output_type": "stream",
     "text": [
      "epoch: 76/199: 100%|██████████| 2688/2688 [00:02<00:00, 1052.75it/s, loss=0.001375]\n"
     ]
    },
    {
     "name": "stdout",
     "output_type": "stream",
     "text": [
      "eval psnr: 32.20\n"
     ]
    },
    {
     "name": "stderr",
     "output_type": "stream",
     "text": [
      "epoch: 77/199: 100%|██████████| 2688/2688 [00:02<00:00, 1031.72it/s, loss=0.001380]\n"
     ]
    },
    {
     "name": "stdout",
     "output_type": "stream",
     "text": [
      "eval psnr: 32.18\n"
     ]
    },
    {
     "name": "stderr",
     "output_type": "stream",
     "text": [
      "epoch: 78/199: 100%|██████████| 2688/2688 [00:02<00:00, 1042.93it/s, loss=0.001377]\n"
     ]
    },
    {
     "name": "stdout",
     "output_type": "stream",
     "text": [
      "eval psnr: 31.45\n"
     ]
    },
    {
     "name": "stderr",
     "output_type": "stream",
     "text": [
      "epoch: 79/199: 100%|██████████| 2688/2688 [00:02<00:00, 1023.85it/s, loss=0.001369]\n"
     ]
    },
    {
     "name": "stdout",
     "output_type": "stream",
     "text": [
      "eval psnr: 32.20\n"
     ]
    },
    {
     "name": "stderr",
     "output_type": "stream",
     "text": [
      "epoch: 80/199: 100%|██████████| 2688/2688 [00:02<00:00, 1047.00it/s, loss=0.001384]\n"
     ]
    },
    {
     "name": "stdout",
     "output_type": "stream",
     "text": [
      "eval psnr: 32.15\n"
     ]
    },
    {
     "name": "stderr",
     "output_type": "stream",
     "text": [
      "epoch: 81/199: 100%|██████████| 2688/2688 [00:02<00:00, 1058.14it/s, loss=0.001381]\n"
     ]
    },
    {
     "name": "stdout",
     "output_type": "stream",
     "text": [
      "eval psnr: 31.81\n"
     ]
    },
    {
     "name": "stderr",
     "output_type": "stream",
     "text": [
      "epoch: 82/199: 100%|██████████| 2688/2688 [00:02<00:00, 1060.23it/s, loss=0.001369]\n"
     ]
    },
    {
     "name": "stdout",
     "output_type": "stream",
     "text": [
      "eval psnr: 32.18\n"
     ]
    },
    {
     "name": "stderr",
     "output_type": "stream",
     "text": [
      "epoch: 83/199: 100%|██████████| 2688/2688 [00:02<00:00, 1066.97it/s, loss=0.001372]\n"
     ]
    },
    {
     "name": "stdout",
     "output_type": "stream",
     "text": [
      "eval psnr: 32.25\n"
     ]
    },
    {
     "name": "stderr",
     "output_type": "stream",
     "text": [
      "epoch: 84/199: 100%|██████████| 2688/2688 [00:02<00:00, 1050.69it/s, loss=0.001366]\n"
     ]
    },
    {
     "name": "stdout",
     "output_type": "stream",
     "text": [
      "eval psnr: 32.05\n"
     ]
    },
    {
     "name": "stderr",
     "output_type": "stream",
     "text": [
      "epoch: 85/199: 100%|██████████| 2688/2688 [00:02<00:00, 1042.13it/s, loss=0.001376]\n"
     ]
    },
    {
     "name": "stdout",
     "output_type": "stream",
     "text": [
      "eval psnr: 32.05\n"
     ]
    },
    {
     "name": "stderr",
     "output_type": "stream",
     "text": [
      "epoch: 86/199: 100%|██████████| 2688/2688 [00:02<00:00, 1067.82it/s, loss=0.001382]\n"
     ]
    },
    {
     "name": "stdout",
     "output_type": "stream",
     "text": [
      "eval psnr: 32.22\n"
     ]
    },
    {
     "name": "stderr",
     "output_type": "stream",
     "text": [
      "epoch: 87/199: 100%|██████████| 2688/2688 [00:02<00:00, 1060.65it/s, loss=0.001381]\n"
     ]
    },
    {
     "name": "stdout",
     "output_type": "stream",
     "text": [
      "eval psnr: 31.86\n"
     ]
    },
    {
     "name": "stderr",
     "output_type": "stream",
     "text": [
      "epoch: 88/199: 100%|██████████| 2688/2688 [00:02<00:00, 1060.23it/s, loss=0.001373]\n"
     ]
    },
    {
     "name": "stdout",
     "output_type": "stream",
     "text": [
      "eval psnr: 31.94\n"
     ]
    },
    {
     "name": "stderr",
     "output_type": "stream",
     "text": [
      "epoch: 89/199: 100%|██████████| 2688/2688 [00:02<00:00, 1050.69it/s, loss=0.001364]\n"
     ]
    },
    {
     "name": "stdout",
     "output_type": "stream",
     "text": [
      "eval psnr: 32.32\n"
     ]
    },
    {
     "name": "stderr",
     "output_type": "stream",
     "text": [
      "epoch: 90/199: 100%|██████████| 2688/2688 [00:02<00:00, 1064.01it/s, loss=0.001361]\n"
     ]
    },
    {
     "name": "stdout",
     "output_type": "stream",
     "text": [
      "eval psnr: 32.33\n"
     ]
    },
    {
     "name": "stderr",
     "output_type": "stream",
     "text": [
      "epoch: 91/199: 100%|██████████| 2688/2688 [00:02<00:00, 1068.67it/s, loss=0.001358]\n"
     ]
    },
    {
     "name": "stdout",
     "output_type": "stream",
     "text": [
      "eval psnr: 32.30\n"
     ]
    },
    {
     "name": "stderr",
     "output_type": "stream",
     "text": [
      "epoch: 92/199: 100%|██████████| 2688/2688 [00:02<00:00, 1038.50it/s, loss=0.001363]\n"
     ]
    },
    {
     "name": "stdout",
     "output_type": "stream",
     "text": [
      "eval psnr: 32.34\n"
     ]
    },
    {
     "name": "stderr",
     "output_type": "stream",
     "text": [
      "epoch: 93/199: 100%|██████████| 2688/2688 [00:02<00:00, 1047.82it/s, loss=0.001364]\n"
     ]
    },
    {
     "name": "stdout",
     "output_type": "stream",
     "text": [
      "eval psnr: 32.30\n"
     ]
    },
    {
     "name": "stderr",
     "output_type": "stream",
     "text": [
      "epoch: 94/199: 100%|██████████| 2688/2688 [00:02<00:00, 1041.72it/s, loss=0.001358]\n"
     ]
    },
    {
     "name": "stdout",
     "output_type": "stream",
     "text": [
      "eval psnr: 32.34\n"
     ]
    },
    {
     "name": "stderr",
     "output_type": "stream",
     "text": [
      "epoch: 95/199: 100%|██████████| 2688/2688 [00:02<00:00, 1029.74it/s, loss=0.001344]\n"
     ]
    },
    {
     "name": "stdout",
     "output_type": "stream",
     "text": [
      "eval psnr: 32.14\n"
     ]
    },
    {
     "name": "stderr",
     "output_type": "stream",
     "text": [
      "epoch: 96/199: 100%|██████████| 2688/2688 [00:02<00:00, 1032.11it/s, loss=0.001382]\n"
     ]
    },
    {
     "name": "stdout",
     "output_type": "stream",
     "text": [
      "eval psnr: 30.72\n"
     ]
    },
    {
     "name": "stderr",
     "output_type": "stream",
     "text": [
      "epoch: 97/199: 100%|██████████| 2688/2688 [00:02<00:00, 1059.39it/s, loss=0.001349]\n"
     ]
    },
    {
     "name": "stdout",
     "output_type": "stream",
     "text": [
      "eval psnr: 32.28\n"
     ]
    },
    {
     "name": "stderr",
     "output_type": "stream",
     "text": [
      "epoch: 98/199: 100%|██████████| 2688/2688 [00:02<00:00, 1057.72it/s, loss=0.001342]\n"
     ]
    },
    {
     "name": "stdout",
     "output_type": "stream",
     "text": [
      "eval psnr: 32.33\n"
     ]
    },
    {
     "name": "stderr",
     "output_type": "stream",
     "text": [
      "epoch: 99/199: 100%|██████████| 2688/2688 [00:02<00:00, 1065.70it/s, loss=0.001343]\n"
     ]
    },
    {
     "name": "stdout",
     "output_type": "stream",
     "text": [
      "eval psnr: 32.29\n"
     ]
    },
    {
     "name": "stderr",
     "output_type": "stream",
     "text": [
      "epoch: 100/199: 100%|██████████| 2688/2688 [00:02<00:00, 1052.33it/s, loss=0.001340]\n"
     ]
    },
    {
     "name": "stdout",
     "output_type": "stream",
     "text": [
      "eval psnr: 32.31\n"
     ]
    },
    {
     "name": "stderr",
     "output_type": "stream",
     "text": [
      "epoch: 101/199: 100%|██████████| 2688/2688 [00:02<00:00, 1049.46it/s, loss=0.001342]\n"
     ]
    },
    {
     "name": "stdout",
     "output_type": "stream",
     "text": [
      "eval psnr: 32.47\n"
     ]
    },
    {
     "name": "stderr",
     "output_type": "stream",
     "text": [
      "epoch: 102/199: 100%|██████████| 2688/2688 [00:02<00:00, 1064.43it/s, loss=0.001335]\n"
     ]
    },
    {
     "name": "stdout",
     "output_type": "stream",
     "text": [
      "eval psnr: 32.42\n"
     ]
    },
    {
     "name": "stderr",
     "output_type": "stream",
     "text": [
      "epoch: 103/199: 100%|██████████| 2688/2688 [00:02<00:00, 1064.01it/s, loss=0.001338]\n"
     ]
    },
    {
     "name": "stdout",
     "output_type": "stream",
     "text": [
      "eval psnr: 32.37\n"
     ]
    },
    {
     "name": "stderr",
     "output_type": "stream",
     "text": [
      "epoch: 104/199: 100%|██████████| 2688/2688 [00:02<00:00, 1056.06it/s, loss=0.001328]\n"
     ]
    },
    {
     "name": "stdout",
     "output_type": "stream",
     "text": [
      "eval psnr: 32.03\n"
     ]
    },
    {
     "name": "stderr",
     "output_type": "stream",
     "text": [
      "epoch: 105/199: 100%|██████████| 2688/2688 [00:02<00:00, 1048.64it/s, loss=0.001359]\n"
     ]
    },
    {
     "name": "stdout",
     "output_type": "stream",
     "text": [
      "eval psnr: 32.49\n"
     ]
    },
    {
     "name": "stderr",
     "output_type": "stream",
     "text": [
      "epoch: 106/199: 100%|██████████| 2688/2688 [00:02<00:00, 1064.01it/s, loss=0.001318]\n"
     ]
    },
    {
     "name": "stdout",
     "output_type": "stream",
     "text": [
      "eval psnr: 32.45\n"
     ]
    },
    {
     "name": "stderr",
     "output_type": "stream",
     "text": [
      "epoch: 107/199: 100%|██████████| 2688/2688 [00:02<00:00, 1067.82it/s, loss=0.001318]\n"
     ]
    },
    {
     "name": "stdout",
     "output_type": "stream",
     "text": [
      "eval psnr: 32.53\n"
     ]
    },
    {
     "name": "stderr",
     "output_type": "stream",
     "text": [
      "epoch: 108/199: 100%|██████████| 2688/2688 [00:02<00:00, 1053.57it/s, loss=0.001313]\n"
     ]
    },
    {
     "name": "stdout",
     "output_type": "stream",
     "text": [
      "eval psnr: 32.16\n"
     ]
    },
    {
     "name": "stderr",
     "output_type": "stream",
     "text": [
      "epoch: 109/199: 100%|██████████| 2688/2688 [00:02<00:00, 1049.87it/s, loss=0.001315]\n"
     ]
    },
    {
     "name": "stdout",
     "output_type": "stream",
     "text": [
      "eval psnr: 32.39\n"
     ]
    },
    {
     "name": "stderr",
     "output_type": "stream",
     "text": [
      "epoch: 110/199: 100%|██████████| 2688/2688 [00:02<00:00, 1067.39it/s, loss=0.001311]\n"
     ]
    },
    {
     "name": "stdout",
     "output_type": "stream",
     "text": [
      "eval psnr: 32.61\n"
     ]
    },
    {
     "name": "stderr",
     "output_type": "stream",
     "text": [
      "epoch: 111/199: 100%|██████████| 2688/2688 [00:02<00:00, 1059.81it/s, loss=0.001321]\n"
     ]
    },
    {
     "name": "stdout",
     "output_type": "stream",
     "text": [
      "eval psnr: 32.46\n"
     ]
    },
    {
     "name": "stderr",
     "output_type": "stream",
     "text": [
      "epoch: 112/199: 100%|██████████| 2688/2688 [00:02<00:00, 1060.23it/s, loss=0.001310]\n"
     ]
    },
    {
     "name": "stdout",
     "output_type": "stream",
     "text": [
      "eval psnr: 32.53\n"
     ]
    },
    {
     "name": "stderr",
     "output_type": "stream",
     "text": [
      "epoch: 113/199: 100%|██████████| 2688/2688 [00:02<00:00, 1054.40it/s, loss=0.001319]\n"
     ]
    },
    {
     "name": "stdout",
     "output_type": "stream",
     "text": [
      "eval psnr: 32.48\n"
     ]
    },
    {
     "name": "stderr",
     "output_type": "stream",
     "text": [
      "epoch: 114/199: 100%|██████████| 2688/2688 [00:02<00:00, 1059.81it/s, loss=0.001305]\n"
     ]
    },
    {
     "name": "stdout",
     "output_type": "stream",
     "text": [
      "eval psnr: 32.24\n"
     ]
    },
    {
     "name": "stderr",
     "output_type": "stream",
     "text": [
      "epoch: 115/199: 100%|██████████| 2688/2688 [00:02<00:00, 1068.24it/s, loss=0.001310]\n"
     ]
    },
    {
     "name": "stdout",
     "output_type": "stream",
     "text": [
      "eval psnr: 32.52\n"
     ]
    },
    {
     "name": "stderr",
     "output_type": "stream",
     "text": [
      "epoch: 116/199: 100%|██████████| 2688/2688 [00:02<00:00, 1047.41it/s, loss=0.001320]\n"
     ]
    },
    {
     "name": "stdout",
     "output_type": "stream",
     "text": [
      "eval psnr: 32.46\n"
     ]
    },
    {
     "name": "stderr",
     "output_type": "stream",
     "text": [
      "epoch: 117/199: 100%|██████████| 2688/2688 [00:02<00:00, 1056.06it/s, loss=0.001293]\n"
     ]
    },
    {
     "name": "stdout",
     "output_type": "stream",
     "text": [
      "eval psnr: 32.65\n"
     ]
    },
    {
     "name": "stderr",
     "output_type": "stream",
     "text": [
      "epoch: 118/199: 100%|██████████| 2688/2688 [00:02<00:00, 1061.07it/s, loss=0.001304]\n"
     ]
    },
    {
     "name": "stdout",
     "output_type": "stream",
     "text": [
      "eval psnr: 31.11\n"
     ]
    },
    {
     "name": "stderr",
     "output_type": "stream",
     "text": [
      "epoch: 119/199: 100%|██████████| 2688/2688 [00:02<00:00, 1062.74it/s, loss=0.001301]\n"
     ]
    },
    {
     "name": "stdout",
     "output_type": "stream",
     "text": [
      "eval psnr: 32.53\n"
     ]
    },
    {
     "name": "stderr",
     "output_type": "stream",
     "text": [
      "epoch: 120/199: 100%|██████████| 2688/2688 [00:02<00:00, 1048.64it/s, loss=0.001298]\n"
     ]
    },
    {
     "name": "stdout",
     "output_type": "stream",
     "text": [
      "eval psnr: 32.58\n"
     ]
    },
    {
     "name": "stderr",
     "output_type": "stream",
     "text": [
      "epoch: 121/199: 100%|██████████| 2688/2688 [00:02<00:00, 1061.07it/s, loss=0.001304]\n"
     ]
    },
    {
     "name": "stdout",
     "output_type": "stream",
     "text": [
      "eval psnr: 32.54\n"
     ]
    },
    {
     "name": "stderr",
     "output_type": "stream",
     "text": [
      "epoch: 122/199: 100%|██████████| 2688/2688 [00:02<00:00, 1064.43it/s, loss=0.001302]\n"
     ]
    },
    {
     "name": "stdout",
     "output_type": "stream",
     "text": [
      "eval psnr: 32.59\n"
     ]
    },
    {
     "name": "stderr",
     "output_type": "stream",
     "text": [
      "epoch: 123/199: 100%|██████████| 2688/2688 [00:02<00:00, 1058.97it/s, loss=0.001290]\n"
     ]
    },
    {
     "name": "stdout",
     "output_type": "stream",
     "text": [
      "eval psnr: 32.64\n"
     ]
    },
    {
     "name": "stderr",
     "output_type": "stream",
     "text": [
      "epoch: 124/199: 100%|██████████| 2688/2688 [00:02<00:00, 1061.48it/s, loss=0.001298]\n"
     ]
    },
    {
     "name": "stdout",
     "output_type": "stream",
     "text": [
      "eval psnr: 32.55\n"
     ]
    },
    {
     "name": "stderr",
     "output_type": "stream",
     "text": [
      "epoch: 125/199: 100%|██████████| 2688/2688 [00:02<00:00, 1048.23it/s, loss=0.001303]\n"
     ]
    },
    {
     "name": "stdout",
     "output_type": "stream",
     "text": [
      "eval psnr: 32.51\n"
     ]
    },
    {
     "name": "stderr",
     "output_type": "stream",
     "text": [
      "epoch: 126/199: 100%|██████████| 2688/2688 [00:02<00:00, 1051.10it/s, loss=0.001298]\n"
     ]
    },
    {
     "name": "stdout",
     "output_type": "stream",
     "text": [
      "eval psnr: 32.64\n"
     ]
    },
    {
     "name": "stderr",
     "output_type": "stream",
     "text": [
      "epoch: 127/199: 100%|██████████| 2688/2688 [00:02<00:00, 1065.27it/s, loss=0.003217]\n"
     ]
    },
    {
     "name": "stdout",
     "output_type": "stream",
     "text": [
      "eval psnr: 31.76\n"
     ]
    },
    {
     "name": "stderr",
     "output_type": "stream",
     "text": [
      "epoch: 128/199: 100%|██████████| 2688/2688 [00:02<00:00, 1055.23it/s, loss=0.001327]\n"
     ]
    },
    {
     "name": "stdout",
     "output_type": "stream",
     "text": [
      "eval psnr: 32.20\n"
     ]
    },
    {
     "name": "stderr",
     "output_type": "stream",
     "text": [
      "epoch: 129/199: 100%|██████████| 2688/2688 [00:02<00:00, 1054.81it/s, loss=0.001301]\n"
     ]
    },
    {
     "name": "stdout",
     "output_type": "stream",
     "text": [
      "eval psnr: 32.31\n"
     ]
    },
    {
     "name": "stderr",
     "output_type": "stream",
     "text": [
      "epoch: 130/199: 100%|██████████| 2688/2688 [00:02<00:00, 1061.07it/s, loss=0.001295]\n"
     ]
    },
    {
     "name": "stdout",
     "output_type": "stream",
     "text": [
      "eval psnr: 32.44\n"
     ]
    },
    {
     "name": "stderr",
     "output_type": "stream",
     "text": [
      "epoch: 131/199: 100%|██████████| 2688/2688 [00:02<00:00, 1053.99it/s, loss=0.001287]\n"
     ]
    },
    {
     "name": "stdout",
     "output_type": "stream",
     "text": [
      "eval psnr: 32.57\n"
     ]
    },
    {
     "name": "stderr",
     "output_type": "stream",
     "text": [
      "epoch: 132/199: 100%|██████████| 2688/2688 [00:02<00:00, 1055.23it/s, loss=0.001284]\n"
     ]
    },
    {
     "name": "stdout",
     "output_type": "stream",
     "text": [
      "eval psnr: 32.62\n"
     ]
    },
    {
     "name": "stderr",
     "output_type": "stream",
     "text": [
      "epoch: 133/199: 100%|██████████| 2688/2688 [00:02<00:00, 1047.41it/s, loss=0.001279]\n"
     ]
    },
    {
     "name": "stdout",
     "output_type": "stream",
     "text": [
      "eval psnr: 32.58\n"
     ]
    },
    {
     "name": "stderr",
     "output_type": "stream",
     "text": [
      "epoch: 134/199: 100%|██████████| 2688/2688 [00:02<00:00, 1063.17it/s, loss=0.001278]\n"
     ]
    },
    {
     "name": "stdout",
     "output_type": "stream",
     "text": [
      "eval psnr: 32.66\n"
     ]
    },
    {
     "name": "stderr",
     "output_type": "stream",
     "text": [
      "epoch: 135/199: 100%|██████████| 2688/2688 [00:02<00:00, 1051.10it/s, loss=0.001276]\n"
     ]
    },
    {
     "name": "stdout",
     "output_type": "stream",
     "text": [
      "eval psnr: 32.67\n"
     ]
    },
    {
     "name": "stderr",
     "output_type": "stream",
     "text": [
      "epoch: 136/199: 100%|██████████| 2688/2688 [00:02<00:00, 1058.97it/s, loss=0.001271]\n"
     ]
    },
    {
     "name": "stdout",
     "output_type": "stream",
     "text": [
      "eval psnr: 32.66\n"
     ]
    },
    {
     "name": "stderr",
     "output_type": "stream",
     "text": [
      "epoch: 137/199: 100%|██████████| 2688/2688 [00:02<00:00, 1053.16it/s, loss=0.001275]\n"
     ]
    },
    {
     "name": "stdout",
     "output_type": "stream",
     "text": [
      "eval psnr: 32.60\n"
     ]
    },
    {
     "name": "stderr",
     "output_type": "stream",
     "text": [
      "epoch: 138/199: 100%|██████████| 2688/2688 [00:02<00:00, 1061.07it/s, loss=0.001266]\n"
     ]
    },
    {
     "name": "stdout",
     "output_type": "stream",
     "text": [
      "eval psnr: 32.71\n"
     ]
    },
    {
     "name": "stderr",
     "output_type": "stream",
     "text": [
      "epoch: 139/199: 100%|██████████| 2688/2688 [00:02<00:00, 1066.54it/s, loss=0.001275]\n"
     ]
    },
    {
     "name": "stdout",
     "output_type": "stream",
     "text": [
      "eval psnr: 32.64\n"
     ]
    },
    {
     "name": "stderr",
     "output_type": "stream",
     "text": [
      "epoch: 140/199: 100%|██████████| 2688/2688 [00:02<00:00, 1046.59it/s, loss=0.001271]\n"
     ]
    },
    {
     "name": "stdout",
     "output_type": "stream",
     "text": [
      "eval psnr: 32.67\n"
     ]
    },
    {
     "name": "stderr",
     "output_type": "stream",
     "text": [
      "epoch: 141/199: 100%|██████████| 2688/2688 [00:02<00:00, 1048.23it/s, loss=0.001271]\n"
     ]
    },
    {
     "name": "stdout",
     "output_type": "stream",
     "text": [
      "eval psnr: 32.65\n"
     ]
    },
    {
     "name": "stderr",
     "output_type": "stream",
     "text": [
      "epoch: 142/199: 100%|██████████| 2688/2688 [00:02<00:00, 1064.43it/s, loss=0.001273]\n"
     ]
    },
    {
     "name": "stdout",
     "output_type": "stream",
     "text": [
      "eval psnr: 32.66\n"
     ]
    },
    {
     "name": "stderr",
     "output_type": "stream",
     "text": [
      "epoch: 143/199: 100%|██████████| 2688/2688 [00:02<00:00, 1053.57it/s, loss=0.001271]\n"
     ]
    },
    {
     "name": "stdout",
     "output_type": "stream",
     "text": [
      "eval psnr: 32.74\n"
     ]
    },
    {
     "name": "stderr",
     "output_type": "stream",
     "text": [
      "epoch: 144/199: 100%|██████████| 2688/2688 [00:02<00:00, 1046.18it/s, loss=0.001271]\n"
     ]
    },
    {
     "name": "stdout",
     "output_type": "stream",
     "text": [
      "eval psnr: 32.66\n"
     ]
    },
    {
     "name": "stderr",
     "output_type": "stream",
     "text": [
      "epoch: 145/199: 100%|██████████| 2688/2688 [00:02<00:00, 1053.16it/s, loss=0.001273]\n"
     ]
    },
    {
     "name": "stdout",
     "output_type": "stream",
     "text": [
      "eval psnr: 32.74\n"
     ]
    },
    {
     "name": "stderr",
     "output_type": "stream",
     "text": [
      "epoch: 146/199: 100%|██████████| 2688/2688 [00:02<00:00, 1053.16it/s, loss=0.001271]\n"
     ]
    },
    {
     "name": "stdout",
     "output_type": "stream",
     "text": [
      "eval psnr: 32.33\n"
     ]
    },
    {
     "name": "stderr",
     "output_type": "stream",
     "text": [
      "epoch: 147/199: 100%|██████████| 2688/2688 [00:02<00:00, 1065.27it/s, loss=0.001277]\n"
     ]
    },
    {
     "name": "stdout",
     "output_type": "stream",
     "text": [
      "eval psnr: 32.66\n"
     ]
    },
    {
     "name": "stderr",
     "output_type": "stream",
     "text": [
      "epoch: 148/199: 100%|██████████| 2688/2688 [00:02<00:00, 1044.96it/s, loss=0.001276]\n"
     ]
    },
    {
     "name": "stdout",
     "output_type": "stream",
     "text": [
      "eval psnr: 32.74\n"
     ]
    },
    {
     "name": "stderr",
     "output_type": "stream",
     "text": [
      "epoch: 149/199: 100%|██████████| 2688/2688 [00:02<00:00, 1045.37it/s, loss=0.001275]\n"
     ]
    },
    {
     "name": "stdout",
     "output_type": "stream",
     "text": [
      "eval psnr: 32.60\n"
     ]
    },
    {
     "name": "stderr",
     "output_type": "stream",
     "text": [
      "epoch: 150/199: 100%|██████████| 2688/2688 [00:02<00:00, 1061.90it/s, loss=0.001273]\n"
     ]
    },
    {
     "name": "stdout",
     "output_type": "stream",
     "text": [
      "eval psnr: 32.69\n"
     ]
    },
    {
     "name": "stderr",
     "output_type": "stream",
     "text": [
      "epoch: 151/199: 100%|██████████| 2688/2688 [00:02<00:00, 1053.57it/s, loss=0.001269]\n"
     ]
    },
    {
     "name": "stdout",
     "output_type": "stream",
     "text": [
      "eval psnr: 32.71\n"
     ]
    },
    {
     "name": "stderr",
     "output_type": "stream",
     "text": [
      "epoch: 152/199: 100%|██████████| 2688/2688 [00:02<00:00, 1048.64it/s, loss=0.001284]\n"
     ]
    },
    {
     "name": "stdout",
     "output_type": "stream",
     "text": [
      "eval psnr: 32.74\n"
     ]
    },
    {
     "name": "stderr",
     "output_type": "stream",
     "text": [
      "epoch: 153/199: 100%|██████████| 2688/2688 [00:02<00:00, 1045.78it/s, loss=0.001275]\n"
     ]
    },
    {
     "name": "stdout",
     "output_type": "stream",
     "text": [
      "eval psnr: 32.69\n"
     ]
    },
    {
     "name": "stderr",
     "output_type": "stream",
     "text": [
      "epoch: 154/199: 100%|██████████| 2688/2688 [00:02<00:00, 1053.16it/s, loss=0.001276]\n"
     ]
    },
    {
     "name": "stdout",
     "output_type": "stream",
     "text": [
      "eval psnr: 32.54\n"
     ]
    },
    {
     "name": "stderr",
     "output_type": "stream",
     "text": [
      "epoch: 155/199: 100%|██████████| 2688/2688 [00:02<00:00, 1062.32it/s, loss=0.001308]\n"
     ]
    },
    {
     "name": "stdout",
     "output_type": "stream",
     "text": [
      "eval psnr: 32.68\n"
     ]
    },
    {
     "name": "stderr",
     "output_type": "stream",
     "text": [
      "epoch: 156/199: 100%|██████████| 2688/2688 [00:02<00:00, 1040.51it/s, loss=0.001283]\n"
     ]
    },
    {
     "name": "stdout",
     "output_type": "stream",
     "text": [
      "eval psnr: 32.71\n"
     ]
    },
    {
     "name": "stderr",
     "output_type": "stream",
     "text": [
      "epoch: 157/199: 100%|██████████| 2688/2688 [00:02<00:00, 1044.15it/s, loss=0.001271]\n"
     ]
    },
    {
     "name": "stdout",
     "output_type": "stream",
     "text": [
      "eval psnr: 32.58\n"
     ]
    },
    {
     "name": "stderr",
     "output_type": "stream",
     "text": [
      "epoch: 158/199: 100%|██████████| 2688/2688 [00:02<00:00, 1059.81it/s, loss=0.001289]\n"
     ]
    },
    {
     "name": "stdout",
     "output_type": "stream",
     "text": [
      "eval psnr: 32.39\n"
     ]
    },
    {
     "name": "stderr",
     "output_type": "stream",
     "text": [
      "epoch: 159/199: 100%|██████████| 2688/2688 [00:02<00:00, 1043.75it/s, loss=0.001276]\n"
     ]
    },
    {
     "name": "stdout",
     "output_type": "stream",
     "text": [
      "eval psnr: 32.47\n"
     ]
    },
    {
     "name": "stderr",
     "output_type": "stream",
     "text": [
      "epoch: 160/199: 100%|██████████| 2688/2688 [00:02<00:00, 1050.69it/s, loss=0.001259]\n"
     ]
    },
    {
     "name": "stdout",
     "output_type": "stream",
     "text": [
      "eval psnr: 32.80\n"
     ]
    },
    {
     "name": "stderr",
     "output_type": "stream",
     "text": [
      "epoch: 161/199: 100%|██████████| 2688/2688 [00:02<00:00, 1047.00it/s, loss=0.001257]\n"
     ]
    },
    {
     "name": "stdout",
     "output_type": "stream",
     "text": [
      "eval psnr: 32.82\n"
     ]
    },
    {
     "name": "stderr",
     "output_type": "stream",
     "text": [
      "epoch: 162/199: 100%|██████████| 2688/2688 [00:02<00:00, 1046.59it/s, loss=0.001256]\n"
     ]
    },
    {
     "name": "stdout",
     "output_type": "stream",
     "text": [
      "eval psnr: 32.81\n"
     ]
    },
    {
     "name": "stderr",
     "output_type": "stream",
     "text": [
      "epoch: 163/199: 100%|██████████| 2688/2688 [00:02<00:00, 1060.23it/s, loss=0.001256]\n"
     ]
    },
    {
     "name": "stdout",
     "output_type": "stream",
     "text": [
      "eval psnr: 32.81\n"
     ]
    },
    {
     "name": "stderr",
     "output_type": "stream",
     "text": [
      "epoch: 164/199: 100%|██████████| 2688/2688 [00:02<00:00, 1040.91it/s, loss=0.001252]\n"
     ]
    },
    {
     "name": "stdout",
     "output_type": "stream",
     "text": [
      "eval psnr: 32.83\n"
     ]
    },
    {
     "name": "stderr",
     "output_type": "stream",
     "text": [
      "epoch: 165/199: 100%|██████████| 2688/2688 [00:02<00:00, 1049.05it/s, loss=0.001256]\n"
     ]
    },
    {
     "name": "stdout",
     "output_type": "stream",
     "text": [
      "eval psnr: 32.82\n"
     ]
    },
    {
     "name": "stderr",
     "output_type": "stream",
     "text": [
      "epoch: 166/199: 100%|██████████| 2688/2688 [00:02<00:00, 1056.89it/s, loss=0.001256]\n"
     ]
    },
    {
     "name": "stdout",
     "output_type": "stream",
     "text": [
      "eval psnr: 32.82\n"
     ]
    },
    {
     "name": "stderr",
     "output_type": "stream",
     "text": [
      "epoch: 167/199: 100%|██████████| 2688/2688 [00:02<00:00, 1048.64it/s, loss=0.001259]\n"
     ]
    },
    {
     "name": "stdout",
     "output_type": "stream",
     "text": [
      "eval psnr: 32.81\n"
     ]
    },
    {
     "name": "stderr",
     "output_type": "stream",
     "text": [
      "epoch: 168/199: 100%|██████████| 2688/2688 [00:02<00:00, 1047.41it/s, loss=0.001254]\n"
     ]
    },
    {
     "name": "stdout",
     "output_type": "stream",
     "text": [
      "eval psnr: 32.81\n"
     ]
    },
    {
     "name": "stderr",
     "output_type": "stream",
     "text": [
      "epoch: 169/199: 100%|██████████| 2688/2688 [00:02<00:00, 1049.05it/s, loss=0.001257]\n"
     ]
    },
    {
     "name": "stdout",
     "output_type": "stream",
     "text": [
      "eval psnr: 32.82\n"
     ]
    },
    {
     "name": "stderr",
     "output_type": "stream",
     "text": [
      "epoch: 170/199: 100%|██████████| 2688/2688 [00:02<00:00, 1044.56it/s, loss=0.001256]\n"
     ]
    },
    {
     "name": "stdout",
     "output_type": "stream",
     "text": [
      "eval psnr: 32.82\n"
     ]
    },
    {
     "name": "stderr",
     "output_type": "stream",
     "text": [
      "epoch: 171/199: 100%|██████████| 2688/2688 [00:02<00:00, 1049.87it/s, loss=0.001254]\n"
     ]
    },
    {
     "name": "stdout",
     "output_type": "stream",
     "text": [
      "eval psnr: 32.81\n"
     ]
    },
    {
     "name": "stderr",
     "output_type": "stream",
     "text": [
      "epoch: 172/199: 100%|██████████| 2688/2688 [00:02<00:00, 1039.70it/s, loss=0.001253]\n"
     ]
    },
    {
     "name": "stdout",
     "output_type": "stream",
     "text": [
      "eval psnr: 32.81\n"
     ]
    },
    {
     "name": "stderr",
     "output_type": "stream",
     "text": [
      "epoch: 173/199: 100%|██████████| 2688/2688 [00:02<00:00, 1049.46it/s, loss=0.001258]\n"
     ]
    },
    {
     "name": "stdout",
     "output_type": "stream",
     "text": [
      "eval psnr: 32.81\n"
     ]
    },
    {
     "name": "stderr",
     "output_type": "stream",
     "text": [
      "epoch: 174/199: 100%|██████████| 2688/2688 [00:02<00:00, 1043.34it/s, loss=0.001256]\n"
     ]
    },
    {
     "name": "stdout",
     "output_type": "stream",
     "text": [
      "eval psnr: 32.81\n"
     ]
    },
    {
     "name": "stderr",
     "output_type": "stream",
     "text": [
      "epoch: 175/199: 100%|██████████| 2688/2688 [00:02<00:00, 1046.18it/s, loss=0.001254]\n"
     ]
    },
    {
     "name": "stdout",
     "output_type": "stream",
     "text": [
      "eval psnr: 32.81\n"
     ]
    },
    {
     "name": "stderr",
     "output_type": "stream",
     "text": [
      "epoch: 176/199: 100%|██████████| 2688/2688 [00:02<00:00, 1050.69it/s, loss=0.001253]\n"
     ]
    },
    {
     "name": "stdout",
     "output_type": "stream",
     "text": [
      "eval psnr: 32.82\n"
     ]
    },
    {
     "name": "stderr",
     "output_type": "stream",
     "text": [
      "epoch: 177/199: 100%|██████████| 2688/2688 [00:02<00:00, 1047.41it/s, loss=0.001253]\n"
     ]
    },
    {
     "name": "stdout",
     "output_type": "stream",
     "text": [
      "eval psnr: 32.82\n"
     ]
    },
    {
     "name": "stderr",
     "output_type": "stream",
     "text": [
      "epoch: 178/199: 100%|██████████| 2688/2688 [00:02<00:00, 1045.37it/s, loss=0.001256]\n"
     ]
    },
    {
     "name": "stdout",
     "output_type": "stream",
     "text": [
      "eval psnr: 32.80\n"
     ]
    },
    {
     "name": "stderr",
     "output_type": "stream",
     "text": [
      "epoch: 179/199: 100%|██████████| 2688/2688 [00:02<00:00, 1047.82it/s, loss=0.001253]\n"
     ]
    },
    {
     "name": "stdout",
     "output_type": "stream",
     "text": [
      "eval psnr: 32.81\n"
     ]
    },
    {
     "name": "stderr",
     "output_type": "stream",
     "text": [
      "epoch: 180/199: 100%|██████████| 2688/2688 [00:02<00:00, 1042.93it/s, loss=0.001254]\n"
     ]
    },
    {
     "name": "stdout",
     "output_type": "stream",
     "text": [
      "eval psnr: 32.83\n"
     ]
    },
    {
     "name": "stderr",
     "output_type": "stream",
     "text": [
      "epoch: 181/199: 100%|██████████| 2688/2688 [00:02<00:00, 1047.41it/s, loss=0.001251]\n"
     ]
    },
    {
     "name": "stdout",
     "output_type": "stream",
     "text": [
      "eval psnr: 32.83\n"
     ]
    },
    {
     "name": "stderr",
     "output_type": "stream",
     "text": [
      "epoch: 182/199: 100%|██████████| 2688/2688 [00:02<00:00, 1042.93it/s, loss=0.001258]\n"
     ]
    },
    {
     "name": "stdout",
     "output_type": "stream",
     "text": [
      "eval psnr: 32.81\n"
     ]
    },
    {
     "name": "stderr",
     "output_type": "stream",
     "text": [
      "epoch: 183/199: 100%|██████████| 2688/2688 [00:02<00:00, 1055.64it/s, loss=0.001254]\n"
     ]
    },
    {
     "name": "stdout",
     "output_type": "stream",
     "text": [
      "eval psnr: 32.82\n"
     ]
    },
    {
     "name": "stderr",
     "output_type": "stream",
     "text": [
      "epoch: 184/199: 100%|██████████| 2688/2688 [00:02<00:00, 1041.32it/s, loss=0.001256]\n"
     ]
    },
    {
     "name": "stdout",
     "output_type": "stream",
     "text": [
      "eval psnr: 32.80\n"
     ]
    },
    {
     "name": "stderr",
     "output_type": "stream",
     "text": [
      "epoch: 185/199: 100%|██████████| 2688/2688 [00:02<00:00, 1050.69it/s, loss=0.001254]\n"
     ]
    },
    {
     "name": "stdout",
     "output_type": "stream",
     "text": [
      "eval psnr: 32.82\n"
     ]
    },
    {
     "name": "stderr",
     "output_type": "stream",
     "text": [
      "epoch: 186/199: 100%|██████████| 2688/2688 [00:02<00:00, 1048.64it/s, loss=0.001254]\n"
     ]
    },
    {
     "name": "stdout",
     "output_type": "stream",
     "text": [
      "eval psnr: 32.75\n"
     ]
    },
    {
     "name": "stderr",
     "output_type": "stream",
     "text": [
      "epoch: 187/199: 100%|██████████| 2688/2688 [00:02<00:00, 1051.10it/s, loss=0.001258]\n"
     ]
    },
    {
     "name": "stdout",
     "output_type": "stream",
     "text": [
      "eval psnr: 32.80\n"
     ]
    },
    {
     "name": "stderr",
     "output_type": "stream",
     "text": [
      "epoch: 188/199: 100%|██████████| 2688/2688 [00:02<00:00, 1041.32it/s, loss=0.001255]\n"
     ]
    },
    {
     "name": "stdout",
     "output_type": "stream",
     "text": [
      "eval psnr: 32.83\n"
     ]
    },
    {
     "name": "stderr",
     "output_type": "stream",
     "text": [
      "epoch: 189/199: 100%|██████████| 2688/2688 [00:02<00:00, 1051.51it/s, loss=0.001249]\n"
     ]
    },
    {
     "name": "stdout",
     "output_type": "stream",
     "text": [
      "eval psnr: 32.83\n"
     ]
    },
    {
     "name": "stderr",
     "output_type": "stream",
     "text": [
      "epoch: 190/199: 100%|██████████| 2688/2688 [00:02<00:00, 1051.10it/s, loss=0.001257]\n"
     ]
    },
    {
     "name": "stdout",
     "output_type": "stream",
     "text": [
      "eval psnr: 32.82\n"
     ]
    },
    {
     "name": "stderr",
     "output_type": "stream",
     "text": [
      "epoch: 191/199: 100%|██████████| 2688/2688 [00:02<00:00, 1041.32it/s, loss=0.001254]\n"
     ]
    },
    {
     "name": "stdout",
     "output_type": "stream",
     "text": [
      "eval psnr: 32.83\n"
     ]
    },
    {
     "name": "stderr",
     "output_type": "stream",
     "text": [
      "epoch: 192/199: 100%|██████████| 2688/2688 [00:02<00:00, 1050.69it/s, loss=0.001255]\n"
     ]
    },
    {
     "name": "stdout",
     "output_type": "stream",
     "text": [
      "eval psnr: 32.82\n"
     ]
    },
    {
     "name": "stderr",
     "output_type": "stream",
     "text": [
      "epoch: 193/199: 100%|██████████| 2688/2688 [00:02<00:00, 1050.28it/s, loss=0.001252]\n"
     ]
    },
    {
     "name": "stdout",
     "output_type": "stream",
     "text": [
      "eval psnr: 32.83\n"
     ]
    },
    {
     "name": "stderr",
     "output_type": "stream",
     "text": [
      "epoch: 194/199: 100%|██████████| 2688/2688 [00:02<00:00, 1061.90it/s, loss=0.001255]\n"
     ]
    },
    {
     "name": "stdout",
     "output_type": "stream",
     "text": [
      "eval psnr: 32.83\n"
     ]
    },
    {
     "name": "stderr",
     "output_type": "stream",
     "text": [
      "epoch: 195/199: 100%|██████████| 2688/2688 [00:02<00:00, 1047.41it/s, loss=0.001256]\n"
     ]
    },
    {
     "name": "stdout",
     "output_type": "stream",
     "text": [
      "eval psnr: 32.82\n"
     ]
    },
    {
     "name": "stderr",
     "output_type": "stream",
     "text": [
      "epoch: 196/199: 100%|██████████| 2688/2688 [00:02<00:00, 1049.46it/s, loss=0.001255]\n"
     ]
    },
    {
     "name": "stdout",
     "output_type": "stream",
     "text": [
      "eval psnr: 32.84\n"
     ]
    },
    {
     "name": "stderr",
     "output_type": "stream",
     "text": [
      "epoch: 197/199: 100%|██████████| 2688/2688 [00:02<00:00, 1042.53it/s, loss=0.001252]\n"
     ]
    },
    {
     "name": "stdout",
     "output_type": "stream",
     "text": [
      "eval psnr: 32.81\n"
     ]
    },
    {
     "name": "stderr",
     "output_type": "stream",
     "text": [
      "epoch: 198/199: 100%|██████████| 2688/2688 [00:02<00:00, 1044.56it/s, loss=0.001255]\n"
     ]
    },
    {
     "name": "stdout",
     "output_type": "stream",
     "text": [
      "eval psnr: 32.83\n"
     ]
    },
    {
     "name": "stderr",
     "output_type": "stream",
     "text": [
      "epoch: 199/199: 100%|██████████| 2688/2688 [00:02<00:00, 1053.99it/s, loss=0.001253]\n"
     ]
    },
    {
     "name": "stdout",
     "output_type": "stream",
     "text": [
      "eval psnr: 32.83\n",
      "best epoch: 196, psnr: 32.84\n",
      "[INFO] Register count_convNd() for <class 'torch.nn.modules.conv.Conv2d'>.\n",
      "\u001b[91m[WARN] Cannot find rule for <class 'torch.nn.modules.activation.Tanh'>. Treat it as zero Macs and zero Params.\u001b[00m\n",
      "\u001b[91m[WARN] Cannot find rule for <class 'torch.nn.modules.container.Sequential'>. Treat it as zero Macs and zero Params.\u001b[00m\n",
      "\u001b[91m[WARN] Cannot find rule for <class 'torch.nn.modules.pixelshuffle.PixelShuffle'>. Treat it as zero Macs and zero Params.\u001b[00m\n",
      "\u001b[91m[WARN] Cannot find rule for <class '__main__.ESPCN'>. Treat it as zero Macs and zero Params.\u001b[00m\n",
      "test psnr: 29.30\n",
      "net params: 22.729K\n",
      "net flops: 576.180M\n"
     ]
    }
   ],
   "source": [
    "if __name__ == \"__main__\":\n",
    "    trainer_3 = Trainer(model_name='ESPCN')\n",
    "    trainer_3.run()"
   ]
  },
  {
   "cell_type": "code",
   "execution_count": 11,
   "metadata": {},
   "outputs": [
    {
     "name": "stdout",
     "output_type": "stream",
     "text": [
      "---------- start train Res_SRCNN model ----------\n"
     ]
    },
    {
     "name": "stderr",
     "output_type": "stream",
     "text": [
      "epoch: 0/199: 100%|██████████| 21440/21440 [00:18<00:00, 1159.73it/s, loss=0.001455]\n"
     ]
    },
    {
     "name": "stdout",
     "output_type": "stream",
     "text": [
      "eval psnr: 31.93\n"
     ]
    },
    {
     "name": "stderr",
     "output_type": "stream",
     "text": [
      "epoch: 1/199: 100%|██████████| 21440/21440 [00:18<00:00, 1164.96it/s, loss=0.001365]\n"
     ]
    },
    {
     "name": "stdout",
     "output_type": "stream",
     "text": [
      "eval psnr: 32.18\n"
     ]
    },
    {
     "name": "stderr",
     "output_type": "stream",
     "text": [
      "epoch: 2/199: 100%|██████████| 21440/21440 [00:18<00:00, 1169.73it/s, loss=0.001328]\n"
     ]
    },
    {
     "name": "stdout",
     "output_type": "stream",
     "text": [
      "eval psnr: 32.33\n"
     ]
    },
    {
     "name": "stderr",
     "output_type": "stream",
     "text": [
      "epoch: 3/199: 100%|██████████| 21440/21440 [00:18<00:00, 1162.94it/s, loss=0.001304]\n"
     ]
    },
    {
     "name": "stdout",
     "output_type": "stream",
     "text": [
      "eval psnr: 32.44\n"
     ]
    },
    {
     "name": "stderr",
     "output_type": "stream",
     "text": [
      "epoch: 4/199: 100%|██████████| 21440/21440 [00:18<00:00, 1162.94it/s, loss=0.001286]\n"
     ]
    },
    {
     "name": "stdout",
     "output_type": "stream",
     "text": [
      "eval psnr: 32.49\n"
     ]
    },
    {
     "name": "stderr",
     "output_type": "stream",
     "text": [
      "epoch: 5/199: 100%|██████████| 21440/21440 [00:18<00:00, 1168.52it/s, loss=0.001274]\n"
     ]
    },
    {
     "name": "stdout",
     "output_type": "stream",
     "text": [
      "eval psnr: 32.56\n"
     ]
    },
    {
     "name": "stderr",
     "output_type": "stream",
     "text": [
      "epoch: 6/199: 100%|██████████| 21440/21440 [00:18<00:00, 1169.22it/s, loss=0.001265]\n"
     ]
    },
    {
     "name": "stdout",
     "output_type": "stream",
     "text": [
      "eval psnr: 32.61\n"
     ]
    },
    {
     "name": "stderr",
     "output_type": "stream",
     "text": [
      "epoch: 7/199: 100%|██████████| 21440/21440 [00:18<00:00, 1165.41it/s, loss=0.001257]\n"
     ]
    },
    {
     "name": "stdout",
     "output_type": "stream",
     "text": [
      "eval psnr: 32.65\n"
     ]
    },
    {
     "name": "stderr",
     "output_type": "stream",
     "text": [
      "epoch: 8/199: 100%|██████████| 21440/21440 [00:18<00:00, 1165.22it/s, loss=0.001249]\n"
     ]
    },
    {
     "name": "stdout",
     "output_type": "stream",
     "text": [
      "eval psnr: 32.67\n"
     ]
    },
    {
     "name": "stderr",
     "output_type": "stream",
     "text": [
      "epoch: 9/199: 100%|██████████| 21440/21440 [00:18<00:00, 1166.80it/s, loss=0.001243]\n"
     ]
    },
    {
     "name": "stdout",
     "output_type": "stream",
     "text": [
      "eval psnr: 32.68\n"
     ]
    },
    {
     "name": "stderr",
     "output_type": "stream",
     "text": [
      "epoch: 10/199: 100%|██████████| 21440/21440 [00:18<00:00, 1167.31it/s, loss=0.001237]\n"
     ]
    },
    {
     "name": "stdout",
     "output_type": "stream",
     "text": [
      "eval psnr: 32.71\n"
     ]
    },
    {
     "name": "stderr",
     "output_type": "stream",
     "text": [
      "epoch: 11/199: 100%|██████████| 21440/21440 [00:18<00:00, 1161.87it/s, loss=0.001232]\n"
     ]
    },
    {
     "name": "stdout",
     "output_type": "stream",
     "text": [
      "eval psnr: 32.74\n"
     ]
    },
    {
     "name": "stderr",
     "output_type": "stream",
     "text": [
      "epoch: 12/199: 100%|██████████| 21440/21440 [00:18<00:00, 1159.23it/s, loss=0.001227]\n"
     ]
    },
    {
     "name": "stdout",
     "output_type": "stream",
     "text": [
      "eval psnr: 32.77\n"
     ]
    },
    {
     "name": "stderr",
     "output_type": "stream",
     "text": [
      "epoch: 13/199: 100%|██████████| 21440/21440 [00:18<00:00, 1180.03it/s, loss=0.001223]\n"
     ]
    },
    {
     "name": "stdout",
     "output_type": "stream",
     "text": [
      "eval psnr: 32.78\n"
     ]
    },
    {
     "name": "stderr",
     "output_type": "stream",
     "text": [
      "epoch: 14/199: 100%|██████████| 21440/21440 [00:18<00:00, 1178.73it/s, loss=0.001218]\n"
     ]
    },
    {
     "name": "stdout",
     "output_type": "stream",
     "text": [
      "eval psnr: 32.80\n"
     ]
    },
    {
     "name": "stderr",
     "output_type": "stream",
     "text": [
      "epoch: 15/199: 100%|██████████| 21440/21440 [00:18<00:00, 1176.99it/s, loss=0.001215]\n"
     ]
    },
    {
     "name": "stdout",
     "output_type": "stream",
     "text": [
      "eval psnr: 32.82\n"
     ]
    },
    {
     "name": "stderr",
     "output_type": "stream",
     "text": [
      "epoch: 16/199: 100%|██████████| 21440/21440 [00:18<00:00, 1151.33it/s, loss=0.001212]\n"
     ]
    },
    {
     "name": "stdout",
     "output_type": "stream",
     "text": [
      "eval psnr: 32.81\n"
     ]
    },
    {
     "name": "stderr",
     "output_type": "stream",
     "text": [
      "epoch: 17/199: 100%|██████████| 21440/21440 [00:18<00:00, 1166.10it/s, loss=0.001209]\n"
     ]
    },
    {
     "name": "stdout",
     "output_type": "stream",
     "text": [
      "eval psnr: 32.82\n"
     ]
    },
    {
     "name": "stderr",
     "output_type": "stream",
     "text": [
      "epoch: 18/199: 100%|██████████| 21440/21440 [00:18<00:00, 1156.73it/s, loss=0.001206]\n"
     ]
    },
    {
     "name": "stdout",
     "output_type": "stream",
     "text": [
      "eval psnr: 32.83\n"
     ]
    },
    {
     "name": "stderr",
     "output_type": "stream",
     "text": [
      "epoch: 19/199: 100%|██████████| 21440/21440 [00:17<00:00, 1209.25it/s, loss=0.001203]\n"
     ]
    },
    {
     "name": "stdout",
     "output_type": "stream",
     "text": [
      "eval psnr: 32.87\n"
     ]
    },
    {
     "name": "stderr",
     "output_type": "stream",
     "text": [
      "epoch: 20/199: 100%|██████████| 21440/21440 [00:18<00:00, 1158.04it/s, loss=0.001201]\n"
     ]
    },
    {
     "name": "stdout",
     "output_type": "stream",
     "text": [
      "eval psnr: 32.88\n"
     ]
    },
    {
     "name": "stderr",
     "output_type": "stream",
     "text": [
      "epoch: 21/199: 100%|██████████| 21440/21440 [00:17<00:00, 1207.14it/s, loss=0.001198]\n"
     ]
    },
    {
     "name": "stdout",
     "output_type": "stream",
     "text": [
      "eval psnr: 32.88\n"
     ]
    },
    {
     "name": "stderr",
     "output_type": "stream",
     "text": [
      "epoch: 22/199: 100%|██████████| 21440/21440 [00:18<00:00, 1157.04it/s, loss=0.001197]\n"
     ]
    },
    {
     "name": "stdout",
     "output_type": "stream",
     "text": [
      "eval psnr: 32.87\n"
     ]
    },
    {
     "name": "stderr",
     "output_type": "stream",
     "text": [
      "epoch: 23/199: 100%|██████████| 21440/21440 [00:18<00:00, 1168.71it/s, loss=0.001194]\n"
     ]
    },
    {
     "name": "stdout",
     "output_type": "stream",
     "text": [
      "eval psnr: 32.88\n"
     ]
    },
    {
     "name": "stderr",
     "output_type": "stream",
     "text": [
      "epoch: 24/199: 100%|██████████| 21440/21440 [00:18<00:00, 1153.56it/s, loss=0.001193]\n"
     ]
    },
    {
     "name": "stdout",
     "output_type": "stream",
     "text": [
      "eval psnr: 32.90\n"
     ]
    },
    {
     "name": "stderr",
     "output_type": "stream",
     "text": [
      "epoch: 25/199: 100%|██████████| 21440/21440 [00:18<00:00, 1155.42it/s, loss=0.001191]\n"
     ]
    },
    {
     "name": "stdout",
     "output_type": "stream",
     "text": [
      "eval psnr: 32.91\n"
     ]
    },
    {
     "name": "stderr",
     "output_type": "stream",
     "text": [
      "epoch: 26/199: 100%|██████████| 21440/21440 [00:18<00:00, 1177.05it/s, loss=0.001190]\n"
     ]
    },
    {
     "name": "stdout",
     "output_type": "stream",
     "text": [
      "eval psnr: 32.91\n"
     ]
    },
    {
     "name": "stderr",
     "output_type": "stream",
     "text": [
      "epoch: 27/199: 100%|██████████| 21440/21440 [00:17<00:00, 1223.33it/s, loss=0.001188]\n"
     ]
    },
    {
     "name": "stdout",
     "output_type": "stream",
     "text": [
      "eval psnr: 32.90\n"
     ]
    },
    {
     "name": "stderr",
     "output_type": "stream",
     "text": [
      "epoch: 28/199: 100%|██████████| 21440/21440 [00:17<00:00, 1240.31it/s, loss=0.001186]\n"
     ]
    },
    {
     "name": "stdout",
     "output_type": "stream",
     "text": [
      "eval psnr: 32.90\n"
     ]
    },
    {
     "name": "stderr",
     "output_type": "stream",
     "text": [
      "epoch: 29/199: 100%|██████████| 21440/21440 [00:17<00:00, 1246.44it/s, loss=0.001185]\n"
     ]
    },
    {
     "name": "stdout",
     "output_type": "stream",
     "text": [
      "eval psnr: 32.90\n"
     ]
    },
    {
     "name": "stderr",
     "output_type": "stream",
     "text": [
      "epoch: 30/199: 100%|██████████| 21440/21440 [00:17<00:00, 1233.11it/s, loss=0.001184]\n"
     ]
    },
    {
     "name": "stdout",
     "output_type": "stream",
     "text": [
      "eval psnr: 32.93\n"
     ]
    },
    {
     "name": "stderr",
     "output_type": "stream",
     "text": [
      "epoch: 31/199: 100%|██████████| 21440/21440 [00:17<00:00, 1236.09it/s, loss=0.001183]\n"
     ]
    },
    {
     "name": "stdout",
     "output_type": "stream",
     "text": [
      "eval psnr: 32.93\n"
     ]
    },
    {
     "name": "stderr",
     "output_type": "stream",
     "text": [
      "epoch: 32/199: 100%|██████████| 21440/21440 [00:17<00:00, 1242.39it/s, loss=0.001182]\n"
     ]
    },
    {
     "name": "stdout",
     "output_type": "stream",
     "text": [
      "eval psnr: 32.96\n"
     ]
    },
    {
     "name": "stderr",
     "output_type": "stream",
     "text": [
      "epoch: 33/199: 100%|██████████| 21440/21440 [00:17<00:00, 1246.29it/s, loss=0.001180]\n"
     ]
    },
    {
     "name": "stdout",
     "output_type": "stream",
     "text": [
      "eval psnr: 32.94\n"
     ]
    },
    {
     "name": "stderr",
     "output_type": "stream",
     "text": [
      "epoch: 34/199: 100%|██████████| 21440/21440 [00:17<00:00, 1246.00it/s, loss=0.001180]\n"
     ]
    },
    {
     "name": "stdout",
     "output_type": "stream",
     "text": [
      "eval psnr: 32.97\n"
     ]
    },
    {
     "name": "stderr",
     "output_type": "stream",
     "text": [
      "epoch: 35/199: 100%|██████████| 21440/21440 [00:17<00:00, 1239.74it/s, loss=0.001178]\n"
     ]
    },
    {
     "name": "stdout",
     "output_type": "stream",
     "text": [
      "eval psnr: 32.95\n"
     ]
    },
    {
     "name": "stderr",
     "output_type": "stream",
     "text": [
      "epoch: 36/199: 100%|██████████| 21440/21440 [00:17<00:00, 1244.85it/s, loss=0.001177]\n"
     ]
    },
    {
     "name": "stdout",
     "output_type": "stream",
     "text": [
      "eval psnr: 32.97\n"
     ]
    },
    {
     "name": "stderr",
     "output_type": "stream",
     "text": [
      "epoch: 37/199: 100%|██████████| 21440/21440 [00:17<00:00, 1239.16it/s, loss=0.001176]\n"
     ]
    },
    {
     "name": "stdout",
     "output_type": "stream",
     "text": [
      "eval psnr: 32.98\n"
     ]
    },
    {
     "name": "stderr",
     "output_type": "stream",
     "text": [
      "epoch: 38/199: 100%|██████████| 21440/21440 [00:17<00:00, 1243.84it/s, loss=0.001176]\n"
     ]
    },
    {
     "name": "stdout",
     "output_type": "stream",
     "text": [
      "eval psnr: 32.97\n"
     ]
    },
    {
     "name": "stderr",
     "output_type": "stream",
     "text": [
      "epoch: 39/199: 100%|██████████| 21440/21440 [00:17<00:00, 1237.59it/s, loss=0.001175]\n"
     ]
    },
    {
     "name": "stdout",
     "output_type": "stream",
     "text": [
      "eval psnr: 32.97\n"
     ]
    },
    {
     "name": "stderr",
     "output_type": "stream",
     "text": [
      "epoch: 40/199: 100%|██████████| 21440/21440 [00:17<00:00, 1253.07it/s, loss=0.001174]\n"
     ]
    },
    {
     "name": "stdout",
     "output_type": "stream",
     "text": [
      "eval psnr: 32.99\n"
     ]
    },
    {
     "name": "stderr",
     "output_type": "stream",
     "text": [
      "epoch: 41/199: 100%|██████████| 21440/21440 [00:17<00:00, 1243.19it/s, loss=0.001173]\n"
     ]
    },
    {
     "name": "stdout",
     "output_type": "stream",
     "text": [
      "eval psnr: 32.97\n"
     ]
    },
    {
     "name": "stderr",
     "output_type": "stream",
     "text": [
      "epoch: 42/199: 100%|██████████| 21440/21440 [00:17<00:00, 1235.02it/s, loss=0.001171]\n"
     ]
    },
    {
     "name": "stdout",
     "output_type": "stream",
     "text": [
      "eval psnr: 32.98\n"
     ]
    },
    {
     "name": "stderr",
     "output_type": "stream",
     "text": [
      "epoch: 43/199: 100%|██████████| 21440/21440 [00:17<00:00, 1241.89it/s, loss=0.001171]\n"
     ]
    },
    {
     "name": "stdout",
     "output_type": "stream",
     "text": [
      "eval psnr: 32.99\n"
     ]
    },
    {
     "name": "stderr",
     "output_type": "stream",
     "text": [
      "epoch: 44/199: 100%|██████████| 21440/21440 [00:17<00:00, 1229.22it/s, loss=0.001170]\n"
     ]
    },
    {
     "name": "stdout",
     "output_type": "stream",
     "text": [
      "eval psnr: 32.96\n"
     ]
    },
    {
     "name": "stderr",
     "output_type": "stream",
     "text": [
      "epoch: 45/199: 100%|██████████| 21440/21440 [00:17<00:00, 1244.70it/s, loss=0.001169]\n"
     ]
    },
    {
     "name": "stdout",
     "output_type": "stream",
     "text": [
      "eval psnr: 32.95\n"
     ]
    },
    {
     "name": "stderr",
     "output_type": "stream",
     "text": [
      "epoch: 46/199: 100%|██████████| 21440/21440 [00:17<00:00, 1235.45it/s, loss=0.001169]\n"
     ]
    },
    {
     "name": "stdout",
     "output_type": "stream",
     "text": [
      "eval psnr: 32.96\n"
     ]
    },
    {
     "name": "stderr",
     "output_type": "stream",
     "text": [
      "epoch: 47/199: 100%|██████████| 21440/21440 [00:17<00:00, 1237.02it/s, loss=0.001169]\n"
     ]
    },
    {
     "name": "stdout",
     "output_type": "stream",
     "text": [
      "eval psnr: 32.99\n"
     ]
    },
    {
     "name": "stderr",
     "output_type": "stream",
     "text": [
      "epoch: 48/199: 100%|██████████| 21440/21440 [00:17<00:00, 1245.28it/s, loss=0.001168]\n"
     ]
    },
    {
     "name": "stdout",
     "output_type": "stream",
     "text": [
      "eval psnr: 33.00\n"
     ]
    },
    {
     "name": "stderr",
     "output_type": "stream",
     "text": [
      "epoch: 49/199: 100%|██████████| 21440/21440 [00:17<00:00, 1228.65it/s, loss=0.001167]\n"
     ]
    },
    {
     "name": "stdout",
     "output_type": "stream",
     "text": [
      "eval psnr: 32.99\n"
     ]
    },
    {
     "name": "stderr",
     "output_type": "stream",
     "text": [
      "epoch: 50/199: 100%|██████████| 21440/21440 [00:17<00:00, 1228.30it/s, loss=0.001167]\n"
     ]
    },
    {
     "name": "stdout",
     "output_type": "stream",
     "text": [
      "eval psnr: 33.00\n"
     ]
    },
    {
     "name": "stderr",
     "output_type": "stream",
     "text": [
      "epoch: 51/199: 100%|██████████| 21440/21440 [00:17<00:00, 1232.25it/s, loss=0.001165]\n"
     ]
    },
    {
     "name": "stdout",
     "output_type": "stream",
     "text": [
      "eval psnr: 32.98\n"
     ]
    },
    {
     "name": "stderr",
     "output_type": "stream",
     "text": [
      "epoch: 52/199: 100%|██████████| 21440/21440 [00:17<00:00, 1240.38it/s, loss=0.001165]\n"
     ]
    },
    {
     "name": "stdout",
     "output_type": "stream",
     "text": [
      "eval psnr: 33.00\n"
     ]
    },
    {
     "name": "stderr",
     "output_type": "stream",
     "text": [
      "epoch: 53/199: 100%|██████████| 21440/21440 [00:17<00:00, 1241.75it/s, loss=0.001165]\n"
     ]
    },
    {
     "name": "stdout",
     "output_type": "stream",
     "text": [
      "eval psnr: 32.98\n"
     ]
    },
    {
     "name": "stderr",
     "output_type": "stream",
     "text": [
      "epoch: 54/199: 100%|██████████| 21440/21440 [00:17<00:00, 1250.51it/s, loss=0.001164]\n"
     ]
    },
    {
     "name": "stdout",
     "output_type": "stream",
     "text": [
      "eval psnr: 32.99\n"
     ]
    },
    {
     "name": "stderr",
     "output_type": "stream",
     "text": [
      "epoch: 55/199: 100%|██████████| 21440/21440 [00:17<00:00, 1239.38it/s, loss=0.001163]\n"
     ]
    },
    {
     "name": "stdout",
     "output_type": "stream",
     "text": [
      "eval psnr: 33.00\n"
     ]
    },
    {
     "name": "stderr",
     "output_type": "stream",
     "text": [
      "epoch: 56/199: 100%|██████████| 21440/21440 [00:17<00:00, 1240.60it/s, loss=0.001163]\n"
     ]
    },
    {
     "name": "stdout",
     "output_type": "stream",
     "text": [
      "eval psnr: 32.98\n"
     ]
    },
    {
     "name": "stderr",
     "output_type": "stream",
     "text": [
      "epoch: 57/199: 100%|██████████| 21440/21440 [00:17<00:00, 1235.45it/s, loss=0.001163]\n"
     ]
    },
    {
     "name": "stdout",
     "output_type": "stream",
     "text": [
      "eval psnr: 33.00\n"
     ]
    },
    {
     "name": "stderr",
     "output_type": "stream",
     "text": [
      "epoch: 58/199: 100%|██████████| 21440/21440 [00:17<00:00, 1235.38it/s, loss=0.001162]\n"
     ]
    },
    {
     "name": "stdout",
     "output_type": "stream",
     "text": [
      "eval psnr: 33.03\n"
     ]
    },
    {
     "name": "stderr",
     "output_type": "stream",
     "text": [
      "epoch: 59/199: 100%|██████████| 21440/21440 [00:17<00:00, 1245.86it/s, loss=0.001161]\n"
     ]
    },
    {
     "name": "stdout",
     "output_type": "stream",
     "text": [
      "eval psnr: 33.02\n"
     ]
    },
    {
     "name": "stderr",
     "output_type": "stream",
     "text": [
      "epoch: 60/199: 100%|██████████| 21440/21440 [00:17<00:00, 1254.83it/s, loss=0.001160]\n"
     ]
    },
    {
     "name": "stdout",
     "output_type": "stream",
     "text": [
      "eval psnr: 33.02\n"
     ]
    },
    {
     "name": "stderr",
     "output_type": "stream",
     "text": [
      "epoch: 61/199: 100%|██████████| 21440/21440 [00:17<00:00, 1245.50it/s, loss=0.001160]\n"
     ]
    },
    {
     "name": "stdout",
     "output_type": "stream",
     "text": [
      "eval psnr: 33.03\n"
     ]
    },
    {
     "name": "stderr",
     "output_type": "stream",
     "text": [
      "epoch: 62/199: 100%|██████████| 21440/21440 [00:17<00:00, 1231.90it/s, loss=0.001160]\n"
     ]
    },
    {
     "name": "stdout",
     "output_type": "stream",
     "text": [
      "eval psnr: 33.00\n"
     ]
    },
    {
     "name": "stderr",
     "output_type": "stream",
     "text": [
      "epoch: 63/199: 100%|██████████| 21440/21440 [00:17<00:00, 1248.54it/s, loss=0.001159]\n"
     ]
    },
    {
     "name": "stdout",
     "output_type": "stream",
     "text": [
      "eval psnr: 33.03\n"
     ]
    },
    {
     "name": "stderr",
     "output_type": "stream",
     "text": [
      "epoch: 64/199: 100%|██████████| 21440/21440 [00:17<00:00, 1257.11it/s, loss=0.001158]\n"
     ]
    },
    {
     "name": "stdout",
     "output_type": "stream",
     "text": [
      "eval psnr: 33.01\n"
     ]
    },
    {
     "name": "stderr",
     "output_type": "stream",
     "text": [
      "epoch: 65/199: 100%|██████████| 21440/21440 [00:17<00:00, 1209.93it/s, loss=0.001159]\n"
     ]
    },
    {
     "name": "stdout",
     "output_type": "stream",
     "text": [
      "eval psnr: 33.01\n"
     ]
    },
    {
     "name": "stderr",
     "output_type": "stream",
     "text": [
      "epoch: 66/199: 100%|██████████| 21440/21440 [00:18<00:00, 1151.57it/s, loss=0.001157]\n"
     ]
    },
    {
     "name": "stdout",
     "output_type": "stream",
     "text": [
      "eval psnr: 33.03\n"
     ]
    },
    {
     "name": "stderr",
     "output_type": "stream",
     "text": [
      "epoch: 67/199: 100%|██████████| 21440/21440 [00:18<00:00, 1147.20it/s, loss=0.001158]\n"
     ]
    },
    {
     "name": "stdout",
     "output_type": "stream",
     "text": [
      "eval psnr: 33.04\n"
     ]
    },
    {
     "name": "stderr",
     "output_type": "stream",
     "text": [
      "epoch: 68/199: 100%|██████████| 21440/21440 [00:18<00:00, 1141.64it/s, loss=0.001157]\n"
     ]
    },
    {
     "name": "stdout",
     "output_type": "stream",
     "text": [
      "eval psnr: 33.05\n"
     ]
    },
    {
     "name": "stderr",
     "output_type": "stream",
     "text": [
      "epoch: 69/199: 100%|██████████| 21440/21440 [00:18<00:00, 1146.09it/s, loss=0.001157]\n"
     ]
    },
    {
     "name": "stdout",
     "output_type": "stream",
     "text": [
      "eval psnr: 33.05\n"
     ]
    },
    {
     "name": "stderr",
     "output_type": "stream",
     "text": [
      "epoch: 70/199: 100%|██████████| 21440/21440 [00:18<00:00, 1149.41it/s, loss=0.001156]\n"
     ]
    },
    {
     "name": "stdout",
     "output_type": "stream",
     "text": [
      "eval psnr: 33.02\n"
     ]
    },
    {
     "name": "stderr",
     "output_type": "stream",
     "text": [
      "epoch: 71/199: 100%|██████████| 21440/21440 [00:17<00:00, 1215.90it/s, loss=0.001156]\n"
     ]
    },
    {
     "name": "stdout",
     "output_type": "stream",
     "text": [
      "eval psnr: 33.04\n"
     ]
    },
    {
     "name": "stderr",
     "output_type": "stream",
     "text": [
      "epoch: 72/199: 100%|██████████| 21440/21440 [00:17<00:00, 1219.78it/s, loss=0.001155]\n"
     ]
    },
    {
     "name": "stdout",
     "output_type": "stream",
     "text": [
      "eval psnr: 33.04\n"
     ]
    },
    {
     "name": "stderr",
     "output_type": "stream",
     "text": [
      "epoch: 73/199: 100%|██████████| 21440/21440 [00:17<00:00, 1232.25it/s, loss=0.001155]\n"
     ]
    },
    {
     "name": "stdout",
     "output_type": "stream",
     "text": [
      "eval psnr: 33.06\n"
     ]
    },
    {
     "name": "stderr",
     "output_type": "stream",
     "text": [
      "epoch: 74/199: 100%|██████████| 21440/21440 [00:17<00:00, 1242.54it/s, loss=0.001155]\n"
     ]
    },
    {
     "name": "stdout",
     "output_type": "stream",
     "text": [
      "eval psnr: 33.03\n"
     ]
    },
    {
     "name": "stderr",
     "output_type": "stream",
     "text": [
      "epoch: 75/199: 100%|██████████| 21440/21440 [00:17<00:00, 1240.17it/s, loss=0.001154]\n"
     ]
    },
    {
     "name": "stdout",
     "output_type": "stream",
     "text": [
      "eval psnr: 33.04\n"
     ]
    },
    {
     "name": "stderr",
     "output_type": "stream",
     "text": [
      "epoch: 76/199: 100%|██████████| 21440/21440 [00:17<00:00, 1229.78it/s, loss=0.001154]\n"
     ]
    },
    {
     "name": "stdout",
     "output_type": "stream",
     "text": [
      "eval psnr: 33.01\n"
     ]
    },
    {
     "name": "stderr",
     "output_type": "stream",
     "text": [
      "epoch: 77/199: 100%|██████████| 21440/21440 [00:17<00:00, 1258.81it/s, loss=0.001154]\n"
     ]
    },
    {
     "name": "stdout",
     "output_type": "stream",
     "text": [
      "eval psnr: 33.04\n"
     ]
    },
    {
     "name": "stderr",
     "output_type": "stream",
     "text": [
      "epoch: 78/199: 100%|██████████| 21440/21440 [00:17<00:00, 1255.34it/s, loss=0.001153]\n"
     ]
    },
    {
     "name": "stdout",
     "output_type": "stream",
     "text": [
      "eval psnr: 33.04\n"
     ]
    },
    {
     "name": "stderr",
     "output_type": "stream",
     "text": [
      "epoch: 79/199: 100%|██████████| 21440/21440 [00:17<00:00, 1252.85it/s, loss=0.001153]\n"
     ]
    },
    {
     "name": "stdout",
     "output_type": "stream",
     "text": [
      "eval psnr: 33.04\n"
     ]
    },
    {
     "name": "stderr",
     "output_type": "stream",
     "text": [
      "epoch: 80/199: 100%|██████████| 21440/21440 [00:17<00:00, 1245.43it/s, loss=0.001152]\n"
     ]
    },
    {
     "name": "stdout",
     "output_type": "stream",
     "text": [
      "eval psnr: 33.07\n"
     ]
    },
    {
     "name": "stderr",
     "output_type": "stream",
     "text": [
      "epoch: 81/199: 100%|██████████| 21440/21440 [00:17<00:00, 1239.74it/s, loss=0.001152]\n"
     ]
    },
    {
     "name": "stdout",
     "output_type": "stream",
     "text": [
      "eval psnr: 33.05\n"
     ]
    },
    {
     "name": "stderr",
     "output_type": "stream",
     "text": [
      "epoch: 82/199: 100%|██████████| 21440/21440 [00:17<00:00, 1241.03it/s, loss=0.001152]\n"
     ]
    },
    {
     "name": "stdout",
     "output_type": "stream",
     "text": [
      "eval psnr: 33.06\n"
     ]
    },
    {
     "name": "stderr",
     "output_type": "stream",
     "text": [
      "epoch: 83/199: 100%|██████████| 21440/21440 [00:17<00:00, 1228.93it/s, loss=0.001152]\n"
     ]
    },
    {
     "name": "stdout",
     "output_type": "stream",
     "text": [
      "eval psnr: 33.06\n"
     ]
    },
    {
     "name": "stderr",
     "output_type": "stream",
     "text": [
      "epoch: 84/199: 100%|██████████| 21440/21440 [00:17<00:00, 1255.12it/s, loss=0.001151]\n"
     ]
    },
    {
     "name": "stdout",
     "output_type": "stream",
     "text": [
      "eval psnr: 33.05\n"
     ]
    },
    {
     "name": "stderr",
     "output_type": "stream",
     "text": [
      "epoch: 85/199: 100%|██████████| 21440/21440 [00:17<00:00, 1235.59it/s, loss=0.001151]\n"
     ]
    },
    {
     "name": "stdout",
     "output_type": "stream",
     "text": [
      "eval psnr: 33.07\n"
     ]
    },
    {
     "name": "stderr",
     "output_type": "stream",
     "text": [
      "epoch: 86/199: 100%|██████████| 21440/21440 [00:17<00:00, 1236.95it/s, loss=0.001150]\n"
     ]
    },
    {
     "name": "stdout",
     "output_type": "stream",
     "text": [
      "eval psnr: 33.05\n"
     ]
    },
    {
     "name": "stderr",
     "output_type": "stream",
     "text": [
      "epoch: 87/199: 100%|██████████| 21440/21440 [00:17<00:00, 1245.93it/s, loss=0.001150]\n"
     ]
    },
    {
     "name": "stdout",
     "output_type": "stream",
     "text": [
      "eval psnr: 33.08\n"
     ]
    },
    {
     "name": "stderr",
     "output_type": "stream",
     "text": [
      "epoch: 88/199: 100%|██████████| 21440/21440 [00:17<00:00, 1235.59it/s, loss=0.001150]\n"
     ]
    },
    {
     "name": "stdout",
     "output_type": "stream",
     "text": [
      "eval psnr: 33.08\n"
     ]
    },
    {
     "name": "stderr",
     "output_type": "stream",
     "text": [
      "epoch: 89/199: 100%|██████████| 21440/21440 [00:17<00:00, 1228.02it/s, loss=0.001149]\n"
     ]
    },
    {
     "name": "stdout",
     "output_type": "stream",
     "text": [
      "eval psnr: 33.04\n"
     ]
    },
    {
     "name": "stderr",
     "output_type": "stream",
     "text": [
      "epoch: 90/199: 100%|██████████| 21440/21440 [00:17<00:00, 1226.26it/s, loss=0.001149]\n"
     ]
    },
    {
     "name": "stdout",
     "output_type": "stream",
     "text": [
      "eval psnr: 33.05\n"
     ]
    },
    {
     "name": "stderr",
     "output_type": "stream",
     "text": [
      "epoch: 91/199: 100%|██████████| 21440/21440 [00:17<00:00, 1229.50it/s, loss=0.001149]\n"
     ]
    },
    {
     "name": "stdout",
     "output_type": "stream",
     "text": [
      "eval psnr: 33.06\n"
     ]
    },
    {
     "name": "stderr",
     "output_type": "stream",
     "text": [
      "epoch: 92/199: 100%|██████████| 21440/21440 [00:17<00:00, 1211.23it/s, loss=0.001149]\n"
     ]
    },
    {
     "name": "stdout",
     "output_type": "stream",
     "text": [
      "eval psnr: 33.08\n"
     ]
    },
    {
     "name": "stderr",
     "output_type": "stream",
     "text": [
      "epoch: 93/199: 100%|██████████| 21440/21440 [00:17<00:00, 1244.92it/s, loss=0.001148]\n"
     ]
    },
    {
     "name": "stdout",
     "output_type": "stream",
     "text": [
      "eval psnr: 33.08\n"
     ]
    },
    {
     "name": "stderr",
     "output_type": "stream",
     "text": [
      "epoch: 94/199: 100%|██████████| 21440/21440 [00:17<00:00, 1221.10it/s, loss=0.001148]\n"
     ]
    },
    {
     "name": "stdout",
     "output_type": "stream",
     "text": [
      "eval psnr: 33.07\n"
     ]
    },
    {
     "name": "stderr",
     "output_type": "stream",
     "text": [
      "epoch: 95/199: 100%|██████████| 21440/21440 [00:17<00:00, 1225.63it/s, loss=0.001148]\n"
     ]
    },
    {
     "name": "stdout",
     "output_type": "stream",
     "text": [
      "eval psnr: 33.07\n"
     ]
    },
    {
     "name": "stderr",
     "output_type": "stream",
     "text": [
      "epoch: 96/199: 100%|██████████| 21440/21440 [00:17<00:00, 1228.30it/s, loss=0.001148]\n"
     ]
    },
    {
     "name": "stdout",
     "output_type": "stream",
     "text": [
      "eval psnr: 33.07\n"
     ]
    },
    {
     "name": "stderr",
     "output_type": "stream",
     "text": [
      "epoch: 97/199: 100%|██████████| 21440/21440 [00:17<00:00, 1245.43it/s, loss=0.001147]\n"
     ]
    },
    {
     "name": "stdout",
     "output_type": "stream",
     "text": [
      "eval psnr: 33.08\n"
     ]
    },
    {
     "name": "stderr",
     "output_type": "stream",
     "text": [
      "epoch: 98/199: 100%|██████████| 21440/21440 [00:17<00:00, 1234.74it/s, loss=0.001147]\n"
     ]
    },
    {
     "name": "stdout",
     "output_type": "stream",
     "text": [
      "eval psnr: 33.07\n"
     ]
    },
    {
     "name": "stderr",
     "output_type": "stream",
     "text": [
      "epoch: 99/199: 100%|██████████| 21440/21440 [00:17<00:00, 1232.04it/s, loss=0.001147]\n"
     ]
    },
    {
     "name": "stdout",
     "output_type": "stream",
     "text": [
      "eval psnr: 33.09\n"
     ]
    },
    {
     "name": "stderr",
     "output_type": "stream",
     "text": [
      "epoch: 100/199: 100%|██████████| 21440/21440 [00:17<00:00, 1220.33it/s, loss=0.001146]\n"
     ]
    },
    {
     "name": "stdout",
     "output_type": "stream",
     "text": [
      "eval psnr: 33.08\n"
     ]
    },
    {
     "name": "stderr",
     "output_type": "stream",
     "text": [
      "epoch: 101/199: 100%|██████████| 21440/21440 [00:17<00:00, 1219.08it/s, loss=0.001146]\n"
     ]
    },
    {
     "name": "stdout",
     "output_type": "stream",
     "text": [
      "eval psnr: 33.09\n"
     ]
    },
    {
     "name": "stderr",
     "output_type": "stream",
     "text": [
      "epoch: 102/199: 100%|██████████| 21440/21440 [00:17<00:00, 1234.24it/s, loss=0.001146]\n"
     ]
    },
    {
     "name": "stdout",
     "output_type": "stream",
     "text": [
      "eval psnr: 33.07\n"
     ]
    },
    {
     "name": "stderr",
     "output_type": "stream",
     "text": [
      "epoch: 103/199: 100%|██████████| 21440/21440 [00:17<00:00, 1243.04it/s, loss=0.001146]\n"
     ]
    },
    {
     "name": "stdout",
     "output_type": "stream",
     "text": [
      "eval psnr: 33.09\n"
     ]
    },
    {
     "name": "stderr",
     "output_type": "stream",
     "text": [
      "epoch: 104/199: 100%|██████████| 21440/21440 [00:17<00:00, 1244.27it/s, loss=0.001145]\n"
     ]
    },
    {
     "name": "stdout",
     "output_type": "stream",
     "text": [
      "eval psnr: 33.07\n"
     ]
    },
    {
     "name": "stderr",
     "output_type": "stream",
     "text": [
      "epoch: 105/199: 100%|██████████| 21440/21440 [00:17<00:00, 1247.38it/s, loss=0.001145]\n"
     ]
    },
    {
     "name": "stdout",
     "output_type": "stream",
     "text": [
      "eval psnr: 33.10\n"
     ]
    },
    {
     "name": "stderr",
     "output_type": "stream",
     "text": [
      "epoch: 106/199: 100%|██████████| 21440/21440 [00:17<00:00, 1243.26it/s, loss=0.001145]\n"
     ]
    },
    {
     "name": "stdout",
     "output_type": "stream",
     "text": [
      "eval psnr: 33.04\n"
     ]
    },
    {
     "name": "stderr",
     "output_type": "stream",
     "text": [
      "epoch: 107/199: 100%|██████████| 21440/21440 [00:17<00:00, 1241.03it/s, loss=0.001145]\n"
     ]
    },
    {
     "name": "stdout",
     "output_type": "stream",
     "text": [
      "eval psnr: 33.07\n"
     ]
    },
    {
     "name": "stderr",
     "output_type": "stream",
     "text": [
      "epoch: 108/199: 100%|██████████| 21440/21440 [00:17<00:00, 1198.03it/s, loss=0.001144]\n"
     ]
    },
    {
     "name": "stdout",
     "output_type": "stream",
     "text": [
      "eval psnr: 33.09\n"
     ]
    },
    {
     "name": "stderr",
     "output_type": "stream",
     "text": [
      "epoch: 109/199: 100%|██████████| 21440/21440 [00:18<00:00, 1161.05it/s, loss=0.001144]\n"
     ]
    },
    {
     "name": "stdout",
     "output_type": "stream",
     "text": [
      "eval psnr: 33.09\n"
     ]
    },
    {
     "name": "stderr",
     "output_type": "stream",
     "text": [
      "epoch: 110/199: 100%|██████████| 21440/21440 [00:18<00:00, 1152.19it/s, loss=0.001144]\n"
     ]
    },
    {
     "name": "stdout",
     "output_type": "stream",
     "text": [
      "eval psnr: 33.10\n"
     ]
    },
    {
     "name": "stderr",
     "output_type": "stream",
     "text": [
      "epoch: 111/199: 100%|██████████| 21440/21440 [00:17<00:00, 1210.75it/s, loss=0.001143]\n"
     ]
    },
    {
     "name": "stdout",
     "output_type": "stream",
     "text": [
      "eval psnr: 33.07\n"
     ]
    },
    {
     "name": "stderr",
     "output_type": "stream",
     "text": [
      "epoch: 112/199: 100%|██████████| 21440/21440 [00:17<00:00, 1238.52it/s, loss=0.001144]\n"
     ]
    },
    {
     "name": "stdout",
     "output_type": "stream",
     "text": [
      "eval psnr: 33.08\n"
     ]
    },
    {
     "name": "stderr",
     "output_type": "stream",
     "text": [
      "epoch: 113/199: 100%|██████████| 21440/21440 [00:17<00:00, 1223.46it/s, loss=0.001143]\n"
     ]
    },
    {
     "name": "stdout",
     "output_type": "stream",
     "text": [
      "eval psnr: 33.06\n"
     ]
    },
    {
     "name": "stderr",
     "output_type": "stream",
     "text": [
      "epoch: 114/199: 100%|██████████| 21440/21440 [00:17<00:00, 1219.57it/s, loss=0.001143]\n"
     ]
    },
    {
     "name": "stdout",
     "output_type": "stream",
     "text": [
      "eval psnr: 33.09\n"
     ]
    },
    {
     "name": "stderr",
     "output_type": "stream",
     "text": [
      "epoch: 115/199: 100%|██████████| 21440/21440 [00:17<00:00, 1225.42it/s, loss=0.001143]\n"
     ]
    },
    {
     "name": "stdout",
     "output_type": "stream",
     "text": [
      "eval psnr: 33.06\n"
     ]
    },
    {
     "name": "stderr",
     "output_type": "stream",
     "text": [
      "epoch: 116/199: 100%|██████████| 21440/21440 [00:17<00:00, 1221.72it/s, loss=0.001142]\n"
     ]
    },
    {
     "name": "stdout",
     "output_type": "stream",
     "text": [
      "eval psnr: 33.10\n"
     ]
    },
    {
     "name": "stderr",
     "output_type": "stream",
     "text": [
      "epoch: 117/199: 100%|██████████| 21440/21440 [00:17<00:00, 1196.30it/s, loss=0.001142]\n"
     ]
    },
    {
     "name": "stdout",
     "output_type": "stream",
     "text": [
      "eval psnr: 33.06\n"
     ]
    },
    {
     "name": "stderr",
     "output_type": "stream",
     "text": [
      "epoch: 118/199: 100%|██████████| 21440/21440 [00:18<00:00, 1168.07it/s, loss=0.001142]\n"
     ]
    },
    {
     "name": "stdout",
     "output_type": "stream",
     "text": [
      "eval psnr: 33.09\n"
     ]
    },
    {
     "name": "stderr",
     "output_type": "stream",
     "text": [
      "epoch: 119/199: 100%|██████████| 21440/21440 [00:17<00:00, 1225.49it/s, loss=0.001141]\n"
     ]
    },
    {
     "name": "stdout",
     "output_type": "stream",
     "text": [
      "eval psnr: 33.08\n"
     ]
    },
    {
     "name": "stderr",
     "output_type": "stream",
     "text": [
      "epoch: 120/199: 100%|██████████| 21440/21440 [00:17<00:00, 1260.66it/s, loss=0.001142]\n"
     ]
    },
    {
     "name": "stdout",
     "output_type": "stream",
     "text": [
      "eval psnr: 33.10\n"
     ]
    },
    {
     "name": "stderr",
     "output_type": "stream",
     "text": [
      "epoch: 121/199: 100%|██████████| 21440/21440 [00:17<00:00, 1260.58it/s, loss=0.001141]\n"
     ]
    },
    {
     "name": "stdout",
     "output_type": "stream",
     "text": [
      "eval psnr: 33.09\n"
     ]
    },
    {
     "name": "stderr",
     "output_type": "stream",
     "text": [
      "epoch: 122/199: 100%|██████████| 21440/21440 [00:16<00:00, 1261.77it/s, loss=0.001141]\n"
     ]
    },
    {
     "name": "stdout",
     "output_type": "stream",
     "text": [
      "eval psnr: 33.09\n"
     ]
    },
    {
     "name": "stderr",
     "output_type": "stream",
     "text": [
      "epoch: 123/199: 100%|██████████| 21440/21440 [00:16<00:00, 1263.18it/s, loss=0.001141]\n"
     ]
    },
    {
     "name": "stdout",
     "output_type": "stream",
     "text": [
      "eval psnr: 33.08\n"
     ]
    },
    {
     "name": "stderr",
     "output_type": "stream",
     "text": [
      "epoch: 124/199: 100%|██████████| 21440/21440 [00:16<00:00, 1261.62it/s, loss=0.001141]\n"
     ]
    },
    {
     "name": "stdout",
     "output_type": "stream",
     "text": [
      "eval psnr: 33.10\n"
     ]
    },
    {
     "name": "stderr",
     "output_type": "stream",
     "text": [
      "epoch: 125/199: 100%|██████████| 21440/21440 [00:17<00:00, 1261.03it/s, loss=0.001141]\n"
     ]
    },
    {
     "name": "stdout",
     "output_type": "stream",
     "text": [
      "eval psnr: 33.09\n"
     ]
    },
    {
     "name": "stderr",
     "output_type": "stream",
     "text": [
      "epoch: 126/199: 100%|██████████| 21440/21440 [00:17<00:00, 1246.51it/s, loss=0.001140]\n"
     ]
    },
    {
     "name": "stdout",
     "output_type": "stream",
     "text": [
      "eval psnr: 33.09\n"
     ]
    },
    {
     "name": "stderr",
     "output_type": "stream",
     "text": [
      "epoch: 127/199: 100%|██████████| 21440/21440 [00:17<00:00, 1233.67it/s, loss=0.001141]\n"
     ]
    },
    {
     "name": "stdout",
     "output_type": "stream",
     "text": [
      "eval psnr: 33.10\n"
     ]
    },
    {
     "name": "stderr",
     "output_type": "stream",
     "text": [
      "epoch: 128/199: 100%|██████████| 21440/21440 [00:18<00:00, 1149.97it/s, loss=0.001140]\n"
     ]
    },
    {
     "name": "stdout",
     "output_type": "stream",
     "text": [
      "eval psnr: 33.10\n"
     ]
    },
    {
     "name": "stderr",
     "output_type": "stream",
     "text": [
      "epoch: 129/199: 100%|██████████| 21440/21440 [00:18<00:00, 1141.15it/s, loss=0.001140]\n"
     ]
    },
    {
     "name": "stdout",
     "output_type": "stream",
     "text": [
      "eval psnr: 33.09\n"
     ]
    },
    {
     "name": "stderr",
     "output_type": "stream",
     "text": [
      "epoch: 130/199: 100%|██████████| 21440/21440 [00:18<00:00, 1134.99it/s, loss=0.001140]\n"
     ]
    },
    {
     "name": "stdout",
     "output_type": "stream",
     "text": [
      "eval psnr: 33.10\n"
     ]
    },
    {
     "name": "stderr",
     "output_type": "stream",
     "text": [
      "epoch: 131/199: 100%|██████████| 21440/21440 [00:18<00:00, 1134.03it/s, loss=0.001139]\n"
     ]
    },
    {
     "name": "stdout",
     "output_type": "stream",
     "text": [
      "eval psnr: 33.10\n"
     ]
    },
    {
     "name": "stderr",
     "output_type": "stream",
     "text": [
      "epoch: 132/199: 100%|██████████| 21440/21440 [00:18<00:00, 1138.31it/s, loss=0.001139]\n"
     ]
    },
    {
     "name": "stdout",
     "output_type": "stream",
     "text": [
      "eval psnr: 33.11\n"
     ]
    },
    {
     "name": "stderr",
     "output_type": "stream",
     "text": [
      "epoch: 133/199: 100%|██████████| 21440/21440 [00:18<00:00, 1139.94it/s, loss=0.001139]\n"
     ]
    },
    {
     "name": "stdout",
     "output_type": "stream",
     "text": [
      "eval psnr: 33.11\n"
     ]
    },
    {
     "name": "stderr",
     "output_type": "stream",
     "text": [
      "epoch: 134/199: 100%|██████████| 21440/21440 [00:18<00:00, 1162.12it/s, loss=0.001139]\n"
     ]
    },
    {
     "name": "stdout",
     "output_type": "stream",
     "text": [
      "eval psnr: 33.09\n"
     ]
    },
    {
     "name": "stderr",
     "output_type": "stream",
     "text": [
      "epoch: 135/199: 100%|██████████| 21440/21440 [00:18<00:00, 1161.87it/s, loss=0.001138]\n"
     ]
    },
    {
     "name": "stdout",
     "output_type": "stream",
     "text": [
      "eval psnr: 33.10\n"
     ]
    },
    {
     "name": "stderr",
     "output_type": "stream",
     "text": [
      "epoch: 136/199: 100%|██████████| 21440/21440 [00:18<00:00, 1159.86it/s, loss=0.001139]\n"
     ]
    },
    {
     "name": "stdout",
     "output_type": "stream",
     "text": [
      "eval psnr: 33.08\n"
     ]
    },
    {
     "name": "stderr",
     "output_type": "stream",
     "text": [
      "epoch: 137/199: 100%|██████████| 21440/21440 [00:18<00:00, 1160.42it/s, loss=0.001138]\n"
     ]
    },
    {
     "name": "stdout",
     "output_type": "stream",
     "text": [
      "eval psnr: 33.09\n"
     ]
    },
    {
     "name": "stderr",
     "output_type": "stream",
     "text": [
      "epoch: 138/199: 100%|██████████| 21440/21440 [00:18<00:00, 1159.67it/s, loss=0.001138]\n"
     ]
    },
    {
     "name": "stdout",
     "output_type": "stream",
     "text": [
      "eval psnr: 33.08\n"
     ]
    },
    {
     "name": "stderr",
     "output_type": "stream",
     "text": [
      "epoch: 139/199: 100%|██████████| 21440/21440 [00:18<00:00, 1162.69it/s, loss=0.001138]\n"
     ]
    },
    {
     "name": "stdout",
     "output_type": "stream",
     "text": [
      "eval psnr: 33.10\n"
     ]
    },
    {
     "name": "stderr",
     "output_type": "stream",
     "text": [
      "epoch: 140/199: 100%|██████████| 21440/21440 [00:18<00:00, 1163.51it/s, loss=0.001137]\n"
     ]
    },
    {
     "name": "stdout",
     "output_type": "stream",
     "text": [
      "eval psnr: 33.09\n"
     ]
    },
    {
     "name": "stderr",
     "output_type": "stream",
     "text": [
      "epoch: 141/199: 100%|██████████| 21440/21440 [00:18<00:00, 1156.17it/s, loss=0.001138]\n"
     ]
    },
    {
     "name": "stdout",
     "output_type": "stream",
     "text": [
      "eval psnr: 33.10\n"
     ]
    },
    {
     "name": "stderr",
     "output_type": "stream",
     "text": [
      "epoch: 142/199: 100%|██████████| 21440/21440 [00:18<00:00, 1162.88it/s, loss=0.001137]\n"
     ]
    },
    {
     "name": "stdout",
     "output_type": "stream",
     "text": [
      "eval psnr: 33.11\n"
     ]
    },
    {
     "name": "stderr",
     "output_type": "stream",
     "text": [
      "epoch: 143/199: 100%|██████████| 21440/21440 [00:18<00:00, 1159.92it/s, loss=0.001137]\n"
     ]
    },
    {
     "name": "stdout",
     "output_type": "stream",
     "text": [
      "eval psnr: 33.11\n"
     ]
    },
    {
     "name": "stderr",
     "output_type": "stream",
     "text": [
      "epoch: 144/199: 100%|██████████| 21440/21440 [00:18<00:00, 1159.42it/s, loss=0.001137]\n"
     ]
    },
    {
     "name": "stdout",
     "output_type": "stream",
     "text": [
      "eval psnr: 33.12\n"
     ]
    },
    {
     "name": "stderr",
     "output_type": "stream",
     "text": [
      "epoch: 145/199: 100%|██████████| 21440/21440 [00:18<00:00, 1162.25it/s, loss=0.001137]\n"
     ]
    },
    {
     "name": "stdout",
     "output_type": "stream",
     "text": [
      "eval psnr: 33.06\n"
     ]
    },
    {
     "name": "stderr",
     "output_type": "stream",
     "text": [
      "epoch: 146/199: 100%|██████████| 21440/21440 [00:18<00:00, 1156.67it/s, loss=0.001137]\n"
     ]
    },
    {
     "name": "stdout",
     "output_type": "stream",
     "text": [
      "eval psnr: 33.11\n"
     ]
    },
    {
     "name": "stderr",
     "output_type": "stream",
     "text": [
      "epoch: 147/199: 100%|██████████| 21440/21440 [00:18<00:00, 1159.36it/s, loss=0.001137]\n"
     ]
    },
    {
     "name": "stdout",
     "output_type": "stream",
     "text": [
      "eval psnr: 33.10\n"
     ]
    },
    {
     "name": "stderr",
     "output_type": "stream",
     "text": [
      "epoch: 148/199: 100%|██████████| 21440/21440 [00:18<00:00, 1161.87it/s, loss=0.001136]\n"
     ]
    },
    {
     "name": "stdout",
     "output_type": "stream",
     "text": [
      "eval psnr: 33.07\n"
     ]
    },
    {
     "name": "stderr",
     "output_type": "stream",
     "text": [
      "epoch: 149/199: 100%|██████████| 21440/21440 [00:18<00:00, 1158.92it/s, loss=0.001136]\n"
     ]
    },
    {
     "name": "stdout",
     "output_type": "stream",
     "text": [
      "eval psnr: 33.10\n"
     ]
    },
    {
     "name": "stderr",
     "output_type": "stream",
     "text": [
      "epoch: 150/199: 100%|██████████| 21440/21440 [00:18<00:00, 1161.74it/s, loss=0.001136]\n"
     ]
    },
    {
     "name": "stdout",
     "output_type": "stream",
     "text": [
      "eval psnr: 33.11\n"
     ]
    },
    {
     "name": "stderr",
     "output_type": "stream",
     "text": [
      "epoch: 151/199: 100%|██████████| 21440/21440 [00:18<00:00, 1160.68it/s, loss=0.001136]\n"
     ]
    },
    {
     "name": "stdout",
     "output_type": "stream",
     "text": [
      "eval psnr: 33.12\n"
     ]
    },
    {
     "name": "stderr",
     "output_type": "stream",
     "text": [
      "epoch: 152/199: 100%|██████████| 21440/21440 [00:18<00:00, 1163.64it/s, loss=0.001136]\n"
     ]
    },
    {
     "name": "stdout",
     "output_type": "stream",
     "text": [
      "eval psnr: 33.13\n"
     ]
    },
    {
     "name": "stderr",
     "output_type": "stream",
     "text": [
      "epoch: 153/199: 100%|██████████| 21440/21440 [00:18<00:00, 1162.25it/s, loss=0.001135]\n"
     ]
    },
    {
     "name": "stdout",
     "output_type": "stream",
     "text": [
      "eval psnr: 33.12\n"
     ]
    },
    {
     "name": "stderr",
     "output_type": "stream",
     "text": [
      "epoch: 154/199: 100%|██████████| 21440/21440 [00:18<00:00, 1158.86it/s, loss=0.001135]\n"
     ]
    },
    {
     "name": "stdout",
     "output_type": "stream",
     "text": [
      "eval psnr: 33.08\n"
     ]
    },
    {
     "name": "stderr",
     "output_type": "stream",
     "text": [
      "epoch: 155/199: 100%|██████████| 21440/21440 [00:18<00:00, 1162.00it/s, loss=0.001135]\n"
     ]
    },
    {
     "name": "stdout",
     "output_type": "stream",
     "text": [
      "eval psnr: 33.11\n"
     ]
    },
    {
     "name": "stderr",
     "output_type": "stream",
     "text": [
      "epoch: 156/199: 100%|██████████| 21440/21440 [00:18<00:00, 1163.07it/s, loss=0.001135]\n"
     ]
    },
    {
     "name": "stdout",
     "output_type": "stream",
     "text": [
      "eval psnr: 33.12\n"
     ]
    },
    {
     "name": "stderr",
     "output_type": "stream",
     "text": [
      "epoch: 157/199: 100%|██████████| 21440/21440 [00:18<00:00, 1164.08it/s, loss=0.001135]\n"
     ]
    },
    {
     "name": "stdout",
     "output_type": "stream",
     "text": [
      "eval psnr: 33.10\n"
     ]
    },
    {
     "name": "stderr",
     "output_type": "stream",
     "text": [
      "epoch: 158/199: 100%|██████████| 21440/21440 [00:18<00:00, 1161.56it/s, loss=0.001134]\n"
     ]
    },
    {
     "name": "stdout",
     "output_type": "stream",
     "text": [
      "eval psnr: 33.11\n"
     ]
    },
    {
     "name": "stderr",
     "output_type": "stream",
     "text": [
      "epoch: 159/199: 100%|██████████| 21440/21440 [00:18<00:00, 1156.86it/s, loss=0.001134]\n"
     ]
    },
    {
     "name": "stdout",
     "output_type": "stream",
     "text": [
      "eval psnr: 33.13\n"
     ]
    },
    {
     "name": "stderr",
     "output_type": "stream",
     "text": [
      "epoch: 160/199: 100%|██████████| 21440/21440 [00:18<00:00, 1161.81it/s, loss=0.001134]\n"
     ]
    },
    {
     "name": "stdout",
     "output_type": "stream",
     "text": [
      "eval psnr: 33.07\n"
     ]
    },
    {
     "name": "stderr",
     "output_type": "stream",
     "text": [
      "epoch: 161/199: 100%|██████████| 21440/21440 [00:18<00:00, 1163.45it/s, loss=0.001134]\n"
     ]
    },
    {
     "name": "stdout",
     "output_type": "stream",
     "text": [
      "eval psnr: 33.12\n"
     ]
    },
    {
     "name": "stderr",
     "output_type": "stream",
     "text": [
      "epoch: 162/199: 100%|██████████| 21440/21440 [00:18<00:00, 1158.42it/s, loss=0.001134]\n"
     ]
    },
    {
     "name": "stdout",
     "output_type": "stream",
     "text": [
      "eval psnr: 33.11\n"
     ]
    },
    {
     "name": "stderr",
     "output_type": "stream",
     "text": [
      "epoch: 163/199: 100%|██████████| 21440/21440 [00:18<00:00, 1153.43it/s, loss=0.001134]\n"
     ]
    },
    {
     "name": "stdout",
     "output_type": "stream",
     "text": [
      "eval psnr: 33.12\n"
     ]
    },
    {
     "name": "stderr",
     "output_type": "stream",
     "text": [
      "epoch: 164/199: 100%|██████████| 21440/21440 [00:18<00:00, 1154.30it/s, loss=0.001134]\n"
     ]
    },
    {
     "name": "stdout",
     "output_type": "stream",
     "text": [
      "eval psnr: 33.11\n"
     ]
    },
    {
     "name": "stderr",
     "output_type": "stream",
     "text": [
      "epoch: 165/199: 100%|██████████| 21440/21440 [00:18<00:00, 1162.06it/s, loss=0.001133]\n"
     ]
    },
    {
     "name": "stdout",
     "output_type": "stream",
     "text": [
      "eval psnr: 33.09\n"
     ]
    },
    {
     "name": "stderr",
     "output_type": "stream",
     "text": [
      "epoch: 166/199: 100%|██████████| 21440/21440 [00:18<00:00, 1160.11it/s, loss=0.001133]\n"
     ]
    },
    {
     "name": "stdout",
     "output_type": "stream",
     "text": [
      "eval psnr: 33.11\n"
     ]
    },
    {
     "name": "stderr",
     "output_type": "stream",
     "text": [
      "epoch: 167/199: 100%|██████████| 21440/21440 [00:18<00:00, 1157.92it/s, loss=0.001133]\n"
     ]
    },
    {
     "name": "stdout",
     "output_type": "stream",
     "text": [
      "eval psnr: 33.08\n"
     ]
    },
    {
     "name": "stderr",
     "output_type": "stream",
     "text": [
      "epoch: 168/199: 100%|██████████| 21440/21440 [00:18<00:00, 1161.37it/s, loss=0.001133]\n"
     ]
    },
    {
     "name": "stdout",
     "output_type": "stream",
     "text": [
      "eval psnr: 33.11\n"
     ]
    },
    {
     "name": "stderr",
     "output_type": "stream",
     "text": [
      "epoch: 169/199: 100%|██████████| 21440/21440 [00:18<00:00, 1158.73it/s, loss=0.001133]\n"
     ]
    },
    {
     "name": "stdout",
     "output_type": "stream",
     "text": [
      "eval psnr: 33.10\n"
     ]
    },
    {
     "name": "stderr",
     "output_type": "stream",
     "text": [
      "epoch: 170/199: 100%|██████████| 21440/21440 [00:18<00:00, 1159.23it/s, loss=0.001133]\n"
     ]
    },
    {
     "name": "stdout",
     "output_type": "stream",
     "text": [
      "eval psnr: 33.11\n"
     ]
    },
    {
     "name": "stderr",
     "output_type": "stream",
     "text": [
      "epoch: 171/199: 100%|██████████| 21440/21440 [00:18<00:00, 1161.49it/s, loss=0.001132]\n"
     ]
    },
    {
     "name": "stdout",
     "output_type": "stream",
     "text": [
      "eval psnr: 33.13\n"
     ]
    },
    {
     "name": "stderr",
     "output_type": "stream",
     "text": [
      "epoch: 172/199: 100%|██████████| 21440/21440 [00:18<00:00, 1162.50it/s, loss=0.001132]\n"
     ]
    },
    {
     "name": "stdout",
     "output_type": "stream",
     "text": [
      "eval psnr: 33.10\n"
     ]
    },
    {
     "name": "stderr",
     "output_type": "stream",
     "text": [
      "epoch: 173/199: 100%|██████████| 21440/21440 [00:18<00:00, 1155.92it/s, loss=0.001132]\n"
     ]
    },
    {
     "name": "stdout",
     "output_type": "stream",
     "text": [
      "eval psnr: 33.10\n"
     ]
    },
    {
     "name": "stderr",
     "output_type": "stream",
     "text": [
      "epoch: 174/199: 100%|██████████| 21440/21440 [00:18<00:00, 1134.51it/s, loss=0.001132]\n"
     ]
    },
    {
     "name": "stdout",
     "output_type": "stream",
     "text": [
      "eval psnr: 33.07\n"
     ]
    },
    {
     "name": "stderr",
     "output_type": "stream",
     "text": [
      "epoch: 175/199: 100%|██████████| 21440/21440 [00:18<00:00, 1134.09it/s, loss=0.001131]\n"
     ]
    },
    {
     "name": "stdout",
     "output_type": "stream",
     "text": [
      "eval psnr: 33.09\n"
     ]
    },
    {
     "name": "stderr",
     "output_type": "stream",
     "text": [
      "epoch: 176/199: 100%|██████████| 21440/21440 [00:19<00:00, 1127.23it/s, loss=0.001132]\n"
     ]
    },
    {
     "name": "stdout",
     "output_type": "stream",
     "text": [
      "eval psnr: 33.14\n"
     ]
    },
    {
     "name": "stderr",
     "output_type": "stream",
     "text": [
      "epoch: 177/199: 100%|██████████| 21440/21440 [00:18<00:00, 1186.63it/s, loss=0.001132]\n"
     ]
    },
    {
     "name": "stdout",
     "output_type": "stream",
     "text": [
      "eval psnr: 33.09\n"
     ]
    },
    {
     "name": "stderr",
     "output_type": "stream",
     "text": [
      "epoch: 178/199: 100%|██████████| 21440/21440 [00:17<00:00, 1234.95it/s, loss=0.001131]\n"
     ]
    },
    {
     "name": "stdout",
     "output_type": "stream",
     "text": [
      "eval psnr: 33.12\n"
     ]
    },
    {
     "name": "stderr",
     "output_type": "stream",
     "text": [
      "epoch: 179/199: 100%|██████████| 21440/21440 [00:17<00:00, 1245.86it/s, loss=0.001131]\n"
     ]
    },
    {
     "name": "stdout",
     "output_type": "stream",
     "text": [
      "eval psnr: 33.10\n"
     ]
    },
    {
     "name": "stderr",
     "output_type": "stream",
     "text": [
      "epoch: 180/199: 100%|██████████| 21440/21440 [00:17<00:00, 1251.90it/s, loss=0.001131]\n"
     ]
    },
    {
     "name": "stdout",
     "output_type": "stream",
     "text": [
      "eval psnr: 33.13\n"
     ]
    },
    {
     "name": "stderr",
     "output_type": "stream",
     "text": [
      "epoch: 181/199: 100%|██████████| 21440/21440 [00:18<00:00, 1129.07it/s, loss=0.001131]\n"
     ]
    },
    {
     "name": "stdout",
     "output_type": "stream",
     "text": [
      "eval psnr: 33.14\n"
     ]
    },
    {
     "name": "stderr",
     "output_type": "stream",
     "text": [
      "epoch: 182/199: 100%|██████████| 21440/21440 [00:17<00:00, 1214.39it/s, loss=0.001131]\n"
     ]
    },
    {
     "name": "stdout",
     "output_type": "stream",
     "text": [
      "eval psnr: 33.11\n"
     ]
    },
    {
     "name": "stderr",
     "output_type": "stream",
     "text": [
      "epoch: 183/199: 100%|██████████| 21440/21440 [00:17<00:00, 1252.56it/s, loss=0.001130]\n"
     ]
    },
    {
     "name": "stdout",
     "output_type": "stream",
     "text": [
      "eval psnr: 33.12\n"
     ]
    },
    {
     "name": "stderr",
     "output_type": "stream",
     "text": [
      "epoch: 184/199: 100%|██████████| 21440/21440 [00:17<00:00, 1235.73it/s, loss=0.001131]\n"
     ]
    },
    {
     "name": "stdout",
     "output_type": "stream",
     "text": [
      "eval psnr: 33.12\n"
     ]
    },
    {
     "name": "stderr",
     "output_type": "stream",
     "text": [
      "epoch: 185/199: 100%|██████████| 21440/21440 [00:17<00:00, 1252.70it/s, loss=0.001130]\n"
     ]
    },
    {
     "name": "stdout",
     "output_type": "stream",
     "text": [
      "eval psnr: 33.12\n"
     ]
    },
    {
     "name": "stderr",
     "output_type": "stream",
     "text": [
      "epoch: 186/199: 100%|██████████| 21440/21440 [00:17<00:00, 1248.33it/s, loss=0.001130]\n"
     ]
    },
    {
     "name": "stdout",
     "output_type": "stream",
     "text": [
      "eval psnr: 33.14\n"
     ]
    },
    {
     "name": "stderr",
     "output_type": "stream",
     "text": [
      "epoch: 187/199: 100%|██████████| 21440/21440 [00:17<00:00, 1246.66it/s, loss=0.001130]\n"
     ]
    },
    {
     "name": "stdout",
     "output_type": "stream",
     "text": [
      "eval psnr: 33.10\n"
     ]
    },
    {
     "name": "stderr",
     "output_type": "stream",
     "text": [
      "epoch: 188/199: 100%|██████████| 21440/21440 [00:17<00:00, 1223.33it/s, loss=0.001130]\n"
     ]
    },
    {
     "name": "stdout",
     "output_type": "stream",
     "text": [
      "eval psnr: 33.11\n"
     ]
    },
    {
     "name": "stderr",
     "output_type": "stream",
     "text": [
      "epoch: 189/199: 100%|██████████| 21440/21440 [00:17<00:00, 1239.02it/s, loss=0.001130]\n"
     ]
    },
    {
     "name": "stdout",
     "output_type": "stream",
     "text": [
      "eval psnr: 33.11\n"
     ]
    },
    {
     "name": "stderr",
     "output_type": "stream",
     "text": [
      "epoch: 190/199: 100%|██████████| 21440/21440 [00:17<00:00, 1249.71it/s, loss=0.001129]\n"
     ]
    },
    {
     "name": "stdout",
     "output_type": "stream",
     "text": [
      "eval psnr: 33.12\n"
     ]
    },
    {
     "name": "stderr",
     "output_type": "stream",
     "text": [
      "epoch: 191/199: 100%|██████████| 21440/21440 [00:17<00:00, 1237.59it/s, loss=0.001130]\n"
     ]
    },
    {
     "name": "stdout",
     "output_type": "stream",
     "text": [
      "eval psnr: 33.12\n"
     ]
    },
    {
     "name": "stderr",
     "output_type": "stream",
     "text": [
      "epoch: 192/199: 100%|██████████| 21440/21440 [00:17<00:00, 1248.84it/s, loss=0.001130]\n"
     ]
    },
    {
     "name": "stdout",
     "output_type": "stream",
     "text": [
      "eval psnr: 33.14\n"
     ]
    },
    {
     "name": "stderr",
     "output_type": "stream",
     "text": [
      "epoch: 193/199: 100%|██████████| 21440/21440 [00:17<00:00, 1247.96it/s, loss=0.001130]\n"
     ]
    },
    {
     "name": "stdout",
     "output_type": "stream",
     "text": [
      "eval psnr: 33.13\n"
     ]
    },
    {
     "name": "stderr",
     "output_type": "stream",
     "text": [
      "epoch: 194/199: 100%|██████████| 21440/21440 [00:17<00:00, 1248.04it/s, loss=0.001129]\n"
     ]
    },
    {
     "name": "stdout",
     "output_type": "stream",
     "text": [
      "eval psnr: 33.12\n"
     ]
    },
    {
     "name": "stderr",
     "output_type": "stream",
     "text": [
      "epoch: 195/199: 100%|██████████| 21440/21440 [00:17<00:00, 1246.44it/s, loss=0.001129]\n"
     ]
    },
    {
     "name": "stdout",
     "output_type": "stream",
     "text": [
      "eval psnr: 33.12\n"
     ]
    },
    {
     "name": "stderr",
     "output_type": "stream",
     "text": [
      "epoch: 196/199: 100%|██████████| 21440/21440 [00:17<00:00, 1241.39it/s, loss=0.001129]\n"
     ]
    },
    {
     "name": "stdout",
     "output_type": "stream",
     "text": [
      "eval psnr: 33.13\n"
     ]
    },
    {
     "name": "stderr",
     "output_type": "stream",
     "text": [
      "epoch: 197/199: 100%|██████████| 21440/21440 [00:17<00:00, 1236.52it/s, loss=0.001129]\n"
     ]
    },
    {
     "name": "stdout",
     "output_type": "stream",
     "text": [
      "eval psnr: 33.10\n"
     ]
    },
    {
     "name": "stderr",
     "output_type": "stream",
     "text": [
      "epoch: 198/199: 100%|██████████| 21440/21440 [00:17<00:00, 1243.48it/s, loss=0.001129]\n"
     ]
    },
    {
     "name": "stdout",
     "output_type": "stream",
     "text": [
      "eval psnr: 33.12\n"
     ]
    },
    {
     "name": "stderr",
     "output_type": "stream",
     "text": [
      "epoch: 199/199: 100%|██████████| 21440/21440 [00:17<00:00, 1239.95it/s, loss=0.001129]\n"
     ]
    },
    {
     "name": "stdout",
     "output_type": "stream",
     "text": [
      "eval psnr: 33.16\n",
      "best epoch: 199, psnr: 33.16\n",
      "[INFO] Register count_convNd() for <class 'torch.nn.modules.conv.Conv2d'>.\n",
      "[INFO] Register count_relu() for <class 'torch.nn.modules.activation.LeakyReLU'>.\n",
      "[INFO] Register zero_ops() for <class 'torch.nn.modules.container.Sequential'>.\n",
      "test psnr: 29.48\n",
      "net params: 9.793K\n",
      "net flops: 2.198G\n"
     ]
    }
   ],
   "source": [
    "if __name__ == \"__main__\":\n",
    "    trainer_4 = Trainer(model_name='Res_SRCNN')\n",
    "    trainer_4.run()"
   ]
  },
  {
   "cell_type": "code",
   "execution_count": 17,
   "metadata": {},
   "outputs": [
    {
     "name": "stdout",
     "output_type": "stream",
     "text": [
      "---------- start train Res_ESPCN model ----------\n"
     ]
    },
    {
     "name": "stderr",
     "output_type": "stream",
     "text": [
      "epoch: 0/199: 100%|██████████| 2688/2688 [00:02<00:00, 1233.59it/s, loss=0.017330]\n"
     ]
    },
    {
     "name": "stdout",
     "output_type": "stream",
     "text": [
      "eval psnr: 26.01\n"
     ]
    },
    {
     "name": "stderr",
     "output_type": "stream",
     "text": [
      "epoch: 1/199: 100%|██████████| 2688/2688 [00:02<00:00, 1287.36it/s, loss=0.003540]\n"
     ]
    },
    {
     "name": "stdout",
     "output_type": "stream",
     "text": [
      "eval psnr: 28.45\n"
     ]
    },
    {
     "name": "stderr",
     "output_type": "stream",
     "text": [
      "epoch: 2/199: 100%|██████████| 2688/2688 [00:02<00:00, 1283.06it/s, loss=0.002657]\n"
     ]
    },
    {
     "name": "stdout",
     "output_type": "stream",
     "text": [
      "eval psnr: 29.46\n"
     ]
    },
    {
     "name": "stderr",
     "output_type": "stream",
     "text": [
      "epoch: 3/199: 100%|██████████| 2688/2688 [00:02<00:00, 1256.66it/s, loss=0.002228]\n"
     ]
    },
    {
     "name": "stdout",
     "output_type": "stream",
     "text": [
      "eval psnr: 29.86\n"
     ]
    },
    {
     "name": "stderr",
     "output_type": "stream",
     "text": [
      "epoch: 4/199: 100%|██████████| 2688/2688 [00:02<00:00, 1252.56it/s, loss=0.001985]\n"
     ]
    },
    {
     "name": "stdout",
     "output_type": "stream",
     "text": [
      "eval psnr: 30.18\n"
     ]
    },
    {
     "name": "stderr",
     "output_type": "stream",
     "text": [
      "epoch: 5/199: 100%|██████████| 2688/2688 [00:02<00:00, 1271.52it/s, loss=0.001825]\n"
     ]
    },
    {
     "name": "stdout",
     "output_type": "stream",
     "text": [
      "eval psnr: 31.01\n"
     ]
    },
    {
     "name": "stderr",
     "output_type": "stream",
     "text": [
      "epoch: 6/199: 100%|██████████| 2688/2688 [00:02<00:00, 1280.00it/s, loss=0.001693]\n"
     ]
    },
    {
     "name": "stdout",
     "output_type": "stream",
     "text": [
      "eval psnr: 31.40\n"
     ]
    },
    {
     "name": "stderr",
     "output_type": "stream",
     "text": [
      "epoch: 7/199: 100%|██████████| 2688/2688 [00:02<00:00, 1271.52it/s, loss=0.001607]\n"
     ]
    },
    {
     "name": "stdout",
     "output_type": "stream",
     "text": [
      "eval psnr: 31.55\n"
     ]
    },
    {
     "name": "stderr",
     "output_type": "stream",
     "text": [
      "epoch: 8/199: 100%|██████████| 2688/2688 [00:02<00:00, 1273.93it/s, loss=0.001563]\n"
     ]
    },
    {
     "name": "stdout",
     "output_type": "stream",
     "text": [
      "eval psnr: 31.28\n"
     ]
    },
    {
     "name": "stderr",
     "output_type": "stream",
     "text": [
      "epoch: 9/199: 100%|██████████| 2688/2688 [00:02<00:00, 1252.56it/s, loss=0.001522]\n"
     ]
    },
    {
     "name": "stdout",
     "output_type": "stream",
     "text": [
      "eval psnr: 31.63\n"
     ]
    },
    {
     "name": "stderr",
     "output_type": "stream",
     "text": [
      "epoch: 10/199: 100%|██████████| 2688/2688 [00:02<00:00, 1253.73it/s, loss=0.001494]\n"
     ]
    },
    {
     "name": "stdout",
     "output_type": "stream",
     "text": [
      "eval psnr: 31.81\n"
     ]
    },
    {
     "name": "stderr",
     "output_type": "stream",
     "text": [
      "epoch: 11/199: 100%|██████████| 2688/2688 [00:02<00:00, 1264.35it/s, loss=0.001468]\n"
     ]
    },
    {
     "name": "stdout",
     "output_type": "stream",
     "text": [
      "eval psnr: 31.93\n"
     ]
    },
    {
     "name": "stderr",
     "output_type": "stream",
     "text": [
      "epoch: 12/199: 100%|██████████| 2688/2688 [00:02<00:00, 1250.23it/s, loss=0.001456]\n"
     ]
    },
    {
     "name": "stdout",
     "output_type": "stream",
     "text": [
      "eval psnr: 31.97\n"
     ]
    },
    {
     "name": "stderr",
     "output_type": "stream",
     "text": [
      "epoch: 13/199: 100%|██████████| 2688/2688 [00:02<00:00, 1266.13it/s, loss=0.001490]\n"
     ]
    },
    {
     "name": "stdout",
     "output_type": "stream",
     "text": [
      "eval psnr: 31.80\n"
     ]
    },
    {
     "name": "stderr",
     "output_type": "stream",
     "text": [
      "epoch: 14/199: 100%|██████████| 2688/2688 [00:02<00:00, 1253.15it/s, loss=0.001439]\n"
     ]
    },
    {
     "name": "stdout",
     "output_type": "stream",
     "text": [
      "eval psnr: 32.00\n"
     ]
    },
    {
     "name": "stderr",
     "output_type": "stream",
     "text": [
      "epoch: 15/199: 100%|██████████| 2688/2688 [00:02<00:00, 1263.16it/s, loss=0.001428]\n"
     ]
    },
    {
     "name": "stdout",
     "output_type": "stream",
     "text": [
      "eval psnr: 31.73\n"
     ]
    },
    {
     "name": "stderr",
     "output_type": "stream",
     "text": [
      "epoch: 16/199: 100%|██████████| 2688/2688 [00:02<00:00, 1229.64it/s, loss=0.001427]\n"
     ]
    },
    {
     "name": "stdout",
     "output_type": "stream",
     "text": [
      "eval psnr: 31.78\n"
     ]
    },
    {
     "name": "stderr",
     "output_type": "stream",
     "text": [
      "epoch: 17/199: 100%|██████████| 2688/2688 [00:02<00:00, 1241.00it/s, loss=0.001434]\n"
     ]
    },
    {
     "name": "stdout",
     "output_type": "stream",
     "text": [
      "eval psnr: 32.04\n"
     ]
    },
    {
     "name": "stderr",
     "output_type": "stream",
     "text": [
      "epoch: 18/199: 100%|██████████| 2688/2688 [00:02<00:00, 1233.59it/s, loss=0.001423]\n"
     ]
    },
    {
     "name": "stdout",
     "output_type": "stream",
     "text": [
      "eval psnr: 32.04\n"
     ]
    },
    {
     "name": "stderr",
     "output_type": "stream",
     "text": [
      "epoch: 19/199: 100%|██████████| 2688/2688 [00:02<00:00, 1239.28it/s, loss=0.001423]\n"
     ]
    },
    {
     "name": "stdout",
     "output_type": "stream",
     "text": [
      "eval psnr: 31.48\n"
     ]
    },
    {
     "name": "stderr",
     "output_type": "stream",
     "text": [
      "epoch: 20/199: 100%|██████████| 2688/2688 [00:02<00:00, 1222.93it/s, loss=0.001423]\n"
     ]
    },
    {
     "name": "stdout",
     "output_type": "stream",
     "text": [
      "eval psnr: 32.03\n"
     ]
    },
    {
     "name": "stderr",
     "output_type": "stream",
     "text": [
      "epoch: 21/199: 100%|██████████| 2688/2688 [00:02<00:00, 1239.28it/s, loss=0.001452]\n"
     ]
    },
    {
     "name": "stdout",
     "output_type": "stream",
     "text": [
      "eval psnr: 31.99\n"
     ]
    },
    {
     "name": "stderr",
     "output_type": "stream",
     "text": [
      "epoch: 22/199: 100%|██████████| 2688/2688 [00:02<00:00, 1216.29it/s, loss=0.001412]\n"
     ]
    },
    {
     "name": "stdout",
     "output_type": "stream",
     "text": [
      "eval psnr: 32.03\n"
     ]
    },
    {
     "name": "stderr",
     "output_type": "stream",
     "text": [
      "epoch: 23/199: 100%|██████████| 2688/2688 [00:02<00:00, 1234.73it/s, loss=0.001414]\n"
     ]
    },
    {
     "name": "stdout",
     "output_type": "stream",
     "text": [
      "eval psnr: 31.96\n"
     ]
    },
    {
     "name": "stderr",
     "output_type": "stream",
     "text": [
      "epoch: 24/199: 100%|██████████| 2688/2688 [00:02<00:00, 1229.08it/s, loss=0.001412]\n"
     ]
    },
    {
     "name": "stdout",
     "output_type": "stream",
     "text": [
      "eval psnr: 32.02\n"
     ]
    },
    {
     "name": "stderr",
     "output_type": "stream",
     "text": [
      "epoch: 25/199: 100%|██████████| 2688/2688 [00:02<00:00, 1267.33it/s, loss=0.001418]\n"
     ]
    },
    {
     "name": "stdout",
     "output_type": "stream",
     "text": [
      "eval psnr: 32.05\n"
     ]
    },
    {
     "name": "stderr",
     "output_type": "stream",
     "text": [
      "epoch: 26/199: 100%|██████████| 2688/2688 [00:02<00:00, 1239.28it/s, loss=0.001415]\n"
     ]
    },
    {
     "name": "stdout",
     "output_type": "stream",
     "text": [
      "eval psnr: 32.04\n"
     ]
    },
    {
     "name": "stderr",
     "output_type": "stream",
     "text": [
      "epoch: 27/199: 100%|██████████| 2688/2688 [00:02<00:00, 1229.08it/s, loss=0.001427]\n"
     ]
    },
    {
     "name": "stdout",
     "output_type": "stream",
     "text": [
      "eval psnr: 29.49\n"
     ]
    },
    {
     "name": "stderr",
     "output_type": "stream",
     "text": [
      "epoch: 28/199: 100%|██████████| 2688/2688 [00:02<00:00, 1233.03it/s, loss=0.001426]\n"
     ]
    },
    {
     "name": "stdout",
     "output_type": "stream",
     "text": [
      "eval psnr: 31.87\n"
     ]
    },
    {
     "name": "stderr",
     "output_type": "stream",
     "text": [
      "epoch: 29/199: 100%|██████████| 2688/2688 [00:02<00:00, 1220.71it/s, loss=0.001408]\n"
     ]
    },
    {
     "name": "stdout",
     "output_type": "stream",
     "text": [
      "eval psnr: 31.73\n"
     ]
    },
    {
     "name": "stderr",
     "output_type": "stream",
     "text": [
      "epoch: 30/199: 100%|██████████| 2688/2688 [00:02<00:00, 1234.73it/s, loss=0.001409]\n"
     ]
    },
    {
     "name": "stdout",
     "output_type": "stream",
     "text": [
      "eval psnr: 32.06\n"
     ]
    },
    {
     "name": "stderr",
     "output_type": "stream",
     "text": [
      "epoch: 31/199: 100%|██████████| 2688/2688 [00:02<00:00, 1233.03it/s, loss=0.001409]\n"
     ]
    },
    {
     "name": "stdout",
     "output_type": "stream",
     "text": [
      "eval psnr: 32.04\n"
     ]
    },
    {
     "name": "stderr",
     "output_type": "stream",
     "text": [
      "epoch: 32/199: 100%|██████████| 2688/2688 [00:02<00:00, 1253.73it/s, loss=0.001420]\n"
     ]
    },
    {
     "name": "stdout",
     "output_type": "stream",
     "text": [
      "eval psnr: 32.03\n"
     ]
    },
    {
     "name": "stderr",
     "output_type": "stream",
     "text": [
      "epoch: 33/199: 100%|██████████| 2688/2688 [00:02<00:00, 1208.63it/s, loss=0.001407]\n"
     ]
    },
    {
     "name": "stdout",
     "output_type": "stream",
     "text": [
      "eval psnr: 31.99\n"
     ]
    },
    {
     "name": "stderr",
     "output_type": "stream",
     "text": [
      "epoch: 34/199: 100%|██████████| 2688/2688 [00:02<00:00, 1223.49it/s, loss=0.001413]\n"
     ]
    },
    {
     "name": "stdout",
     "output_type": "stream",
     "text": [
      "eval psnr: 32.01\n"
     ]
    },
    {
     "name": "stderr",
     "output_type": "stream",
     "text": [
      "epoch: 35/199: 100%|██████████| 2688/2688 [00:02<00:00, 1231.90it/s, loss=0.001419]\n"
     ]
    },
    {
     "name": "stdout",
     "output_type": "stream",
     "text": [
      "eval psnr: 32.02\n"
     ]
    },
    {
     "name": "stderr",
     "output_type": "stream",
     "text": [
      "epoch: 36/199: 100%|██████████| 2688/2688 [00:02<00:00, 1214.09it/s, loss=0.001401]\n"
     ]
    },
    {
     "name": "stdout",
     "output_type": "stream",
     "text": [
      "eval psnr: 32.01\n"
     ]
    },
    {
     "name": "stderr",
     "output_type": "stream",
     "text": [
      "epoch: 37/199: 100%|██████████| 2688/2688 [00:02<00:00, 1237.57it/s, loss=0.001399]\n"
     ]
    },
    {
     "name": "stdout",
     "output_type": "stream",
     "text": [
      "eval psnr: 32.06\n"
     ]
    },
    {
     "name": "stderr",
     "output_type": "stream",
     "text": [
      "epoch: 38/199: 100%|██████████| 2688/2688 [00:02<00:00, 1235.29it/s, loss=0.001408]\n"
     ]
    },
    {
     "name": "stdout",
     "output_type": "stream",
     "text": [
      "eval psnr: 32.05\n"
     ]
    },
    {
     "name": "stderr",
     "output_type": "stream",
     "text": [
      "epoch: 39/199: 100%|██████████| 2688/2688 [00:02<00:00, 1239.85it/s, loss=0.001403]\n"
     ]
    },
    {
     "name": "stdout",
     "output_type": "stream",
     "text": [
      "eval psnr: 31.98\n"
     ]
    },
    {
     "name": "stderr",
     "output_type": "stream",
     "text": [
      "epoch: 40/199: 100%|██████████| 2688/2688 [00:02<00:00, 1229.64it/s, loss=0.001407]\n"
     ]
    },
    {
     "name": "stdout",
     "output_type": "stream",
     "text": [
      "eval psnr: 32.08\n"
     ]
    },
    {
     "name": "stderr",
     "output_type": "stream",
     "text": [
      "epoch: 41/199: 100%|██████████| 2688/2688 [00:02<00:00, 1237.57it/s, loss=0.001401]\n"
     ]
    },
    {
     "name": "stdout",
     "output_type": "stream",
     "text": [
      "eval psnr: 32.03\n"
     ]
    },
    {
     "name": "stderr",
     "output_type": "stream",
     "text": [
      "epoch: 42/199: 100%|██████████| 2688/2688 [00:02<00:00, 1236.43it/s, loss=0.001394]\n"
     ]
    },
    {
     "name": "stdout",
     "output_type": "stream",
     "text": [
      "eval psnr: 31.76\n"
     ]
    },
    {
     "name": "stderr",
     "output_type": "stream",
     "text": [
      "epoch: 43/199: 100%|██████████| 2688/2688 [00:02<00:00, 1239.28it/s, loss=0.001399]\n"
     ]
    },
    {
     "name": "stdout",
     "output_type": "stream",
     "text": [
      "eval psnr: 31.69\n"
     ]
    },
    {
     "name": "stderr",
     "output_type": "stream",
     "text": [
      "epoch: 44/199: 100%|██████████| 2688/2688 [00:02<00:00, 1245.02it/s, loss=0.001424]\n"
     ]
    },
    {
     "name": "stdout",
     "output_type": "stream",
     "text": [
      "eval psnr: 31.51\n"
     ]
    },
    {
     "name": "stderr",
     "output_type": "stream",
     "text": [
      "epoch: 45/199: 100%|██████████| 2688/2688 [00:02<00:00, 1239.85it/s, loss=0.001386]\n"
     ]
    },
    {
     "name": "stdout",
     "output_type": "stream",
     "text": [
      "eval psnr: 32.13\n"
     ]
    },
    {
     "name": "stderr",
     "output_type": "stream",
     "text": [
      "epoch: 46/199: 100%|██████████| 2688/2688 [00:02<00:00, 1241.57it/s, loss=0.001386]\n"
     ]
    },
    {
     "name": "stdout",
     "output_type": "stream",
     "text": [
      "eval psnr: 31.85\n"
     ]
    },
    {
     "name": "stderr",
     "output_type": "stream",
     "text": [
      "epoch: 47/199: 100%|██████████| 2688/2688 [00:02<00:00, 1239.28it/s, loss=0.001391]\n"
     ]
    },
    {
     "name": "stdout",
     "output_type": "stream",
     "text": [
      "eval psnr: 32.12\n"
     ]
    },
    {
     "name": "stderr",
     "output_type": "stream",
     "text": [
      "epoch: 48/199: 100%|██████████| 2688/2688 [00:02<00:00, 1231.90it/s, loss=0.001403]\n"
     ]
    },
    {
     "name": "stdout",
     "output_type": "stream",
     "text": [
      "eval psnr: 32.06\n"
     ]
    },
    {
     "name": "stderr",
     "output_type": "stream",
     "text": [
      "epoch: 49/199: 100%|██████████| 2688/2688 [00:02<00:00, 1235.29it/s, loss=0.001390]\n"
     ]
    },
    {
     "name": "stdout",
     "output_type": "stream",
     "text": [
      "eval psnr: 32.12\n"
     ]
    },
    {
     "name": "stderr",
     "output_type": "stream",
     "text": [
      "epoch: 50/199: 100%|██████████| 2688/2688 [00:02<00:00, 1233.59it/s, loss=0.001380]\n"
     ]
    },
    {
     "name": "stdout",
     "output_type": "stream",
     "text": [
      "eval psnr: 32.15\n"
     ]
    },
    {
     "name": "stderr",
     "output_type": "stream",
     "text": [
      "epoch: 51/199: 100%|██████████| 2688/2688 [00:02<00:00, 1233.03it/s, loss=0.001380]\n"
     ]
    },
    {
     "name": "stdout",
     "output_type": "stream",
     "text": [
      "eval psnr: 32.13\n"
     ]
    },
    {
     "name": "stderr",
     "output_type": "stream",
     "text": [
      "epoch: 52/199: 100%|██████████| 2688/2688 [00:02<00:00, 1246.18it/s, loss=0.001421]\n"
     ]
    },
    {
     "name": "stdout",
     "output_type": "stream",
     "text": [
      "eval psnr: 30.91\n"
     ]
    },
    {
     "name": "stderr",
     "output_type": "stream",
     "text": [
      "epoch: 53/199: 100%|██████████| 2688/2688 [00:02<00:00, 1241.00it/s, loss=0.001380]\n"
     ]
    },
    {
     "name": "stdout",
     "output_type": "stream",
     "text": [
      "eval psnr: 32.03\n"
     ]
    },
    {
     "name": "stderr",
     "output_type": "stream",
     "text": [
      "epoch: 54/199: 100%|██████████| 2688/2688 [00:02<00:00, 1233.59it/s, loss=0.001386]\n"
     ]
    },
    {
     "name": "stdout",
     "output_type": "stream",
     "text": [
      "eval psnr: 31.97\n"
     ]
    },
    {
     "name": "stderr",
     "output_type": "stream",
     "text": [
      "epoch: 55/199: 100%|██████████| 2688/2688 [00:02<00:00, 1233.59it/s, loss=0.001377]\n"
     ]
    },
    {
     "name": "stdout",
     "output_type": "stream",
     "text": [
      "eval psnr: 32.15\n"
     ]
    },
    {
     "name": "stderr",
     "output_type": "stream",
     "text": [
      "epoch: 56/199: 100%|██████████| 2688/2688 [00:02<00:00, 1223.49it/s, loss=0.001375]\n"
     ]
    },
    {
     "name": "stdout",
     "output_type": "stream",
     "text": [
      "eval psnr: 32.14\n"
     ]
    },
    {
     "name": "stderr",
     "output_type": "stream",
     "text": [
      "epoch: 57/199: 100%|██████████| 2688/2688 [00:02<00:00, 1231.90it/s, loss=0.001379]\n"
     ]
    },
    {
     "name": "stdout",
     "output_type": "stream",
     "text": [
      "eval psnr: 32.11\n"
     ]
    },
    {
     "name": "stderr",
     "output_type": "stream",
     "text": [
      "epoch: 58/199: 100%|██████████| 2688/2688 [00:02<00:00, 1234.73it/s, loss=0.001378]\n"
     ]
    },
    {
     "name": "stdout",
     "output_type": "stream",
     "text": [
      "eval psnr: 32.00\n"
     ]
    },
    {
     "name": "stderr",
     "output_type": "stream",
     "text": [
      "epoch: 59/199: 100%|██████████| 2688/2688 [00:02<00:00, 1240.42it/s, loss=0.001388]\n"
     ]
    },
    {
     "name": "stdout",
     "output_type": "stream",
     "text": [
      "eval psnr: 32.16\n"
     ]
    },
    {
     "name": "stderr",
     "output_type": "stream",
     "text": [
      "epoch: 60/199: 100%|██████████| 2688/2688 [00:02<00:00, 1239.28it/s, loss=0.001374]\n"
     ]
    },
    {
     "name": "stdout",
     "output_type": "stream",
     "text": [
      "eval psnr: 32.17\n"
     ]
    },
    {
     "name": "stderr",
     "output_type": "stream",
     "text": [
      "epoch: 61/199: 100%|██████████| 2688/2688 [00:02<00:00, 1241.57it/s, loss=0.001370]\n"
     ]
    },
    {
     "name": "stdout",
     "output_type": "stream",
     "text": [
      "eval psnr: 32.18\n"
     ]
    },
    {
     "name": "stderr",
     "output_type": "stream",
     "text": [
      "epoch: 62/199: 100%|██████████| 2688/2688 [00:02<00:00, 1239.28it/s, loss=0.001366]\n"
     ]
    },
    {
     "name": "stdout",
     "output_type": "stream",
     "text": [
      "eval psnr: 32.06\n"
     ]
    },
    {
     "name": "stderr",
     "output_type": "stream",
     "text": [
      "epoch: 63/199: 100%|██████████| 2688/2688 [00:02<00:00, 1230.77it/s, loss=0.001370]\n"
     ]
    },
    {
     "name": "stdout",
     "output_type": "stream",
     "text": [
      "eval psnr: 32.19\n"
     ]
    },
    {
     "name": "stderr",
     "output_type": "stream",
     "text": [
      "epoch: 64/199: 100%|██████████| 2688/2688 [00:02<00:00, 1239.85it/s, loss=0.001369]\n"
     ]
    },
    {
     "name": "stdout",
     "output_type": "stream",
     "text": [
      "eval psnr: 32.23\n"
     ]
    },
    {
     "name": "stderr",
     "output_type": "stream",
     "text": [
      "epoch: 65/199: 100%|██████████| 2688/2688 [00:02<00:00, 1226.28it/s, loss=0.001367]\n"
     ]
    },
    {
     "name": "stdout",
     "output_type": "stream",
     "text": [
      "eval psnr: 32.16\n"
     ]
    },
    {
     "name": "stderr",
     "output_type": "stream",
     "text": [
      "epoch: 66/199: 100%|██████████| 2688/2688 [00:02<00:00, 1245.60it/s, loss=0.001370]\n"
     ]
    },
    {
     "name": "stdout",
     "output_type": "stream",
     "text": [
      "eval psnr: 32.14\n"
     ]
    },
    {
     "name": "stderr",
     "output_type": "stream",
     "text": [
      "epoch: 67/199: 100%|██████████| 2688/2688 [00:02<00:00, 1228.52it/s, loss=0.001359]\n"
     ]
    },
    {
     "name": "stdout",
     "output_type": "stream",
     "text": [
      "eval psnr: 32.16\n"
     ]
    },
    {
     "name": "stderr",
     "output_type": "stream",
     "text": [
      "epoch: 68/199: 100%|██████████| 2688/2688 [00:02<00:00, 1251.40it/s, loss=0.001369]\n"
     ]
    },
    {
     "name": "stdout",
     "output_type": "stream",
     "text": [
      "eval psnr: 32.12\n"
     ]
    },
    {
     "name": "stderr",
     "output_type": "stream",
     "text": [
      "epoch: 69/199: 100%|██████████| 2688/2688 [00:02<00:00, 1227.96it/s, loss=0.001363]\n"
     ]
    },
    {
     "name": "stdout",
     "output_type": "stream",
     "text": [
      "eval psnr: 32.26\n"
     ]
    },
    {
     "name": "stderr",
     "output_type": "stream",
     "text": [
      "epoch: 70/199: 100%|██████████| 2688/2688 [00:02<00:00, 1237.00it/s, loss=0.001359]\n"
     ]
    },
    {
     "name": "stdout",
     "output_type": "stream",
     "text": [
      "eval psnr: 32.22\n"
     ]
    },
    {
     "name": "stderr",
     "output_type": "stream",
     "text": [
      "epoch: 71/199: 100%|██████████| 2688/2688 [00:02<00:00, 1226.28it/s, loss=0.001351]\n"
     ]
    },
    {
     "name": "stdout",
     "output_type": "stream",
     "text": [
      "eval psnr: 32.27\n"
     ]
    },
    {
     "name": "stderr",
     "output_type": "stream",
     "text": [
      "epoch: 72/199: 100%|██████████| 2688/2688 [00:02<00:00, 1231.90it/s, loss=0.001355]\n"
     ]
    },
    {
     "name": "stdout",
     "output_type": "stream",
     "text": [
      "eval psnr: 32.18\n"
     ]
    },
    {
     "name": "stderr",
     "output_type": "stream",
     "text": [
      "epoch: 73/199: 100%|██████████| 2688/2688 [00:02<00:00, 1233.59it/s, loss=0.001359]\n"
     ]
    },
    {
     "name": "stdout",
     "output_type": "stream",
     "text": [
      "eval psnr: 32.27\n"
     ]
    },
    {
     "name": "stderr",
     "output_type": "stream",
     "text": [
      "epoch: 74/199: 100%|██████████| 2688/2688 [00:02<00:00, 1233.03it/s, loss=0.001359]\n"
     ]
    },
    {
     "name": "stdout",
     "output_type": "stream",
     "text": [
      "eval psnr: 32.24\n"
     ]
    },
    {
     "name": "stderr",
     "output_type": "stream",
     "text": [
      "epoch: 75/199: 100%|██████████| 2688/2688 [00:02<00:00, 1235.29it/s, loss=0.001361]\n"
     ]
    },
    {
     "name": "stdout",
     "output_type": "stream",
     "text": [
      "eval psnr: 32.17\n"
     ]
    },
    {
     "name": "stderr",
     "output_type": "stream",
     "text": [
      "epoch: 76/199: 100%|██████████| 2688/2688 [00:02<00:00, 1233.03it/s, loss=0.001349]\n"
     ]
    },
    {
     "name": "stdout",
     "output_type": "stream",
     "text": [
      "eval psnr: 32.16\n"
     ]
    },
    {
     "name": "stderr",
     "output_type": "stream",
     "text": [
      "epoch: 77/199: 100%|██████████| 2688/2688 [00:02<00:00, 1249.07it/s, loss=0.001355]\n"
     ]
    },
    {
     "name": "stdout",
     "output_type": "stream",
     "text": [
      "eval psnr: 32.27\n"
     ]
    },
    {
     "name": "stderr",
     "output_type": "stream",
     "text": [
      "epoch: 78/199: 100%|██████████| 2688/2688 [00:02<00:00, 1226.84it/s, loss=0.001347]\n"
     ]
    },
    {
     "name": "stdout",
     "output_type": "stream",
     "text": [
      "eval psnr: 32.22\n"
     ]
    },
    {
     "name": "stderr",
     "output_type": "stream",
     "text": [
      "epoch: 79/199: 100%|██████████| 2688/2688 [00:02<00:00, 1226.28it/s, loss=0.001350]\n"
     ]
    },
    {
     "name": "stdout",
     "output_type": "stream",
     "text": [
      "eval psnr: 32.29\n"
     ]
    },
    {
     "name": "stderr",
     "output_type": "stream",
     "text": [
      "epoch: 80/199: 100%|██████████| 2688/2688 [00:02<00:00, 1243.87it/s, loss=0.001386]\n"
     ]
    },
    {
     "name": "stdout",
     "output_type": "stream",
     "text": [
      "eval psnr: 32.29\n"
     ]
    },
    {
     "name": "stderr",
     "output_type": "stream",
     "text": [
      "epoch: 81/199: 100%|██████████| 2688/2688 [00:02<00:00, 1233.59it/s, loss=0.001342]\n"
     ]
    },
    {
     "name": "stdout",
     "output_type": "stream",
     "text": [
      "eval psnr: 32.28\n"
     ]
    },
    {
     "name": "stderr",
     "output_type": "stream",
     "text": [
      "epoch: 82/199: 100%|██████████| 2688/2688 [00:02<00:00, 1235.29it/s, loss=0.001342]\n"
     ]
    },
    {
     "name": "stdout",
     "output_type": "stream",
     "text": [
      "eval psnr: 32.33\n"
     ]
    },
    {
     "name": "stderr",
     "output_type": "stream",
     "text": [
      "epoch: 83/199: 100%|██████████| 2688/2688 [00:02<00:00, 1226.84it/s, loss=0.001338]\n"
     ]
    },
    {
     "name": "stdout",
     "output_type": "stream",
     "text": [
      "eval psnr: 32.29\n"
     ]
    },
    {
     "name": "stderr",
     "output_type": "stream",
     "text": [
      "epoch: 84/199: 100%|██████████| 2688/2688 [00:02<00:00, 1215.74it/s, loss=0.001343]\n"
     ]
    },
    {
     "name": "stdout",
     "output_type": "stream",
     "text": [
      "eval psnr: 32.27\n"
     ]
    },
    {
     "name": "stderr",
     "output_type": "stream",
     "text": [
      "epoch: 85/199: 100%|██████████| 2688/2688 [00:02<00:00, 1213.00it/s, loss=0.001348]\n"
     ]
    },
    {
     "name": "stdout",
     "output_type": "stream",
     "text": [
      "eval psnr: 31.80\n"
     ]
    },
    {
     "name": "stderr",
     "output_type": "stream",
     "text": [
      "epoch: 86/199: 100%|██████████| 2688/2688 [00:02<00:00, 1219.60it/s, loss=0.001351]\n"
     ]
    },
    {
     "name": "stdout",
     "output_type": "stream",
     "text": [
      "eval psnr: 32.31\n"
     ]
    },
    {
     "name": "stderr",
     "output_type": "stream",
     "text": [
      "epoch: 87/199: 100%|██████████| 2688/2688 [00:02<00:00, 1216.84it/s, loss=0.001341]\n"
     ]
    },
    {
     "name": "stdout",
     "output_type": "stream",
     "text": [
      "eval psnr: 32.19\n"
     ]
    },
    {
     "name": "stderr",
     "output_type": "stream",
     "text": [
      "epoch: 88/199: 100%|██████████| 2688/2688 [00:02<00:00, 1220.71it/s, loss=0.001339]\n"
     ]
    },
    {
     "name": "stdout",
     "output_type": "stream",
     "text": [
      "eval psnr: 32.25\n"
     ]
    },
    {
     "name": "stderr",
     "output_type": "stream",
     "text": [
      "epoch: 89/199: 100%|██████████| 2688/2688 [00:02<00:00, 1218.49it/s, loss=0.001347]\n"
     ]
    },
    {
     "name": "stdout",
     "output_type": "stream",
     "text": [
      "eval psnr: 32.32\n"
     ]
    },
    {
     "name": "stderr",
     "output_type": "stream",
     "text": [
      "epoch: 90/199: 100%|██████████| 2688/2688 [00:02<00:00, 1221.26it/s, loss=0.001328]\n"
     ]
    },
    {
     "name": "stdout",
     "output_type": "stream",
     "text": [
      "eval psnr: 32.39\n"
     ]
    },
    {
     "name": "stderr",
     "output_type": "stream",
     "text": [
      "epoch: 91/199: 100%|██████████| 2688/2688 [00:02<00:00, 1225.16it/s, loss=0.001327]\n"
     ]
    },
    {
     "name": "stdout",
     "output_type": "stream",
     "text": [
      "eval psnr: 32.39\n"
     ]
    },
    {
     "name": "stderr",
     "output_type": "stream",
     "text": [
      "epoch: 92/199: 100%|██████████| 2688/2688 [00:02<00:00, 1213.54it/s, loss=0.001334]\n"
     ]
    },
    {
     "name": "stdout",
     "output_type": "stream",
     "text": [
      "eval psnr: 32.20\n"
     ]
    },
    {
     "name": "stderr",
     "output_type": "stream",
     "text": [
      "epoch: 93/199: 100%|██████████| 2688/2688 [00:02<00:00, 1209.18it/s, loss=0.001331]\n"
     ]
    },
    {
     "name": "stdout",
     "output_type": "stream",
     "text": [
      "eval psnr: 32.34\n"
     ]
    },
    {
     "name": "stderr",
     "output_type": "stream",
     "text": [
      "epoch: 94/199: 100%|██████████| 2688/2688 [00:02<00:00, 1215.74it/s, loss=0.001328]\n"
     ]
    },
    {
     "name": "stdout",
     "output_type": "stream",
     "text": [
      "eval psnr: 32.37\n"
     ]
    },
    {
     "name": "stderr",
     "output_type": "stream",
     "text": [
      "epoch: 95/199: 100%|██████████| 2688/2688 [00:02<00:00, 1219.60it/s, loss=0.001319]\n"
     ]
    },
    {
     "name": "stdout",
     "output_type": "stream",
     "text": [
      "eval psnr: 32.35\n"
     ]
    },
    {
     "name": "stderr",
     "output_type": "stream",
     "text": [
      "epoch: 96/199: 100%|██████████| 2688/2688 [00:02<00:00, 1218.50it/s, loss=0.001326]\n"
     ]
    },
    {
     "name": "stdout",
     "output_type": "stream",
     "text": [
      "eval psnr: 32.35\n"
     ]
    },
    {
     "name": "stderr",
     "output_type": "stream",
     "text": [
      "epoch: 97/199: 100%|██████████| 2688/2688 [00:02<00:00, 1214.09it/s, loss=0.001322]\n"
     ]
    },
    {
     "name": "stdout",
     "output_type": "stream",
     "text": [
      "eval psnr: 32.14\n"
     ]
    },
    {
     "name": "stderr",
     "output_type": "stream",
     "text": [
      "epoch: 98/199: 100%|██████████| 2688/2688 [00:02<00:00, 1219.60it/s, loss=0.001319]\n"
     ]
    },
    {
     "name": "stdout",
     "output_type": "stream",
     "text": [
      "eval psnr: 32.28\n"
     ]
    },
    {
     "name": "stderr",
     "output_type": "stream",
     "text": [
      "epoch: 99/199: 100%|██████████| 2688/2688 [00:02<00:00, 1203.22it/s, loss=0.001343]\n"
     ]
    },
    {
     "name": "stdout",
     "output_type": "stream",
     "text": [
      "eval psnr: 32.36\n"
     ]
    },
    {
     "name": "stderr",
     "output_type": "stream",
     "text": [
      "epoch: 100/199: 100%|██████████| 2688/2688 [00:02<00:00, 1214.64it/s, loss=0.001316]\n"
     ]
    },
    {
     "name": "stdout",
     "output_type": "stream",
     "text": [
      "eval psnr: 32.39\n"
     ]
    },
    {
     "name": "stderr",
     "output_type": "stream",
     "text": [
      "epoch: 101/199: 100%|██████████| 2688/2688 [00:02<00:00, 1210.27it/s, loss=0.001313]\n"
     ]
    },
    {
     "name": "stdout",
     "output_type": "stream",
     "text": [
      "eval psnr: 32.46\n"
     ]
    },
    {
     "name": "stderr",
     "output_type": "stream",
     "text": [
      "epoch: 102/199: 100%|██████████| 2688/2688 [00:02<00:00, 1227.96it/s, loss=0.001312]\n"
     ]
    },
    {
     "name": "stdout",
     "output_type": "stream",
     "text": [
      "eval psnr: 32.46\n"
     ]
    },
    {
     "name": "stderr",
     "output_type": "stream",
     "text": [
      "epoch: 103/199: 100%|██████████| 2688/2688 [00:02<00:00, 1211.90it/s, loss=0.001310]\n"
     ]
    },
    {
     "name": "stdout",
     "output_type": "stream",
     "text": [
      "eval psnr: 32.50\n"
     ]
    },
    {
     "name": "stderr",
     "output_type": "stream",
     "text": [
      "epoch: 104/199: 100%|██████████| 2688/2688 [00:02<00:00, 1226.28it/s, loss=0.001308]\n"
     ]
    },
    {
     "name": "stdout",
     "output_type": "stream",
     "text": [
      "eval psnr: 32.51\n"
     ]
    },
    {
     "name": "stderr",
     "output_type": "stream",
     "text": [
      "epoch: 105/199: 100%|██████████| 2688/2688 [00:02<00:00, 1213.00it/s, loss=0.001309]\n"
     ]
    },
    {
     "name": "stdout",
     "output_type": "stream",
     "text": [
      "eval psnr: 32.53\n"
     ]
    },
    {
     "name": "stderr",
     "output_type": "stream",
     "text": [
      "epoch: 106/199: 100%|██████████| 2688/2688 [00:02<00:00, 1214.64it/s, loss=0.001308]\n"
     ]
    },
    {
     "name": "stdout",
     "output_type": "stream",
     "text": [
      "eval psnr: 32.56\n"
     ]
    },
    {
     "name": "stderr",
     "output_type": "stream",
     "text": [
      "epoch: 107/199: 100%|██████████| 2688/2688 [00:02<00:00, 1212.99it/s, loss=0.001294]\n"
     ]
    },
    {
     "name": "stdout",
     "output_type": "stream",
     "text": [
      "eval psnr: 32.51\n"
     ]
    },
    {
     "name": "stderr",
     "output_type": "stream",
     "text": [
      "epoch: 108/199: 100%|██████████| 2688/2688 [00:02<00:00, 1200.54it/s, loss=0.001287]\n"
     ]
    },
    {
     "name": "stdout",
     "output_type": "stream",
     "text": [
      "eval psnr: 32.56\n"
     ]
    },
    {
     "name": "stderr",
     "output_type": "stream",
     "text": [
      "epoch: 109/199: 100%|██████████| 2688/2688 [00:02<00:00, 1226.28it/s, loss=0.001290]\n"
     ]
    },
    {
     "name": "stdout",
     "output_type": "stream",
     "text": [
      "eval psnr: 32.64\n"
     ]
    },
    {
     "name": "stderr",
     "output_type": "stream",
     "text": [
      "epoch: 110/199: 100%|██████████| 2688/2688 [00:02<00:00, 1207.01it/s, loss=0.001288]\n"
     ]
    },
    {
     "name": "stdout",
     "output_type": "stream",
     "text": [
      "eval psnr: 32.68\n"
     ]
    },
    {
     "name": "stderr",
     "output_type": "stream",
     "text": [
      "epoch: 111/199: 100%|██████████| 2688/2688 [00:02<00:00, 1218.49it/s, loss=0.001279]\n"
     ]
    },
    {
     "name": "stdout",
     "output_type": "stream",
     "text": [
      "eval psnr: 32.68\n"
     ]
    },
    {
     "name": "stderr",
     "output_type": "stream",
     "text": [
      "epoch: 112/199: 100%|██████████| 2688/2688 [00:02<00:00, 1216.29it/s, loss=0.001285]\n"
     ]
    },
    {
     "name": "stdout",
     "output_type": "stream",
     "text": [
      "eval psnr: 32.65\n"
     ]
    },
    {
     "name": "stderr",
     "output_type": "stream",
     "text": [
      "epoch: 113/199: 100%|██████████| 2688/2688 [00:02<00:00, 1223.49it/s, loss=0.001279]\n"
     ]
    },
    {
     "name": "stdout",
     "output_type": "stream",
     "text": [
      "eval psnr: 32.69\n"
     ]
    },
    {
     "name": "stderr",
     "output_type": "stream",
     "text": [
      "epoch: 114/199: 100%|██████████| 2688/2688 [00:02<00:00, 1209.72it/s, loss=0.001280]\n"
     ]
    },
    {
     "name": "stdout",
     "output_type": "stream",
     "text": [
      "eval psnr: 32.64\n"
     ]
    },
    {
     "name": "stderr",
     "output_type": "stream",
     "text": [
      "epoch: 115/199: 100%|██████████| 2688/2688 [00:02<00:00, 1206.46it/s, loss=0.001277]\n"
     ]
    },
    {
     "name": "stdout",
     "output_type": "stream",
     "text": [
      "eval psnr: 32.66\n"
     ]
    },
    {
     "name": "stderr",
     "output_type": "stream",
     "text": [
      "epoch: 116/199: 100%|██████████| 2688/2688 [00:02<00:00, 1220.15it/s, loss=0.001273]\n"
     ]
    },
    {
     "name": "stdout",
     "output_type": "stream",
     "text": [
      "eval psnr: 32.71\n"
     ]
    },
    {
     "name": "stderr",
     "output_type": "stream",
     "text": [
      "epoch: 117/199: 100%|██████████| 2688/2688 [00:02<00:00, 1205.92it/s, loss=0.001264]\n"
     ]
    },
    {
     "name": "stdout",
     "output_type": "stream",
     "text": [
      "eval psnr: 32.71\n"
     ]
    },
    {
     "name": "stderr",
     "output_type": "stream",
     "text": [
      "epoch: 118/199: 100%|██████████| 2688/2688 [00:02<00:00, 1218.49it/s, loss=0.001265]\n"
     ]
    },
    {
     "name": "stdout",
     "output_type": "stream",
     "text": [
      "eval psnr: 32.75\n"
     ]
    },
    {
     "name": "stderr",
     "output_type": "stream",
     "text": [
      "epoch: 119/199: 100%|██████████| 2688/2688 [00:02<00:00, 1212.45it/s, loss=0.001262]\n"
     ]
    },
    {
     "name": "stdout",
     "output_type": "stream",
     "text": [
      "eval psnr: 32.81\n"
     ]
    },
    {
     "name": "stderr",
     "output_type": "stream",
     "text": [
      "epoch: 120/199: 100%|██████████| 2688/2688 [00:02<00:00, 1218.49it/s, loss=0.001269]\n"
     ]
    },
    {
     "name": "stdout",
     "output_type": "stream",
     "text": [
      "eval psnr: 32.81\n"
     ]
    },
    {
     "name": "stderr",
     "output_type": "stream",
     "text": [
      "epoch: 121/199: 100%|██████████| 2688/2688 [00:02<00:00, 1209.72it/s, loss=0.001265]\n"
     ]
    },
    {
     "name": "stdout",
     "output_type": "stream",
     "text": [
      "eval psnr: 32.70\n"
     ]
    },
    {
     "name": "stderr",
     "output_type": "stream",
     "text": [
      "epoch: 122/199: 100%|██████████| 2688/2688 [00:02<00:00, 1213.54it/s, loss=0.001265]\n"
     ]
    },
    {
     "name": "stdout",
     "output_type": "stream",
     "text": [
      "eval psnr: 32.77\n"
     ]
    },
    {
     "name": "stderr",
     "output_type": "stream",
     "text": [
      "epoch: 123/199: 100%|██████████| 2688/2688 [00:02<00:00, 1220.71it/s, loss=0.001255]\n"
     ]
    },
    {
     "name": "stdout",
     "output_type": "stream",
     "text": [
      "eval psnr: 32.82\n"
     ]
    },
    {
     "name": "stderr",
     "output_type": "stream",
     "text": [
      "epoch: 124/199: 100%|██████████| 2688/2688 [00:02<00:00, 1210.81it/s, loss=0.001256]\n"
     ]
    },
    {
     "name": "stdout",
     "output_type": "stream",
     "text": [
      "eval psnr: 32.77\n"
     ]
    },
    {
     "name": "stderr",
     "output_type": "stream",
     "text": [
      "epoch: 125/199: 100%|██████████| 2688/2688 [00:02<00:00, 1216.29it/s, loss=0.001260]\n"
     ]
    },
    {
     "name": "stdout",
     "output_type": "stream",
     "text": [
      "eval psnr: 32.83\n"
     ]
    },
    {
     "name": "stderr",
     "output_type": "stream",
     "text": [
      "epoch: 126/199: 100%|██████████| 2688/2688 [00:02<00:00, 1223.49it/s, loss=0.001256]\n"
     ]
    },
    {
     "name": "stdout",
     "output_type": "stream",
     "text": [
      "eval psnr: 32.78\n"
     ]
    },
    {
     "name": "stderr",
     "output_type": "stream",
     "text": [
      "epoch: 127/199: 100%|██████████| 2688/2688 [00:02<00:00, 1204.84it/s, loss=0.001254]\n"
     ]
    },
    {
     "name": "stdout",
     "output_type": "stream",
     "text": [
      "eval psnr: 32.85\n"
     ]
    },
    {
     "name": "stderr",
     "output_type": "stream",
     "text": [
      "epoch: 128/199: 100%|██████████| 2688/2688 [00:02<00:00, 1197.86it/s, loss=0.001255]\n"
     ]
    },
    {
     "name": "stdout",
     "output_type": "stream",
     "text": [
      "eval psnr: 32.73\n"
     ]
    },
    {
     "name": "stderr",
     "output_type": "stream",
     "text": [
      "epoch: 129/199: 100%|██████████| 2688/2688 [00:02<00:00, 1211.90it/s, loss=0.001252]\n"
     ]
    },
    {
     "name": "stdout",
     "output_type": "stream",
     "text": [
      "eval psnr: 32.75\n"
     ]
    },
    {
     "name": "stderr",
     "output_type": "stream",
     "text": [
      "epoch: 130/199: 100%|██████████| 2688/2688 [00:02<00:00, 1210.27it/s, loss=0.001252]\n"
     ]
    },
    {
     "name": "stdout",
     "output_type": "stream",
     "text": [
      "eval psnr: 32.76\n"
     ]
    },
    {
     "name": "stderr",
     "output_type": "stream",
     "text": [
      "epoch: 131/199: 100%|██████████| 2688/2688 [00:02<00:00, 1207.55it/s, loss=0.001245]\n"
     ]
    },
    {
     "name": "stdout",
     "output_type": "stream",
     "text": [
      "eval psnr: 32.86\n"
     ]
    },
    {
     "name": "stderr",
     "output_type": "stream",
     "text": [
      "epoch: 132/199: 100%|██████████| 2688/2688 [00:02<00:00, 1205.38it/s, loss=0.001244]\n"
     ]
    },
    {
     "name": "stdout",
     "output_type": "stream",
     "text": [
      "eval psnr: 32.87\n"
     ]
    },
    {
     "name": "stderr",
     "output_type": "stream",
     "text": [
      "epoch: 133/199: 100%|██████████| 2688/2688 [00:02<00:00, 1210.81it/s, loss=0.001249]\n"
     ]
    },
    {
     "name": "stdout",
     "output_type": "stream",
     "text": [
      "eval psnr: 32.57\n"
     ]
    },
    {
     "name": "stderr",
     "output_type": "stream",
     "text": [
      "epoch: 134/199: 100%|██████████| 2688/2688 [00:02<00:00, 1201.61it/s, loss=0.001255]\n"
     ]
    },
    {
     "name": "stdout",
     "output_type": "stream",
     "text": [
      "eval psnr: 32.82\n"
     ]
    },
    {
     "name": "stderr",
     "output_type": "stream",
     "text": [
      "epoch: 135/199: 100%|██████████| 2688/2688 [00:02<00:00, 1201.07it/s, loss=0.001238]\n"
     ]
    },
    {
     "name": "stdout",
     "output_type": "stream",
     "text": [
      "eval psnr: 32.82\n"
     ]
    },
    {
     "name": "stderr",
     "output_type": "stream",
     "text": [
      "epoch: 136/199: 100%|██████████| 2688/2688 [00:02<00:00, 1217.39it/s, loss=0.001235]\n"
     ]
    },
    {
     "name": "stdout",
     "output_type": "stream",
     "text": [
      "eval psnr: 32.84\n"
     ]
    },
    {
     "name": "stderr",
     "output_type": "stream",
     "text": [
      "epoch: 137/199: 100%|██████████| 2688/2688 [00:02<00:00, 1215.19it/s, loss=0.001240]\n"
     ]
    },
    {
     "name": "stdout",
     "output_type": "stream",
     "text": [
      "eval psnr: 32.85\n"
     ]
    },
    {
     "name": "stderr",
     "output_type": "stream",
     "text": [
      "epoch: 138/199: 100%|██████████| 2688/2688 [00:02<00:00, 1223.49it/s, loss=0.001231]\n"
     ]
    },
    {
     "name": "stdout",
     "output_type": "stream",
     "text": [
      "eval psnr: 32.83\n"
     ]
    },
    {
     "name": "stderr",
     "output_type": "stream",
     "text": [
      "epoch: 139/199: 100%|██████████| 2688/2688 [00:02<00:00, 1221.26it/s, loss=0.001242]\n"
     ]
    },
    {
     "name": "stdout",
     "output_type": "stream",
     "text": [
      "eval psnr: 32.84\n"
     ]
    },
    {
     "name": "stderr",
     "output_type": "stream",
     "text": [
      "epoch: 140/199: 100%|██████████| 2688/2688 [00:02<00:00, 1202.68it/s, loss=0.001234]\n"
     ]
    },
    {
     "name": "stdout",
     "output_type": "stream",
     "text": [
      "eval psnr: 32.90\n"
     ]
    },
    {
     "name": "stderr",
     "output_type": "stream",
     "text": [
      "epoch: 141/199: 100%|██████████| 2688/2688 [00:02<00:00, 1202.68it/s, loss=0.001235]\n"
     ]
    },
    {
     "name": "stdout",
     "output_type": "stream",
     "text": [
      "eval psnr: 32.76\n"
     ]
    },
    {
     "name": "stderr",
     "output_type": "stream",
     "text": [
      "epoch: 142/199: 100%|██████████| 2688/2688 [00:02<00:00, 1210.26it/s, loss=0.001235]\n"
     ]
    },
    {
     "name": "stdout",
     "output_type": "stream",
     "text": [
      "eval psnr: 32.88\n"
     ]
    },
    {
     "name": "stderr",
     "output_type": "stream",
     "text": [
      "epoch: 143/199: 100%|██████████| 2688/2688 [00:02<00:00, 1210.81it/s, loss=0.001236]\n"
     ]
    },
    {
     "name": "stdout",
     "output_type": "stream",
     "text": [
      "eval psnr: 32.85\n"
     ]
    },
    {
     "name": "stderr",
     "output_type": "stream",
     "text": [
      "epoch: 144/199: 100%|██████████| 2688/2688 [00:02<00:00, 1222.93it/s, loss=0.001239]\n"
     ]
    },
    {
     "name": "stdout",
     "output_type": "stream",
     "text": [
      "eval psnr: 32.92\n"
     ]
    },
    {
     "name": "stderr",
     "output_type": "stream",
     "text": [
      "epoch: 145/199: 100%|██████████| 2688/2688 [00:02<00:00, 1227.40it/s, loss=0.001228]\n"
     ]
    },
    {
     "name": "stdout",
     "output_type": "stream",
     "text": [
      "eval psnr: 32.90\n"
     ]
    },
    {
     "name": "stderr",
     "output_type": "stream",
     "text": [
      "epoch: 146/199: 100%|██████████| 2688/2688 [00:02<00:00, 1211.36it/s, loss=0.001234]\n"
     ]
    },
    {
     "name": "stdout",
     "output_type": "stream",
     "text": [
      "eval psnr: 32.69\n"
     ]
    },
    {
     "name": "stderr",
     "output_type": "stream",
     "text": [
      "epoch: 147/199: 100%|██████████| 2688/2688 [00:02<00:00, 1221.26it/s, loss=0.001231]\n"
     ]
    },
    {
     "name": "stdout",
     "output_type": "stream",
     "text": [
      "eval psnr: 32.87\n"
     ]
    },
    {
     "name": "stderr",
     "output_type": "stream",
     "text": [
      "epoch: 148/199: 100%|██████████| 2688/2688 [00:02<00:00, 1207.00it/s, loss=0.001229]\n"
     ]
    },
    {
     "name": "stdout",
     "output_type": "stream",
     "text": [
      "eval psnr: 32.96\n"
     ]
    },
    {
     "name": "stderr",
     "output_type": "stream",
     "text": [
      "epoch: 149/199: 100%|██████████| 2688/2688 [00:02<00:00, 1239.28it/s, loss=0.001225]\n"
     ]
    },
    {
     "name": "stdout",
     "output_type": "stream",
     "text": [
      "eval psnr: 32.92\n"
     ]
    },
    {
     "name": "stderr",
     "output_type": "stream",
     "text": [
      "epoch: 150/199: 100%|██████████| 2688/2688 [00:02<00:00, 1224.04it/s, loss=0.001227]\n"
     ]
    },
    {
     "name": "stdout",
     "output_type": "stream",
     "text": [
      "eval psnr: 32.90\n"
     ]
    },
    {
     "name": "stderr",
     "output_type": "stream",
     "text": [
      "epoch: 151/199: 100%|██████████| 2688/2688 [00:02<00:00, 1213.54it/s, loss=0.001740]\n"
     ]
    },
    {
     "name": "stdout",
     "output_type": "stream",
     "text": [
      "eval psnr: 32.90\n"
     ]
    },
    {
     "name": "stderr",
     "output_type": "stream",
     "text": [
      "epoch: 152/199: 100%|██████████| 2688/2688 [00:02<00:00, 1214.09it/s, loss=0.001221]\n"
     ]
    },
    {
     "name": "stdout",
     "output_type": "stream",
     "text": [
      "eval psnr: 32.95\n"
     ]
    },
    {
     "name": "stderr",
     "output_type": "stream",
     "text": [
      "epoch: 153/199: 100%|██████████| 2688/2688 [00:02<00:00, 1215.74it/s, loss=0.001216]\n"
     ]
    },
    {
     "name": "stdout",
     "output_type": "stream",
     "text": [
      "eval psnr: 32.97\n"
     ]
    },
    {
     "name": "stderr",
     "output_type": "stream",
     "text": [
      "epoch: 154/199: 100%|██████████| 2688/2688 [00:02<00:00, 1216.84it/s, loss=0.001212]\n"
     ]
    },
    {
     "name": "stdout",
     "output_type": "stream",
     "text": [
      "eval psnr: 32.98\n"
     ]
    },
    {
     "name": "stderr",
     "output_type": "stream",
     "text": [
      "epoch: 155/199: 100%|██████████| 2688/2688 [00:02<00:00, 1219.60it/s, loss=0.001214]\n"
     ]
    },
    {
     "name": "stdout",
     "output_type": "stream",
     "text": [
      "eval psnr: 32.95\n"
     ]
    },
    {
     "name": "stderr",
     "output_type": "stream",
     "text": [
      "epoch: 156/199: 100%|██████████| 2688/2688 [00:02<00:00, 1221.82it/s, loss=0.001212]\n"
     ]
    },
    {
     "name": "stdout",
     "output_type": "stream",
     "text": [
      "eval psnr: 32.98\n"
     ]
    },
    {
     "name": "stderr",
     "output_type": "stream",
     "text": [
      "epoch: 157/199: 100%|██████████| 2688/2688 [00:02<00:00, 1224.04it/s, loss=0.001207]\n"
     ]
    },
    {
     "name": "stdout",
     "output_type": "stream",
     "text": [
      "eval psnr: 32.96\n"
     ]
    },
    {
     "name": "stderr",
     "output_type": "stream",
     "text": [
      "epoch: 158/199: 100%|██████████| 2688/2688 [00:02<00:00, 1206.46it/s, loss=0.001212]\n"
     ]
    },
    {
     "name": "stdout",
     "output_type": "stream",
     "text": [
      "eval psnr: 33.00\n"
     ]
    },
    {
     "name": "stderr",
     "output_type": "stream",
     "text": [
      "epoch: 159/199: 100%|██████████| 2688/2688 [00:02<00:00, 1216.29it/s, loss=0.001210]\n"
     ]
    },
    {
     "name": "stdout",
     "output_type": "stream",
     "text": [
      "eval psnr: 33.03\n"
     ]
    },
    {
     "name": "stderr",
     "output_type": "stream",
     "text": [
      "epoch: 160/199: 100%|██████████| 2688/2688 [00:02<00:00, 1226.84it/s, loss=0.001199]\n"
     ]
    },
    {
     "name": "stdout",
     "output_type": "stream",
     "text": [
      "eval psnr: 33.06\n"
     ]
    },
    {
     "name": "stderr",
     "output_type": "stream",
     "text": [
      "epoch: 161/199: 100%|██████████| 2688/2688 [00:02<00:00, 1226.28it/s, loss=0.001198]\n"
     ]
    },
    {
     "name": "stdout",
     "output_type": "stream",
     "text": [
      "eval psnr: 33.06\n"
     ]
    },
    {
     "name": "stderr",
     "output_type": "stream",
     "text": [
      "epoch: 162/199: 100%|██████████| 2688/2688 [00:02<00:00, 1202.15it/s, loss=0.001197]\n"
     ]
    },
    {
     "name": "stdout",
     "output_type": "stream",
     "text": [
      "eval psnr: 33.06\n"
     ]
    },
    {
     "name": "stderr",
     "output_type": "stream",
     "text": [
      "epoch: 163/199: 100%|██████████| 2688/2688 [00:02<00:00, 1221.82it/s, loss=0.001197]\n"
     ]
    },
    {
     "name": "stdout",
     "output_type": "stream",
     "text": [
      "eval psnr: 33.05\n"
     ]
    },
    {
     "name": "stderr",
     "output_type": "stream",
     "text": [
      "epoch: 164/199: 100%|██████████| 2688/2688 [00:02<00:00, 1192.55it/s, loss=0.001193]\n"
     ]
    },
    {
     "name": "stdout",
     "output_type": "stream",
     "text": [
      "eval psnr: 33.06\n"
     ]
    },
    {
     "name": "stderr",
     "output_type": "stream",
     "text": [
      "epoch: 165/199: 100%|██████████| 2688/2688 [00:02<00:00, 1219.05it/s, loss=0.001197]\n"
     ]
    },
    {
     "name": "stdout",
     "output_type": "stream",
     "text": [
      "eval psnr: 33.05\n"
     ]
    },
    {
     "name": "stderr",
     "output_type": "stream",
     "text": [
      "epoch: 166/199: 100%|██████████| 2688/2688 [00:02<00:00, 1222.37it/s, loss=0.001196]\n"
     ]
    },
    {
     "name": "stdout",
     "output_type": "stream",
     "text": [
      "eval psnr: 33.06\n"
     ]
    },
    {
     "name": "stderr",
     "output_type": "stream",
     "text": [
      "epoch: 167/199: 100%|██████████| 2688/2688 [00:02<00:00, 1213.54it/s, loss=0.001200]\n"
     ]
    },
    {
     "name": "stdout",
     "output_type": "stream",
     "text": [
      "eval psnr: 33.05\n"
     ]
    },
    {
     "name": "stderr",
     "output_type": "stream",
     "text": [
      "epoch: 168/199: 100%|██████████| 2688/2688 [00:02<00:00, 1210.27it/s, loss=0.001195]\n"
     ]
    },
    {
     "name": "stdout",
     "output_type": "stream",
     "text": [
      "eval psnr: 33.05\n"
     ]
    },
    {
     "name": "stderr",
     "output_type": "stream",
     "text": [
      "epoch: 169/199: 100%|██████████| 2688/2688 [00:02<00:00, 1204.30it/s, loss=0.001197]\n"
     ]
    },
    {
     "name": "stdout",
     "output_type": "stream",
     "text": [
      "eval psnr: 33.06\n"
     ]
    },
    {
     "name": "stderr",
     "output_type": "stream",
     "text": [
      "epoch: 170/199: 100%|██████████| 2688/2688 [00:02<00:00, 1207.55it/s, loss=0.001197]\n"
     ]
    },
    {
     "name": "stdout",
     "output_type": "stream",
     "text": [
      "eval psnr: 33.06\n"
     ]
    },
    {
     "name": "stderr",
     "output_type": "stream",
     "text": [
      "epoch: 171/199: 100%|██████████| 2688/2688 [00:02<00:00, 1199.46it/s, loss=0.001194]\n"
     ]
    },
    {
     "name": "stdout",
     "output_type": "stream",
     "text": [
      "eval psnr: 33.06\n"
     ]
    },
    {
     "name": "stderr",
     "output_type": "stream",
     "text": [
      "epoch: 172/199: 100%|██████████| 2688/2688 [00:02<00:00, 1218.49it/s, loss=0.001194]\n"
     ]
    },
    {
     "name": "stdout",
     "output_type": "stream",
     "text": [
      "eval psnr: 33.06\n"
     ]
    },
    {
     "name": "stderr",
     "output_type": "stream",
     "text": [
      "epoch: 173/199: 100%|██████████| 2688/2688 [00:02<00:00, 1216.29it/s, loss=0.001199]\n"
     ]
    },
    {
     "name": "stdout",
     "output_type": "stream",
     "text": [
      "eval psnr: 33.06\n"
     ]
    },
    {
     "name": "stderr",
     "output_type": "stream",
     "text": [
      "epoch: 174/199: 100%|██████████| 2688/2688 [00:02<00:00, 1207.00it/s, loss=0.001196]\n"
     ]
    },
    {
     "name": "stdout",
     "output_type": "stream",
     "text": [
      "eval psnr: 33.06\n"
     ]
    },
    {
     "name": "stderr",
     "output_type": "stream",
     "text": [
      "epoch: 175/199: 100%|██████████| 2688/2688 [00:02<00:00, 1208.63it/s, loss=0.001195]\n"
     ]
    },
    {
     "name": "stdout",
     "output_type": "stream",
     "text": [
      "eval psnr: 33.05\n"
     ]
    },
    {
     "name": "stderr",
     "output_type": "stream",
     "text": [
      "epoch: 176/199: 100%|██████████| 2688/2688 [00:02<00:00, 1200.54it/s, loss=0.001193]\n"
     ]
    },
    {
     "name": "stdout",
     "output_type": "stream",
     "text": [
      "eval psnr: 33.07\n"
     ]
    },
    {
     "name": "stderr",
     "output_type": "stream",
     "text": [
      "epoch: 177/199: 100%|██████████| 2688/2688 [00:02<00:00, 1210.81it/s, loss=0.001193]\n"
     ]
    },
    {
     "name": "stdout",
     "output_type": "stream",
     "text": [
      "eval psnr: 33.06\n"
     ]
    },
    {
     "name": "stderr",
     "output_type": "stream",
     "text": [
      "epoch: 178/199: 100%|██████████| 2688/2688 [00:02<00:00, 1208.63it/s, loss=0.001196]\n"
     ]
    },
    {
     "name": "stdout",
     "output_type": "stream",
     "text": [
      "eval psnr: 33.05\n"
     ]
    },
    {
     "name": "stderr",
     "output_type": "stream",
     "text": [
      "epoch: 179/199: 100%|██████████| 2688/2688 [00:02<00:00, 1201.61it/s, loss=0.001194]\n"
     ]
    },
    {
     "name": "stdout",
     "output_type": "stream",
     "text": [
      "eval psnr: 33.06\n"
     ]
    },
    {
     "name": "stderr",
     "output_type": "stream",
     "text": [
      "epoch: 180/199: 100%|██████████| 2688/2688 [00:02<00:00, 1210.81it/s, loss=0.001194]\n"
     ]
    },
    {
     "name": "stdout",
     "output_type": "stream",
     "text": [
      "eval psnr: 33.06\n"
     ]
    },
    {
     "name": "stderr",
     "output_type": "stream",
     "text": [
      "epoch: 181/199: 100%|██████████| 2688/2688 [00:02<00:00, 1197.33it/s, loss=0.001192]\n"
     ]
    },
    {
     "name": "stdout",
     "output_type": "stream",
     "text": [
      "eval psnr: 33.06\n"
     ]
    },
    {
     "name": "stderr",
     "output_type": "stream",
     "text": [
      "epoch: 182/199: 100%|██████████| 2688/2688 [00:02<00:00, 1212.45it/s, loss=0.001197]\n"
     ]
    },
    {
     "name": "stdout",
     "output_type": "stream",
     "text": [
      "eval psnr: 33.07\n"
     ]
    },
    {
     "name": "stderr",
     "output_type": "stream",
     "text": [
      "epoch: 183/199: 100%|██████████| 2688/2688 [00:02<00:00, 1208.63it/s, loss=0.001194]\n"
     ]
    },
    {
     "name": "stdout",
     "output_type": "stream",
     "text": [
      "eval psnr: 33.06\n"
     ]
    },
    {
     "name": "stderr",
     "output_type": "stream",
     "text": [
      "epoch: 184/199: 100%|██████████| 2688/2688 [00:02<00:00, 1214.64it/s, loss=0.001196]\n"
     ]
    },
    {
     "name": "stdout",
     "output_type": "stream",
     "text": [
      "eval psnr: 33.06\n"
     ]
    },
    {
     "name": "stderr",
     "output_type": "stream",
     "text": [
      "epoch: 185/199: 100%|██████████| 2688/2688 [00:02<00:00, 1211.90it/s, loss=0.001194]\n"
     ]
    },
    {
     "name": "stdout",
     "output_type": "stream",
     "text": [
      "eval psnr: 33.05\n"
     ]
    },
    {
     "name": "stderr",
     "output_type": "stream",
     "text": [
      "epoch: 186/199: 100%|██████████| 2688/2688 [00:02<00:00, 1204.84it/s, loss=0.001193]\n"
     ]
    },
    {
     "name": "stdout",
     "output_type": "stream",
     "text": [
      "eval psnr: 33.06\n"
     ]
    },
    {
     "name": "stderr",
     "output_type": "stream",
     "text": [
      "epoch: 187/199: 100%|██████████| 2688/2688 [00:02<00:00, 1200.00it/s, loss=0.001197]\n"
     ]
    },
    {
     "name": "stdout",
     "output_type": "stream",
     "text": [
      "eval psnr: 33.05\n"
     ]
    },
    {
     "name": "stderr",
     "output_type": "stream",
     "text": [
      "epoch: 188/199: 100%|██████████| 2688/2688 [00:02<00:00, 1206.46it/s, loss=0.001195]\n"
     ]
    },
    {
     "name": "stdout",
     "output_type": "stream",
     "text": [
      "eval psnr: 33.07\n"
     ]
    },
    {
     "name": "stderr",
     "output_type": "stream",
     "text": [
      "epoch: 189/199: 100%|██████████| 2688/2688 [00:02<00:00, 1217.94it/s, loss=0.001188]\n"
     ]
    },
    {
     "name": "stdout",
     "output_type": "stream",
     "text": [
      "eval psnr: 33.07\n"
     ]
    },
    {
     "name": "stderr",
     "output_type": "stream",
     "text": [
      "epoch: 190/199: 100%|██████████| 2688/2688 [00:02<00:00, 1208.09it/s, loss=0.001196]\n"
     ]
    },
    {
     "name": "stdout",
     "output_type": "stream",
     "text": [
      "eval psnr: 33.07\n"
     ]
    },
    {
     "name": "stderr",
     "output_type": "stream",
     "text": [
      "epoch: 191/199: 100%|██████████| 2688/2688 [00:02<00:00, 1202.69it/s, loss=0.001193]\n"
     ]
    },
    {
     "name": "stdout",
     "output_type": "stream",
     "text": [
      "eval psnr: 33.07\n"
     ]
    },
    {
     "name": "stderr",
     "output_type": "stream",
     "text": [
      "epoch: 192/199: 100%|██████████| 2688/2688 [00:02<00:00, 1188.85it/s, loss=0.001194]\n"
     ]
    },
    {
     "name": "stdout",
     "output_type": "stream",
     "text": [
      "eval psnr: 33.07\n"
     ]
    },
    {
     "name": "stderr",
     "output_type": "stream",
     "text": [
      "epoch: 193/199: 100%|██████████| 2688/2688 [00:02<00:00, 1205.92it/s, loss=0.001191]\n"
     ]
    },
    {
     "name": "stdout",
     "output_type": "stream",
     "text": [
      "eval psnr: 33.07\n"
     ]
    },
    {
     "name": "stderr",
     "output_type": "stream",
     "text": [
      "epoch: 194/199: 100%|██████████| 2688/2688 [00:02<00:00, 1202.15it/s, loss=0.001194]\n"
     ]
    },
    {
     "name": "stdout",
     "output_type": "stream",
     "text": [
      "eval psnr: 33.07\n"
     ]
    },
    {
     "name": "stderr",
     "output_type": "stream",
     "text": [
      "epoch: 195/199: 100%|██████████| 2688/2688 [00:02<00:00, 1217.94it/s, loss=0.001195]\n"
     ]
    },
    {
     "name": "stdout",
     "output_type": "stream",
     "text": [
      "eval psnr: 33.07\n"
     ]
    },
    {
     "name": "stderr",
     "output_type": "stream",
     "text": [
      "epoch: 196/199: 100%|██████████| 2688/2688 [00:02<00:00, 1196.26it/s, loss=0.001194]\n"
     ]
    },
    {
     "name": "stdout",
     "output_type": "stream",
     "text": [
      "eval psnr: 33.08\n"
     ]
    },
    {
     "name": "stderr",
     "output_type": "stream",
     "text": [
      "epoch: 197/199: 100%|██████████| 2688/2688 [00:02<00:00, 1220.15it/s, loss=0.001191]\n"
     ]
    },
    {
     "name": "stdout",
     "output_type": "stream",
     "text": [
      "eval psnr: 33.07\n"
     ]
    },
    {
     "name": "stderr",
     "output_type": "stream",
     "text": [
      "epoch: 198/199: 100%|██████████| 2688/2688 [00:02<00:00, 1214.64it/s, loss=0.001194]\n"
     ]
    },
    {
     "name": "stdout",
     "output_type": "stream",
     "text": [
      "eval psnr: 33.06\n"
     ]
    },
    {
     "name": "stderr",
     "output_type": "stream",
     "text": [
      "epoch: 199/199: 100%|██████████| 2688/2688 [00:02<00:00, 1193.08it/s, loss=0.001192]\n"
     ]
    },
    {
     "name": "stdout",
     "output_type": "stream",
     "text": [
      "eval psnr: 33.07\n",
      "best epoch: 196, psnr: 33.08\n",
      "[INFO] Register count_convNd() for <class 'torch.nn.modules.conv.Conv2d'>.\n",
      "[INFO] Register zero_ops() for <class 'torch.nn.modules.container.Sequential'>.\n",
      "[INFO] Register zero_ops() for <class 'torch.nn.modules.pixelshuffle.PixelShuffle'>.\n",
      "test psnr: 29.46\n",
      "net params: 18.185K\n",
      "net flops: 449.405M\n"
     ]
    }
   ],
   "source": [
    "if __name__ == \"__main__\":\n",
    "    trainer_5 = Trainer(model_name='Res_ESPCN')\n",
    "    trainer_5.run()"
   ]
  },
  {
   "attachments": {},
   "cell_type": "markdown",
   "metadata": {},
   "source": [
    "# 4. 结果汇总与比较"
   ]
  },
  {
   "cell_type": "markdown",
   "metadata": {},
   "source": [
    "(1) 综合比较 5 个模型的性能指标（PSNR值）和复杂度指标（模型参数量 & 浮点运算次数）"
   ]
  },
  {
   "cell_type": "markdown",
   "metadata": {},
   "source": [
    "<table width=\"1110\">\n",
    "<tbody>\n",
    "<tr>\n",
    "<td style=\"text-align: center;\" width=\"136\">模型</td>\n",
    "<td style=\"text-align: center;\" width=\"239\">验证集性能(PSNR)</td>\n",
    "<td style=\"text-align: center;\" width=\"239\">测试集性能(PSNR)</td>\n",
    "<td style=\"text-align: center;\" width=\"196\">模型参数量(K)</td>\n",
    "<td style=\"text-align: center;\" width=\"297\">浮点运算次数(GFlops)</td>\n",
    "</tr>\n",
    "<tr>\n",
    "<td style=\"text-align: center;\">SRCNN</td>\n",
    "<td style=\"text-align: center;\"><strong>33.26</strong></td>\n",
    "<td style=\"text-align: center;\"><strong>29.55</strong></td>\n",
    "<td style=\"text-align: center;\">57.281</td>\n",
    "<td style=\"text-align: center;\">13.047</td>\n",
    "</tr>\n",
    "<tr>\n",
    "<td style=\"text-align: center;\">FSRCNN</td>\n",
    "<td style=\"text-align: center;\">33.01</td>\n",
    "<td style=\"text-align: center;\">29.43</td>\n",
    "<td style=\"text-align: center;\">12.637</td>\n",
    "<td style=\"text-align: center;\">1.240&nbsp;</td>\n",
    "</tr>\n",
    "<tr>\n",
    "<td style=\"text-align: center;\">ESPCN</td>\n",
    "<td style=\"text-align: center;\">32.83</td>\n",
    "<td style=\"text-align: center;\">29.30&nbsp;</td>\n",
    "<td style=\"text-align: center;\">22.729</td>\n",
    "<td style=\"text-align: center;\">0.576</td>\n",
    "</tr>\n",
    "<tr>\n",
    "<td style=\"text-align: center;\">Res_SRCNN</td>\n",
    "<td style=\"text-align: center;\">33.16</td>\n",
    "<td style=\"text-align: center;\">29.48</td>\n",
    "<td style=\"text-align: center;\"><strong>9.793</strong></td>\n",
    "<td style=\"text-align: center;\">2.198</td>\n",
    "</tr>\n",
    "<tr>\n",
    "<td style=\"text-align: center;\">Res_ESPCN</td>\n",
    "<td style=\"text-align: center;\">33.08</td>\n",
    "<td style=\"text-align: center;\">29.46</td>\n",
    "<td style=\"text-align: center;\">18.185</td>\n",
    "<td style=\"text-align: center;\"><strong>0.449</strong></td>\n",
    "</tr>\n",
    "</tbody>\n",
    "</table>"
   ]
  },
  {
   "cell_type": "markdown",
   "metadata": {},
   "source": [
    "可以看到，在 3 个基准模型中，前置上采样的 SRCNN 的性能最好，但计算复杂度也最高；而后置上采样的 FSRCNN 和 ESPCN 在性能上不如 SRCNN 但计算复杂度可实现大幅的降低。  \n",
    "\n",
    "而对于我改进的模型，Res_SRCNN 实现了模型参数量和浮点运算次数的大幅下降(13.047 -> 2.198)，但性能也略微降低(29.55 -> 29.48)；  \n",
    "\n",
    "Res_ESPCN 则实现了性能的大幅上升(29.30 -> 29.46)，同时复杂度也略微下降(0.576 -> 0.449)。这体现了残差连接以及深度可分离卷积的优势。"
   ]
  },
  {
   "cell_type": "markdown",
   "metadata": {},
   "source": [
    "(2) 训练过程中，训练损失随 epoch 的变化"
   ]
  },
  {
   "cell_type": "code",
   "execution_count": 9,
   "metadata": {},
   "outputs": [
    {
     "name": "stderr",
     "output_type": "stream",
     "text": [
      "C:\\Users\\Administrator\\AppData\\Local\\Temp\\ipykernel_13392\\136858591.py:22: UserWarning: marker is redundantly defined by the 'marker' keyword argument and the fmt string \"ro-\" (-> marker='o'). The keyword argument will take precedence.\n",
      "  plt.plot(epochs, loss_1, 'ro-', color='#000000', alpha=0.8, marker=None, linewidth=1, label='SRCNN')\n",
      "C:\\Users\\Administrator\\AppData\\Local\\Temp\\ipykernel_13392\\136858591.py:22: UserWarning: color is redundantly defined by the 'color' keyword argument and the fmt string \"ro-\" (-> color='r'). The keyword argument will take precedence.\n",
      "  plt.plot(epochs, loss_1, 'ro-', color='#000000', alpha=0.8, marker=None, linewidth=1, label='SRCNN')\n",
      "C:\\Users\\Administrator\\AppData\\Local\\Temp\\ipykernel_13392\\136858591.py:23: UserWarning: marker is redundantly defined by the 'marker' keyword argument and the fmt string \"ro-\" (-> marker='o'). The keyword argument will take precedence.\n",
      "  plt.plot(epochs, loss_2, 'ro-', color='#33CCFF', alpha=0.8, marker=None, linewidth=1, label='FSRCNN')\n",
      "C:\\Users\\Administrator\\AppData\\Local\\Temp\\ipykernel_13392\\136858591.py:23: UserWarning: color is redundantly defined by the 'color' keyword argument and the fmt string \"ro-\" (-> color='r'). The keyword argument will take precedence.\n",
      "  plt.plot(epochs, loss_2, 'ro-', color='#33CCFF', alpha=0.8, marker=None, linewidth=1, label='FSRCNN')\n",
      "C:\\Users\\Administrator\\AppData\\Local\\Temp\\ipykernel_13392\\136858591.py:24: UserWarning: marker is redundantly defined by the 'marker' keyword argument and the fmt string \"ro-\" (-> marker='o'). The keyword argument will take precedence.\n",
      "  plt.plot(epochs, loss_3, 'ro-', color='#e60039', alpha=0.8, marker=None, linewidth=1, label='ESPCN')\n",
      "C:\\Users\\Administrator\\AppData\\Local\\Temp\\ipykernel_13392\\136858591.py:24: UserWarning: color is redundantly defined by the 'color' keyword argument and the fmt string \"ro-\" (-> color='r'). The keyword argument will take precedence.\n",
      "  plt.plot(epochs, loss_3, 'ro-', color='#e60039', alpha=0.8, marker=None, linewidth=1, label='ESPCN')\n",
      "C:\\Users\\Administrator\\AppData\\Local\\Temp\\ipykernel_13392\\136858591.py:25: UserWarning: marker is redundantly defined by the 'marker' keyword argument and the fmt string \"ro-\" (-> marker='o'). The keyword argument will take precedence.\n",
      "  plt.plot(epochs, loss_4, 'ro-', color='#4d1f00', alpha=0.8, marker=None, linewidth=1, label='Res_SRCNN')\n",
      "C:\\Users\\Administrator\\AppData\\Local\\Temp\\ipykernel_13392\\136858591.py:25: UserWarning: color is redundantly defined by the 'color' keyword argument and the fmt string \"ro-\" (-> color='r'). The keyword argument will take precedence.\n",
      "  plt.plot(epochs, loss_4, 'ro-', color='#4d1f00', alpha=0.8, marker=None, linewidth=1, label='Res_SRCNN')\n",
      "C:\\Users\\Administrator\\AppData\\Local\\Temp\\ipykernel_13392\\136858591.py:26: UserWarning: marker is redundantly defined by the 'marker' keyword argument and the fmt string \"ro-\" (-> marker='o'). The keyword argument will take precedence.\n",
      "  plt.plot(epochs, loss_5, 'ro-', color='#003153', alpha=0.8, marker=None, linewidth=1, label='Res_ESPCN')\n",
      "C:\\Users\\Administrator\\AppData\\Local\\Temp\\ipykernel_13392\\136858591.py:26: UserWarning: color is redundantly defined by the 'color' keyword argument and the fmt string \"ro-\" (-> color='r'). The keyword argument will take precedence.\n",
      "  plt.plot(epochs, loss_5, 'ro-', color='#003153', alpha=0.8, marker=None, linewidth=1, label='Res_ESPCN')\n"
     ]
    },
    {
     "data": {
      "image/png": "[encoded data removed]",
      "text/plain": [
       "<Figure size 2400x960 with 1 Axes>"
      ]
     },
     "metadata": {},
     "output_type": "display_data"
    }
   ],
   "source": [
    "from pylab import *\n",
    "import numpy as np\n",
    "from matplotlib.pyplot import MultipleLocator\n",
    "\n",
    "epochs = range(200)\n",
    "loss_1 = np.load(r'outputs\\SRCNN\\train_loss.npy')\n",
    "loss_2 = np.load(r'outputs\\FSRCNN\\train_loss.npy')\n",
    "loss_3 = np.load(r'outputs\\ESPCN\\train_loss.npy')\n",
    "loss_4 = np.load(r'outputs\\Res_SRCNN\\train_loss.npy')\n",
    "loss_5 = np.load(r'outputs\\Res_ESPCN\\train_loss.npy')\n",
    "\n",
    "plt.figure(figsize=(20,8), dpi=120)\n",
    "plt.rcParams['font.sans-serif'] = ['SimHei']  # 添加这条可以让图形显示中文\n",
    "plt.rcParams['axes.unicode_minus'] = False \n",
    "x_major_locator=MultipleLocator(10) #把x轴的刻度间隔设置为x，并存在变量里\n",
    "y_major_locator=MultipleLocator(0.001) #把y轴的刻度间隔设置为y，并存在变量里\n",
    "ax=plt.gca() #ax为两条坐标轴的实例\n",
    "ax.xaxis.set_major_locator(x_major_locator)\n",
    "ax.yaxis.set_major_locator(y_major_locator)\n",
    "plt.xlim(0,200)\n",
    "plt.ylim(0,0.01)\n",
    "plt.plot(epochs, loss_1, 'ro-', color='#000000', alpha=0.8, marker=None, linewidth=1, label='SRCNN')\n",
    "plt.plot(epochs, loss_2, 'ro-', color='#33CCFF', alpha=0.8, marker=None, linewidth=1, label='FSRCNN')\n",
    "plt.plot(epochs, loss_3, 'ro-', color='#e60039', alpha=0.8, marker=None, linewidth=1, label='ESPCN')\n",
    "plt.plot(epochs, loss_4, 'ro-', color='#4d1f00', alpha=0.8, marker=None, linewidth=1, label='Res_SRCNN')\n",
    "plt.plot(epochs, loss_5, 'ro-', color='#003153', alpha=0.8, marker=None, linewidth=1, label='Res_ESPCN')\n",
    "plt.legend(loc=\"upper right\")\n",
    "plt.xlabel('epoch')\n",
    "plt.ylabel('loss')\n",
    "plt.title('5 个模型训练损失随 epoch 变化')\n",
    "plt.show()"
   ]
  },
  {
   "cell_type": "markdown",
   "metadata": {},
   "source": [
    "(3) 训练过程中，验证集 PSNR 随 epoch 的变化"
   ]
  },
  {
   "cell_type": "code",
   "execution_count": 11,
   "metadata": {},
   "outputs": [
    {
     "name": "stderr",
     "output_type": "stream",
     "text": [
      "C:\\Users\\Administrator\\AppData\\Local\\Temp\\ipykernel_13392\\4023783412.py:22: UserWarning: marker is redundantly defined by the 'marker' keyword argument and the fmt string \"ro-\" (-> marker='o'). The keyword argument will take precedence.\n",
      "  plt.plot(epochs, PSNR_1, 'ro-', color='#000000', alpha=0.8, marker=None, linewidth=1, label='SRCNN')\n",
      "C:\\Users\\Administrator\\AppData\\Local\\Temp\\ipykernel_13392\\4023783412.py:22: UserWarning: color is redundantly defined by the 'color' keyword argument and the fmt string \"ro-\" (-> color='r'). The keyword argument will take precedence.\n",
      "  plt.plot(epochs, PSNR_1, 'ro-', color='#000000', alpha=0.8, marker=None, linewidth=1, label='SRCNN')\n",
      "C:\\Users\\Administrator\\AppData\\Local\\Temp\\ipykernel_13392\\4023783412.py:23: UserWarning: marker is redundantly defined by the 'marker' keyword argument and the fmt string \"ro-\" (-> marker='o'). The keyword argument will take precedence.\n",
      "  plt.plot(epochs, PSNR_2, 'ro-', color='#33CCFF', alpha=0.8, marker=None, linewidth=1, label='FSRCNN')\n",
      "C:\\Users\\Administrator\\AppData\\Local\\Temp\\ipykernel_13392\\4023783412.py:23: UserWarning: color is redundantly defined by the 'color' keyword argument and the fmt string \"ro-\" (-> color='r'). The keyword argument will take precedence.\n",
      "  plt.plot(epochs, PSNR_2, 'ro-', color='#33CCFF', alpha=0.8, marker=None, linewidth=1, label='FSRCNN')\n",
      "C:\\Users\\Administrator\\AppData\\Local\\Temp\\ipykernel_13392\\4023783412.py:24: UserWarning: marker is redundantly defined by the 'marker' keyword argument and the fmt string \"ro-\" (-> marker='o'). The keyword argument will take precedence.\n",
      "  plt.plot(epochs, PSNR_3, 'ro-', color='#e60039', alpha=0.8, marker=None, linewidth=1, label='ESPCN')\n",
      "C:\\Users\\Administrator\\AppData\\Local\\Temp\\ipykernel_13392\\4023783412.py:24: UserWarning: color is redundantly defined by the 'color' keyword argument and the fmt string \"ro-\" (-> color='r'). The keyword argument will take precedence.\n",
      "  plt.plot(epochs, PSNR_3, 'ro-', color='#e60039', alpha=0.8, marker=None, linewidth=1, label='ESPCN')\n",
      "C:\\Users\\Administrator\\AppData\\Local\\Temp\\ipykernel_13392\\4023783412.py:25: UserWarning: marker is redundantly defined by the 'marker' keyword argument and the fmt string \"ro-\" (-> marker='o'). The keyword argument will take precedence.\n",
      "  plt.plot(epochs, PSNR_4, 'ro-', color='#4d1f00', alpha=0.8, marker=None, linewidth=1, label='Res_SRCNN')\n",
      "C:\\Users\\Administrator\\AppData\\Local\\Temp\\ipykernel_13392\\4023783412.py:25: UserWarning: color is redundantly defined by the 'color' keyword argument and the fmt string \"ro-\" (-> color='r'). The keyword argument will take precedence.\n",
      "  plt.plot(epochs, PSNR_4, 'ro-', color='#4d1f00', alpha=0.8, marker=None, linewidth=1, label='Res_SRCNN')\n",
      "C:\\Users\\Administrator\\AppData\\Local\\Temp\\ipykernel_13392\\4023783412.py:26: UserWarning: marker is redundantly defined by the 'marker' keyword argument and the fmt string \"ro-\" (-> marker='o'). The keyword argument will take precedence.\n",
      "  plt.plot(epochs, PSNR_5, 'ro-', color='#003153', alpha=0.8, marker=None, linewidth=1, label='Res_ESPCN')\n",
      "C:\\Users\\Administrator\\AppData\\Local\\Temp\\ipykernel_13392\\4023783412.py:26: UserWarning: color is redundantly defined by the 'color' keyword argument and the fmt string \"ro-\" (-> color='r'). The keyword argument will take precedence.\n",
      "  plt.plot(epochs, PSNR_5, 'ro-', color='#003153', alpha=0.8, marker=None, linewidth=1, label='Res_ESPCN')\n"
     ]
    },
    {
     "data": {
      "image/png": "[encoded data removed]",
      "text/plain": [
       "<Figure size 2400x960 with 1 Axes>"
      ]
     },
     "metadata": {},
     "output_type": "display_data"
    }
   ],
   "source": [
    "from pylab import *\n",
    "import numpy as np\n",
    "from matplotlib.pyplot import MultipleLocator\n",
    "\n",
    "epochs = range(200)\n",
    "PSNR_1 = np.load(r'outputs\\SRCNN\\eval_PSNR.npy')\n",
    "PSNR_2 = np.load(r'outputs\\FSRCNN\\eval_PSNR.npy')\n",
    "PSNR_3 = np.load(r'outputs\\ESPCN\\eval_PSNR.npy')\n",
    "PSNR_4 = np.load(r'outputs\\Res_SRCNN\\eval_PSNR.npy')\n",
    "PSNR_5 = np.load(r'outputs\\Res_ESPCN\\eval_PSNR.npy')\n",
    "\n",
    "plt.figure(figsize=(20,8), dpi=120)\n",
    "plt.rcParams['font.sans-serif'] = ['SimHei']  # 添加这条可以让图形显示中文\n",
    "plt.rcParams['axes.unicode_minus'] = False \n",
    "x_major_locator=MultipleLocator(10) #把x轴的刻度间隔设置为x，并存在变量里\n",
    "y_major_locator=MultipleLocator(1) #把y轴的刻度间隔设置为y，并存在变量里\n",
    "ax=plt.gca() #ax为两条坐标轴的实例\n",
    "ax.xaxis.set_major_locator(x_major_locator)\n",
    "ax.yaxis.set_major_locator(y_major_locator)\n",
    "plt.xlim(0,200)\n",
    "plt.ylim(25,35)\n",
    "plt.plot(epochs, PSNR_1, 'ro-', color='#000000', alpha=0.8, marker=None, linewidth=1, label='SRCNN')\n",
    "plt.plot(epochs, PSNR_2, 'ro-', color='#33CCFF', alpha=0.8, marker=None, linewidth=1, label='FSRCNN')\n",
    "plt.plot(epochs, PSNR_3, 'ro-', color='#e60039', alpha=0.8, marker=None, linewidth=1, label='ESPCN')\n",
    "plt.plot(epochs, PSNR_4, 'ro-', color='#4d1f00', alpha=0.8, marker=None, linewidth=1, label='Res_SRCNN')\n",
    "plt.plot(epochs, PSNR_5, 'ro-', color='#003153', alpha=0.8, marker=None, linewidth=1, label='Res_ESPCN')\n",
    "plt.legend(loc=\"upper right\")\n",
    "plt.xlabel('epoch')\n",
    "plt.ylabel('PSNR')\n",
    "plt.title('5 个模型验证集 PSNR 随 epoch 变化')\n",
    "plt.show()"
   ]
  }
 ],
 "metadata": {
  "kernelspec": {
   "display_name": "Python 3.10.0 64-bit",
   "language": "python",
   "name": "python3"
  },
  "language_info": {
   "codemirror_mode": {
    "name": "ipython",
    "version": 3
   },
   "file_extension": ".py",
   "mimetype": "text/x-python",
   "name": "python",
   "nbconvert_exporter": "python",
   "pygments_lexer": "ipython3",
   "version": "3.10.0"
  },
  "orig_nbformat": 4,
  "vscode": {
   "interpreter": {
    "hash": "3196968d684371006099b3d55edeef8ed90365227a30deaef86e5d4aa8519be0"
   }
  }
 },
 "nbformat": 4,
 "nbformat_minor": 2
}
